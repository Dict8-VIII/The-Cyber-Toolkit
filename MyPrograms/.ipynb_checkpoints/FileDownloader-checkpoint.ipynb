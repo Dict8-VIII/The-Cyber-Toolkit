{
 "cells": [
  {
   "cell_type": "markdown",
   "id": "4c2cb192-9115-42cc-8867-87a568e38835",
   "metadata": {
    "tags": [
     "skip-execution"
    ]
   },
   "source": [
    "# File Downloader\n",
    "\n",
    "## V1.0\n",
    "This is actually a uni assignment that I finished at 2.0. Renamed as 1.0"
   ]
  },
  {
   "cell_type": "raw",
   "id": "f0909020-6751-4fcf-ae7e-0bb514ef6ea2",
   "metadata": {},
   "source": [
    "'''\n",
    "This python script opens a file named urls.txt in the  current folder and\n",
    "downloads each url sequentually. Downloaded files are saved into the current folder.\n",
    "\n",
    "Requirements\n",
    "* In urls.txt URLs must be one per line and no line can be blank\n",
    "* The URL must not use GET parameters (e.g. http://server/retrieve?file=myfile)\n",
    "* urls.txt must be stored in the same folder as this file\n",
    "* You must have read and write permission to this folder\n",
    "\n",
    "v2.0 : 04/06/22\n",
    "Additional function to allow selection of file save location\n",
    "'''\n",
    "\n",
    "import os\n",
    "import urllib.request\n",
    "\n",
    "#Links moved above the chdir, to ensure it can be in the current location\n",
    "#Could just add it to the path...\n",
    "links = open('urls.txt', 'r')\n",
    "\n",
    "# Addition of where to save the file(s)\n",
    "save_location = input(\"Hello. Where would you like to store the files [leave empty for current directory]:\")\n",
    "if (save_location == \"\"):\n",
    "    save_location = os.getcwd()\n",
    "    \n",
    "os.chdir(save_location)\n",
    "\n",
    "for link in links:\n",
    "\n",
    "    #Get one line of text (e.g. http://server/files/grades.doc),\n",
    "    # then get the filename from the end of the URL\n",
    "    link = link.strip()\n",
    "    filename = link.rsplit('/', 1)[-1]\n",
    "\n",
    "    #Does this file exist in this folder? If not, download it\n",
    "    if not (os.path.isfile(filename)):\n",
    "        #print('Downloading: ' + filename )\n",
    "        print(\"Downloading\", link, \"and saving as\", save_location+filename)\n",
    "        try:\n",
    "            urllib.request.urlretrieve(link, filename)\n",
    "            print(\"File size was\", os.path.getsize(filename))\n",
    "        except Exception as inst:\n",
    "            print(inst)\n",
    "            print('  Encountered unknown error. Continuing.')\n",
    "    \n",
    "    #File exists; don't download\n",
    "    else:\n",
    "        print(\"This file exists already.\")\n",
    "\n",
    "#End of program\n",
    "print(\"Finished downloading.\")"
   ]
  },
  {
   "cell_type": "markdown",
   "id": "7ea94ab5-15fa-4609-b09e-309b1753f952",
   "metadata": {},
   "source": [
    "V2.0"
   ]
  },
  {
   "cell_type": "raw",
   "id": "8fc3d8ca-d938-4c5f-b399-58b72910e852",
   "metadata": {},
   "source": [
    "'''\n",
    "This python script opens a file named urls.txt in the  current folder and\n",
    "downloads each url sequentually. Downloaded files are saved into the current folder.\n",
    "\n",
    "Requirements\n",
    "* In urls.txt URLs must be one per line and no line can be blank\n",
    "* The URL must not use GET parameters (e.g. http://server/retrieve?file=myfile)\n",
    "* urls.txt must be stored in the same folder as this file\n",
    "* You must have read and write permission to this folder\n",
    "\n",
    "v2.0 : 04/06/22\n",
    "Additional function to allow selection of file save location\n",
    "'''\n",
    "\n",
    "import os\n",
    "import urllib.request\n",
    "\n",
    "#Links moved above the chdir, to ensure it can be in the current location\n",
    "#Could just add it to the path...\n",
    "#links = open('urls.txt', 'r')\n",
    "\n",
    "# Addition of where to save the file(s)\n",
    "save_location = input(\"Hello. Where would you like to store the files [leave empty for current directory]:\")\n",
    "if (save_location == \"\"):\n",
    "    save_location = os.getcwd()\n",
    "    \n",
    "os.chdir(save_location)\n",
    "\n",
    "arguements_list=('Darebin', 'Hume')\n",
    "\n",
    "for arguement in arguements_list:\n",
    "    target = \"https://victorianwomenshealthatlas.net.au/reports/factsheets/Sexual%20and%20Reproductive%20Health/\" + arguement + \"/VWHAtlas%20Fact%20Sheet%20Sexual%20and%20Reproductive%20Health%20\" + arguement + \".pdf\"\n",
    "    \n",
    "    #link = link.strip()\n",
    "    filename = target.rsplit('/', 1)[-1]\n",
    "    print(\"Target: \", target)\n",
    "    print(\"File: \", filename)\n",
    "\n",
    "\n",
    "\n",
    "    #Does this file exist in this folder? If not, download it\n",
    "    if not (os.path.isfile(filename)):\n",
    "        #print('Downloading: ' + filename )\n",
    "        print(\"Downloading\", target, \"and saving as\", save_location+filename)\n",
    "        try:\n",
    "            urllib.request.urlretrieve(target, filename)\n",
    "            print(\"File size was\", os.path.getsize(filename))\n",
    "        except Exception as inst:\n",
    "            print(inst)\n",
    "            print('  Encountered unknown error. Continuing.')\n",
    "    \n",
    "    #File exists; don't download\n",
    "    else:\n",
    "        print(\"This file exists already.\")\n",
    "\n",
    "#End of program\n",
    "print(\"Finished downloading.\")"
   ]
  },
  {
   "cell_type": "code",
   "execution_count": null,
   "id": "7b84ca32-dac7-48ac-a86f-6a14088310f1",
   "metadata": {},
   "outputs": [],
   "source": []
  }
 ],
 "metadata": {
  "kernelspec": {
   "display_name": "Python 3 (ipykernel)",
   "language": "python",
   "name": "python3"
  },
  "language_info": {
   "codemirror_mode": {
    "name": "ipython",
    "version": 3
   },
   "file_extension": ".py",
   "mimetype": "text/x-python",
   "name": "python",
   "nbconvert_exporter": "python",
   "pygments_lexer": "ipython3",
   "version": "3.11.4"
  }
 },
 "nbformat": 4,
 "nbformat_minor": 5
}
