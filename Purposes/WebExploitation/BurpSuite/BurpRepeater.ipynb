{
 "cells": [
  {
   "cell_type": "markdown",
   "id": "916f3e1e-9a51-421e-b915-e8a870b62d0e",
   "metadata": {},
   "source": [
    "# Burp Suite - Repeater"
   ]
  }
 ],
 "metadata": {
  "kernelspec": {
   "display_name": "Python 3 (ipykernel)",
   "language": "python",
   "name": "python3"
  },
  "language_info": {
   "codemirror_mode": {
    "name": "ipython",
    "version": 3
   },
   "file_extension": ".py",
   "mimetype": "text/x-python",
   "name": "python",
   "nbconvert_exporter": "python",
   "pygments_lexer": "ipython3",
   "version": "3.10.4"
  }
 },
 "nbformat": 4,
 "nbformat_minor": 5
}
