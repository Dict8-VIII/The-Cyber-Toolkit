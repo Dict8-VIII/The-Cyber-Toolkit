{
 "cells": [
  {
   "cell_type": "markdown",
   "id": "1be08906-5aac-442d-a97d-c02aa75f81be",
   "metadata": {},
   "source": [
    "# Nping\n",
    "\n",
    "Nping is included with nmap, and can be used to transmit modified packets (as well as a lot of other things)\n",
    "\n",
    "<hr>"
   ]
  },
  {
   "attachments": {},
   "cell_type": "markdown",
   "id": "b5a48d5d-165d-4e18-be75-56d2142ebb4f",
   "metadata": {},
   "source": [
    "## TCP SYN Flood\n",
    "\n",
    "A simple case is the TCP SYN flood, which abuses the 3way handshake to overflow the tcp connection buffer. It achieves this by sending the SYN but not actioning the SYNACK recieved back. The target sits waiting for a response, filling its queue. When there is no space left, it cant accept any more connection attempts by new clients.\n",
    "\n",
    "> nping -tcp -flags syn --source-ip rand -c N -p M [targetip] (where N is the number of packets to send and M is a listening port)\n",
    "\n",
    "In netstat -an this will appear as a SYN_RECV state<br>\n",
    "![Nping_SYNFlood.png](../images/Tools/Nping_SYNFlood.png)<br>\n",
    "\n",
    "<hr>"
   ]
  },
  {
   "cell_type": "markdown",
   "id": "8bc5f2f4-791a-4a17-b8f0-58654276dccc",
   "metadata": {},
   "source": [
    "## TCP RST\n",
    "A slightly more fun option, is to force a connection reset (RST) by spoofing one side of an existing connection.\n",
    "This one is a bit harder though, as you need to follow the existing sequence numbering of the channel (as well as knowing the ports in use).\n",
    "\n",
    "<hr>"
   ]
  }
 ],
 "metadata": {
  "kernelspec": {
   "display_name": "Python 3 (ipykernel)",
   "language": "python",
   "name": "python3"
  },
  "language_info": {
   "codemirror_mode": {
    "name": "ipython",
    "version": 3
   },
   "file_extension": ".py",
   "mimetype": "text/x-python",
   "name": "python",
   "nbconvert_exporter": "python",
   "pygments_lexer": "ipython3",
   "version": "3.11.4"
  }
 },
 "nbformat": 4,
 "nbformat_minor": 5
}
