{
 "cells": [
  {
   "cell_type": "markdown",
   "id": "4cb701f5-b9ae-4611-b774-78dad02f84ce",
   "metadata": {},
   "source": [
    "# NFS\n",
    "\n",
    "Network file shares (NFS) are a key component of modern enviroments. Files need to be shared, resources accessed and memes reposted. OK, maybe that last one isnt a key part, but you get the point.\n",
    "\n",
    "<hr>"
   ]
  },
  {
   "cell_type": "markdown",
   "id": "46339d05-316b-4ea1-a9dd-5c20541583c2",
   "metadata": {},
   "source": [
    "## Accessing a Share from a Linux Box\n",
    "\n",
    "First, you need to create a directory where the NFS will be mounted locally\n",
    "\n",
    "> mkdir /tmp/mount\n",
    "\n",
    "Next, mount the remote directory at this location\n",
    "\n",
    "> sudo mount -f nfs \\[IP]:\\[Share] /tmp/mount -nolock\n",
    "\n",
    "### Samba\n"
   ]
  }
 ],
 "metadata": {
  "kernelspec": {
   "display_name": "Python 3 (ipykernel)",
   "language": "python",
   "name": "python3"
  },
  "language_info": {
   "codemirror_mode": {
    "name": "ipython",
    "version": 3
   },
   "file_extension": ".py",
   "mimetype": "text/x-python",
   "name": "python",
   "nbconvert_exporter": "python",
   "pygments_lexer": "ipython3",
   "version": "3.11.4"
  }
 },
 "nbformat": 4,
 "nbformat_minor": 5
}
