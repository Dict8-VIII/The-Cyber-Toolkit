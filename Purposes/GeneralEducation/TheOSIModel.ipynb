{
 "cells": [
  {
   "cell_type": "markdown",
   "id": "1510dfe4-c0b8-43f0-bd1d-56526dafd561",
   "metadata": {},
   "source": [
    "# The OSI Model\n",
    "\n",
    "The OSI model is one of the fundamental understandings of how networks work. It is a model of 7 layers (or 5 if you're lucky), with the top layer being the most human-readable, and the bottom layer being purely electronics. When data is transferred across a network, it is all done at the bottom level, but having multiple layers allow us to encapsulate (down) or decapsulate (up) data whereby we don’t need to understand how every layer works.\n",
    "\n",
    "## The Layers\n",
    "As mentioned above, there are 7 layers in the OSI model. From top - down, these are:\n",
    "\n",
    "7 Application Layer <br>\n",
    "6 Presentation Layer<br>\n",
    "5 Session Layer<br>\n",
    "4 Transport Layer<br>\n",
    "3 Network Layer<br>\n",
    "2 Data Link Layer<br>\n",
    "1 Physical layer<br>\n",
    "\n",
    "<hr>"
   ]
  },
  {
   "cell_type": "markdown",
   "id": "8bff101a-0021-41f7-a3d5-2df48118495a",
   "metadata": {},
   "source": [
    "## Application Layer\n",
    "\n",
    "HTTP, FTP, SMTP, POP3, IMAP\n",
    "\n",
    "<hr>"
   ]
  },
  {
   "cell_type": "markdown",
   "id": "e55c8344-584a-467f-b8df-21c77a8a2d8f",
   "metadata": {},
   "source": [
    "## Presentation Layer\n",
    "\n",
    "SSL, TLS\n",
    "\n",
    "HTTP\t80\tHTTPS\t443 <br>\n",
    "FTP \t21\tFTPS\t990 <br>\n",
    "SMTP\t25\tSMTPS\t465 <br>\n",
    "POP3\t110\tPOP3S\t995 <br>\n",
    "IMAP\t143\tIMAPS\t993 <br>\n",
    "\n",
    "<hr>"
   ]
  },
  {
   "cell_type": "markdown",
   "id": "659edb9e-b254-4402-ab7e-9ef3d8147d00",
   "metadata": {},
   "source": [
    "## Session Layer\n",
    "\n",
    "<hr>"
   ]
  },
  {
   "cell_type": "markdown",
   "id": "b19cbff5-dfcf-4e20-a551-dead9e595a63",
   "metadata": {},
   "source": [
    "## Transport Layer\n",
    "\n",
    "TCP, UDP\n",
    "\n",
    "<hr>"
   ]
  },
  {
   "cell_type": "markdown",
   "id": "cbbb10ab-361b-469a-a1a2-2c16ad60fe87",
   "metadata": {},
   "source": [
    "## Network Layer\n",
    "\n",
    "IPv4, IPv6, , ARP, ICMP, routing\n",
    "\n",
    "<hr>"
   ]
  },
  {
   "cell_type": "markdown",
   "id": "db79a0a0-ecf2-4b43-b708-aa83c7f0bdcf",
   "metadata": {},
   "source": [
    "## Data Link Layer\n",
    "https://en.wikipedia.org/wiki/IEEE_802\n",
    "\n",
    "MAC, ARP\n",
    "Is actually made up of 2 sub layers\n",
    "\n",
    "- LLC: Logical Link Controller. Used for encapsulation\n",
    "- MAC: Media Access Control\n",
    "\n",
    "IEE 802.?\n",
    "\n",
    "1. ?\n",
    "2. LLC (not a thing any more)\n",
    "3. Ethernet (3u:Fast Ethernet, 3z:gigabit over firbre, 3ab:Gigabit over copper, 3ae:10GB over Fibre)\n",
    "4. Token Bus (not a thing any more)\n",
    "5. Token Ring MAC Layer (not a thing any more)\n",
    "6. MANs (not a thing any more)\n",
    "7. Broadband over Co-AX (not a thing any more)\n",
    "8. Fibre Optic TAG (not a thing any more)\n",
    "9. Integrated Services LAN (not a thing any more)\n",
    "10. Interoperable LAN Security (not a thing any more)\n",
    "11. Wireless\n",
    "12. 100BaseVG (not a thing any more)\n",
    "13. Reserved for Fast Ethernet.... isnt that in 3 now?\n",
    "14. Cable Modems (not a thing any more)\n",
    "15. Bluetooth (Well.. PAN)\n",
    "\n",
    "### 802.3\n",
    "\n",
    "Unicast - 1 to one on MAC\n",
    "Broadcast - 1 to all\n",
    "Multicast - 1 to group\n",
    "\n",
    "ARP - Address Resolution Protocol\n",
    "\n",
    "Store and forward switch - get the whole frame then forward after. Can run the checks\n",
    "Cut through - Send as you get it, faster but cant check\n",
    "Fragment free - send in 64bite groups\n",
    "<hr>"
   ]
  },
  {
   "cell_type": "markdown",
   "id": "f1130b11-4827-45af-9cb6-0e303c876a21",
   "metadata": {},
   "source": [
    "### Physical layer\n",
    "\n",
    "Ethernet, Wi-Fi, Fibre, RS232, Pigeon etc\n",
    "1,0,1,1,0,1,0,0\n",
    "\n",
    "<hr>"
   ]
  }
 ],
 "metadata": {
  "kernelspec": {
   "display_name": "Python 3 (ipykernel)",
   "language": "python",
   "name": "python3"
  },
  "language_info": {
   "codemirror_mode": {
    "name": "ipython",
    "version": 3
   },
   "file_extension": ".py",
   "mimetype": "text/x-python",
   "name": "python",
   "nbconvert_exporter": "python",
   "pygments_lexer": "ipython3",
   "version": "3.10.5"
  }
 },
 "nbformat": 4,
 "nbformat_minor": 5
}
