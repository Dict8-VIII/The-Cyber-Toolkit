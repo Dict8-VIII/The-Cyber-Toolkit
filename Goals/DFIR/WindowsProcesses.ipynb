{
 "cells": [
  {
   "attachments": {},
   "cell_type": "markdown",
   "id": "7dc1212e-965a-4119-9bbf-428a7eed7d22",
   "metadata": {},
   "source": [
    "# Windows Process\n",
    "\n",
    "In this section, we briefly cover the expected processes during boot and startup of a Windows system. Why is this important? Simply so we know what is normal, and what is (possibly) suspicious. As with all investigations, the analyst must have the understanding and context to say what is worth investigating and reporting on. Hopefully this gives some guidance to you. If you want the TLDR; I've included the simplified flow diagram below. If you want to modify it for your purpose, the Draw.IO file is also available in the root directory / drawings.<br>\n",
    "\n",
    "![WindowsProcesses.png](../../Images/Goals/DFIR/WindowsProcesses.png)<br>"
   ]
  },
  {
   "cell_type": "markdown",
   "id": "8b52772b-5a61-44b4-8437-b43e5baa2998",
   "metadata": {},
   "source": [
    "## Processes\n",
    "\n",
    "Processes are simply programs running in the background of the system. Well, kinda, but it's easier to think of it this way for now. Processes can be seen in Task Manager on modern Windows versions, but a far more common tool is \"Process Explorer\", which forms a part of SysInternals. I don't dive into this here.\n",
    "\n",
    "### System\n",
    "The system process is the first launched after boot. It's role is to call all other processes used for booting the OS. As such it shouldn't have any parent processes and it is always process ID 4. You may be asking why the first one is #4, well I was wondering that too. Simply it's because process IDs are divisible by 4 due to a property of the process handles, the lower 2 bits of the ID are used for tags. Therefore the first PID after 0 is 4. Bit of trivia for you. Anyways....<br>\n",
    "<br>\n",
    "\n",
    "Expected Properties:<br>\n",
    "\n",
    "> Process Count: One instance only<br>\n",
    "> Parent Processes: No Parent process (there may be an exception for the idle process, not sure why) <br>\n",
    "> User: Local System <br>\n",
    "> Start Time: At Boot <br>\n",
    "> Path: C:\\Windows\\System32\\ntoskrnl.exe <br>\n",
    "> Special Information: ALWAYS PID 4<br>\n",
    "\n",
    "### SMSS\n",
    "The Session Manager Sub System (SMSS) is also known as the Windows Session Manger. Don't confuse it with SSMS (Sql Server Management Studio) - I know I keep mixing them up... It is launched by the 'system' process and has a seperate instance for each 'session' on the machine. Session 0 is always reserved for the system. If you aren't sure what a 'session' is, I always relate it back to RDP. On a server, you can have multiple 'active' users logged into a system at once. Under the hood, the RDP session just launches a new session to be used. You can also use this to kill connections (worst case scenario) but you'll learn how important Session 0 is if you do this accidentally....<br>\n",
    "\n",
    "Expected Properties:<br>\n",
    "\n",
    "> Process Count: Multiple Possible <br>\n",
    "> Parent Processes: System (PID4) <br>\n",
    "> User: Local System <br>\n",
    "> Start Time: At Boot for Session 0, login time for others <br>\n",
    "> Path: C:\\Windows\\System32\\smss.exe <br>\n",
    "> Special Information: Launches SRSS and WinInit then terminates - shouldn't be running normally <br>\n",
    "\n",
    "### CSRSS\n",
    "The Client Server Runtime proceSS (yes, it uses the end of process). It is launched by SMSS and inherits its session number. As SMSS terminates after launching it's child processes, CSRSS shouldn't have a parent process known. Again, Session 0 is reserved for the OS and should be running.<br>\n",
    "\n",
    "Expected Properties:<br>\n",
    "\n",
    "> Process Count: Multiple Possible <br>\n",
    "> Parent Processes: SMSS (should show no parent or parent not found) <br>\n",
    "> User: Local System <br>\n",
    "> Start Time: At Boot for Session 0, login time for others <br>\n",
    "> Path: C:\\Windows\\System32\\csrss.exe <br>\n",
    "> Special Information: Inherets session number from SMSS<br>\n",
    "\n",
    "### WinInit\n",
    "The Windows Initalisation Process is another one launched by SMSS so the properties are expected to be about the same.\n",
    "Expected Properties:<br>\n",
    "\n",
    "> Process Count: Multiple Possible <br>\n",
    "> Parent Processes: SMSS (should show no parent or parent not found) <br>\n",
    "> User: Local System <br>\n",
    "> Start Time: At Boot for Session 0, login time for others <br>\n",
    "> Path: C:\\Windows\\System32\\wininit.exe <br>\n",
    "> Special Information: Should match the launch time of CSRSS for the same session<br>\n",
    "\n"
   ]
  }
 ],
 "metadata": {
  "kernelspec": {
   "display_name": "Python 3 (ipykernel)",
   "language": "python",
   "name": "python3"
  },
  "language_info": {
   "codemirror_mode": {
    "name": "ipython",
    "version": 3
   },
   "file_extension": ".py",
   "mimetype": "text/x-python",
   "name": "python",
   "nbconvert_exporter": "python",
   "pygments_lexer": "ipython3",
   "version": "3.11.4"
  }
 },
 "nbformat": 4,
 "nbformat_minor": 5
}
