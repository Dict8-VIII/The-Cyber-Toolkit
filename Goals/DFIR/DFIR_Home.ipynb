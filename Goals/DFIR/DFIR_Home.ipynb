{
 "cells": [
  {
   "cell_type": "markdown",
   "id": "40d142a7-8f4a-4e63-a60b-c1cfb586e601",
   "metadata": {},
   "source": [
    "# Digital Forensics and Incident Response\n",
    "\n",
    "Digitial Forensics and Incident Response (DFIR) is the scope of \"what happens ~~if~~ when things go wrong\". To put it formally - Post Incident Response. The two sub-categories, Digital Forensics (DF) and Incident Response (IR) could broadly be \"finding out what happened\" and \"having a plan to fix it\" respectively.\n",
    "\n",
    "<hr>"
   ]
  },
  {
   "cell_type": "markdown",
   "id": "35dd5263-5408-4863-8085-a3d10dab8aa5",
   "metadata": {},
   "source": [
    "## Digital Forensics\n",
    "\n",
    "Digitial Forensics is the process of collecting, preserving & investigating digital artifacts in order to find the root causes of incidents. It can also be used in legal proceedings so there are formal processes & tools required to prove a case. I'm not a lawyer, and I have no formal law training. In this book I share my own experiences and thoughts but don't take them as legal advice under any circumstances. Take my comments as hearsay and we'll both be happier...<br>\n",
    "<br>\n",
    "\n"
   ]
  }
 ],
 "metadata": {
  "kernelspec": {
   "display_name": "Python 3 (ipykernel)",
   "language": "python",
   "name": "python3"
  },
  "language_info": {
   "codemirror_mode": {
    "name": "ipython",
    "version": 3
   },
   "file_extension": ".py",
   "mimetype": "text/x-python",
   "name": "python",
   "nbconvert_exporter": "python",
   "pygments_lexer": "ipython3",
   "version": "3.11.4"
  }
 },
 "nbformat": 4,
 "nbformat_minor": 5
}
