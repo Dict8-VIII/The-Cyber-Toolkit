{
 "cells": [
  {
   "cell_type": "markdown",
   "id": "7a53c145-8852-49e4-8869-89d9062d5f17",
   "metadata": {},
   "source": [
    "# Volatility\n",
    "\n",
    "Volatility is a memory analysis tool used to extract data from memory files (captured previously). It is built in Python3 and run from the command line. For this page we are using Volatility3, however v2 is still used in the wild as not all of the v2 features are available in v3. Installation instructions can be found here: https://github.com/volatilityfoundation/volatility/wiki/Installation<br>\n",
    "The standard process for execution is vol.py -f [memory file] [plugin] [plugin options]\n",
    "\n",
    "<hr>"
   ]
  },
  {
   "cell_type": "markdown",
   "id": "2e3ae5b6-7c3e-4394-baf5-f5c0271bdd0e",
   "metadata": {},
   "source": [
    "## Plugins\n",
    "Volatility uses plugins to extract data. These plugins are OS specific and follow a standard format. To use the 'info' plugin example:<br>\n",
    "\n",
    "> windows.info -> The .info plugin for the Windows environment<br>\n",
    "> mac.info -> The .info plugin for the MacOS environment<br>\n",
    "> linux.info -> The .info plugin fo standard Linux environments<br>"
   ]
  }
 ],
 "metadata": {
  "kernelspec": {
   "display_name": "Python 3 (ipykernel)",
   "language": "python",
   "name": "python3"
  },
  "language_info": {
   "codemirror_mode": {
    "name": "ipython",
    "version": 3
   },
   "file_extension": ".py",
   "mimetype": "text/x-python",
   "name": "python",
   "nbconvert_exporter": "python",
   "pygments_lexer": "ipython3",
   "version": "3.11.4"
  }
 },
 "nbformat": 4,
 "nbformat_minor": 5
}
