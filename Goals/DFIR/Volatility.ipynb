{
 "cells": [
  {
   "cell_type": "markdown",
   "id": "7a53c145-8852-49e4-8869-89d9062d5f17",
   "metadata": {},
   "source": [
    "# Volatility\n",
    "\n",
    "Volatility is a memory analysis tool used to extract data from memory files (captured previously). It is built in Python3 and run from the command line. For this page we are using Volatility3, however v2 is still used in the wild as not all of the v2 features are available in v3. Installation instructions can be found here: https://github.com/volatilityfoundation/volatility/wiki/Installation<br>\n",
    "The standard process for execution is vol.py -f [memory file] [plugin] [plugin options]\n",
    "\n",
    "<hr>"
   ]
  },
  {
   "cell_type": "markdown",
   "id": "2e3ae5b6-7c3e-4394-baf5-f5c0271bdd0e",
   "metadata": {},
   "source": [
    "## Plugins\n",
    "Volatility uses plugins to extract data. These plugins are OS specific and follow a standard format. To use the 'info' plugin example:<br>\n",
    "\n",
    "> windows.info -> The .info plugin for the Windows environment<br>\n",
    "> mac.info -> The .info plugin for the MacOS environment<br>\n",
    "> linux.info -> The .info plugin fo standard Linux environments<br>\n",
    "\n",
    "These are only the OS specific plugins, but there are others which are not so specific. Some of these are below.\n",
    "\n",
    "### Common Plugins\n",
    "The list below is what I have found useful (and what it is useful for). It is not a complete list by any means, simply those that I have focused on previously.\n",
    "\n",
    "#### windows.pslist\n",
    "This plugin extracts the details of the processes running on the device at capture time. It only shows those linked so there may be processes hidden which are not shown.\n",
    "\n",
    "#### windows.psscan\n",
    "Similar to pslist, this plugin shows running processes. It lists everything using the _Eprocess data structure, so it can show some hidden processes. Unfortunately it can also give false positives.\n",
    "\n",
    "##### windows.pstree\n",
    "This plugin shows the pslist extract in a 'tree' structure, which allows you to see the parent/child relationships. As with all 3 of the process lists, they are most valuable when you know what is expected. Refer to the <a href=\"WindowsProcesses.ipynb\">WindowsProcess</a> chapter for further information on this."
   ]
  },
  {
   "cell_type": "code",
   "execution_count": null,
   "id": "c4ba83c3-ad7f-48a8-9751-493443973c83",
   "metadata": {},
   "outputs": [],
   "source": []
  }
 ],
 "metadata": {
  "kernelspec": {
   "display_name": "Python 3 (ipykernel)",
   "language": "python",
   "name": "python3"
  },
  "language_info": {
   "codemirror_mode": {
    "name": "ipython",
    "version": 3
   },
   "file_extension": ".py",
   "mimetype": "text/x-python",
   "name": "python",
   "nbconvert_exporter": "python",
   "pygments_lexer": "ipython3",
   "version": "3.11.4"
  }
 },
 "nbformat": 4,
 "nbformat_minor": 5
}
