{
 "cells": [
  {
   "attachments": {},
   "cell_type": "markdown",
   "id": "ae931df8-7fa0-4e54-b637-76d4eaa9b149",
   "metadata": {},
   "source": [
    "# Windows Registry\n",
    "\n",
    "The registry is where the current configuration of the Windows OS is kept. To view the registry, open regedit from the command prompt (or powershell). From here we can see the hives <br>\n",
    "![EmptyRegistry.png](../../Images/Goals/DFIR/EmptyRegistry.png)\n",
    "\n",
    "<hr>"
   ]
  },
  {
   "cell_type": "markdown",
   "id": "d1eae350-878b-48b3-a268-5d9ea8ace859",
   "metadata": {},
   "source": [
    "## Hives\n",
    "\n",
    "The 'hives' are where data is kept in the registry. Each has a specific purpose and is normally referred to by it's abbreviation. Each hive is stored in separate, hidden & protected files -> you cant open these directly from the OS except for via internal OS calls (such as those used by the registry editor). You can't copy them either. They also don't normally have file extensions (NTUSER and USRCLASS are the exceptions as .dat files). <br>\n",
    "Various DFIR tools can extract the files from disk in both live and offline modes using wizardry, which we'll get to later.<br>\n",
    "Changes to the hives (transaction logs which have not yet been written to the live files) are kept in the same directories as .LOG files. Multiple files are sequential i.e. .LOG1,.LOG2,.LOG3 etc etc\n",
    "\n",
    "### Hive Key Current User (HKCU)\n",
    "When a user logs in (or is switched to), their NTUSER.dat file is loaded to the registry here.<br>\n",
    "A user's NTUSER.dat file is kept in C:\\\\Users\\\\[username]\\\\<br>\n",
    "The subkey HKCU/software/classes is kept in C:\\\\Users\\\\[username]\\\\AppData\\\\Local\\\\Microsoft\\\\Windows\\\\USRCLASS.dat<br>\n",
    "\n",
    "### Hive Key Users (HKU)\n",
    "This is the hive where all users are stored<br>\n",
    "There is also a 'default' user kept.<br>\n",
    "The default user's file is in C:\\\\Windows\\\\System32\\\\Config\\\\DEFAULT<br>\n",
    "\n",
    "### Hive Key Local Machine (HKLM)\n",
    "These are the settings of the computer, and is also used for a 'default' setting for users. The subkeys of HKLM are stored in separate files<br>\n",
    "> SAM (HKLM/SAM) -> C:\\\\Windows\\\\System32\\\\Config\\\\SAM<br>\n",
    "> Security (HKLM/Security) -> C:\\\\Windows\\\\System32\\\\Config\\\\SECURITY<br>\n",
    "> Software (HKLM/Software) -> C:\\\\Windows\\\\System32\\\\Config\\\\SOFTWARE<br>\n",
    "> System (HKLM/System) -> C:\\\\Windows\\\\System32\\\\Config\\\\SYSTEM.<br>\n",
    "\n",
    "### Hive Key Classes Root (HKCR)\n",
    "HKCR is a subkey of HKLM/software. This hive defines what file types launch which programs (such as a .txt opening in notepad). It is a merge of two other keys in order to find the 'superseding' value. These keys are: <br>\n",
    "\n",
    "> HKLM/software/classes <br>\n",
    "> HKCU/software/classes <br>\n",
    "\n",
    "As above, HKLM is the 'default' value, where HKCU can override this. Therefore if a value exists in both, HKCU will take precedence. In a similar vein, if you write to HKCR, it will write to HKCU if it exists, otherwise it will write to HKLM.<br>\n",
    "\n",
    "### Hive Key Current Config (HKCC)\n",
    "This is where the current hardware profile of the device is kept.<br>\n",
    "\n",
    "### AMCache\n",
    "The AMCache isn't displayed in the registry editor but it is stored as a .hve file. The AMcache stores recently run programs, making it a great location for DFIR.<br>\n",
    "The AMCache is in C:\\\\Windows\\\\AppCompat\\\\programs\\\\amcache.hve<br>\n",
    "\n",
    "<hr>"
   ]
  },
  {
   "cell_type": "markdown",
   "id": "d8af3bc6-82ad-4f5b-b335-f3a8398e8c4c",
   "metadata": {},
   "source": [
    "## Wizard Tools - Registry Extraction\n",
    "\n",
    "As mentioned in the last section, you can't just copy or open the registry hives without special tools. In a live system that tool is regedit, but what are you going to do if you only have a disk image? You also can't just go logging in to a suspicious machine as you may overwrite or modify key artifacts. So what is an investigator to do?<br>\n",
    "\n",
    "### AccessData Registry Viewer (FTK)\n",
    "This one is a bit of a red herring - Access data doesnt exit any more. They appear to have been brought out by Exterro and have rebranded to FTK and don't have a free option any more... Booo.<br>\n",
    "Not the end of the world, they were quite limited anyways. They can be found here: https://www.exterro.com/ <br>\n",
    "\n",
    "> Can only view one hive at a time (offline) <br>\n",
    "> Can't bring in transaction logs <br>\n",
    "\n",
    "Full disclosure, I haven't dived into this one yet, it's perfectly possible that FTK has more features.\n",
    "\n",
    "### Zimmerman's Registry Explorer\n",
    "(Eric) Zimmerman will come up quite a bit in our DFIR journey, he's the OG wizard for this sorta stuff. You can find his tools here: https://ericzimmerman.github.io/#!index.md <br>\n",
    "Registry Explorer has all the features we would expect<br>\n",
    "\n",
    "> Load multiple hives at once<br>\n",
    "> Load Transaction logs and reconcile against the loaded hive<br>\n",
    "\n",
    "### RegRipper\n",
    "I love the 'Ripper' name, goes back to the 'warez' days for me. Anyways, Regripper doesnt extract from the registry but it can build a report from a loaded hive. It can't however load transaction logs so must be used after other tools *cough* Registry Explorer *cough*.\n",
    "\n",
    "<hr>"
   ]
  },
  {
   "cell_type": "code",
   "execution_count": null,
   "id": "dc2fe9d9-8e79-4683-a779-40f28e115b28",
   "metadata": {},
   "outputs": [],
   "source": []
  }
 ],
 "metadata": {
  "kernelspec": {
   "display_name": "Python 3 (ipykernel)",
   "language": "python",
   "name": "python3"
  },
  "language_info": {
   "codemirror_mode": {
    "name": "ipython",
    "version": 3
   },
   "file_extension": ".py",
   "mimetype": "text/x-python",
   "name": "python",
   "nbconvert_exporter": "python",
   "pygments_lexer": "ipython3",
   "version": "3.11.4"
  }
 },
 "nbformat": 4,
 "nbformat_minor": 5
}
