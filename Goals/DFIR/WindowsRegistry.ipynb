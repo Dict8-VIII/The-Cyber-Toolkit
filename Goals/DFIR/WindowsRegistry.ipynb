{
 "cells": [
  {
   "cell_type": "markdown",
   "id": "ae931df8-7fa0-4e54-b637-76d4eaa9b149",
   "metadata": {},
   "source": [
    "# Windows Registry\n",
    "\n"
   ]
  },
  {
   "cell_type": "markdown",
   "id": "d1eae350-878b-48b3-a268-5d9ea8ace859",
   "metadata": {},
   "source": [
    "## Hives\n",
    "\n",
    "The 'hives' are where data is kept in the registry. Each has a specific purpose and is normally referred to by it's abbreviation<br>\n",
    "\n",
    "### Hive Key Current User (HKCU)\n",
    "When a user logs in (or is switched to), their NTUSER.dat file is loaded to the registry here.<br>\n",
    "\n",
    "### Hive Key Users (HKU)\n",
    "This is the hive where all currently loaded users are stored<br>\n",
    "\n",
    "### Hive Key Local Machine (HKLM)\n",
    "These are the settings of the computer, and is also used for a 'default' setting for users.<br>\n",
    "\n",
    "### Hive Key Classes Root (HKCR)\n",
    "HKCR is a subkey of HKLM/software. This hive defines what file types launch which programs (such as a .txt opening in notepad). It is a merge of two other keys in order to find the 'superseding' value. These keys are: <br>\n",
    "\n",
    "> HKLM/software/classes <br>\n",
    "> HKCU/software/classes <br>\n",
    "\n",
    "As above, HKLM is the 'default' value, where HKCU can override this. Therefore if a value exists in both, HKCU will take precedence. In a similar vein, if you write to HKCR, it will write to HKCU if it exists, otherwise it will write to HKLM.<br>\n",
    "\n",
    "### HK"
   ]
  }
 ],
 "metadata": {
  "kernelspec": {
   "display_name": "Python 3 (ipykernel)",
   "language": "python",
   "name": "python3"
  },
  "language_info": {
   "codemirror_mode": {
    "name": "ipython",
    "version": 3
   },
   "file_extension": ".py",
   "mimetype": "text/x-python",
   "name": "python",
   "nbconvert_exporter": "python",
   "pygments_lexer": "ipython3",
   "version": "3.11.4"
  }
 },
 "nbformat": 4,
 "nbformat_minor": 5
}
