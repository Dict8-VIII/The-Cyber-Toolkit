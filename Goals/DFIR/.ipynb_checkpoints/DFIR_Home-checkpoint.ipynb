{
 "cells": [
  {
   "cell_type": "markdown",
   "id": "40d142a7-8f4a-4e63-a60b-c1cfb586e601",
   "metadata": {},
   "source": [
    "# Digital Forensics and Incident Response\n",
    "\n",
    "."
   ]
  }
 ],
 "metadata": {
  "kernelspec": {
   "display_name": "Python 3 (ipykernel)",
   "language": "python",
   "name": "python3"
  },
  "language_info": {
   "codemirror_mode": {
    "name": "ipython",
    "version": 3
   },
   "file_extension": ".py",
   "mimetype": "text/x-python",
   "name": "python",
   "nbconvert_exporter": "python",
   "pygments_lexer": "ipython3",
   "version": "3.11.4"
  }
 },
 "nbformat": 4,
 "nbformat_minor": 5
}
