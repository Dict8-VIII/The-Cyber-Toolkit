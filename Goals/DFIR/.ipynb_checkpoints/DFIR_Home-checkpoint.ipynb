{
 "cells": [
  {
   "cell_type": "markdown",
   "id": "40d142a7-8f4a-4e63-a60b-c1cfb586e601",
   "metadata": {},
   "source": [
    "# Digital Forensics and Incident Response\n",
    "\n",
    "Digitial Forensics and Incident Response (DFIR) is the scope of \"what happens ~~if~~ when things go wrong\". To put it formally - Post Incident Response. The two sub-categories, Digital Forensics (DF) and Incident Response (IR) could broadly be \"finding out what happened\" and \"having a plan to fix it\" respectively.\n",
    "\n",
    "<hr>"
   ]
  },
  {
   "cell_type": "markdown",
   "id": "35dd5263-5408-4863-8085-a3d10dab8aa5",
   "metadata": {},
   "source": [
    "## Digital Forensics\n",
    "\n",
    "Digitial Forensics is the process of collecting, preserving & investigating digital artifacts in order to find the root causes of incidents. It can also be used in legal proceedings so there are formal processes & tools required to prove a case. I'm not a lawyer, and I have no formal law training. In this book I share my own experiences and thoughts but don't take them as legal advice under any circumstances. Take my comments as hearsay and we'll both be happier...<br>\n",
    "<br>\n",
    "When working on Digital Forensics, there are standard stages to follow when investigating an incident. The below is based on the <a href = \"https://www.eccouncil.org/cybersecurity-exchange/computer-forensics/what-is-digital-forensics/\">EC Council Digital Forensics framework</a>.<br>\n",
    "In this chapter, we will be focusing on the Windows environment, simply because that's where my knowledge is. I'll expand it If I ever get to try out Linux DFIR<br>\n",
    "\n",
    "### Identification\n",
    "First, you must know what you want to retrieve & store. This is more than 'grab everything and look at it later'. Depending on the type of incident, some artifacts are far more valuable than others and these need to be priorities. Complimentary to this, the volatility of data is also key in understanding what you need to retrieve first. In general, you want to retrieve the most volitile artifacts first. For example, you may follow the order of CPU Cache, RAM, Network Capture then HDD dump. Note, at this stage we are just determining what needs to be captured.\n",
    "\n",
    "### Preservation\n",
    "This is where we copy the data using tool that do not damage the underlying artifacts. If investigation is for legal investigations, there are specific tools that must be used. For example, you may require a 'write blocker' when copying files from a HDD. The purpose of this stage is to store data for later investigation WITHOUT modifying anything. We will then work on copies of the data in later stages in order to preserve the original capture. This stage is also called 'acquisition' by other frameworks.<br>\n",
    "\n",
    "Some useful tools here are<br>\n",
    "> <a href = \"KAPE.ipynb\"> KAPE - Kroll Artifact Parser and Extractor</a>. Kape has a GUI and CMD version and only exists as a 'live' capture tool<br>\n",
    "> Autopsy - Autopsy is a GUI only tool that can run on a live device or using an image<br>\n",
    "> FTK Imager - FTK Imager is another GUI only tool that runs in a live or image processing mode<br>\n",
    "\n",
    "For Memory preservation, there are specific tools used for memry extraction on physical devices.\n",
    "> FTK Imager (as above, it can do both)<br>\n",
    "> Redline<br>\n",
    "> DumpIt.exe<br>\n",
    "> win32dd.exe (64bit)<br>\n",
    "> fastdump<br>\n",
    "\n",
    "If running in a virtual environment, you can grab the memory file directly as well these files are<br>\n",
    "> Vmware -> .vmem<br>\n",
    "> HyperV -> .bin<br>\n",
    "> Parallels -> .mem<br>\n",
    "> VirtualBox -> .sav (this is partial only)<br>\n",
    "\n",
    "### Analysis\n",
    "This is where the 'meat' of the forensics comes in. Here a copy of the 'original copy' is used for investigation of the artifacts. This is where we try to understand what occured and gather evidence for later documentation. Why a 'copy of the original copy'? Simply because we don't work on the original data in order to preserve it's integrity.<br>\n",
    "As we would expect from a 'meaty' topic, there are plenty of tools to assist with this stage. Don't rely on the tools completely though, they will only present the data that has been found. It is up to the analyst to determine what is relevant, what is unexpected, and what can be ignored. This can only been done efficiently if you also have the understanding of how the system works. As such, I've included topics on some 'living off the land' (LotL) tools, if you want to solidify this understanding.<br>\n",
    "\n",
    "Living off the Land Tools<br>\n",
    "> <a href = \"WindowsEventViewer.ipynb\">Windows Event Viewer</a> <br>\n",
    "> <a href = \"WindowsRegistry.ipynb\">Windows Registry</a><br>\n",
    "> Process Explorer (Part of SysInternals)\n",
    "\n",
    "Memory Analysis<br>\n",
    "> Volatility<br>\n",
    "\n",
    "### Documentation & Presentation\n",
    "Once the investigation is concluded, the analysis needs to be recorded and documented. I generally dont like splitting this to a separate section as I believe documentation should be a part of all the previous steps. Record what is done, when it is done and by who. Keep as much detail as possible so any steps can be replicated if needed. You'll need the paperwork to back yourself up.<br>\n",
    "For the presentation side, this is dependant on the reason for your investigation. I can't really comment beyond this.\n",
    "\n",
    "<hr>\n"
   ]
  },
  {
   "cell_type": "markdown",
   "id": "ef6d4de3-e072-4ab5-ae25-ad288f8168b5",
   "metadata": {},
   "source": [
    "## Incident Response\n",
    "\n",
    "\n"
   ]
  },
  {
   "cell_type": "markdown",
   "id": "9113a1a1-c86e-4528-b009-bdde330bd295",
   "metadata": {},
   "source": [
    "### Prepare\n",
    "EDR / SIEM / IDS / IPS / Playbooks etc"
   ]
  },
  {
   "cell_type": "markdown",
   "id": "acf5c254-a30c-4fa5-88c2-5198440f2069",
   "metadata": {},
   "source": [
    "### Detect\n",
    "Detect and Analyze. SIEM & EDR (IDS / IPS feed too SIEM).\n",
    "\n",
    "### Web Page Defacing in Splunk\n",
    "\n",
    "> Click \"data summary\" on the \"Home\" search page (Under how to search). This will give you the hosts, sources & Source Types <br>\n",
    "> Search the index with the url <br>\n",
    "> index=botsv1 [url] <br>\n",
    "> Check the \"Selected Fields\" -> Sources to see what data we are working with <br>\n",
    "> As we are investigating a page deface, start with http <br>\n",
    "> Src_ip may be useful, high data from one source is odd <br>\n",
    "> see http_XXXX (user agent, etc). URI and uri_path may help too. This will help narrow down suspicious source addresses <br>\n",
    "> Can look at IDS / IPS / Firewall logs from here <br>"
   ]
  },
  {
   "cell_type": "markdown",
   "id": "42d3fbf2-696c-4268-a75f-e183dbe30f43",
   "metadata": {},
   "source": [
    "### Respond\n",
    "Contain, eradicate, Recover"
   ]
  },
  {
   "cell_type": "markdown",
   "id": "5183668f-2bc0-490b-bc70-a6ef3a24281f",
   "metadata": {},
   "source": [
    "### Learn\n",
    "Lessons Learned, Post-incident activity & Improvements"
   ]
  }
 ],
 "metadata": {
  "kernelspec": {
   "display_name": "Python 3 (ipykernel)",
   "language": "python",
   "name": "python3"
  },
  "language_info": {
   "codemirror_mode": {
    "name": "ipython",
    "version": 3
   },
   "file_extension": ".py",
   "mimetype": "text/x-python",
   "name": "python",
   "nbconvert_exporter": "python",
   "pygments_lexer": "ipython3",
   "version": "3.11.4"
  }
 },
 "nbformat": 4,
 "nbformat_minor": 5
}
