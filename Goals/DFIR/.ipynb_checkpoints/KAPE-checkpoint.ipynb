{
 "cells": [
  {
   "cell_type": "markdown",
   "id": "f1cf85ad-de2b-4761-ba98-e79143ece31b",
   "metadata": {},
   "source": [
    "# KAPE - Kroll Artifact Parser and Extractor\n",
    "\n",
    "KAPE is a tool used in the preservation stage of DFIR. As with most (all) tools used during DFIR, there is no installation done on the 'victim' device. Instead KAPE is run from a live disk or mounted disk image. You can find the files <a href = \"https://www.kroll.com/en/services/cyber-risk/incident-response-litigation-support/kroll-artifact-parser-extractor-kape\">here</a>. You do need to sign up to download the software, but a free email is enough. <br>\n",
    "\n",
    "KAPE exists as both a CLI and GUI version, but under the hood the GUI just lanches the CLI for you. How nice of it. We'll go through both here. The CLI is launched from kape.exe, while the GUI is with Gkape.exe.<br>\n",
    "\n",
    "KAPE has two uses cases (they aren't exclusive). <br>\n",
    "The first and primary use is capturing artifacts from a disk (live or imaged). The disk image is referred to as the 'source'. For the artifact capture we define 'Targets' for collection. There are also compound targets, which a just a list of other targets to capture (i.e. SANS standard). Either way, targets are defined as .tkape files and stored in the 'live' disk'.<br>\n",
    "The second use case is to consolidate the outputs from the target collection to create report files. These are known as 'Modules'. For example, there is a module to create a .csv of processes running on the system. Again the module files are kept on the live disk but they are stored as .mkape files.\n",
    "<hr>"
   ]
  },
  {
   "cell_type": "markdown",
   "id": "2f8e9a8f-8bb6-446a-8126-9410cc7ea299",
   "metadata": {},
   "source": [
    "## Using the GUI\n",
    "\n",
    "I like starting with the easiest option, because why not. In the GUI we can see 'Targets' on the left and 'Modules' on the right. We have to select at least one to start the process. We should also check the 'source' to make sure it's where we want to collect data from, and destination to make sure we store the data somewhere helpful. The destination also has additional options: <br>\n",
    "> 'Flush' clears the destination folder <br>\n",
    "> '%d' adds a date to the file names <br>\n",
    "> '%m' adds machine information to the file names<br>\n",
    "> VSCs are volume shadow copies, you can confirm if you want to collect and consolodate from these as well. <br>\n",
    "> you can also transfer the data to a remote location such as sftp<br>\n",
    "\n",
    "<hr>"
   ]
  },
  {
   "cell_type": "markdown",
   "id": "795ca809-dcab-425a-852f-5b2d3c810100",
   "metadata": {},
   "source": [
    "## Using the Terminal\n",
    "\n",
    "As you have seen above, the GUI just launches the terminal anyway, so why not skip the middle man. From the KAPE directory we run kape.exe with the below arguements<br>\n",
    "\n",
    "> --tsource <target source> : i.e. C:\\ <br>\n",
    "> --tdest <target destination> : i.e. D:\\targets <br>\n",
    "> --tflush : clears the target destination directory <br>\n",
    "> --target <target name> : The targets to collect i.e. SANS <br>\n",
    "> --mflush : clears the module directory <br>\n",
    "> --module <module names> : the modules to run, i.e. EZparser <br>\n",
    "\n",
    "<hr>"
   ]
  },
  {
   "cell_type": "markdown",
   "id": "c23ece19-a019-4126-b124-a3a370045bf9",
   "metadata": {},
   "source": [
    "## Batch Mode\n",
    "\n",
    "It's called batch mode, but really it's an 'autorun' task. This is helpful if you want to perform planned tasks, or delegate to less technical people (or computers). To create a batch file, copy the terminal command to a txt file (without the ./kape.exe) and save it as an _kape.cli file. Leave the file in the root directory of the kape folder. Whenvever the kape exe is run, it will execute the batch files found. You'll probably want these copying to a network location.\n",
    "\n",
    "<hr>"
   ]
  },
  {
   "cell_type": "markdown",
   "id": "815b6eaf-3822-490b-b7bf-0829f81c58b1",
   "metadata": {},
   "source": [
    "## Useful Components\n",
    "\n",
    "This is just a list of components I've found helpful in my journey. Your mileage may vary.<br>\n",
    "\n",
    "Targets:<br>\n",
    "> SANS : a collection of registry extractions <br>\n",
    "\n",
    "Modules: <br>\n",
    "> EZparser : creates a collection of .csv files from the target <br>\n",
    "\n",
    "<hr>"
   ]
  }
 ],
 "metadata": {
  "kernelspec": {
   "display_name": "Python 3 (ipykernel)",
   "language": "python",
   "name": "python3"
  },
  "language_info": {
   "codemirror_mode": {
    "name": "ipython",
    "version": 3
   },
   "file_extension": ".py",
   "mimetype": "text/x-python",
   "name": "python",
   "nbconvert_exporter": "python",
   "pygments_lexer": "ipython3",
   "version": "3.11.4"
  }
 },
 "nbformat": 4,
 "nbformat_minor": 5
}
