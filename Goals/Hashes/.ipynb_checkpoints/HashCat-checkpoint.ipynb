{
 "cells": [
  {
   "cell_type": "markdown",
   "id": "411ba366-3e26-4ee9-9460-20b5e83a8b59",
   "metadata": {},
   "source": [
    "# Hashcat\n",
    "\n",
    "Similar to John The Ripper, Hashcat is used for well... hashes....\n",
    "Unlike John however, hashcat requires that you define the mode (hash type) and attack method.\n",
    "\n",
    "<hr>"
   ]
  },
  {
   "cell_type": "markdown",
   "id": "d3a85cf5-324d-4b3c-b346-e1c4921e2061",
   "metadata": {},
   "source": [
    "## Running Hashcat\n",
    "\n",
    "> hashcat -m [the mode number] -a [the attack method] [the file with hashes listed] [a wordlist or charset] <br>\n",
    "> hashcat -m [the mode number] -a [the attack method] [the single hash value] [a wordlist or charset]\n",
    "\n",
    "The file could include salts as well, depending on the mode number defined. <br>\n",
    "There is also a useful tool for Identifying the hashes: [HashID](HashID.ipynb) <br>\n",
    "There are a LOT of modes (hash types) that can be cracked. To see the list <br>\n",
    "\n",
    "> hashcat -h\n",
    "\n",
    "* 0:      MD5\n",
    "* 100:    SHA1\n",
    "* 1800:   sha512crypt\n",
    "\n",
    "The attack modes are easier, theres only 5\n",
    "\n",
    "* 0 : Straight\n",
    "* 1 : Combination\n",
    "* 3 : Brute-Force (this includes dictionary)\n",
    "* 6 : Hybrid Wordlist + Mask\n",
    "* 7 : Hybrid Mask + Wordlist\n",
    "\n",
    "<hr>"
   ]
  },
  {
   "cell_type": "markdown",
   "id": "5e3a414c-a5dd-4a68-aaa3-561c02357a6b",
   "metadata": {},
   "source": [
    "## Formatting of Hash File\n",
    "It can be frustrating getting the hashes in the right format, but Hashcat includes a method for this too, where it gives what is expected in the hash file\n",
    "\n",
    "![Hashcat_ExampleHashFormat.png](../images/Tools/Hashcat_ExampleHashFormat.png)\n",
    "\n",
    "<hr>"
   ]
  },
  {
   "cell_type": "markdown",
   "id": "b1ae8646-49df-497b-99a8-2a82593af21c",
   "metadata": {},
   "source": [
    "## Example Commands\n",
    "\n",
    "### Single Hash, Type SHA-1, against RockYou\n",
    "\n",
    "> hashcat -m 100 -a 3 8d6e34f987851aa599257d3831a1af040886842f /usr/share/seclists/Passwords/Leaked-databases/rockyou.txt\n",
    "\n",
    "Spoiler: sunshine\n",
    "\n",
    "### Single Hash, Type MD5, 4 Digits longs\n",
    "\n",
    "> hashcat -m 0 -a 3 e48e13207341b6bffb7fb1622282247b ?d?d?d?d\n",
    "\n",
    "Spoiler: 1337\n",
    "<hr>"
   ]
  },
  {
   "cell_type": "code",
   "execution_count": null,
   "id": "538fd683-dbb5-40ab-b0d4-c63ef416aef6",
   "metadata": {},
   "outputs": [],
   "source": []
  }
 ],
 "metadata": {
  "kernelspec": {
   "display_name": "Python 3 (ipykernel)",
   "language": "python",
   "name": "python3"
  },
  "language_info": {
   "codemirror_mode": {
    "name": "ipython",
    "version": 3
   },
   "file_extension": ".py",
   "mimetype": "text/x-python",
   "name": "python",
   "nbconvert_exporter": "python",
   "pygments_lexer": "ipython3",
   "version": "3.11.4"
  }
 },
 "nbformat": 4,
 "nbformat_minor": 5
}
