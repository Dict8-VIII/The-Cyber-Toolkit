{
 "cells": [
  {
   "cell_type": "markdown",
   "id": "6b800a13-4674-4579-8ffe-906dab105e62",
   "metadata": {},
   "source": [
    "# Request Forgeries\n",
    "\n",
    "## CSRF (Cross site request forgery), \"Sea Surf\"\n",
    "When you visit a website, it normally makes requests to other websites to 'build' its content. For example, a page may pull google trackers, images, youtube videos etc. These requests are made by the browser using the current 'context'. That is, the browser has access to the current credentials (Cookies). If a malicious link is provided to the user, or a web page is breached, it can make requests to a malicious server without the browser or user being aware. This can result in cookie transfer, or a malicious request could be crafted to perform an action as the user, such as making a Social Media Post. \n",
    "\n",
    "In many ways, this issue must be resolved in the site itself, but browsers may have defences too.\n",
    "\n",
    "## SSRF (Server side request forgery)\n",
    "Less common is SSRF. When data is provided to a server (such as via a POST), the server performs actions on this data in the context of the server. A malicious request could be crafted to perform actions outside the intended use of the request, to extract data or perform actions as the server. A specific case of this could be SQL injection, but the issue could be in PHP or any other server side actions.\n",
    "\n",
    "<br>"
   ]
  }
 ],
 "metadata": {
  "kernelspec": {
   "display_name": "Python 3 (ipykernel)",
   "language": "python",
   "name": "python3"
  },
  "language_info": {
   "codemirror_mode": {
    "name": "ipython",
    "version": 3
   },
   "file_extension": ".py",
   "mimetype": "text/x-python",
   "name": "python",
   "nbconvert_exporter": "python",
   "pygments_lexer": "ipython3",
   "version": "3.10.5"
  }
 },
 "nbformat": 4,
 "nbformat_minor": 5
}
