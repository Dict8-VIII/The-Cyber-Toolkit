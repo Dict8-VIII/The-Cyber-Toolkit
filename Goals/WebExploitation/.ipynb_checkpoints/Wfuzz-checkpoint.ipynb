{
 "cells": [
  {
   "cell_type": "markdown",
   "id": "6fef3a5e-6344-4f77-af1a-8e009e1c5efb",
   "metadata": {},
   "source": [
    "# WFUZZ \n",
    "\n",
    "Similar to Gobuster, where this tools if for bruteforcing web server directories. There are some differences however.\n",
    "\n",
    "* You must define where to FUZZ, with the FUZZ keyword in the directory\n",
    "* You must define which codes to ignore explicitly (or you get every check)\n",
    "\n",
    "![WFuzz_Example.png](../../Images/Goals/WebExploitation/WFuzz_Example.png)"
   ]
  },
  {
   "cell_type": "code",
   "execution_count": null,
   "id": "821e7b50-75f2-4a16-a75c-d00195bb167e",
   "metadata": {},
   "outputs": [],
   "source": []
  }
 ],
 "metadata": {
  "kernelspec": {
   "display_name": "Python 3 (ipykernel)",
   "language": "python",
   "name": "python3"
  },
  "language_info": {
   "codemirror_mode": {
    "name": "ipython",
    "version": 3
   },
   "file_extension": ".py",
   "mimetype": "text/x-python",
   "name": "python",
   "nbconvert_exporter": "python",
   "pygments_lexer": "ipython3",
   "version": "3.11.4"
  }
 },
 "nbformat": 4,
 "nbformat_minor": 5
}
