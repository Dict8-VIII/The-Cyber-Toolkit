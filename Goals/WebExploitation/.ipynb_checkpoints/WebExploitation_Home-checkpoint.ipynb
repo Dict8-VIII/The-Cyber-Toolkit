{
 "cells": [
  {
   "cell_type": "markdown",
   "id": "65262a46-d906-4f8a-8d2e-9871c989ddef",
   "metadata": {},
   "source": [
    "# Web Exploitation\n",
    "\n",
    "This is it's own section purely because of the 'bug bounty' market"
   ]
  }
 ],
 "metadata": {
  "kernelspec": {
   "display_name": "Python 3 (ipykernel)",
   "language": "python",
   "name": "python3"
  },
  "language_info": {
   "codemirror_mode": {
    "name": "ipython",
    "version": 3
   },
   "file_extension": ".py",
   "mimetype": "text/x-python",
   "name": "python",
   "nbconvert_exporter": "python",
   "pygments_lexer": "ipython3",
   "version": "3.11.4"
  }
 },
 "nbformat": 4,
 "nbformat_minor": 5
}
