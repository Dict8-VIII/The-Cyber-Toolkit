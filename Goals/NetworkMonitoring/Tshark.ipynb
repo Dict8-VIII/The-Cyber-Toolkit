{
 "cells": [
  {
   "cell_type": "markdown",
   "id": "b9cf058a-9a51-4767-8dc5-bf776a040ce2",
   "metadata": {},
   "source": [
    "# TShark\n",
    "\n",
    "Functionally a command line version of wireshark.\n",
    "\n",
    "> tshark -r [fileName] <br>\n",
    "> tshark -r [fileName] -z [some statistics rules] <br>\n",
    "> tshark -r [fileName] -z [some statistics rules} -q (remove packet printing)<br>\n",
    "> tshark -r [filename] -T fields -e [a header to show] -e [another header to show]<br>\n",
    "> tshark -r [filename] -Y 'wireshark filters here'<br>\n",
    "> tshark -r [filename] -Y 'wireshark filters here' --export-objects streamType,directoryToSaveFiles\n",
    "\n",
    "## Usefult 'stats'\n",
    "\n",
    "hosts -> list IPs and Hosts<br>\n",
    "follow,tcp,ascii,0 -> follow the first TCP stream, display output in ASCII"
   ]
  },
  {
   "cell_type": "code",
   "execution_count": null,
   "id": "fff44bdc-eca8-499f-9451-15da1149d8de",
   "metadata": {},
   "outputs": [],
   "source": []
  }
 ],
 "metadata": {
  "kernelspec": {
   "display_name": "Python 3 (ipykernel)",
   "language": "python",
   "name": "python3"
  },
  "language_info": {
   "codemirror_mode": {
    "name": "ipython",
    "version": 3
   },
   "file_extension": ".py",
   "mimetype": "text/x-python",
   "name": "python",
   "nbconvert_exporter": "python",
   "pygments_lexer": "ipython3",
   "version": "3.11.4"
  }
 },
 "nbformat": 4,
 "nbformat_minor": 5
}
