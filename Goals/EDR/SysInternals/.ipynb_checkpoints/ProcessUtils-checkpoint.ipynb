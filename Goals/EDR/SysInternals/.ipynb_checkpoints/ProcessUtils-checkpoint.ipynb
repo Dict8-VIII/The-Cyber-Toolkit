{
 "cells": [
  {
   "cell_type": "markdown",
   "id": "46047c4b-1e6d-4129-8a58-7168bfe1d36d",
   "metadata": {},
   "source": [
    "# Process Utilities\n",
    "\n",
    "<hr>\n"
   ]
  },
  {
   "cell_type": "markdown",
   "id": "3d5d23f4-22b1-402c-b799-0f205cccdb61",
   "metadata": {},
   "source": [
    "## Autoruns\n",
    "So many autostart locations... Its not just startup though. Login, IE launch, Media players, explorer, RUN, RUNONCE, Registry keys, services, toolbars, notifications... blah blah blah... you get the point. Theres a LOT.<br>\n",
    "![SystInternals_Autoruns.png](../../../Images/Goals/EDR/SysInternals/Autoruns.png)<br>\n",
    "\n",
    "### Arguements\n",
    "Odly enough, none<br>\n",
    "\n",
    "> autoruns -accepteula<br>\n",
    "\n",
    "<hr>"
   ]
  },
  {
   "cell_type": "markdown",
   "id": "1f9aee9f-04df-44d5-bc97-32691b5a7803",
   "metadata": {},
   "source": [
    "## ProcDump\n",
    "For monitoring an application for CPU spikes and generating crash dumps during a spike. As its also a feature of Process Explorer I wont include too much here.<br>\n",
    "\n",
    "### Arguements\n",
    "There are some, just use process explorer though...<br>\n",
    "\n",
    "> procdump -accepteula<br>\n",
    "\n",
    "<hr>"
   ]
  },
  {
   "cell_type": "markdown",
   "id": "fa24d759-67fa-4877-895d-61e3c1f98a81",
   "metadata": {},
   "source": [
    "## Process Explorer\n",
    "Theres a lot to unpack here. Process Explorer is simply a way to examine the process running on the device and where this is linked.<br>\n",
    "\n",
    "Each process has a colour<br>\n",
    "- Purple: Indicates files may be packed<br>\n",
    "- Red: Process is exiting (stopping)<br>\n",
    "- Green: Freshly spawned (just created)<br>\n",
    "- Light Blue: Running bythe same account that started Process Explorer<br>\n",
    "- Dark Blue: Currently selected<br>\n",
    "- Pink: Process is a service<br>\n",
    "- Grey: Process is suspended (manually)<br>\n",
    "\n",
    "\n",
    "Still more to do here....<br>\n",
    "<hr>"
   ]
  },
  {
   "cell_type": "markdown",
   "id": "7895473f-8328-4d9b-9d78-cefffbcb6435",
   "metadata": {},
   "source": []
  }
 ],
 "metadata": {
  "kernelspec": {
   "display_name": "Python 3 (ipykernel)",
   "language": "python",
   "name": "python3"
  },
  "language_info": {
   "codemirror_mode": {
    "name": "ipython",
    "version": 3
   },
   "file_extension": ".py",
   "mimetype": "text/x-python",
   "name": "python",
   "nbconvert_exporter": "python",
   "pygments_lexer": "ipython3",
   "version": "3.11.4"
  }
 },
 "nbformat": 4,
 "nbformat_minor": 5
}
