{
 "cells": [
  {
   "cell_type": "markdown",
   "id": "84513050-5519-4b4e-9cc8-23597babfaaa",
   "metadata": {},
   "source": [
    "# Misc Tools\n",
    "\n",
    "Theres a few, https://docs.microsoft.com/en-us/sysinternals/downloads/misc-utilities<br>\n",
    "\n",
    "<hr>"
   ]
  },
  {
   "cell_type": "markdown",
   "id": "01b76f7d-c862-4b98-99be-1b41b4546f51",
   "metadata": {},
   "source": [
    "## BgInfo\n",
    "I've always wondered how they do this. This tool displays info on the machines desktop and is really hand if you look after multiple machines.<br>\n",
    "\n",
    "<hr>"
   ]
  },
  {
   "cell_type": "markdown",
   "id": "1b57b1bf-99a2-42c4-952d-479d052b0e23",
   "metadata": {},
   "source": [
    "## Regjump\n",
    "\n",
    "This is a small tool that jumps you to a location in Regedit instead of having to manually access it. It takes both full name (HKEY_LOCAL_MACHINE) and abbreviation (HKLM). There a few other tools that will run queries on the registry (such as reg query and Get-item/Get-ItemProperty), but this one opens Regedit and puts you in the path specified. <br>\n",
    "\n",
    "### Arguements\n",
    "Nice and simple one here <br>\n",
    "\n",
    "> regjump HKLM\\System\\CurrentControlSet\\Services\\Webclient -accepteula<br>\n",
    "\n",
    "<hr>"
   ]
  },
  {
   "cell_type": "markdown",
   "id": "e6dd9164-da98-44d4-b921-6ca60edf769a",
   "metadata": {},
   "source": [
    "## Strings\n",
    "This one searches a file for strings of ASCII or Unicode format with a length of 3+ (by default). A hand tool for investigating a file.<br>\n",
    "\n",
    "### Arguements\n",
    "To search a file<br>\n",
    "\n",
    "> strings [file]<br>\n",
    "\n",
    "To search for files of with certain criteria<br>\n",
    "\n",
    "> strings [file] | findstr /i \"[search results string]\"<br>\n",
    "\n",
    "<hr>"
   ]
  },
  {
   "cell_type": "code",
   "execution_count": null,
   "id": "9aff6fb8-6791-4e4b-859d-f010a39bd587",
   "metadata": {},
   "outputs": [],
   "source": []
  }
 ],
 "metadata": {
  "kernelspec": {
   "display_name": "Python 3 (ipykernel)",
   "language": "python",
   "name": "python3"
  },
  "language_info": {
   "codemirror_mode": {
    "name": "ipython",
    "version": 3
   },
   "file_extension": ".py",
   "mimetype": "text/x-python",
   "name": "python",
   "nbconvert_exporter": "python",
   "pygments_lexer": "ipython3",
   "version": "3.11.4"
  }
 },
 "nbformat": 4,
 "nbformat_minor": 5
}
