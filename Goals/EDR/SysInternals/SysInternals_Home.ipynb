{
 "cells": [
  {
   "cell_type": "markdown",
   "id": "1d55e6f1-fbf0-4a7e-b5ac-ea77ccb2de11",
   "metadata": {},
   "source": [
    "# SysInternals\n",
    "\n",
    "https://tryhackme.com/room/btsysinternalssg\n",
    "\n",
    "<hr>"
   ]
  },
  {
   "cell_type": "markdown",
   "id": "c58f2895-d8f2-467a-9e3c-55efcfde5959",
   "metadata": {},
   "source": [
    "## Installing\n",
    "https://docs.microsoft.com/en-us/sysinternals/downloads/<br>\n",
    "\n",
    "From your folder, recommened to add ot env variables (path), otherwise will have to navigate.<br>\n",
    "Once added, just run from cmd: <br>\n",
    "\n",
    "> sysdm.cpl <br>\n",
    "\n",
    "There is also a powershell script for it, that's cool. <br>\n",
    "\n",
    "> Download-SysInternalsTools C:\\SysInternals <br>\n"
   ]
  },
  {
   "cell_type": "markdown",
   "id": "326c7b07-f6ab-4657-a050-5e8d617b43ef",
   "metadata": {},
   "source": [
    "## Running Live\n",
    "Can be launched live, without downloading. On windows, you need to enable some services and features. It uses the live link to run the software without downloading locally. https://live.sysinternals.com/. These setps follow running the tools from CMD. <br>\n",
    "\n",
    "> \\\\live.sysinternals.com\\tools\\procmon.exe <br>\n",
    "\n",
    "It fails, we need to add a few things.\n",
    "\n",
    "1. Make sure WebDav is installed. (it is by default on client, but not server builds)<br>\n",
    "    a. Run: Install-WindowsFeature WebDAV-REdirector -Restart<br>\n",
    "    b. Can check with: Get-WindowsFeature WebDAV-Redirector | Format-Table -Autosize<br>\n",
    "2. Enable WebDav protocol<br>\n",
    "    a. get-service webclient<br>\n",
    "    b. start-service webclient<br>\n",
    "3. Enable Network Discovery<br>\n",
    "    a. Can do it from \"Network and Sharing Center\" in Control Panel<br>\n",
    "    b. Otherwise: control.exe /name Microsoft.NetworkAndSharingCenter<br>\n",
    "    c. Advanced Sharing Settings -> Turn on network discovery.<br>\n",
    "    \n",
    "Now we can try it again\n",
    "\n",
    "### Mapping Drive\n",
    "As a middle ground, you can also map the drive<br>\n",
    "> net use * \\\\live.sysinternals.com\\tools\\ <br>\n",
    "\n",
    "The * is to use any drive letter.\n",
    "\n",
    "<hr>"
   ]
  }
 ],
 "metadata": {
  "kernelspec": {
   "display_name": "Python 3 (ipykernel)",
   "language": "python",
   "name": "python3"
  },
  "language_info": {
   "codemirror_mode": {
    "name": "ipython",
    "version": 3
   },
   "file_extension": ".py",
   "mimetype": "text/x-python",
   "name": "python",
   "nbconvert_exporter": "python",
   "pygments_lexer": "ipython3",
   "version": "3.11.4"
  }
 },
 "nbformat": 4,
 "nbformat_minor": 5
}
