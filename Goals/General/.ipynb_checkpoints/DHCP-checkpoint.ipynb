{
 "cells": [
  {
   "cell_type": "markdown",
   "id": "c00d0951-87ec-4970-85ef-6a3c002f89d6",
   "metadata": {},
   "source": [
    "# DHCP \n",
    "\n",
    "Dynamic host configuration protocol\n",
    "\n",
    "Client -> DHCPDiscover -> Server <br>\n",
    "Client <- DHCPOffer    <- Server <br>\n",
    "Client -> DHCPRequest  -> Server <br>\n",
    "Client <- DHCPACK      <- Server <br>\n",
    "\n",
    "The names of the different DHCP messages\n",
    "\n",
    "a DHCP RELEASE is sent from the host when the lease expires.\n",
    "a DHCPNACK can also be sent from the server to client in the last step.\n",
    "A DHCP request is a broadcast of an accept, but specifics the server and IP it will be requesting from?\n",
    "\n",
    "<br>"
   ]
  },
  {
   "cell_type": "markdown",
   "id": "84df565c-8667-4787-91a2-2c8bea9b701e",
   "metadata": {},
   "source": [
    "## DHCPv6\n",
    "\n",
    "SOLICIT, ADVERTISE, INFORMATION REQUEST, and REPLY. No default gateway included"
   ]
  }
 ],
 "metadata": {
  "kernelspec": {
   "display_name": "Python 3 (ipykernel)",
   "language": "python",
   "name": "python3"
  },
  "language_info": {
   "codemirror_mode": {
    "name": "ipython",
    "version": 3
   },
   "file_extension": ".py",
   "mimetype": "text/x-python",
   "name": "python",
   "nbconvert_exporter": "python",
   "pygments_lexer": "ipython3",
   "version": "3.11.4"
  }
 },
 "nbformat": 4,
 "nbformat_minor": 5
}
