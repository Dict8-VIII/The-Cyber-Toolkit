{
 "cells": [
  {
   "cell_type": "markdown",
   "id": "c12b35f3-cd83-42aa-8d67-867871b55689",
   "metadata": {},
   "source": [
    "# Email Protocols\n",
    "\n",
    "## SMTP\n",
    "SMTP, or Simple Mail Transfer Protocol is a common mail transfer method. It can be used offline but in most cases it is used between web servers. It is hosted on port 25 by default.<br>\n",
    "\n",
    "Several acronyms are used with SMTP<br>\n",
    "\n",
    "- MSA: Mail Submission Agent, who the email is first passed to, and the forwards to the MTA.<br>\n",
    "- MTA: Mail Transmission Agent, the server in between the MSA and MDA<br>\n",
    "- MDA: Mail Delivery Agent, the final server where the email is sent to<br>\n",
    "- MUA: Mail user agent, the device which first sends the email to the MSA, or who queries the MDA to read the delivered email.<br>\n",
    "\n",
    "A single server could be a combination of the MSA/MTA or MTA/MDA.<br>\n",
    "\n",
    "### Connecting SMTP\n",
    "\n",
    "Normally we would use a web browser or email client to transfer emails, but telnet shows what is going on underneath.<br>\n",
    "\n",
    "1. Telnet [IP] 25<br>\n",
    "2. helo [hostname], telnet is fine<br>\n",
    "3. mail from: [who the email is from]<br>\n",
    "4. rcpt to: [who is the email being sent to]<br>\n",
    "5. data (enter) [type your message]<br>\n",
    "6. to end: (enter) . (enter)<br>\n",
    "7. quit : to exit<br>\n",
    "<br>\n",
    "The mail message is ended by \"< CR >< LF >.< CR >< LF >\"<br>\n",
    "\n",
    "<hr>\n",
    "\n"
   ]
  },
  {
   "cell_type": "markdown",
   "id": "aec45e75-da5f-4700-ad59-2d3ab5952e0e",
   "metadata": {},
   "source": [
    "## POP3\n",
    "POP3, or Post Office Protocol 3, differs from SMTP in which it downloads the delivered email from the MDA and then deletes it from the server (normally). This means the emails can be handled offline (and sent later) for example but can also be desync-d by using multiple clients.<br>\n",
    "\n",
    "POP3 is hosted on port 110 by default.\n",
    "\n",
    "### Connecting POP3\n",
    "\n",
    "As with SMTP, you would normally use an email client, but telnet can be used too. <br>\n",
    "\n",
    "1. telnet [IP] 110<br>\n",
    "2. USER [username to authenticate]<br>\n",
    "3. Password [password for the user]<br>\n",
    "4. STAT, you will receive back \"+OK nn mm\". nn is the emails to sync, mm is the size of the inbox in octets.<br>\n",
    "5. LIST, lists the messages in the inbox<br>\n",
    "6. RETR 1, give me the first email in the inbox<br>\n",
    "\n",
    "![EMAIL_POP3.png](../../Images/Goals/General/EMAIL_POP3.png)<br>\n",
    "\n",
    "<hr>\n"
   ]
  },
  {
   "cell_type": "markdown",
   "id": "36daea79-3acc-470b-a8c9-f7c4c6a8d7e2",
   "metadata": {},
   "source": [
    "## IMAP\n",
    "\n",
    "IMAP, or Internet Message Access Protocol, is the next evolution of POP3. It enables syncing of email states across devices so that a 'read' email on your phone also shows up as 'read' on your laptop. It runs on port 143 by default.<br>\n",
    "\n",
    "### Connecting IMAP\n",
    "Once again, we will show the connection process in TELNET. We're not going to use this in the real world but it's a good example. All IMAP commands must be preceded by a unique value to allow tracking of replies. It can be anything (realistic) but its easier if we just use a standard. m1, m2, m3 etc make sense.<br>\n",
    "\n",
    "> Telnet [IP] 143 <br>\n",
    "> m1 LOGIN [user] [password] <br>\n",
    "> m2 LIST \"\" \"\\*\" <br>\n",
    "> m3 EXAMINE [folder from LIST]: Example m3 EXAMINE INBOX <br>\n",
    "> m4 LOGOUT\n",
    "\n",
    "<hr>\n"
   ]
  },
  {
   "cell_type": "code",
   "execution_count": null,
   "id": "c71a4542-c165-4cb4-b68b-202d44316fd9",
   "metadata": {},
   "outputs": [],
   "source": []
  }
 ],
 "metadata": {
  "kernelspec": {
   "display_name": "Python 3 (ipykernel)",
   "language": "python",
   "name": "python3"
  },
  "language_info": {
   "codemirror_mode": {
    "name": "ipython",
    "version": 3
   },
   "file_extension": ".py",
   "mimetype": "text/x-python",
   "name": "python",
   "nbconvert_exporter": "python",
   "pygments_lexer": "ipython3",
   "version": "3.11.4"
  }
 },
 "nbformat": 4,
 "nbformat_minor": 5
}
