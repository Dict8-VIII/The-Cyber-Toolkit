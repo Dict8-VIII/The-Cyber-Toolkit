{
 "cells": [
  {
   "cell_type": "markdown",
   "id": "fca2d5e6-b637-4a08-8e50-34a66e95a20b",
   "metadata": {},
   "source": [
    "# Mitre ATT&CK\n",
    "\n",
    "ATT&CK, or Adversarial Tactics, Techniques and Common Knowlege is a framework of useful information about the landscape of cyber security. But what do these mean?\n",
    "\n",
    "- Tactic : The goal or objective\n",
    "- Technique : How the objective is achieved\n",
    "- Procedure : How the technique is executed.\n",
    "\n",
    "I'm still working on this myself, but an example would be getting data out of a database.\n",
    "\n",
    "- Tactic : Retrieving a User List from the DB\n",
    "- Technique : SQL Injection\n",
    "- Procedure : Exploiting the login page to extract the DB via blind SQL injection.\n",
    "\n",
    "The ATT&CK page can be found at [https://attack.mitre.org/](https://attack.mitre.org/). Overall it is a great resource for the Blue team, as well as a trove of information for the Red team\n",
    "\n",
    "<hr>\n"
   ]
  },
  {
   "cell_type": "markdown",
   "id": "8d87e072-6546-4fa1-b726-8a94d2ecebfc",
   "metadata": {},
   "source": [
    "## Exploring the Framework\n",
    "\n",
    "On first opening the URL, we are presented with the full framework which can be quite daunting at first<br>\n",
    "![ATT&CK_Full_Framework.png](../../images/HackerCraft/MITRE/ATT&CK_Full_Framework.png)<br>\n",
    "\n",
    "Breaking it down however, we can see the matrix is initially techniques split by the stage of an attack\n",
    "\n",
    "- Reconnaissance\n",
    "- Resource Development\n",
    "- Initial Access\n",
    "- Execution\n",
    "- Persistence\n",
    "- Privilege Escalation\n",
    "- Defense Evasion\n",
    "- Credential Access\n",
    "- Discovery\n",
    "- Lateral Movement\n",
    "- Collection\n",
    "- Command & Control (C&C)\n",
    "- Exfiltration\n",
    "- Impact\n",
    "\n",
    "Under \"Privilege Escalation\", for example, we can select the technique \"Create or Modify System Process\".\n",
    "\n",
    "<hr>"
   ]
  },
  {
   "cell_type": "markdown",
   "id": "a9ccd1d6-537b-490b-962d-a5a071415219",
   "metadata": {},
   "source": [
    "## Data in a Technique\n",
    "\n",
    "From here, we can now see what is provided for a single technique. We are given:\n",
    "- Rough Overview : A simple description\n",
    "- Procedure Examples : A time this has been used\n",
    "- Mitigations : Ways to reduce the impact if this technique is used\n",
    "- Detections : Ways to detect the technique\n",
    "\n",
    "<hr>"
   ]
  }
 ],
 "metadata": {
  "kernelspec": {
   "display_name": "Python 3 (ipykernel)",
   "language": "python",
   "name": "python3"
  },
  "language_info": {
   "codemirror_mode": {
    "name": "ipython",
    "version": 3
   },
   "file_extension": ".py",
   "mimetype": "text/x-python",
   "name": "python",
   "nbconvert_exporter": "python",
   "pygments_lexer": "ipython3",
   "version": "3.10.5"
  }
 },
 "nbformat": 4,
 "nbformat_minor": 5
}
