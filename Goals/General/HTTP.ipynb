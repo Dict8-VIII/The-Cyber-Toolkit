{
 "cells": [
  {
   "cell_type": "markdown",
   "id": "68366aec-9eaa-4d5f-b65e-f16e7c03e588",
   "metadata": {},
   "source": [
    "# HTTP\n",
    "\n",
    "HTTP, or HyperText Transfer Protocol is the most common web protocol. It is unencrypted and stateless, meaning each request is handled independently of each other. Request a page and an image on the page are 2 separate requests. For sites that require a login to access a page, this is managed by cookies.<br>\n",
    "\n",
    "While web browsers are commonly used for retrieving pages, this isn’t a requirement. A telnet client could also request these (or curl). HTTP servers are normally hosted on port 80, but don’t have to be.<br>\n",
    "\n",
    "## HTTP Methods (Verb)\n",
    "An HTTP method is the action type requested on communication to a server. These are called methods or verbs. The most common are:<br>\n",
    "\n",
    "GET<br>\n",
    "POST<br>\n",
    "PUT<br>\n",
    "DELETE<br>\n",
    "\n",
    "## Request process\n",
    "The easiest verb to show is a get request. To do this over telnet<br>\n",
    "\n",
    ">Telnet [serverIP] 80<br>\n",
    ">Get / HTTP/1.1<br>\n",
    ">host: telnet<br>\n",
    "> press enter a couple of times<br>\n",
    "\n",
    "In the first line, we are simply creating a TCP handshake to the server on port 80.<br>\n",
    "In the second line, we are getting the \"/\" file, normally index.html, and providing a protocol to use<br>\n",
    "In the last line, we need to tell the server our host, this could really be anything but must be provided.<br>\n",
    "\n",
    "If this all goes well, you will receive the page code to your terminal. Simple.<br>\n",
    "\n",
    "<hr>\n"
   ]
  },
  {
   "cell_type": "code",
   "execution_count": null,
   "id": "cb7a143c-b34a-455b-ac04-c0d9e4144a8c",
   "metadata": {},
   "outputs": [],
   "source": []
  }
 ],
 "metadata": {
  "kernelspec": {
   "display_name": "Python 3 (ipykernel)",
   "language": "python",
   "name": "python3"
  },
  "language_info": {
   "codemirror_mode": {
    "name": "ipython",
    "version": 3
   },
   "file_extension": ".py",
   "mimetype": "text/x-python",
   "name": "python",
   "nbconvert_exporter": "python",
   "pygments_lexer": "ipython3",
   "version": "3.11.4"
  }
 },
 "nbformat": 4,
 "nbformat_minor": 5
}
