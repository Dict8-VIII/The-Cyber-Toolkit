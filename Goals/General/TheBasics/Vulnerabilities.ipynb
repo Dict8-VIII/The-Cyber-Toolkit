{
 "cells": [
  {
   "cell_type": "markdown",
   "id": "07cc989c-b676-4742-8b7f-74759fc53113",
   "metadata": {},
   "source": [
    "# Vulnerabilities\n",
    "\n",
    "## Common Terms\n",
    "\n",
    "Threat : an entity which may wish to attack<br>\n",
    "Thread Actors : about the same<br>\n",
    "Threat Vector : the means of performing an attack<br>\n",
    "Vulnerability : A weakness in the system which an attacker could leverge to create a vector.<br>\n",
    "Asset : something that needs to be protected. Data, servers, switches, etc\n",
    "\n",
    "<hr>\n",
    "\n",
    "## Risk\n",
    "Arranged by likelyhood against impact<br>\n",
    "\n",
    "Risk Appetite/tolerance - How much risk a company can accept<br>\n",
    "\n",
    "## Types of Risk Treatments\n",
    "\n",
    "### Avoidance\n",
    "Elimination in OHS speak, removing the risk entirely\n",
    "\n",
    "### Mitigation\n",
    "Reducing the risk to a more acceptable level, such as by implimenting controls, admin, audits etc\n",
    "\n",
    "### Transfer\n",
    "Passing the risk to someone else, this could include a cloud provider (cloudflare) or Insurance (including cyber insurance)\n",
    "\n",
    "### Acceptance\n",
    "Make no changes, just accept the risk and monitor"
   ]
  },
  {
   "cell_type": "markdown",
   "id": "c573e50a-18f7-4c12-939d-9904ee32d79c",
   "metadata": {},
   "source": [
    "## Access Control Concepts\n",
    "\n",
    "Security control - a safeguard or measure designed to preserve the CIA triange.<br>\n",
    "\n",
    "A physical control would be a seatbelt. An administrative control would be the law requiring its use.<br>\n",
    "\n",
    "### Access Controls\n",
    "\n",
    "Subjects - The entity requesting access (user, endpoint, service, workstation, storage etc). This is the initiator and is active<br>\n",
    "Objects - The target of the access request (Server, Storage, workstation, Web Service etc). It is passive<br>\n",
    "Rules - The instruction that allows or denies access to an object by a subject.<br>\n",
    "\n",
    "### Defense in Depth\n",
    "A fundamental concept in all types of security. Defense in Depth is the concept that one defense can fail, so multiple layered defenses should be considered. These layers of security mean that if one line fails, there are still further defenses that are active. \n",
    "\n",
    "### Principle of Least Privilege\n",
    "This one is common sense, but isnt always implimented well. Simply put, only access rights that are needed should be assigned. If someone wants to be able to read a file for their job, theres no reason to give them full rights to the whole storage; thats just unnecessary and means that a compormise of a 'limited' user gives far more access than is needed.\n",
    "\n",
    "### PAM - Privileged Access Management\n",
    "Sometimes users need a higher level of rights than their standard role. This could be to install software, access extra file locations or other privileged tasks. PAM is the concept of managing this 'higher level' to only be available when needed. For example, theres no reason for privileged access when reading your own emails, so why have it enabled?\n",
    "\n",
    "### Privileged Accounts\n",
    "A privliged account is one that has the higher level as a part of their standard role. For example, a Domain Admin or Helpdesk operation. As these accounts always have the higher rights, they should be managed much more strictly. This should likely include\n",
    "- 2FA / MFA\n",
    "- Additional Logging\n",
    "- If a user, more strict trust verification\n",
    "\n"
   ]
  },
  {
   "cell_type": "code",
   "execution_count": null,
   "id": "da7610d7-5233-44d5-a53a-eb58c088ae9c",
   "metadata": {},
   "outputs": [],
   "source": []
  }
 ],
 "metadata": {
  "kernelspec": {
   "display_name": "Python 3 (ipykernel)",
   "language": "python",
   "name": "python3"
  },
  "language_info": {
   "codemirror_mode": {
    "name": "ipython",
    "version": 3
   },
   "file_extension": ".py",
   "mimetype": "text/x-python",
   "name": "python",
   "nbconvert_exporter": "python",
   "pygments_lexer": "ipython3",
   "version": "3.11.4"
  }
 },
 "nbformat": 4,
 "nbformat_minor": 5
}
