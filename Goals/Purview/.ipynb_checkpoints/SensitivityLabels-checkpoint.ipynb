{
 "cells": [
  {
   "cell_type": "markdown",
   "id": "5f90a4e1-9d37-4009-9dff-781cbf0b7520",
   "metadata": {},
   "source": [
    "# Sensitivity Labels\n",
    "\n",
    "Sensitivity labels are the tags applied to data to assign policies and support security by design. In Purview they are customisable and persistent, and in many cases are cross platform to 3rd party applications. The tag label is stored in clear text (outside any encryption), so while the file may not be readable by external applications or internally, the clasification is known.\n",
    "\n",
    "Labels can be applied automatically or manually, and if multiple apply (in an automatic basis), then they can be given a priority. The priority is 0->n, where the higher number takes priority. Labels can also have sub-labels which can be used to control an audience for the file. For example, financial reports may be confidential, but that doesnt mean someone senior in customer service should be able to access the file.\n",
    "\n",
    "If a label is editited globally (or deleted globally), the orginal policy still applies.\n",
    "\n",
    "Sensitivity labels are a feature of Purview Information Protection.\n",
    "\n",
    "<hr>"
   ]
  },
  {
   "cell_type": "markdown",
   "id": "edc4582c-7ef6-4bc2-bc72-cf696ed9e8bc",
   "metadata": {},
   "source": [
    "## Assigning Labels\n",
    "\n",
    "Assigning labels to allow employees to use them is known as publishing. Labels are publsihed to individual users or groups. You can also set policies to automatically assign labels to specific content types (such as documents, emails, teams meetings etc).\n",
    "One published, policies can also be applied\n",
    "- Justification for label changes (such as lowering a level)\n",
    "- Mandatory labeling for actions (such as creating or saving)\n",
    "- Help links to support labeling decisions\n",
    "- Priority (in case of conflict)\n",
    "\n",
    "The configuration for service side (auto labeling) has definable criteria.\n",
    "\n",
    "### Scope\n",
    "The scope options are\n",
    "- Items\n",
    "  - Files (MS office documents etc)\n",
    "  - Emails (outlook & web outlook)\n",
    "  - Meetings (teams & outlook)\n",
    "- Groups & Sites (shareporint, teams etc)\n",
    "- Assets (Purview Data map items, SQL, asure, RDS etc)\n",
    "\n",
    "\n",
    "## Auto Labels\n",
    "Auto labes are based on previous definitions or SITs. You can also define specific conditions. Auto labeling cannot be done until a simulation is run and confirmed."
   ]
  },
  {
   "cell_type": "code",
   "execution_count": null,
   "id": "ba28f6a4-5a6f-4753-8540-bc7c6fd7ff47",
   "metadata": {},
   "outputs": [],
   "source": []
  }
 ],
 "metadata": {
  "kernelspec": {
   "display_name": "Python 3 (ipykernel)",
   "language": "python",
   "name": "python3"
  },
  "language_info": {
   "codemirror_mode": {
    "name": "ipython",
    "version": 3
   },
   "file_extension": ".py",
   "mimetype": "text/x-python",
   "name": "python",
   "nbconvert_exporter": "python",
   "pygments_lexer": "ipython3",
   "version": "3.11.4"
  }
 },
 "nbformat": 4,
 "nbformat_minor": 5
}
