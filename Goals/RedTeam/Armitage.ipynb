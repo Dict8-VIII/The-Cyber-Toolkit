{
 "cells": [
  {
   "cell_type": "markdown",
   "id": "a957a910-3b41-410e-b346-9282900fe712",
   "metadata": {},
   "source": [
    "# Armitage\n",
    "\n",
    "Armitage is a GUI interface for the <a href=\"Metasploit.ipynb\">Metasploit Framework</a>, built by the same team. It's great for collaboration between teams too.\n",
    "\n",
    "## Install\n",
    "\n",
    "> git clone https://gitlab.com/kalilinux/packages/armitage.git && cd armitage <br>\n",
    "> bash package.sh\n",
    "\n",
    "\n",
    "![Armitage_Clone.png](../../Images/Goals/RedTeam/Armitage_Clone.png)<br>\n",
    "![Armitage_Build.png](../../Images/Goals/RedTeam/Armitage_Build.png)<br>\n",
    "\n",
    "Files should now be in ./release/unix/<br>\n",
    "![Armitage_Built.png](../../Images/Goals/RedTeam/Armitage_Built.png)<br>\n",
    "\n",
    "The fun files here are:\n",
    "- TeamServer: Creates a server for the team to use. It must be passed<br>\n",
    "  - IP address<br>\n",
    "  - Shared Password<br>\n",
    "- Armitage: Used to connect to a server. It gives you a screen to log in with. The username is a 'nickname'<br>\n",
    "\n",
    "> this is actually in the kali repos now, can just install armitage<br>\n",
    "> same with teamserver\n",
    "\n",
    "<hr>\n",
    "\n",
    "### Prepare The Environment\n",
    "\n",
    "Since it uses metasploit, make sure its all worky<br>\n",
    "- Start the DB\n",
    "  - sudo systemctl start postgresql\n",
    "- Clear the DB<br>\n",
    "  - sudo msfdb delete<br>\n",
    "- ReInitialise<br>\n",
    "  - sudo msfdb init<br>\n",
    "\n",
    "\n",
    "<hr>\n"
   ]
  },
  {
   "cell_type": "markdown",
   "id": "b400dcb9-18e5-4d62-a8ae-ff942891889a",
   "metadata": {},
   "source": [
    "## Start & connect\n",
    "\n",
    "Make sure youre in the right directory:<br>\n",
    "- sudo teamserver [ip] [password]<br>\n",
    "  - Open a new terminal<br>\n",
    "- armitage<br>\n",
    "  - teamserver gives the logins, use msf as your user and the above password<br>\n",
    "\n",
    "![Armitage_Connect.png](../../Images/Goals/RedTeam/Armitage_Connect.png)<br>\n",
    "\n",
    "<hr>\n"
   ]
  },
  {
   "cell_type": "markdown",
   "id": "4fade560-7bea-4ff1-9db0-f7de1cd8df94",
   "metadata": {},
   "source": [
    "## Make It Do Fun Things\n",
    "\n",
    "### Start a Scan\n",
    "\n",
    "![Armitage_StartScan.png](../../Images/Goals/RedTeam/Armitage_StartScan.png)<br>\n",
    "\n",
    "You'll get a window for a target, can do an IP or a subnet. Quick or OS detection doesnt give the -vv option though....<br>\n",
    "I did \"10.10.247.213\"<br>\n",
    "After a while, the scan completes and I get a new host on my display<br>\n",
    "\n",
    "![Armitage_NewHost.png](../../Images/Goals/RedTeam/Armitage_NewHost.png)<br>\n",
    "\n",
    "### Run Exploits\n",
    "\n",
    "You can now open exploits and pick your attack. Drag drop the attack to the host and you can now set your arguments and let it run<br>\n",
    "![Armitage_StartEternalBlue.png](../../Images/Goals/RedTeam/Armitage_StartEternalBlue.png)<br>\n",
    "\n",
    "If it works, it gets all Thor-d<br>\n",
    "![Armitage_exploited.png](../../Images/Goals/RedTeam/Armitage_exploited.png)<br>\n",
    "\n",
    "### Run POST modules\n",
    "\n",
    "You can then right click and take control of the shell<br>\n",
    "Most of the time, you will want to excalate this to a meterpreter shell. Right click the host and select your shell, then Post. It will expand your tree to show the post modules. Under manager is the shell_to_meterpreter module. Run it and will attempt to create a second shell for meterpreter.<br>\n",
    "![Armitage_Meterpreter.png](../../Images/Goals/RedTeam/Armitage_Meterpreter.png)<br>\n",
    "\n",
    "<hr>"
   ]
  },
  {
   "cell_type": "code",
   "execution_count": null,
   "id": "9b64a568-284b-4e72-ad01-fdafb66e79be",
   "metadata": {},
   "outputs": [],
   "source": []
  }
 ],
 "metadata": {
  "kernelspec": {
   "display_name": "Python 3 (ipykernel)",
   "language": "python",
   "name": "python3"
  },
  "language_info": {
   "codemirror_mode": {
    "name": "ipython",
    "version": 3
   },
   "file_extension": ".py",
   "mimetype": "text/x-python",
   "name": "python",
   "nbconvert_exporter": "python",
   "pygments_lexer": "ipython3",
   "version": "3.11.4"
  }
 },
 "nbformat": 4,
 "nbformat_minor": 5
}
