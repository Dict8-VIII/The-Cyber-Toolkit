{
 "cells": [
  {
   "cell_type": "markdown",
   "id": "eca0021c-38f0-4a47-a28b-22e7bb0adbbf",
   "metadata": {},
   "source": [
    "# Kerbrute\n",
    "\n",
    "Kerbrute is a Kerberos user enumeration tool, that attempts to log in using a pre-defined list of usernames. It isnt trying to log in as such, but if it gets a response asking for a password, it assumes the user exists.\n",
    "\n",
    "<hr>"
   ]
  },
  {
   "cell_type": "markdown",
   "id": "2cf569a7-d50e-4daa-9262-6150ef3fca22",
   "metadata": {},
   "source": [
    "## Install\n",
    "You will need to pull the files from github, and likely run as root to be able to write the files.\n",
    "\n",
    "> sudo mkdir /opt/kerbrute <br>\n",
    "> cd /opt/kerbrute <br>\n",
    "> sudo wget https://github.com/ropnop/kerbrute/releases/download/v1.0.3/kerbrute_linux_amd64 <br>\n",
    "> chmod +x kerbrute_linux_amd64 <br>\n",
    "\n",
    "When running kerbrute, you will need to make sure the domain is a part of your DNS resolution (or hosts file). On linux this is in your /etc/hosts file.\n",
    "\n",
    "> [ip] domain.TLD <br>\n",
    "> 10.0.0.1 ATTACK.me\n",
    "\n",
    "## Running\n",
    "You can now run the software from the coppied directory. Red is the Domain, Blue is the IP of the target to try log in to \n",
    "\n",
    "![Kerbrute_Run.png](../../../Images/Goals/RedTeam/Kerbrute_Run.png)<br><br>\n",
    "![Kerbrute_Results.png](../../../Images/Goals/RedTeam/Kerbrute_Results.png)<br>\n",
    "<hr>"
   ]
  },
  {
   "cell_type": "code",
   "execution_count": null,
   "id": "4e212d7a-7342-4696-94ed-d90c8dd6ef38",
   "metadata": {},
   "outputs": [],
   "source": []
  }
 ],
 "metadata": {
  "kernelspec": {
   "display_name": "Python 3 (ipykernel)",
   "language": "python",
   "name": "python3"
  },
  "language_info": {
   "codemirror_mode": {
    "name": "ipython",
    "version": 3
   },
   "file_extension": ".py",
   "mimetype": "text/x-python",
   "name": "python",
   "nbconvert_exporter": "python",
   "pygments_lexer": "ipython3",
   "version": "3.11.4"
  }
 },
 "nbformat": 4,
 "nbformat_minor": 5
}
