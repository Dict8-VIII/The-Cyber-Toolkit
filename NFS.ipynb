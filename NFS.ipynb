{
 "cells": [
  {
   "cell_type": "markdown",
   "id": "4cb701f5-b9ae-4611-b774-78dad02f84ce",
   "metadata": {},
   "source": [
    "# NFS\n",
    "\n",
    "Network file shares (NFS) are a key component of modern enviroments. Files need to be shared, resources accessed and memes reposted. OK, maybe that last one isnt a key part, but you get the point.\n",
    "\n",
    "## Accessing a Share from a Linux Box\n",
    "\n",
    "First, you need to create a directory where the NFS will be mounted locally\n",
    "\n",
    "> mkdir /tmp/mount\n",
    "\n",
    "Next, mount the remote directory at this location\n",
    "\n",
    "> sudo mount -f nfs \\[IP]:\\[Share] /tmp/mount -nolock\n",
    "\n",
    "### Samba\n"
   ]
  },
  {
   "cell_type": "code",
   "execution_count": null,
   "id": "f5f5ab2d-1f37-460d-8260-c25c7e2b7f1b",
   "metadata": {},
   "outputs": [],
   "source": []
  }
 ],
 "metadata": {
  "kernelspec": {
   "display_name": "Python 3 (ipykernel)",
   "language": "python",
   "name": "python3"
  },
  "language_info": {
   "codemirror_mode": {
    "name": "ipython",
    "version": 3
   },
   "file_extension": ".py",
   "mimetype": "text/x-python",
   "name": "python",
   "nbconvert_exporter": "python",
   "pygments_lexer": "ipython3",
   "version": "3.10.2"
  }
 },
 "nbformat": 4,
 "nbformat_minor": 5
}
