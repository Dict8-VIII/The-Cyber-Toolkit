{
 "cells": [
  {
   "cell_type": "markdown",
   "id": "20725e37-1266-4175-805a-a12453aeedff",
   "metadata": {},
   "source": [
    "# Things to Do\n",
    "\n",
    "~~FINISH GETTING THE NOTES UP FIRST!!!~~\n",
    "\n",
    "* Linpeas/Linenum/LES expand on\n",
    "* XSS looks quite empty\n",
    "* add last modified to sections\n",
    "* Finish \"The Basics\"\n",
    "** Add attacks in a separate sections\n",
    "* ~~HackerCraft: Add the general process (OSINT, Info Gathering, expl, escalation, covering/maintaining)~~ Removed as working on Killchain now\n",
    "* write python program for SQL injection\n",
    "* ~~JNR Pen tester page is empty~~ I'm removing it\n",
    "* Mention more on HoloLive\n",
    "* Add intro page about WHY cyber security is important\n",
    "* Nmap - Add examples and videos\n",
    "* Add people who helped (Giraffe Academy, The Cyber Mentor)\n",
    "* ~~Add my linked In page~~ Added\n",
    "* Remove the default Links\n",
    "* Explore \"Hack the Box\", add here\n",
    "* Add my \"TryHackMe\" account\n",
    "* Dark Mode\n",
    "* I'm sure the google analytics ID is wrong\n",
    "* ~~Mitre's ATT&CK looks interesting...~~ It was\n",
    "* Nmap has external 3rd party services? \"Checks using a third-party service, such as Geoplugin and Virustotal\"\n",
    "* Nessus - vulnerability scanner. Theres rooms for it too\n",
    "* LinuxPrivesc task 8 - try a write as SUID\n",
    "* https://github.com/rafax00/Bruteforcer\n",
    "* Expand on yara rules\n",
    "* ~~Finish Agent SUDO Page~~ Done\n",
    "* Finish Terminator Page\n",
    "* Finish LazyAdmin Page\n",
    "* ~~Finish TomgHost Page~~ Done\n",
    "* Document ISAC https://tryhackme.com/room/introtoisac\n",
    "* Document MISP https://tryhackme.com/room/misp\n",
    "* OpenVAS looks fun, try it out\n",
    "* Build process flow for Core windows processes https://tryhackme.com/room/btwindowsinternals\n",
    "* Finish SysInternals Tools"
   ]
  },
  {
   "cell_type": "code",
   "execution_count": null,
   "id": "d770885b-0dce-4119-92bc-04601f8ef666",
   "metadata": {},
   "outputs": [],
   "source": []
  }
 ],
 "metadata": {
  "kernelspec": {
   "display_name": "Python 3 (ipykernel)",
   "language": "python",
   "name": "python3"
  },
  "language_info": {
   "codemirror_mode": {
    "name": "ipython",
    "version": 3
   },
   "file_extension": ".py",
   "mimetype": "text/x-python",
   "name": "python",
   "nbconvert_exporter": "python",
   "pygments_lexer": "ipython3",
   "version": "3.10.5"
  }
 },
 "nbformat": 4,
 "nbformat_minor": 5
}
