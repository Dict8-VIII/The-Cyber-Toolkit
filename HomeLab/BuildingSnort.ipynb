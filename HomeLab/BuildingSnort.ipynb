{
 "cells": [
  {
   "cell_type": "markdown",
   "id": "e8dd6e8c-dd48-4bd0-800b-5c1e6d646440",
   "metadata": {},
   "source": [
    "# Building Snort\n",
    "\n",
    "Snort is an IDS/IPS solution provided by Cisco Talos.\n",
    "\n",
    "For this build, I am building on\n",
    "- VMware (ESXi 7.0u3)\n",
    "- Docker on Ubuntu (Desktop 22.04.4)\n",
    "- Installing SnortV3\n",
    "- I will test with Wireshark and Metaspoit to confirm operation\n",
    "\n",
    "<hr>"
   ]
  },
  {
   "attachments": {},
   "cell_type": "markdown",
   "id": "acfc92d5-b6f0-432e-8535-225b03d93063",
   "metadata": {},
   "source": [
    "## Building the Ubuntu Box\n",
    "\n",
    "For this lab, I'm building a Docker Box on Ubuntu. Technically you can run multiple solutions on Docker, but I'm still old when it comes to separation of services. Besides, we'll be doing things to the network & Docker that are really bad practice.\n",
    "\n",
    "I'm building a VM with 2xCPU, 4GB RAM and 32GB Storage. As always I have thin provisioned my VMs as I normally overprovision for the VM requirements. A key section here is that I've allocated the NIC to my INTERNAL network. This INTERNAL is internal to the virtual enviroment and isolated from my EXTERNAL home network via the pfSense router. Don't want those two things mixing...\n",
    "\n",
    "![Snort_VMspecs.png](../images/HomeLab/Snort_VMspecs.png)\n",
    "\n",
    "For the OS install, just follow the defaults (I'll go through from a minimal installation). Remember to store your passwords in a password manager :-). While you're waiting for the wheels to spin, we need to make a change to the virtual network.\n",
    "\n",
    "### Promiscous Switch\n",
    "\n",
    "While I'm sure you know this, for packet sniffing to run, we need to recieve the packets. Who would have thought. The problem with this is that virtual switches, well, switch traffic between specific ports. Data between 2 VMs on the same virtual switch is sent between just those two VMs; our sniffer gets left out of the conversation. To bypass this, we need to tell the vSwitch to send data to everyone on the vSwitch (functionally turning the switch into a hub). Most NICs will just drop the traffic they recieve as it's not for their MAC, however our sniffer will also be configured to pick this up. If this sounds excessive, you are correct, in a large vSwitch you will end up with data everywhere, bad practice. \n",
    "Instead we can assign this mode to the Port Group; Internal as you saw earlier.<br>\n",
    "\n",
    "![Snort_PortGroup.png](../images/HomeLab/Snort_PortGroup.png)<br>\n",
    "\n",
    "You can then set Promiscous mode under security.<br>\n",
    "![Snort_PortGroupPromiscous.png](../images/HomeLab/Snort_PortGroupPromiscous.png)<br>\n",
    "\n",
    "Now all we need to do is wait for the VM to finish building.....\n",
    "\n",
    "<hr>"
   ]
  },
  {
   "attachments": {},
   "cell_type": "markdown",
   "id": "5503b68d-1368-4184-b131-1423aeacf035",
   "metadata": {},
   "source": [
    "## Building Docker\n",
    "\n",
    "Once the VM has built and logged in, we need to run some standard Ubuntu things\n",
    "- If there are any updates, run them (you'll be prompted)\n",
    "- Let Firefox install\n",
    "\n",
    "We also need to ensure virtualisation is available to docker. Basically allowing the VM to host VMs itself. This technology is known by different names depending on your host CPU (Intel V-T or AMD ....). Fortunately for us, it's the same thing to VMware. Shut down your VM then edit it's settings.<br>\n",
    "\n",
    "Check the 'Hardware Virtualisation' checkbox then save and start your VM back up.\n",
    "\n",
    "![Snort_CPUflag.png](../images/HomeLab/Snort_CPUflag.png)<br>\n",
    "\n",
    "### Install\n",
    "Docker has plenty of documentation available for installation."
   ]
  },
  {
   "cell_type": "code",
   "execution_count": null,
   "id": "b4375cd9-6272-4b9a-a0fb-b971a4574ef6",
   "metadata": {},
   "outputs": [],
   "source": []
  }
 ],
 "metadata": {
  "kernelspec": {
   "display_name": "Python 3 (ipykernel)",
   "language": "python",
   "name": "python3"
  },
  "language_info": {
   "codemirror_mode": {
    "name": "ipython",
    "version": 3
   },
   "file_extension": ".py",
   "mimetype": "text/x-python",
   "name": "python",
   "nbconvert_exporter": "python",
   "pygments_lexer": "ipython3",
   "version": "3.11.4"
  }
 },
 "nbformat": 4,
 "nbformat_minor": 5
}
