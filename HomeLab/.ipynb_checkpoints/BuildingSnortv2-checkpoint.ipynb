{
 "cells": [
  {
   "cell_type": "markdown",
   "id": "f824ef24-039f-4f24-a62c-d10b9bf53fa1",
   "metadata": {},
   "source": [
    "# Building Snort V2\n",
    "\n",
    "Easier with the repos, and a faster setup\n",
    "\n"
   ]
  },
  {
   "attachments": {},
   "cell_type": "markdown",
   "id": "6e2efa2c-1e9b-4e3a-88eb-e18d4a2c210b",
   "metadata": {},
   "source": [
    "## Install\n",
    "\n",
    "Ubuntu 24.04\n",
    "apt-get update && apt-get upgrade\n",
    "Install Net-Tools\n",
    "apt-get install snort\n",
    "![Snort_v2network.png](../images/HomeLab/Snort_v2network.png)"
   ]
  }
 ],
 "metadata": {
  "kernelspec": {
   "display_name": "Python 3 (ipykernel)",
   "language": "python",
   "name": "python3"
  },
  "language_info": {
   "codemirror_mode": {
    "name": "ipython",
    "version": 3
   },
   "file_extension": ".py",
   "mimetype": "text/x-python",
   "name": "python",
   "nbconvert_exporter": "python",
   "pygments_lexer": "ipython3",
   "version": "3.11.4"
  }
 },
 "nbformat": 4,
 "nbformat_minor": 5
}
