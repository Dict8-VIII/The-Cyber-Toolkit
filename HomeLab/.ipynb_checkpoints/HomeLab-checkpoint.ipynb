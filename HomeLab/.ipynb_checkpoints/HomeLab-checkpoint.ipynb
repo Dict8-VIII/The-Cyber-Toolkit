{
 "cells": [
  {
   "cell_type": "markdown",
   "id": "54014cdb-8b6e-4940-9c31-d66459a78d98",
   "metadata": {},
   "source": [
    "# HomeLab\n",
    "\n",
    "In this section I'm recording the layout of my home lab. Naturally sharing the home setup comes with its own risks, so you'll see how I've hardened the security around it without compromising it's functionality. My lab is built on my old work laptop (purchased from the company, promise) so it's not the most modern hardware. That being said, I think it is reasonable to expect the resources I have arent anything spectacular. If you have less resources available, either dont run everything at once or be patient.<br>\n",
    "\n",
    "Home Lab Equipment\n",
    "* Laptop running Windows 11: 32GB RAM, 12vCores (Hyperthreaded, I think 4 physical), 512GB M2 NVMe.\n",
    "* Installed Workstation Player 17 (Free from VMware)\n",
    "* Installed a VM to Workstation Player - ESXi 7.0u3 (Again, free from VMware), 8 doesnt pick up my NIC for some reason....\n",
    "* Gave the VM most of the CPU and RAM\n",
    "* All the Lab VMs run in this virtual environment\n",
    "\n",
    "You may wonder why I didnt just make Workstation Player machines for everything I needed. The simple answer is I didnt do what I wanted. \n",
    "* I'm comfortable in the VMware space\n",
    "* The networking is easier to manage\n",
    "* Snapshots are fun and will probably be VERY helpful when I get experimental\n",
    "* The hypervisor layer is probably far more efficient in ESXi\n",
    "* It's easier to back up if I need to\n",
    "* I can make it accessible in my home network if I cant get on the 'server'\n",
    "\n",
    "## VMs\n",
    "This is likely to change all over the place, but at the moment\n",
    "\n",
    "1. Domain Controller - Server2016 (This is also my DNS & DHCP server)\n",
    "2. Kali\n",
    "3. pfSense Router (Virtual Router/Firewall), keep the fun things in while allowing the downloads out\n",
    "4. Metasploitable\n",
    "5. DVWA (Damn Vulnerable Web App)\n",
    "6. Labtainer, more details in the \"Blue Team\" folder\n",
    "7. Nessus Appliance\n",
    "8. OpenVAS (Greenbone) Appliance\n",
    "9. Ubuntu Desktop\n",
    "10. OpenKylin\n",
    "\n",
    "Still to add\n",
    "1. openCanary\n",
    "2. Qualsys?"
   ]
  },
  {
   "cell_type": "code",
   "execution_count": null,
   "id": "c5dea7e3-5668-42eb-ad35-3f695e740084",
   "metadata": {},
   "outputs": [],
   "source": []
  }
 ],
 "metadata": {
  "kernelspec": {
   "display_name": "Python 3 (ipykernel)",
   "language": "python",
   "name": "python3"
  },
  "language_info": {
   "codemirror_mode": {
    "name": "ipython",
    "version": 3
   },
   "file_extension": ".py",
   "mimetype": "text/x-python",
   "name": "python",
   "nbconvert_exporter": "python",
   "pygments_lexer": "ipython3",
   "version": "3.11.4"
  }
 },
 "nbformat": 4,
 "nbformat_minor": 5
}
