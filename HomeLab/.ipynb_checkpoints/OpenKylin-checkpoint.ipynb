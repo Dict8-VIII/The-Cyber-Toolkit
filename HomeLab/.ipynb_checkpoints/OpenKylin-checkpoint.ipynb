{
 "cells": [
  {
   "attachments": {},
   "cell_type": "markdown",
   "id": "f558c4b2-8f69-4907-b2ea-1e53299a2c97",
   "metadata": {},
   "source": [
    "# OpenKylin\n",
    "\n",
    "The recently released \"Chinese made\" OS. Spoiler, it's not, it looks to be based on an Ubuntu build. I guess the same arguement can be made for MACOS not being it's own OS, but that's getting a bit off topic.\n",
    "\n",
    "## Installation\n",
    "Download the ISO and create a new VM. I gave mine the same resources as the default Ubuntu minimum requirements. Let it boot up and load the ISO and you'll get the splash screen.<br>\n",
    "![OpenKylin_Splash.png](../images/HomeLab/OpenKylin_Splash.png)<br>\n",
    "For those of you who don't have a handy Chinese speaker, F2 is the language option. Otherwise (T) is try and (I) is install.\n",
    "\n",
    "From here it's really the same process as Ubuntu Desktop with a nicer looking GUI (and a few english translation issues).\n",
    "\n",
    "## Warnings\n",
    "As with any OS, and more so with such a.... political.... one.... Make sure this is internal only. I went through and locked down my firewall between the internal (lab) and external (home) networks again, just to be sure. I'll run a port scanner and drop wireshark and a splunk forwarder on it soon too....\n",
    "\n",
    "<hr>"
   ]
  },
  {
   "cell_type": "code",
   "execution_count": null,
   "id": "d1494116-4efb-476c-955a-0b719f8bd53d",
   "metadata": {},
   "outputs": [],
   "source": []
  }
 ],
 "metadata": {
  "kernelspec": {
   "display_name": "Python 3 (ipykernel)",
   "language": "python",
   "name": "python3"
  },
  "language_info": {
   "codemirror_mode": {
    "name": "ipython",
    "version": 3
   },
   "file_extension": ".py",
   "mimetype": "text/x-python",
   "name": "python",
   "nbconvert_exporter": "python",
   "pygments_lexer": "ipython3",
   "version": "3.11.4"
  }
 },
 "nbformat": 4,
 "nbformat_minor": 5
}
