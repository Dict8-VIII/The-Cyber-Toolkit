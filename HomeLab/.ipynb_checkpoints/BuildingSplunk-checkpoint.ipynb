{
 "cells": [
  {
   "cell_type": "markdown",
   "id": "3fe7a67f-d890-4874-9765-3ff59a420224",
   "metadata": {},
   "source": [
    "# Building Splunk\n",
    "\n",
    "As a part of the Home lab project, I'm functionally building a SOC. As SPLUNK is still the major player in this space (though far from the only one), it feels natural to build around this software.<br>\n",
    "\n",
    "I'm building on the Ubuntu Server Image (20.04.6 to be exact). The newer kernel of Ubuntu desktop isnt supported (you could use the older LTS). I've given it\n",
    "- 4 CPU <br>\n",
    "- 8GB RAM <br>\n",
    "- 128GB HDD <br>\n",
    "\n",
    "I've also built it using the minimal install - so we don't have all that annoying bloatware. All I've added before starting the build is the most recent updates and net-tools.\n",
    "<hr>"
   ]
  },
  {
   "attachments": {},
   "cell_type": "markdown",
   "id": "5a6930ca-3fef-4405-ac43-f3a91202b714",
   "metadata": {},
   "source": [
    "## Build\n",
    "\n",
    "As with all of my home lab, I'm building with free tools (where available), otherwise with trial licences. Splunk does both but I want the free one for now. The link to get started can be found here: https://docs.splunk.com/Documentation/Splunk/9.2.1/Admin/MoreaboutSplunkFree. There isn't a download link for the 'free' version, you get it by downloading the enterprise trial and converting it to a free licence.<br>\n",
    "\n",
    "Create a login, navigate to the enterprise free download, and copy the wget link<br>\n",
    "\n",
    "![Splunk_WgetLink.png](../images/HomeLab/Splunk_WgetLink.png)<br>\n",
    "\n",
    "I just pull it to the /tmp directory, but just check it's there.<br>\n",
    "![Splunk_Downloaded.png](../images/HomeLab/Splunk_Downloaded.png)<br>\n",
    "\n",
    "Extract it to the /opt directory<br>\n",
    "![Splunk_Extract.png](../images/HomeLab/Splunk_Extract.png)<br>\n",
    "\n",
    "Change to the /opt/splunk/bin Directory<br>\n",
    "![Splunk_ChangeToBin.png](../images/HomeLab/Splunk_ChangeToBin.png)<br>\n",
    "\n",
    "Next is the part where we are supposed to run the first time setup. No worky though<br>\n",
    "![Splunk_AttemptStart.png](../images/HomeLab/Splunk_AttemptStart.png)<br>\n",
    "\n",
    "Set the SPLUNK_HOME environment and run again (you may need to run this as root).<br>\n",
    "![Splunk_FirstTime.png](../images/HomeLab/Splunk_FirstTime.png)<br>\n",
    "\n",
    "If you've done it all fine, you'll get the EULA to accept. If you do, it will then ask for an administrator user and password. Set these and let the server boot up. Wait until you see the server is online<br>\n",
    "![Splunk_Built.png](../images/HomeLab/Splunk_Built.png)<br>\n",
    "\n",
    "Then try bring it up. I'm on a CLI environment so opening it from my Snort box.<br>\n",
    "![Splunk_Login.png](../images/HomeLabSplunk_Login.png/)<br>\n",
    "\n",
    "<hr>"
   ]
  },
  {
   "cell_type": "code",
   "execution_count": null,
   "id": "c3e83a87-f01e-45a2-b302-6679341f1d71",
   "metadata": {},
   "outputs": [],
   "source": []
  }
 ],
 "metadata": {
  "kernelspec": {
   "display_name": "Python 3 (ipykernel)",
   "language": "python",
   "name": "python3"
  },
  "language_info": {
   "codemirror_mode": {
    "name": "ipython",
    "version": 3
   },
   "file_extension": ".py",
   "mimetype": "text/x-python",
   "name": "python",
   "nbconvert_exporter": "python",
   "pygments_lexer": "ipython3",
   "version": "3.11.4"
  }
 },
 "nbformat": 4,
 "nbformat_minor": 5
}
