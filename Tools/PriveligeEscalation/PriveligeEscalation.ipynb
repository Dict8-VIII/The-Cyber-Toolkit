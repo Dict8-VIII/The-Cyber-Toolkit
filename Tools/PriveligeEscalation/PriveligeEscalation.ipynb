{
 "cells": [
  {
   "cell_type": "markdown",
   "id": "dc226532-a572-40f9-988e-e33f35d57d21",
   "metadata": {},
   "source": [
    "# Privelige Escalation\n",
    "\n",
    "There are any number of exploits that can get you access to a machine (and ideally a shell), but if a developer is even semi-competent, the service will only be running as a low privelige user. For full pwn-age however, a local root, local admin or Domain Admin are the real prizes. At the end of the day, privelige escalation is like giving yourself a promotion.\n",
    "![PrivEsc-self_promotions.jpg](../../images/PrivEsc-self_promotions.jpg)\n",
    "\n",
    "Note: Privelige escalation isnt a purely remote situation. It is also an internal threat, whereas an employee may want to gain access to information they arent supposed to have (a helpdesk operator shouldn have access to finance details however, but a domain admin could probably get to it).\n",
    "\n",
    "There are 2 forms of privelige escalation, vertical and horizontal. A vertical escalation is moving to more rights (user -> admin for example), while a horizontal escalation is to move to the same level (we're both in helpdesk, but they have passwords saved on their desktop). Most of the time our goal is vertical movement, but horizonal movement may help get us there.\n",
    "\n",
    "## Trivial Checks\n",
    "There are some checks that can be done easily. The first is linux specific.\n",
    "\n",
    "> sudo -l\n",
    "\n",
    "While not an escalation itself, it lists what can be run as 'sudo' rights. Sudo is linux specific where a user can use admin priveliges for a task. This function lists what can be run as 'sudo'. An example would be /bin/su. If it is listed and you execute\n",
    "\n",
    "> sudo /bin/su\n",
    "\n",
    "then your terminal will suddenly have sudo rights. Obviously this is also one of the first things locked down in a system.\n",
    "\n",
    "<hr>"
   ]
  },
  {
   "cell_type": "code",
   "execution_count": null,
   "id": "9675be39-a08a-4c52-9d89-f804d723cea5",
   "metadata": {},
   "outputs": [],
   "source": []
  }
 ],
 "metadata": {
  "kernelspec": {
   "display_name": "Python 3 (ipykernel)",
   "language": "python",
   "name": "python3"
  },
  "language_info": {
   "codemirror_mode": {
    "name": "ipython",
    "version": 3
   },
   "file_extension": ".py",
   "mimetype": "text/x-python",
   "name": "python",
   "nbconvert_exporter": "python",
   "pygments_lexer": "ipython3",
   "version": "3.10.2"
  }
 },
 "nbformat": 4,
 "nbformat_minor": 5
}
