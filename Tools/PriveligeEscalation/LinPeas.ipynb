{
 "cells": [
  {
   "cell_type": "markdown",
   "id": "5518d330-72e7-4a60-91df-001c11000250",
   "metadata": {},
   "source": [
    "# LinPeas\n",
    "\n",
    "Similar to LinEmum, this is a script for finding privelige escalation points.\n",
    "\n",
    "## Downloading\n",
    "Grab it from github and pass it to a local file\n",
    "> curl -L https://github.com/carlospolop/PEASS-ng/releases/latest/download/linpeas.sh > linpeas.sh\n",
    "\n",
    "## Copy it to the Target Machine\n",
    "You can use any number of methods for this, my preference is the HTTP server. <br>\n",
    "Other options can be found [here](../../Craft/FileTransfer.ipynb)\n",
    "\n",
    "## Running it\n",
    "Once it is copied remotely, allow exectute rights and run\n",
    "\n",
    "![Linpeas_Example.png](../../images/Tools/Linpeas_Example.png)\n",
    "\n",
    "<hr>"
   ]
  },
  {
   "cell_type": "code",
   "execution_count": null,
   "id": "92ba1438-f9e4-4cae-ad88-f4fc1f5226bf",
   "metadata": {},
   "outputs": [],
   "source": []
  }
 ],
 "metadata": {
  "kernelspec": {
   "display_name": "Python 3 (ipykernel)",
   "language": "python",
   "name": "python3"
  },
  "language_info": {
   "codemirror_mode": {
    "name": "ipython",
    "version": 3
   },
   "file_extension": ".py",
   "mimetype": "text/x-python",
   "name": "python",
   "nbconvert_exporter": "python",
   "pygments_lexer": "ipython3",
   "version": "3.10.5"
  }
 },
 "nbformat": 4,
 "nbformat_minor": 5
}
