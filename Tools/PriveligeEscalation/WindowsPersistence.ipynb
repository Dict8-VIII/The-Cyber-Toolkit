{
 "cells": [
  {
   "cell_type": "markdown",
   "id": "619f693e-e2a5-48ba-ae26-89631eef1bfe",
   "metadata": {},
   "source": [
    "# Windows Persistence\n",
    "\n",
    "Persistence is the act of setting up a back door to allow access in the future. If you go through all the effort of getting access to a target, you want to make sure you can get back in later. Maybe the exploit is fixed, the password is changed or the service is stopped.\n",
    "\n",
    "Persistence can be achieved at initial access, but these tend to be more obvious to a defender than administrator persistence. One option can be to create persistence at initial access, and then to clean up once you have escalated and gained persistence at a higher level.\n",
    "\n",
    "This page focuses on Admin Persistence, not user level.\n",
    "\n",
    "A good chunk of this page comes from my practice in https://tryhackme.com/room/windowslocalpersistence\n",
    "\n",
    "<hr>"
   ]
  },
  {
   "cell_type": "markdown",
   "id": "b52ba3c9-6acc-4d2d-9162-d1310edc1055",
   "metadata": {},
   "source": [
    "## Modifying a lower level account\n",
    "These methods focus on giving rights (both explicit and hidden) to low level accounts with the purpose of hiding as one of those users. In some situations, admin accounts are well known and highly monitored, with regular password changes and 'JustInTime' access. User accounts may be less closely guarded and monitored. Or maybe you are that user and want to escalate yourself now that you have escalated a console.\n"
   ]
  }
 ],
 "metadata": {
  "kernelspec": {
   "display_name": "Python 3 (ipykernel)",
   "language": "python",
   "name": "python3"
  },
  "language_info": {
   "codemirror_mode": {
    "name": "ipython",
    "version": 3
   },
   "file_extension": ".py",
   "mimetype": "text/x-python",
   "name": "python",
   "nbconvert_exporter": "python",
   "pygments_lexer": "ipython3",
   "version": "3.11.5"
  }
 },
 "nbformat": 4,
 "nbformat_minor": 5
}
