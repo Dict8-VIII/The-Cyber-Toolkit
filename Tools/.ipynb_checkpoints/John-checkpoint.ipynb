{
 "cells": [
  {
   "cell_type": "markdown",
   "id": "c9be989a-2e65-4045-85f3-08f5dae95c5b",
   "metadata": {},
   "source": [
    "# John The Ripper\n",
    "\n",
    "While the namesake is famous for terrorising London, John is just as well known in the Cyber Security space. It is an amazingly versatile tool used for cracking hashes.\n",
    "\n",
    "The typical format is:\n",
    "> john --wordlist=[wordlist] [file]\n",
    "\n",
    "Unfortunately, yes, you have to pass a file containing your hash(s), one per line if you have multiple.\n",
    "How the file is formatted depends on what you want to crack.. which leads us to....\n",
    "\n",
    "## What can we crack?\n",
    "\n",
    "Well, a lot. Following the above format, pretty much any hash thats in your wordlist. For some hash types, they need to be converted to the format that john expects.\n",
    "\n",
    "### Linux Logins\n",
    "So, youve got a low level account and want to escalate. As linux stores its credentails across 2 files, theres a process to merge them. Oddly enough, as they are in the shadow file, the program is called 'unshadow'\n",
    "\n",
    "> unshadow [/etc/passwd file] [/etc/shadow file] > johnready\n",
    "\n",
    "you can now pass the \"johnready\" file to john as per standard\n",
    "\n",
    "<hr>\n",
    "\n",
    "### Zip & Rar\n",
    "These 2 have been thrown together as they are basically the same thing. Samae as with Linux passwords, they need to be converted\n",
    "\n",
    "> zip2john [options] [zip file] > johnready <br>\n",
    "> rar2john [options] [rar file] > johnready\n",
    "\n",
    "Again, the \"johnready\" file can now be passed to john directly\n",
    "\n",
    "<hr>\n",
    "\n",
    "### SSH\n",
    "This should be looking familiar by now, we have zip2john, rar2john, and now ssh2john. This one doesnt come standard though (unless you're on kali). Its also a python script (run in the python environment) so you'll need to have python installed too... which I'm sure you do by now. If you're on kali, its here:\n",
    "\n",
    "> python /usr/share/john/ssh2john.py [id_rsa file]\n",
    "\n",
    "This gives the passPHRASE, not passWORD."
   ]
  },
  {
   "cell_type": "code",
   "execution_count": null,
   "id": "84d9518e-bdef-4b3f-aa9a-742513202c99",
   "metadata": {},
   "outputs": [],
   "source": []
  }
 ],
 "metadata": {
  "kernelspec": {
   "display_name": "Python 3 (ipykernel)",
   "language": "python",
   "name": "python3"
  },
  "language_info": {
   "codemirror_mode": {
    "name": "ipython",
    "version": 3
   },
   "file_extension": ".py",
   "mimetype": "text/x-python",
   "name": "python",
   "nbconvert_exporter": "python",
   "pygments_lexer": "ipython3",
   "version": "3.10.2"
  }
 },
 "nbformat": 4,
 "nbformat_minor": 5
}
