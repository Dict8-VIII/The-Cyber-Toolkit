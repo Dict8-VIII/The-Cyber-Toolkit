{
 "cells": [
  {
   "cell_type": "markdown",
   "id": "a7a0b596-7db7-40a6-96a5-7a06b5689e52",
   "metadata": {},
   "source": [
    "# Yara\n",
    "\n",
    "Yet Another Ridiculous Acronym.... I think I'm going to like this software :-)<br>\n",
    "\n",
    "<hr>\n"
   ]
  },
  {
   "cell_type": "markdown",
   "id": "248f2119-f8fb-4c21-b0dc-57abddd1d3aa",
   "metadata": {},
   "source": [
    "## The Basics\n",
    "\n",
    "### What Is Yara?\n",
    "\n",
    "Yara is a defensive software that can be used to analyse 'data' to assist with detection of possible threats. In this case, data refers to 'files'. This is achieved via pattern matching.\n",
    "\n",
    "<hr>\n",
    "\n",
    "### Installation\n",
    "\n",
    "Standard for linux:\n",
    "> sudo apt install yara\n",
    "\n",
    "For everyone else, visit the repo on Github: https://github.com/virustotal/yara/releases\n",
    "\n",
    "<hr>\n",
    "\n",
    "### How Does it Work?\n",
    "\n",
    "Yara is a system to create rules in the file system. It can also run these rules against a defined directory. In general,  you create a group of rules and then use these to 'audit' a destination as required. There are many rules available publicly, we'll get to this a bit shortly.<br>\n",
    "\n",
    "The rules themselves are quite simple, however the strength of Yara is how these rules are applied by the technical team. A rule itself is a file, and must also include a 'destination. This can be a path, directory or ProcessID. The format is:\n",
    "\n",
    "> yara [rule].yar [destination]\n",
    "\n",
    "\n",
    "A .yar file is a rule file. When the rule is 'met', it reports with the name of the rule defined in the file. An example rule, shown below, is taken from [https://tryhackme.com/room/yara](TryHackMe's Yara Room)\n",
    "\n",
    "![Yara_BasicRule.png](..\\images\\Tools\\Yara_BasicRule.png)\n",
    "\n",
    "<hr>\n"
   ]
  },
  {
   "cell_type": "markdown",
   "id": "59c55f9a-a917-4035-92c9-45d9259056e7",
   "metadata": {},
   "source": [
    "## Rules\n",
    "\n",
    "The rule file can be populated with many different kinds of 'checks', he full list of rules can be found [here](https://yara.readthedocs.io/en/stable/writingrules.html)<br>\n",
    "\n",
    "On the rules note, there also a great infograph available: https://blog.securitybreak.io/security-infographics-9c4d3bd891ef#18dd\n",
    "\n",
    "![Yara_BasicRule.png](https://miro.medium.com/max/1400/1*gThGNPenpT-AS-gjr8JCtA.png)\n",
    "\n",
    "<hr>"
   ]
  },
  {
   "cell_type": "markdown",
   "id": "480dae1c-f920-4d59-b7cd-5b7152b82c8c",
   "metadata": {},
   "source": [
    "## The Expansion Packs\n",
    "\n",
    "So, we've covered the basics about Yara, but Yara also has a lot of friends that really help it shine. Oddly enough, these are all by the same person. Thanks :-). Each of these could be their own page, but I dont know enough about them... yet...\n",
    "\n",
    "### LOKI\n",
    "\n",
    "### THOR\n",
    "\n",
    "### FENRIR\n",
    "\n",
    "### YAYA\n",
    "\n",
    "### YarGen"
   ]
  }
 ],
 "metadata": {
  "kernelspec": {
   "display_name": "Python 3 (ipykernel)",
   "language": "python",
   "name": "python3"
  },
  "language_info": {
   "codemirror_mode": {
    "name": "ipython",
    "version": 3
   },
   "file_extension": ".py",
   "mimetype": "text/x-python",
   "name": "python",
   "nbconvert_exporter": "python",
   "pygments_lexer": "ipython3",
   "version": "3.10.5"
  }
 },
 "nbformat": 4,
 "nbformat_minor": 5
}
