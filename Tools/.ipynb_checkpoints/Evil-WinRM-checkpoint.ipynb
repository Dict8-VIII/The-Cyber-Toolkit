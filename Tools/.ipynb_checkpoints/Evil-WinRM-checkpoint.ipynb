{
 "cells": [
  {
   "cell_type": "markdown",
   "id": "7038a8ca-c5f2-4814-9293-27f676ba89c2",
   "metadata": {},
   "source": [
    "# Evil-WinRM\n",
    "\n",
    "## Install\n",
    "\n",
    "> sudo apt install evil-winrm\n",
    "\n",
    "## Launch\n",
    "\n",
    "> evil-winrm -h\n",
    "\n",
    "![EvilWinRM_Example.png](../images/Tools/EvilWinRM_Example.png)"
   ]
  }
 ],
 "metadata": {
  "kernelspec": {
   "display_name": "Python 3 (ipykernel)",
   "language": "python",
   "name": "python3"
  },
  "language_info": {
   "codemirror_mode": {
    "name": "ipython",
    "version": 3
   },
   "file_extension": ".py",
   "mimetype": "text/x-python",
   "name": "python",
   "nbconvert_exporter": "python",
   "pygments_lexer": "ipython3",
   "version": "3.10.5"
  }
 },
 "nbformat": 4,
 "nbformat_minor": 5
}
