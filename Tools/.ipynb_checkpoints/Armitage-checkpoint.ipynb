{
 "cells": [
  {
   "cell_type": "markdown",
   "id": "a957a910-3b41-410e-b346-9282900fe712",
   "metadata": {},
   "source": [
    "# Armitage\n",
    "\n",
    "\n",
    "\n",
    "## Install\n",
    "https://tryhackme.com/room/introtoc2 Task 4\n",
    "\n",
    "> git clone https://gitlab.com/kalilinux/packages/armitage.git && cd armitage <br>\n",
    "> bash package.sh\n",
    "\n",
    "Files should now be in ./release/unix/"
   ]
  }
 ],
 "metadata": {
  "kernelspec": {
   "display_name": "Python 3 (ipykernel)",
   "language": "python",
   "name": "python3"
  },
  "language_info": {
   "codemirror_mode": {
    "name": "ipython",
    "version": 3
   },
   "file_extension": ".py",
   "mimetype": "text/x-python",
   "name": "python",
   "nbconvert_exporter": "python",
   "pygments_lexer": "ipython3",
   "version": "3.10.5"
  }
 },
 "nbformat": 4,
 "nbformat_minor": 5
}
