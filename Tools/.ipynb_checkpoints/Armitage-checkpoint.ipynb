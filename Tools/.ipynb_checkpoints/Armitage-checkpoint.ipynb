{
 "cells": [
  {
   "cell_type": "markdown",
   "id": "a957a910-3b41-410e-b346-9282900fe712",
   "metadata": {},
   "source": [
    "# Armitage\n",
    "\n",
    "## Install\n",
    "https://tryhackme.com/room/introtoc2 Task 4\n",
    "\n",
    "> git clone https://gitlab.com/kalilinux/packages/armitage.git && cd armitage <br>\n",
    "> bash package.sh\n",
    "\n",
    "\n",
    "![Armitage_Clone.png](../images/Tools/Armitage_Clone.png)<br>\n",
    "![Armitage_Build.png](../images/Tools/Armitage_Build.png)<br>\n",
    "\n",
    "Files should now be in ./release/unix/<br>\n",
    "![Armitage_Built.png](../images/Tools/Armitage_Built.png)<br>\n",
    "\n",
    "The fun files here are:\n",
    "- TeamServer: Creates a server for the team to use. It must be passed<br>\n",
    "  - IP address<br>\n",
    "  - Shared Password<br>\n",
    "- Armitage: Used to connect to a server. It gives you a screen to log in with. THe username is a 'nickname'<br>\n",
    "\n",
    "> this is actually in the kali repos now, can jsut install armitage<br>\n",
    "> same with teamserver\n",
    "\n",
    "just... use the built in one... I had so many issues connecting\n",
    "\n",
    "<hr>\n",
    "\n",
    "### Prepare The Environment\n",
    "\n",
    "Since it uses metasploit, make sure its all worky<br>\n",
    "- Start the DB\n",
    "  - sudo systemctl start postgresqla\n",
    "- Clear the DB<br>\n",
    "  - sudo msfdb delete<br>\n",
    "- ReInitialise<br>\n",
    "  - sudo msfdb init<br>\n",
    "\n",
    "\n",
    "<hr>\n"
   ]
  },
  {
   "cell_type": "markdown",
   "id": "b400dcb9-18e5-4d62-a8ae-ff942891889a",
   "metadata": {},
   "source": [
    "## Start & connect\n",
    "\n",
    "Make sure youre in the right directory:<br>\n",
    "- sudo teamserver [ip] [password]<br>\n",
    "  - Open a new terminal<br>\n",
    "- armitage<br>\n",
    "  - teamserver gives the logins, use msf as your user and the above password<br>\n",
    "  \n",
    "\n",
    "\n"
   ]
  },
  {
   "cell_type": "code",
   "execution_count": null,
   "id": "b92f1b56-d153-4141-a173-05a5bcbf3da9",
   "metadata": {},
   "outputs": [],
   "source": []
  }
 ],
 "metadata": {
  "kernelspec": {
   "display_name": "Python 3 (ipykernel)",
   "language": "python",
   "name": "python3"
  },
  "language_info": {
   "codemirror_mode": {
    "name": "ipython",
    "version": 3
   },
   "file_extension": ".py",
   "mimetype": "text/x-python",
   "name": "python",
   "nbconvert_exporter": "python",
   "pygments_lexer": "ipython3",
   "version": "3.10.5"
  }
 },
 "nbformat": 4,
 "nbformat_minor": 5
}
