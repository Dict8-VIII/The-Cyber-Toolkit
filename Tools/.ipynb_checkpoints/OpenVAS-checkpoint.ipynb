{
 "cells": [
  {
   "cell_type": "markdown",
   "id": "83f039d3-e3f9-46d6-937d-df196f9130ac",
   "metadata": {},
   "source": [
    "# OpenVAS\n",
    "\n",
    "THM Room : https://tryhackme.com/room/openvas\n",
    "\n",
    "Web App and endpoint scanner for vulnerabilities.\n",
    "Part of GreenBone Vulnerability Management solution.\n",
    "\n",
    "\n",
    "Taken from : https://tryhackme.com/room/openvasTaken \n",
    "\n",
    "![GVM_Framework.png](../images/Tools/GVM_Framework.png)\n",
    "\n"
   ]
  },
  {
   "cell_type": "markdown",
   "id": "74d2c3e6-669c-45f5-9d08-ee20717d5170",
   "metadata": {},
   "source": [
    "## Installation\n",
    "\n",
    "From Repos:\n",
    "https://websiteforstudents.com/how-to-install-and-configure-openvas-on-ubuntu-18-04-16-04/\n",
    "https://www.agix.com.au/installing-openvas-on-kali-in-2020/\n",
    "\n",
    "From Source:\n",
    "https://github.com/greenbone/openvas-scanner/blob/master/INSTALL.md\n",
    "\n",
    "For Docker (prefered)\n",
    "https://github.com/mikesplain/openvas-docker\n",
    "https://hub.docker.com/r/mikesplain/openvas/dockerfile\n",
    "\n",
    "> apt install docker.io<br>\n",
    "> docker run -d -p 443:443 --name openvas mikesplain/openvas\n",
    "\n",
    "Can then open in 127.0.0.1 (browser)<br>\n",
    "Default credentails admin/admin\n",
    "\n",
    "<hr>"
   ]
  },
  {
   "cell_type": "markdown",
   "id": "79188f21-586e-40f4-8739-d26647b7991c",
   "metadata": {},
   "source": [
    "## Intial Config / Basic scan\n",
    "\n",
    "Scans > Tasks and click purple wand to set up a scan.<br>\n",
    "Scans > reports to see progress and prev reports <br>\n",
    "\n",
    "run against 127.0.0.1 to test\n",
    "\n"
   ]
  }
 ],
 "metadata": {
  "kernelspec": {
   "display_name": "Python 3 (ipykernel)",
   "language": "python",
   "name": "python3"
  },
  "language_info": {
   "codemirror_mode": {
    "name": "ipython",
    "version": 3
   },
   "file_extension": ".py",
   "mimetype": "text/x-python",
   "name": "python",
   "nbconvert_exporter": "python",
   "pygments_lexer": "ipython3",
   "version": "3.10.5"
  }
 },
 "nbformat": 4,
 "nbformat_minor": 5
}
