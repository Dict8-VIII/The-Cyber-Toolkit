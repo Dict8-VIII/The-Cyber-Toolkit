{
 "cells": [
  {
   "cell_type": "markdown",
   "id": "2bd15ea3-ab0c-4eea-be36-292785866376",
   "metadata": {},
   "source": [
    "# PowerShell\n",
    "\n",
    "Powershell is a mix of a scripting language and shell that is used in the Windows OS(s). It consists of a number of commandlets (cmdlets) that are written in .NET. Cmdlets are generally in the structure verb-subject (or verb-noun). One of my favourite, Test-NetConnection (tnc) has the verb \"test\" with the subject \"NetConnection\". Cmdlets can also be piped | to each other.<br>\n",
    "\n",
    "The 2 most common verbs are Get and Set, however this is by no means exhaustive. Theres even a list of what is allowed [here](https://docs.microsoft.com/en-us/powershell/scripting/developer/cmdlet/approved-verbs-for-windows-powershell-commands?view=powershell-7) <br>\n",
    "\n",
    "You may notice above I had Test-NetConnection as tnc. This isn't (just) me being lazy, its known as an alias in powershell and is a perfectly lazy / legitimate way to write a cmdlet. I'd probably avoid this when starting out though, an alias is not as readable as the full cmdlet name and can introduce distractions.\n",
    "\n",
    "<hr>"
   ]
  },
  {
   "cell_type": "markdown",
   "id": "6f336556-13e3-4819-bdbe-dfb088cbb6c4",
   "metadata": {},
   "source": [
    "## Basic Examples\n",
    "\n",
    "### Get-Help\n",
    "If you're stuck, the most obvious point to start is Get-Help. This could be likened to the man command in linux. For my example command above, the syntax is:\n",
    "> Get-Help tnc\n",
    "\n",
    "### Get-Command\n",
    "Up next, the Get-Command lists all the commands on the machine, Including Alias, cmdlets, functions etc (theres probably a lot).\n",
    "> Get-Command\n",
    "\n",
    "You can provide arguements to the command however, to filter by verb or command. For example, to get all \"Test\" verbs:\n",
    "> Get-Command Test-*\n",
    "\n",
    "Alternatively, all \"NetConnection\" commands (theres only one of these though)\n",
    "> Get-Command *-NetConnection\n",
    "\n",
    "If you know the alias but want the full command, you can always just provide the alias too\n",
    "> Get-Command tnc\n",
    "\n",
    "### Get-ChildItem\n",
    "The name isnt the clearest for this one, but simply it gets the children of the current object. If you run this without any arguements, it prints the current directory contents. You can use this as a search however (the * will get all files, replace with the name you're after. You can include wildcards too (and I suggest adding this at each end).\n",
    "> Get-ChildItem -Path \"C:\\\" -File \"*\" -Recurse\n",
    "\n",
    "### Get-Content\n",
    "So you've found a file, but now you want to see it. \n",
    "> Get-Content file.txt\n",
    "\n",
    "### Get-FileHash\n",
    "Because we check this sort of thing... It defaults to the SHA256 Hash but can be modified. MD5 example below.\n",
    "> Get-FileHash file.txt -Algorithm MD5\n",
    "\n",
    "### Counting Results\n",
    "What if you want to count the number of records? This can be done by encasing the command in brackets and calling the count method\n",
    "> (Get-Command Test-*).count\n",
    "\n"
   ]
  },
  {
   "cell_type": "markdown",
   "id": "fcd8ba33-09f4-4bdd-8406-908c16ff3024",
   "metadata": {},
   "source": [
    "## Piping Cmdlets\n",
    "Every result from a cmdlet is an 'object', and in .NET, objects include methods. What we see in cmdlet output is a table, but this is really just a way to display what has been found in a way we can understand.\n",
    "\n",
    "### Filtering\n",
    "As the result is an object, we can filter on the property. For example, if we wanted all commands under the NetTCPIP group:\n",
    "> Get-Command | Where-Object Source -eq NetTCPIP\n",
    "\n",
    "Or, If we wanted to remove a source (because it spamms everything)\n",
    "> Get-Command | Where-Object Source -ne AWSPowerShell\n",
    "\n",
    "The -eq is 'equal', we also have -GT / -LT, -Contains, -cLike (you need this one for *) etc. [Theres more.](https://docs.microsoft.com/en-us/powershell/module/microsoft.powershell.core/where-object?view=powershell-6)\n",
    "\n"
   ]
  }
 ],
 "metadata": {
  "kernelspec": {
   "display_name": "Python 3 (ipykernel)",
   "language": "python",
   "name": "python3"
  },
  "language_info": {
   "codemirror_mode": {
    "name": "ipython",
    "version": 3
   },
   "file_extension": ".py",
   "mimetype": "text/x-python",
   "name": "python",
   "nbconvert_exporter": "python",
   "pygments_lexer": "ipython3",
   "version": "3.8.1"
  }
 },
 "nbformat": 4,
 "nbformat_minor": 5
}
