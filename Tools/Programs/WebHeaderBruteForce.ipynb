{
 "cells": [
  {
   "cell_type": "code",
   "execution_count": null,
   "metadata": {},
   "outputs": [],
   "source": [
    "# A Bruteforce software for html headers (because burp is too slow)\n",
    "# Part of The-Cyber-Toolkit\n",
    "# V0.0\n",
    "\n",
    "# Planned features\n",
    "# Provide URL, and example page in .txt format (with replacement character on each side)\n",
    "# Provide wordlist, one per line\n",
    "# Import the headers, replacing with special char\n",
    "\n",
    "\n",
    "# Simple Example, defined page and replace location\n",
    "\n",
    "import requests\n",
    "\n",
    "wordlist = open(input(\"Where is your wordlist?: \") or \"/usr/share/wordlists/seclists/Usernames/Names/names.txt\")\n",
    "target = input(\"What is the target URL?: \")\n",
    "responses_to_ignore = [200]\n",
    "\n",
    "print(\"\\nWordlist:\", wordlist)\n",
    "print(\"TargetURL:\", target)\n",
    "\n",
    "loopcount = 0\n",
    "for word in wordlist:\n",
    "    loopcount += 1\n",
    "    head_params = {\n",
    "    \"Host\" : \"127.0.0.1\",\n",
    "    \"User-Agent\" : str(word)[:-1],\n",
    "    \"Accept\" : \"text/html,application/xhtml+xml,application/xml;q=0.9,image/webp,*/*;q=0.8\",\n",
    "    \"Accept-Language\" : \"en-US\",\n",
    "    \"Accept-Encoding\" : \"gzip, deflate\",\n",
    "    \"Connection\" : \"Close\",\n",
    "    \"Upgrade-Insecure-Requests\" : \"1\",\n",
    "\n",
    "    }\n",
    "    r = requests.get(target, headers=head_params)\n",
    "    if r.status_code in responses_to_ignore:\n",
    "        print(loopcount, \":\", word)\n",
    "    else:\n",
    "        print(\"found in:\", loopcount)\n",
    "        print(\"ResponseCode:\", r.status_code)\n",
    "        print(\"Word from Wordlist:\", word)\n",
    "print(\"END\")\n",
    "\n"
   ]
  },
  {
   "cell_type": "markdown",
   "metadata": {},
   "source": [
    "GET / HTTP/1.1\n",
    "\n",
    "Host: 10.10.164.155\n",
    "\n",
    "User-Agent: Mozilla/5.0 (X11; Linux x86_64; rv:91.0) Gecko/20100101 Firefox/91.0\n",
    "\n",
    "Accept: text/html,application/xhtml+xml,application/xml;q=0.9,image/webp,*/*;q=0.8\n",
    "\n",
    "Accept-Language: en-US,en;q=0.5\n",
    "\n",
    "Accept-Encoding: gzip, deflate\n",
    "\n",
    "Connection: close\n",
    "\n",
    "Upgrade-Insecure-Requests: 1\n",
    "\n",
    "Cache-Control: max-age=0\n",
    "\n",
    "\n",
    "\n"
   ]
  }
 ],
 "metadata": {
  "language_info": {
   "name": "python"
  },
  "orig_nbformat": 4
 },
 "nbformat": 4,
 "nbformat_minor": 2
}
