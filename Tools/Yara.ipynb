{
 "cells": [
  {
   "cell_type": "markdown",
   "id": "a7a0b596-7db7-40a6-96a5-7a06b5689e52",
   "metadata": {},
   "source": [
    "# Yara\n",
    "\n",
    "Yet Another Ridiculous Acronym.... I think I'm going to like this software :-)<br>\n",
    "\n",
    "<hr>\n"
   ]
  },
  {
   "cell_type": "markdown",
   "id": "248f2119-f8fb-4c21-b0dc-57abddd1d3aa",
   "metadata": {},
   "source": [
    "## The Basics\n",
    "\n",
    "### What Is Yara?\n",
    "\n",
    "Yara is a defensive software that can be used to analyse 'data' to assist with detection of possible threats. In this case, data refers to 'files'. This is achieved via pattern matching.\n",
    "\n",
    "<hr>\n",
    "\n",
    "### Installation\n",
    "\n",
    "Standard for linux:\n",
    "> sudo apt install yara\n",
    "\n",
    "For everyone else, visit the repo on Github: https://github.com/virustotal/yara/releases\n",
    "\n",
    "<hr>\n",
    "\n",
    "### How Does it Work?\n",
    "\n",
    "Yara is a system to create rules in the file system. It can also run these rules against a defined directory. In general, it looks like you create a group of rules and then use these to 'audit' a destination as required.\n",
    "\n",
    "<br>\n",
    "\n",
    "The rules themselves are quite simple, however the strength of Yara is how these rules are applied by the technical team. A rule itself is a file, and must also include a 'destination. This can be a path, directory or ProcessID. The format is:\n",
    "\n",
    "> yara [rule].yar [destination]\n",
    "\n",
    "\n",
    "A .yar file is a rule file. When the rule is 'met', it reports with the name of the rule defined in the file. An example rule, shown below, is taken from [https://tryhackme.com/room/yara](TryHackMe's Yara Room)\n",
    "\n",
    "![Yara_BasicRule.png](..\\images\\Tools\\Yara_BasicRule.png)\n",
    "\n",
    "<hr>\n"
   ]
  },
  {
   "cell_type": "markdown",
   "id": "59c55f9a-a917-4035-92c9-45d9259056e7",
   "metadata": {},
   "source": [
    "## Rules\n",
    "\n",
    "The full list of rules can be found [here](https://yara.readthedocs.io/en/stable/writingrules.html), but I will summarise some below."
   ]
  },
  {
   "cell_type": "code",
   "execution_count": null,
   "id": "a97ab261-aa17-4110-a936-a5198af5c86a",
   "metadata": {},
   "outputs": [],
   "source": []
  }
 ],
 "metadata": {
  "kernelspec": {
   "display_name": "Python 3 (ipykernel)",
   "language": "python",
   "name": "python3"
  },
  "language_info": {
   "codemirror_mode": {
    "name": "ipython",
    "version": 3
   },
   "file_extension": ".py",
   "mimetype": "text/x-python",
   "name": "python",
   "nbconvert_exporter": "python",
   "pygments_lexer": "ipython3",
   "version": "3.10.5"
  }
 },
 "nbformat": 4,
 "nbformat_minor": 5
}
