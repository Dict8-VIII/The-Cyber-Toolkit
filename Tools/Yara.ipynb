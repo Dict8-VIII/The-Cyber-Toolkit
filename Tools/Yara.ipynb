{
 "cells": [
  {
   "cell_type": "markdown",
   "id": "a7a0b596-7db7-40a6-96a5-7a06b5689e52",
   "metadata": {},
   "source": [
    "# Yara\n",
    "\n",
    "Yet Another Ridiculous Acronym.... I think I'm going to like this software :-)<br>\n",
    "\n",
    "<hr>"
   ]
  },
  {
   "cell_type": "markdown",
   "id": "248f2119-f8fb-4c21-b0dc-57abddd1d3aa",
   "metadata": {},
   "source": [
    "## The Basics\n",
    "\n",
    "### What Is Yara?\n",
    "\n",
    "Yara is a defensive software that can be used to analyse 'data' to assist with detection of possible threats. In this case, data refers to 'files'. This is achieved via pattern matching.\n",
    "\n",
    "<hr>\n",
    "\n",
    "### Installation\n",
    "\n",
    "Standard for linux:\n",
    "> sudo apt install yara\n",
    "\n",
    "For everyone else, visit the repo on Github: https://github.com/virustotal/yara/releases\n",
    "\n",
    "<hr>\n",
    "\n",
    "### How Does it Work?\n",
    "\n",
    "Yara is a system to create rules in the file system. The rules themselves are quite simple, however the strength of Yara is how these rules are applied by the technical team.\n"
   ]
  },
  {
   "cell_type": "code",
   "execution_count": null,
   "id": "860e339d-509f-4156-ab38-d1156b5d80ff",
   "metadata": {},
   "outputs": [],
   "source": []
  }
 ],
 "metadata": {
  "kernelspec": {
   "display_name": "Python 3 (ipykernel)",
   "language": "python",
   "name": "python3"
  },
  "language_info": {
   "codemirror_mode": {
    "name": "ipython",
    "version": 3
   },
   "file_extension": ".py",
   "mimetype": "text/x-python",
   "name": "python",
   "nbconvert_exporter": "python",
   "pygments_lexer": "ipython3",
   "version": "3.10.5"
  }
 },
 "nbformat": 4,
 "nbformat_minor": 5
}
