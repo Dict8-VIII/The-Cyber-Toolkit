{
 "cells": [
  {
   "cell_type": "markdown",
   "id": "9d2c6ec4-bbec-466a-bb09-9c92a7785882",
   "metadata": {},
   "source": [
    "# Splunk\n",
    "\n",
    "## Installation\n",
    "\n",
    "1. Head to https://www.splunk.com/ and create a free account\n",
    "2. Download from the same location (or wget, they provide a nice link)\n",
    "3. Chmod +x [file]\n",
    "4. Install\n",
    "> sudo dpkg -i [file]\n",
    "5. Its now installed in /opt/splunk\n",
    "6. Can now launch by running the below in the /opt/splunk/bin directory (need sudo on first run)\n",
    "> ./splunk start --accept-license\n",
    "7. You'll be asked for the first admin account. Default is 'admin' with your password\n",
    "8. Your service is now started at localhost:8000\n",
    "\n",
    "<hr>"
   ]
  },
  {
   "cell_type": "markdown",
   "id": "adf9c89a-80b8-472a-903b-979dac804b7a",
   "metadata": {},
   "source": [
    "## Splunk Components\n",
    "\n",
    "Splunk consists of 3 components, the Indexer, Search and Forwarder.\n",
    "\n",
    "### Forwarder\n",
    "The forwarder is simply an agent that is installed on the endpoint to be monitored. It is very lightweight and forwards events to the Splunk server. End points include\n",
    "- A web server generating/recieving web traffic\n",
    "- A windows machine with Event Logs, sysmon, powershell etc\n",
    "- A linux host with its internal logs\n",
    "- A DB server with requests, responses and errors\n",
    "\n",
    "### Indexer\n",
    "The indexer processes the data it recieves and converts it to a standard format (normalising). This includes creating Key/Value pairs, determining the data type and storage to its internal DB. This is in preparation for the next component.\n",
    "\n",
    "### Search (Search Head)\n",
    "Well whats the point in all of this data if you can't search it or apply other rules? This is where the search head comes in. It can also convert the data for visualistions, export and other such tasks.\n",
    "\n",
    "<hr>"
   ]
  },
  {
   "cell_type": "markdown",
   "id": "6a8c53d7-b589-443a-949d-2abf69e23779",
   "metadata": {},
   "source": [
    "## Navigation\n",
    "\n",
    "### Home Page\n",
    "\n",
    "The home page is quite straight forward. The bar at the top is refered to as the \"Splunk Bar\". The Navigation bar on the Left is the \"Apps Panel\".<br>\n",
    "![Splunk_HomePage.png](../../images/Tools/BlueTeam/Splunk_HomePage.png)<br>\n",
    "\n",
    "The main section above (the \"explore splunk\") can be replaced with a default dashboard. THe Dashboard studio can assist with this (or just update your splunk versions and you can see it on the home page)\n",
    "\n",
    "<hr>"
   ]
  },
  {
   "cell_type": "markdown",
   "id": "d4d4f0d0-d634-4be5-a061-b1804cd445a5",
   "metadata": {},
   "source": [
    "## SPL - Search Programming Language\n",
    "\n",
    "SPL Consists of 5 components\n",
    "1. Search Terms\n",
    "2. Commands\n",
    "3. Functions\n",
    "4. Arguements\n",
    "5. Clauses\n",
    "\n",
    "When running a search, you can have one or more of these. The are separated by pipes in the search (as an AND)<br>\n",
    "\n",
    "### Search Terms\n",
    "\n",
    "Wildcard * are supported <br>\n",
    "Boolean (AND, OR, NOT) are supported <br>\n",
    "\"Quotes\" are supported <br>\n",
    "Can escape quotes in search with a \\ <br>\n",
    "Can do () to make order of events (like (x and y) OR Z) <br>\n",
    "\n",
    "When you search, it reads results into ram. Each command is a separate query so results are 'cleared' when removed.<br>\n",
    "\n",
    "### Piping\n",
    "Once you have created your search, you will want to filter the results or display them in a readable way.\n",
    "\n",
    "- RENAME : renames a table result\n",
    "- DEDUP : removes duplicates based on a key (or key column)\n",
    "- FIELDS : only show the specific fields from the results\n",
    "- TABLE : show a table of the specified fields\n",
    "- Sort : sort by a field (such as time). You can also reverse the order by Sort -time (for example)\n",
    "\n",
    "<hr>"
   ]
  },
  {
   "cell_type": "markdown",
   "id": "fc43a687-132b-474a-924a-548ce2aa95a0",
   "metadata": {},
   "source": [
    "## User Accounts\n",
    "Theres multiple leves for the web portal. Main ones are Power and User.<br>\n",
    "The default account is setup during first run (above)"
   ]
  }
 ],
 "metadata": {
  "kernelspec": {
   "display_name": "Python 3 (ipykernel)",
   "language": "python",
   "name": "python3"
  },
  "language_info": {
   "codemirror_mode": {
    "name": "ipython",
    "version": 3
   },
   "file_extension": ".py",
   "mimetype": "text/x-python",
   "name": "python",
   "nbconvert_exporter": "python",
   "pygments_lexer": "ipython3",
   "version": "3.10.5"
  }
 },
 "nbformat": 4,
 "nbformat_minor": 5
}
