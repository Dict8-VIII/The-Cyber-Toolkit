{
 "cells": [
  {
   "attachments": {},
   "cell_type": "markdown",
   "id": "c6ab85d1-04ca-44cc-b97a-2b072a7a5789",
   "metadata": {},
   "source": [
    "# Snort\n",
    "\n",
    "https://tryhackme.com/r/room/snort\n",
    "\n",
    "![Snort_THMRules.png](../../../images/Tools/BlueTeam/Snort_THMRules.png)\n",
    "\n",
    "general command structure\n",
    "\n",
    "snort -c <rules file> -l <log directory> -K ASCII (if you want it readable)"
   ]
  },
  {
   "cell_type": "code",
   "execution_count": null,
   "id": "7c7413c9-1c1b-4dde-85f2-20fec591af4d",
   "metadata": {},
   "outputs": [],
   "source": []
  }
 ],
 "metadata": {
  "kernelspec": {
   "display_name": "Python 3 (ipykernel)",
   "language": "python",
   "name": "python3"
  },
  "language_info": {
   "codemirror_mode": {
    "name": "ipython",
    "version": 3
   },
   "file_extension": ".py",
   "mimetype": "text/x-python",
   "name": "python",
   "nbconvert_exporter": "python",
   "pygments_lexer": "ipython3",
   "version": "3.11.4"
  }
 },
 "nbformat": 4,
 "nbformat_minor": 5
}
