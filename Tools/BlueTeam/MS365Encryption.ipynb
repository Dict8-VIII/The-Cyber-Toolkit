{
 "cells": [
  {
   "cell_type": "markdown",
   "id": "a96236b6-56e1-452d-be8e-91008d66f12b",
   "metadata": {},
   "source": [
    "# Microsoft 365 Encryption\n",
    "This page is built from Microsoft documentation, so take it with a grain of salt....\n",
    "\n",
    "<hr>"
   ]
  },
  {
   "cell_type": "markdown",
   "id": "ed4b9f4b-bb08-4df1-ac74-970cc9d04537",
   "metadata": {},
   "source": [
    "## At Rest\n",
    "\n",
    "### Bitlocker\n",
    "- Full disk encryption (using the Full Volumne Encryption Key FVEK)\n",
    "- Volume Master Key (VMK) encrypts the FVEK\n",
    "- The VMK is bound to the Trusted Platform Module (TPM)\n",
    "\n",
    "Two key management categories\n",
    "- Bitlocker Managed. Bound to the installed OS (instance), lost during re-install or formatting\n",
    "- Bitlocker Recovery Keys. Used for disk decryption where the OS was re-installed but other drives are still encrypted.\n",
    "\n",
    "### Service Level\n",
    "Exchange online, teams, sharepoint online & onedrive. These use additional keys exclusive to a tenant. These can be managed by Microsoft (Microsoft Managed Keys) or Customer Keys, where a root key is proivided. \n",
    "\n",
    "### Microsoft Managed Keys\n",
    "The keys are rotated automatically and stored in private key vaults that can only be accessed by services. Employees cannot access these keys.\n",
    "\n",
    "### Customer Keys\n",
    "Managed by the customer. MS still has accss to an 'availability key', which can be sen as a recovery key. The customer has full control to remove this key as needed. The availability key is also used if the customer root keys cannot be reached (and there is no message to say they are disabled).\n",
    "<hr>"
   ]
  },
  {
   "cell_type": "markdown",
   "id": "cb60b708-1b0e-4d32-9e5a-959c3d82d6c5",
   "metadata": {},
   "source": [
    "## In Transit\n",
    "\n",
    "Microsoft manages their own Certificate Authority which issues SHA2(RSA) with length 2048. "
   ]
  }
 ],
 "metadata": {
  "kernelspec": {
   "display_name": "Python 3 (ipykernel)",
   "language": "python",
   "name": "python3"
  },
  "language_info": {
   "codemirror_mode": {
    "name": "ipython",
    "version": 3
   },
   "file_extension": ".py",
   "mimetype": "text/x-python",
   "name": "python",
   "nbconvert_exporter": "python",
   "pygments_lexer": "ipython3",
   "version": "3.11.4"
  }
 },
 "nbformat": 4,
 "nbformat_minor": 5
}
