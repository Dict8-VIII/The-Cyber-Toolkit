{
 "cells": [
  {
   "cell_type": "markdown",
   "id": "69c5dca5-6be4-47e7-9235-fe5435454755",
   "metadata": {},
   "source": [
    "# Kusto Detective Agency Season 1 (Challenge 4)"
   ]
  },
  {
   "cell_type": "markdown",
   "id": "532340a9-0432-4514-8e3c-908d2b79e3f0",
   "metadata": {},
   "source": [
    "## Part 1\n",
    "This is the first challenge where we are split to multiple parts."
   ]
  },
  {
   "cell_type": "raw",
   "id": "b8234cd6-0dad-4ded-974d-c9c50766685b",
   "metadata": {},
   "source": [
    "Primes\n",
    "| sort by Numbers desc\n",
    "| where Numbers < 50000000\n",
    "| project Numbers, previous = prev(Numbers)\n",
    "| project Numbers, previous, total = Numbers + previous + 1\n",
    "| join kind=inner Primes on $left.total == $right.Numbers\n",
    "| sort by total"
   ]
  },
  {
   "cell_type": "markdown",
   "id": "ee5fbce9-0c2f-42b3-88c5-36477edca1ac",
   "metadata": {},
   "source": [
    "## Part 2\n",
    "We're running a bit off grid now, taking instructions from an unknown person. Surely theres some rules about this.... Anyways, this is all we're getting (along with some data to import)"
   ]
  },
  {
   "cell_type": "markdown",
   "id": "4b6be113-128e-43a8-bd0c-7a5afe445b22",
   "metadata": {},
   "source": [
    "Well done, my friend.\n",
    "It's time to meet. Let's go for a virtual sTREEt tour...\n",
    "Across the Big Apple city, there is a special place with Turkish Hazelnut and four Schubert Chokecherries within 66-meters radius area.\n",
    "Go 'out' and look for me there, near the smallest American Linden tree (within the same area).\n",
    "Find me and the bottom line: my key message to you.\n",
    "\n",
    "Cheers,\n",
    "El Puente."
   ]
  },
  {
   "attachments": {},
   "cell_type": "markdown",
   "id": "82c572ab-a1d3-4656-b930-4fe9cd8d06bd",
   "metadata": {},
   "source": [
    "### Investigating the Data\n",
    "\n",
    "As is tradition, lets grab the top few rows and take a look what we're working with.<br>\n",
    "![KDA_S1_C4_trees.png](../../../images/Tools/BlueTeam/KQL/KDA_S1_C4_trees.png)\n",
    "\n",
    "Final submission is the last line: wytaPUJM!PS:2,7,17,29,42,49,58,59,63\n",
    "<hr>"
   ]
  },
  {
   "cell_type": "markdown",
   "id": "d6de10f8-8355-4249-9d1f-75e581b174a9",
   "metadata": {},
   "source": [
    "## Completed Code\n",
    "\n",
    "### Part 1\n",
    "\n",
    "\n",
    "### Part 2\n",
    "\n",
    "Working out the correct cell<br>\n",
    "> nyc_trees<br>\r",
    "> \n",
    "| where spc_common in (\"'Schubert' chokecherry\", \"Turkish hazelnut\", \"American linden\"<br>)> \r\n",
    "| project tree_id, spc_common, tree_dbh, latitude, longitude, cell = geo_point_to_h3cell(longitude, latitude, 1<br>0> )\r\n",
    "| project tree_id, spc_common, cell, tree_<br>d> bh\r\n",
    "| summarize SC=countif(spc_common==\"'Schubert' chokecherry\"), TH=countif(spc_common==\"Turkish hazelnut\") by <br>c> ell\r\n",
    "| where SC==4 and<br>\n",
    "<br>\n",
    "\n",
    "Finding the tree<br>\n",
    "<br>\n",
    "> nyc_trees<br>\r",
    "> \n",
    "| where spc_common in (\"'Schubert' chokecherry\", \"Turkish hazelnut\", \"American linden\"<br>)> \r\n",
    "| project tree_id, spc_common, tree_dbh, latitude, longitude, cell = geo_point_to_h3cell(longitude, latitude, 1<br>0> )\r\n",
    "| where cell == \"8a2a100dec9f<br>f<br>\n",
    "> VirtualTourLink(40.71222313,-73.96452201)<br>\n",
    "\n",
    "Decoding the message\n",
    "\n",
    "> let code=@'20INznpGzmkmK2NlZ0JILtO4OoYhOoYUB0OrOoTl5mJ3KgXrB0[8LTSSXUYhzUY8vmkyKUYevUYrDgYNK07yaf7soC3kKgMlOtHkLt[kZEclBtkyOoYwvtJGK2YevUY[v65iLtkeLEOhvtNlBtpizoY[v65yLdOkLEOhvtNlDn5lB07lOtJIDmllzmJ4vf7soCpiLdYIK0[eK27soleqO6keDpYp2CeH5d\\F\\fN6aQT6aQL[aQcUaQc[aQ57aQ5[aQDG';<br>\r",
    "> \n",
    "let message = \"ASHES to ASHES\"<br>;> \r\n",
    "print Decrypt(code, messag<br>e)r>\n",
    " TH>0"
   ]
  },
  {
   "cell_type": "code",
   "execution_count": null,
   "id": "da7ed31f-9019-4b10-a822-2cae7780b5dc",
   "metadata": {},
   "outputs": [],
   "source": [
    ">"
   ]
  }
 ],
 "metadata": {
  "kernelspec": {
   "display_name": "Python 3 (ipykernel)",
   "language": "python",
   "name": "python3"
  },
  "language_info": {
   "codemirror_mode": {
    "name": "ipython",
    "version": 3
   },
   "file_extension": ".py",
   "mimetype": "text/x-python",
   "name": "python",
   "nbconvert_exporter": "python",
   "pygments_lexer": "ipython3",
   "version": "3.11.4"
  }
 },
 "nbformat": 4,
 "nbformat_minor": 5
}
