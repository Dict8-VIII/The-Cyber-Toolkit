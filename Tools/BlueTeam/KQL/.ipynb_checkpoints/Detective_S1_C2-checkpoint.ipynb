{
 "cells": [
  {
   "cell_type": "markdown",
   "id": "69c5dca5-6be4-47e7-9235-fe5435454755",
   "metadata": {},
   "source": [
    "# Kusto Detective Agency Season 1 (Challenge 2)\n",
    "\n",
    "In this challenge, we need to spot election fraud. There's 4 candidates but a highly suspicious victory...."
   ]
  },
  {
   "cell_type": "markdown",
   "id": "71201478-6063-4613-acac-b18a5180480d",
   "metadata": {},
   "source": [
    "## Solution\n",
    "\n",
    "### Investigating the Data\n",
    "We've brought in the Votes table, select the first 1000 to take a look\n",
    "> Votes\n",
    "> | top 1000 by timestamp\n",
    "\n"
   ]
  },
  {
   "cell_type": "markdown",
   "id": "36315a42-d9ed-4f31-9055-991b9530b9c0",
   "metadata": {},
   "source": [
    "## Final Script"
   ]
  },
  {
   "cell_type": "raw",
   "id": "062e3ca4-8d93-4d8c-9fdd-fd0926f3d65a",
   "metadata": {},
   "source": [
    "let fraud=Votes\n",
    "| where vote == 'Poppy'\n",
    "| summarize count() by via_ip, Length=bin(Timestamp, 1m)\n",
    "| where count_ > 10\n",
    "| summarize fake=sum(count_)\n",
    ";\n",
    "fraud //2499945\n",
    "\n",
    "Votes\n",
    "| summarize Kastor=countif(vote=='Kastor'), Gaul=countif(vote=='Gaul'), Poppy=countif(vote=='Poppy'), Willie=countif(vote=='Willie')\n",
    "| project K=Kastor, G=Gaul, P=(Poppy-2499945), W=Willie\n",
    "| project K, G, P, W, Total=K+G+P+W\n",
    "| project Kastor=todouble(K)*100/Total, Gaul=todouble(G)*100/Total, Poppy=todouble(P)*100/Total, Willie=todouble(W)*100/Total\n",
    "// remember these arent in the same order as the answer request!"
   ]
  }
 ],
 "metadata": {
  "kernelspec": {
   "display_name": "Python 3 (ipykernel)",
   "language": "python",
   "name": "python3"
  },
  "language_info": {
   "codemirror_mode": {
    "name": "ipython",
    "version": 3
   },
   "file_extension": ".py",
   "mimetype": "text/x-python",
   "name": "python",
   "nbconvert_exporter": "python",
   "pygments_lexer": "ipython3",
   "version": "3.11.4"
  }
 },
 "nbformat": 4,
 "nbformat_minor": 5
}
