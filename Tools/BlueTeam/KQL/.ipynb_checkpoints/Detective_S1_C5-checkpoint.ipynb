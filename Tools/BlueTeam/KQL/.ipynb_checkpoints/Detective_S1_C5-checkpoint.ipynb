{
 "cells": [
  {
   "cell_type": "markdown",
   "id": "69c5dca5-6be4-47e7-9235-fe5435454755",
   "metadata": {},
   "source": [
    "# Kusto Detective Agency Season 1 (Challenge 5)"
   ]
  },
  {
   "cell_type": "raw",
   "id": "9ca99783-3b77-43c1-80a6-045be62f0034",
   "metadata": {},
   "source": [
    "Finding the channel\n",
    "\n",
    "let users=ChatLogs\n",
    "//|top 100 by Timestamp\n",
    "| project Timestamp, Message, user=tostring(split(Message, '\\'',1)[0]),channel=tostring((split(Message, '\\'',3))), action=tostring(split(Message, '\\'',2))\n",
    "| where action == '[\" joined the channel \"]'\n",
    "| summarize channels=dcount(channel) by user\n",
    "| where channels == 1\n",
    "| project user\n",
    ";// users is the list of users who have only entered one channel\n",
    "// now I want the channels with only 4 users who have ever used them\n",
    "let channels=ChatLogs\n",
    "| project Timestamp, Message, user=tostring(split(Message, '\\'',1)[0]),channel=tostring((split(Message, '\\'',3))), action=tostring(split(Message, '\\'',2))\n",
    "//| where user in (users)\n",
    "| where action == '[\" joined the channel \"]'\n",
    "| distinct channel,user\n",
    "| summarize make_list(user) by channel\n",
    "| where array_length(list_user) == 4\n",
    "// where all list users are in 'users'\n",
    "| mv-expand list_user\n",
    "| where list_user in~ (users)\n",
    "| summarize list=make_list(list_user) by channel\n",
    "| where array_length(list)==4\n",
    "// channels where only 4 users and all have only joined the one channel\n",
    ";\n",
    "ChatLogs\n",
    "| project Timestamp, Message, user=tostring(split(Message, '\\'',1)[0]),channel=tostring((split(Message, '\\'',3))), action=tostring(split(Message, '\\'',2))\n",
    "| where channel in (channels)\n",
    "//cf053de3c7b - everyone joins, chats, then leaves at the same time\n",
    "\n",
    "/// NEW WINDOW\n",
    "let targets=ChatLogs\n",
    "| project Timestamp, Message, user=tostring(split(Message, '\\'',1)[0]),channel=tostring((split(Message, '\\'',3))), action=tostring(split(Message, '\\'',2))\n",
    "| where channel == '[\"cf053de3c7b\"]'\n",
    "| distinct user\n",
    ";\n",
    "ChatLogs\n",
    "| project Timestamp, Message, user=tostring(split(Message, '\\'',1)[0]),channel=tostring((split(Message, '\\'',3))), action=tostring(split(Message, '\\'',2))\n",
    "| where user in (targets)\n",
    "| distinct channel\n",
    "| sort by channel\n",
    "\n",
    "Fun data all over the place"
   ]
  },
  {
   "cell_type": "markdown",
   "id": "8aadd2e7-5063-4fd6-bd77-9582925c23b9",
   "metadata": {},
   "source": [
    "// 1) Utility to discover secondary messages.\n",
    "// Usage: ReadMessage(Message, Key)\n",
    "let ReadMessage = (Message:string, Key:string) \n",
    "{\n",
    "    let m = Message; let K = Key; let l = toscalar(print s = split(split(K,':')[1], ',') | mv-expand s | summarize make_list(tolong(s)));\n",
    "    let ma = (i1:long, i2:long) { make_string(repeat(tolong(l[i1])-tolong(l[i2]), 1))}; \n",
    "    let ms = (d:dynamic, s:long, e:long) { make_string(array_slice(d, s, e)) };   \n",
    "    let mc = m has '...';\n",
    "    print s=split(split(replace_regex(m, @'[\\s\\?]+', ' '),substring(K,9,3))[1], ' ')\n",
    "    | mv-expand with_itemindex=r s to typeof(string) | serialize \n",
    "    | where r in (l)\n",
    "    | extend s = iif(r-1 == prev(r), replace_string(strcat(prev(s), s),'o','ou'), s)\n",
    "    | where (r+1 != next(r))\n",
    "    | summarize s=strcat_array(make_list(s), iff(mc, '+%2B', ' '))\n",
    "    | extend k = series_subtract(series_add(to_utf8(K), l), repeat(23, 10))\n",
    "    | project result=iif(mc, strcat(ms(k,0,3), ma(8,2), ms(k,4,6), ms(l,8,8), ms(k,7,7), ma(8,0), s), s)\n",
    "};\n",
    "ReadMessage(\n",
    "```\n",
    "Hi there! How are you?\n",
    "\n",
    "PS: \n",
    "This is a nice utility that reveals what hidden messages the text may have.\n",
    "We may read the message and think: is there anything beyond words?\n",
    "Can we find it without the utility, or it will become too much of a headache?\n",
    "```,\n",
    "h@'dhkl4fva!that:2,9,15,22,31'\n",
    ")\n",
    "\n",
    "// 2) Get GEO location from images:\n",
    "// Use https://tool.geoimgr.com/\n",
    "\n",
    "\n",
    "//what We think: we become\n",
    "\n",
    "\n",
    "//5 June 2018 - sunk?\n",
    "// July 9 2020 - retrieved\n",
    "// img3 (the file) Lat: 58.9688665166667 Long: -3.38010413333333 2022-10-02"
   ]
  },
  {
   "attachments": {},
   "cell_type": "markdown",
   "id": "b0086f87-efd9-48b9-8cd1-83bb3eec09b2",
   "metadata": {},
   "source": [
    "\n",
    "![KDA_S1_C5_IPs.png](../../../images/Tools/BlueTeam/KQL/KDA_S1_C5_IPs.png)"
   ]
  },
  {
   "cell_type": "code",
   "execution_count": null,
   "id": "9c2210c3-12b1-4a14-bd79-eaa50b705cdc",
   "metadata": {},
   "outputs": [],
   "source": []
  }
 ],
 "metadata": {
  "kernelspec": {
   "display_name": "Python 3 (ipykernel)",
   "language": "python",
   "name": "python3"
  },
  "language_info": {
   "codemirror_mode": {
    "name": "ipython",
    "version": 3
   },
   "file_extension": ".py",
   "mimetype": "text/x-python",
   "name": "python",
   "nbconvert_exporter": "python",
   "pygments_lexer": "ipython3",
   "version": "3.11.4"
  }
 },
 "nbformat": 4,
 "nbformat_minor": 5
}
