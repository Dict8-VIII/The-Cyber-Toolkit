{
 "cells": [
  {
   "cell_type": "markdown",
   "id": "69c5dca5-6be4-47e7-9235-fe5435454755",
   "metadata": {},
   "source": [
    "# Kusto Detective Agency Season 1 (Challenge 4)"
   ]
  },
  {
   "cell_type": "markdown",
   "id": "532340a9-0432-4514-8e3c-908d2b79e3f0",
   "metadata": {},
   "source": [
    "## Part 1\n",
    "\n",
    "This is the first challenge where we are split to multiple parts."
   ]
  },
  {
   "cell_type": "raw",
   "id": "b8234cd6-0dad-4ded-974d-c9c50766685b",
   "metadata": {},
   "source": [
    "Primes\n",
    "| sort by Numbers desc\n",
    "| where Numbers < 50000000\n",
    "| project Numbers, previous = prev(Numbers)\n",
    "| project Numbers, previous, total = Numbers + previous + 1\n",
    "| join kind=inner Primes on $left.total == $right.Numbers\n",
    "| sort by total"
   ]
  },
  {
   "cell_type": "markdown",
   "id": "02d70dea-7170-460f-99da-982dccd490e4",
   "metadata": {},
   "source": [
    "## Part 2\n",
    "nyc_trees\r\n",
    "| where spc_common in~ (\"Turkish Hazelnut\",\"'Schubert' Chokecherry\")\r\n",
    "| summarize TreeCount=count() by block_id\r\n",
    "| where TreeCount > 4 //at least 1 TH and 4 Sc"
   ]
  }
 ],
 "metadata": {
  "kernelspec": {
   "display_name": "Python 3 (ipykernel)",
   "language": "python",
   "name": "python3"
  },
  "language_info": {
   "codemirror_mode": {
    "name": "ipython",
    "version": 3
   },
   "file_extension": ".py",
   "mimetype": "text/x-python",
   "name": "python",
   "nbconvert_exporter": "python",
   "pygments_lexer": "ipython3",
   "version": "3.11.4"
  }
 },
 "nbformat": 4,
 "nbformat_minor": 5
}
