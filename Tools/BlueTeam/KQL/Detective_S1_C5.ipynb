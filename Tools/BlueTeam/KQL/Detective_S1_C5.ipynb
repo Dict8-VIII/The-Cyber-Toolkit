{
 "cells": [
  {
   "cell_type": "markdown",
   "id": "69c5dca5-6be4-47e7-9235-fe5435454755",
   "metadata": {},
   "source": [
    "# Kusto Detective Agency Season 1 (Challenge 5)"
   ]
  },
  {
   "cell_type": "raw",
   "id": "9ca99783-3b77-43c1-80a6-045be62f0034",
   "metadata": {},
   "source": [
    "ChatLogs\n",
    "|top 100 by Timestamp\n",
    "| project Timestamp, Message, user=tostring(split(Message, '\\'',1)),channel=tostring((split(Message, '\\'',3))), action=tostring(split(Message, '\\'',2))\n",
    "| where action == '[\" logged in from \"]'\n",
    "| summarize IPcount=dcount(channel) by user\n",
    "| order by IPcount desc \n",
    "\n",
    "//no joy, only one with multiple IP addresses\n",
    "\n",
    "let users=ChatLogs\n",
    "//|top 100 by Timestamp\n",
    "| project Timestamp, Message, user=tostring(split(Message, '\\'',1)[0]),channel=tostring((split(Message, '\\'',3))), action=tostring(split(Message, '\\'',2))\n",
    "| where action == '[\" joined the channel \"]'\n",
    "| summarize channels=dcount(channel) by user\n",
    "| where channels == 1\n",
    "| project user\n",
    ";// users is the list of users who have only entered one channel\n",
    "// now I want the channels with only 4 users who have ever used them\n",
    "ChatLogs\n",
    "| project Timestamp, Message, user=tostring(split(Message, '\\'',1)[0]),channel=tostring((split(Message, '\\'',3))), action=tostring(split(Message, '\\'',2))\n",
    "//| where user in (users)\n",
    "| where action == '[\" joined the channel \"]'\n",
    "| distinct channel,user\n",
    "| summarize make_list(user) by channel\n",
    "| where array_length(list_user) == 4\n",
    "// where all list users are in 'users'"
   ]
  }
 ],
 "metadata": {
  "kernelspec": {
   "display_name": "Python 3 (ipykernel)",
   "language": "python",
   "name": "python3"
  },
  "language_info": {
   "codemirror_mode": {
    "name": "ipython",
    "version": 3
   },
   "file_extension": ".py",
   "mimetype": "text/x-python",
   "name": "python",
   "nbconvert_exporter": "python",
   "pygments_lexer": "ipython3",
   "version": "3.11.4"
  }
 },
 "nbformat": 4,
 "nbformat_minor": 5
}
