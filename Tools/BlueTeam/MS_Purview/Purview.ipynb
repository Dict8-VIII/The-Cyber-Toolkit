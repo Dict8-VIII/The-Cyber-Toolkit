{
 "cells": [
  {
   "cell_type": "markdown",
   "id": "6f8065d5-40b4-4f8c-b93c-039a9a78d67d",
   "metadata": {},
   "source": [
    "# Microsoft Purview\n",
    "Purview is the Microsoft solution for managing data. In includes products for\n",
    "- Data Classification (Compliance manager, compliance.microsoft.com)\n",
    "- Data Scanning in the cloud (Via the governance portal)\n",
    "- Data Scanning on Prem (Information Protection Scanner & IntegrationRuntime)\n",
    "\n",
    "Many of these are cross product, but it can help to think of them as separate products... or not. Some extra features of Purview also require additional add-ons (included at the E5 level):\n",
    "- Advanced Message Encryption\n",
    "- Information Rights Management\n",
    "- Azure Rights Management Service (RMS)\n",
    "<hr>"
   ]
  },
  {
   "cell_type": "markdown",
   "id": "94b87aa3-d020-45e0-b457-f905f2485ef9",
   "metadata": {},
   "source": [
    "## Azure Access\n",
    "These pages will be quite limited. I dont have access to an enterprise level environment and I'm using the free Azure account. I'm building these notes following the SC-400 course on learn.microsoft.com. I don't recommend the course on it's own. It is entirely theoretical (and a bit sales-y if I'm honest), and you aren't given access to a test environment to try out the solution. That being said, I find I've learned more by simply having to install each product, maybe it will help you too. If you want to go more in-depth than I do, you'll need an office or MS 365 account subscription.\n",
    "\n",
    "### Creating an Account\n",
    "As I've mentioned above, I'm using a free Azure account. If you've got one you can use, great. If not, some quick steps for creating one:\n",
    "1. Do EVERYTHING in a private/incognito window. The last thing you want to do is make changes to a production environment\n",
    "2. I'm also using my home lab VM for the installation & connections, I'd recommend something similar\n",
    "3. Create a new email, I'm using ProtonMail (also free). This will be an @proton.me email\n",
    "4. Create a new azure account (portal.azure.com). This will be an @onMicrosoft.com email<br>\n",
    "You will need to register with a phone and CC, I will give MS props here, they explicitly say you're charged $1 (& refunded) and you must manually move to 'pay as you go'. Gave me a lot of confidence to try things out.\n",
    "\n",
    "\n",
    "As I've said above, do EVERYTHING incognito, it's just safer and stops you logging in to a production environment."
   ]
  },
  {
   "cell_type": "markdown",
   "id": "a14c03cd-6a92-40c7-9e33-99999decf80d",
   "metadata": {},
   "source": [
    "## Next Steps\n",
    "\n",
    "From here, you should be OK to try any of the next products. If you've also done a new cloud account, you will likely need to set up Entra ID (prev Azure AD).\n",
    "\n",
    "<hr>"
   ]
  }
 ],
 "metadata": {
  "kernelspec": {
   "display_name": "Python 3 (ipykernel)",
   "language": "python",
   "name": "python3"
  },
  "language_info": {
   "codemirror_mode": {
    "name": "ipython",
    "version": 3
   },
   "file_extension": ".py",
   "mimetype": "text/x-python",
   "name": "python",
   "nbconvert_exporter": "python",
   "pygments_lexer": "ipython3",
   "version": "3.11.4"
  }
 },
 "nbformat": 4,
 "nbformat_minor": 5
}
