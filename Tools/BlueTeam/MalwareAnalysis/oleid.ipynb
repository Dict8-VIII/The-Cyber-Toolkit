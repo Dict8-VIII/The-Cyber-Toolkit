{
 "cells": [
  {
   "attachments": {},
   "cell_type": "markdown",
   "id": "ea133c59-2dd0-4736-842c-28a224c031d0",
   "metadata": {},
   "source": [
    "# Oletools\n",
    "\n",
    "This tool is used for gathering infomration on office documents (DOC, XML, PPT, OpenOffice etc). All are built on the OLE (object Linking and Embedding) format, which underneath is basically a .zip with subfolders for relevant data. https://github.com/decalage2/oletools/wiki\n",
    "\n",
    "\n",
    "## Installation\n",
    "As this is a python tools (python-oletools), it's installed using pip\n",
    "\n",
    "> pip install python-oletools\n",
    "\n",
    "## Running oleid\n",
    "OleID is the first tool we can run, it provides information on the file itself and common locations that ay be of interest.\n",
    "\n",
    "![Oletools_OleID.png](../../../images/Tools/BlueTeam/MalwareAnalysis/Oletools_OleID.png)\n",
    "<br>\n",
    "![Oletools_OleObj.png](../../../images/Tools/BlueTeam/MalwareAnalysis/Oletools_OleObj.png)"
   ]
  },
  {
   "cell_type": "code",
   "execution_count": null,
   "id": "36ccb58c-1ced-4f86-a128-a5077a587e56",
   "metadata": {},
   "outputs": [],
   "source": []
  }
 ],
 "metadata": {
  "kernelspec": {
   "display_name": "Python 3 (ipykernel)",
   "language": "python",
   "name": "python3"
  },
  "language_info": {
   "codemirror_mode": {
    "name": "ipython",
    "version": 3
   },
   "file_extension": ".py",
   "mimetype": "text/x-python",
   "name": "python",
   "nbconvert_exporter": "python",
   "pygments_lexer": "ipython3",
   "version": "3.11.4"
  }
 },
 "nbformat": 4,
 "nbformat_minor": 5
}
