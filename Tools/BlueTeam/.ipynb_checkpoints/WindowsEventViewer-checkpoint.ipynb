{
 "cells": [
  {
   "cell_type": "markdown",
   "id": "76013104-865b-4335-94cd-c644c93f0e2d",
   "metadata": {},
   "source": [
    "# Event Viewer\n",
    "\n",
    "Event viewer is a built in program for reviewing events in the windows system. Events themselves arent stored in plain text, and are instead called from the OS via the Windows API (and then converted to XML which is then displayed). This was done to ensure the event viewer was a 'source of truth' that you knew included all event since the last cleared state. You would also know the log was cleared as it would be the first recorded event. Either way, events couldn't be hidden/removed without making it quite obvious. Unfortunately, there have since been exploits that could clear individual events which really makes no-one happy except the bad guys...<br>\n",
    "\n",
    "The logs themselves are stored in Microsoft's own format with extensions .evt or .evtx. They can be found in \n",
    "> C:\\Windows\\System32\\winevt\\Logs\n",
    "\n",
    "Event viewer itself is just the name of the GUI program to view these files. If GUI isnt your thing however, there are alternatives\n",
    "\n",
    "- Event Viewer : The standard GUI program. evtvwr.msc<br>\n",
    "- Wevtutil.exe : The cmd tool<br>\n",
    "- Get-WinEvent : Powershell cmdlet\n",
    "\n",
    "<hr>"
   ]
  },
  {
   "cell_type": "markdown",
   "id": "b01ab31c-9bcf-4205-a891-2e9d08878ef8",
   "metadata": {},
   "source": [
    "## Event Types & Grouping\n",
    "This section covers the different groups in the Event Viewer GUI, as seen below. As this is taken straight from my Win11 box, it may look different to yours. Dont worry about it too much.<br>\n",
    "![BlueTeam_EventViewerOverview.png](../../images/Tools/BlueTeam/BlueTeam_EventViewerOverview.png)<br>\n",
    "\n",
    "### Types\n",
    "There are 5 levels of events. THe below is pulled from [Microsoft's documentation](https://learn.microsoft.com/en-us/windows/win32/eventlog/event-types). Not all of these are shown in all groups, and I've noticed a few 'critical' which arent mentioned. Something worth understanding <br>\n",
    "\n",
    "**Error**<br>\n",
    "An event that indicates a significant problem such as loss of data or loss of functionality. For example, if a service fails to load during startup, an Error event is logged.<br>\n",
    "<br>\n",
    "**Warning**<br>\n",
    "An event that is not necessarily significant, but may indicate a possible future problem. For example, when disk space is low, a Warning event is logged. If an application can recover from an event without loss of functionality or data, it can generally classify the event as a Warning event.<br>\n",
    "<br>\n",
    "**Information**<br>\n",
    "An event that describes the successful operation of an application, driver, or service. For example, when a network driver loads successfully, it may be appropriate to log an Information event. Note that it is generally inappropriate for a desktop application to log an event each time it starts.\n",
    "<br>\n",
    "**Success Audit**<br>\n",
    "An event that records an audited security access attempt that is successful. For example, a user's successful attempt to log on to the system is logged as a Success Audit event<br>\n",
    "<br>\n",
    "**Failure Audit**<br>\n",
    "An event that records an audited security access attempt that fails. For example, if a user tries to access a network drive and fails, the attempt is logged as a Failure Audit event.<br>\n",
    "<br>\n",
    "\n",
    "\n",
    "### Grouping - Windows Logs\n",
    "On the left of the GUI, we can see the groups. Again, the below is pulled directly from [Microsoft](https://learn.microsoft.com/en-us/windows/win32/eventlog/eventlog-key) for the \"Windows Logs\" group.<br>\n",
    "\n",
    "**Application**<br>\n",
    "Contains events logged by applications. For example, a database application might record a file error. The application developer decides which events to record.<br>\n",
    "<br>\n",
    "**Security**<br>\n",
    "Contains events such as valid and invalid logon attempts, as well as events related to resource use such as creating, opening, or deleting files or other objects. An administrator can start auditing to record events in the security log.<br>\n",
    "<br>\n",
    "**System**<br>\n",
    "Contains events logged by system components, such as the failure of a driver or other system component to load during startup.<br>\n",
    "<br>\n",
    "**Custom Log**<br>\n",
    "Contains events logged by applications that create a custom log. Using a custom log enables an application to control the size of the log or attach ACLs for security purposes without affecting other applications.<br>\n",
    "\n",
    "### Grouping - Application and Services Logs\n",
    "This grouping is specific to applications, depending on how they choose to logs. Some may log by manufacturer/owner (I.E. Microsoft) while others may be application specific (OpenSSH).\n"
   ]
  },
  {
   "cell_type": "markdown",
   "id": "6db53298-3b0d-4849-af12-0797a35b2f79",
   "metadata": {},
   "source": [
    "## XPath"
   ]
  }
 ],
 "metadata": {
  "kernelspec": {
   "display_name": "Python 3 (ipykernel)",
   "language": "python",
   "name": "python3"
  },
  "language_info": {
   "codemirror_mode": {
    "name": "ipython",
    "version": 3
   },
   "file_extension": ".py",
   "mimetype": "text/x-python",
   "name": "python",
   "nbconvert_exporter": "python",
   "pygments_lexer": "ipython3",
   "version": "3.10.5"
  }
 },
 "nbformat": 4,
 "nbformat_minor": 5
}
