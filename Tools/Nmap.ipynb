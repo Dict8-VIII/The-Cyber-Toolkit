{
 "cells": [
  {
   "cell_type": "markdown",
   "id": "f453072a-01b3-4718-a01d-cd532e64fd53",
   "metadata": {},
   "source": [
    "# Nmap\n",
    "\n",
    "Nmap is a Scanning tool used for the enumeration stage of Pen Testing. It is very versatile and industry standard.\n",
    "\n",
    "Common usages\n",
    "- Port Scanning\n",
    "- Service Enum\n",
    "- Running Nmap scripts for specific enum\n",
    "\n",
    "## Syntax\n",
    "\n",
    "> nmap \\[ip] [scan method] [MANY arguements] -vv\n",
    "\n",
    "- [ip] : The target server IP address\n",
    "- [scan method] : -s[something], there can be a number of arguements here\n",
    "    - -sV is to try determine what is running behind the ports\n",
    "    - -sS sneaky stealth scan. Better known as a TCP SYN scan\n",
    "    - -sA is to try determine OS version (as well as other things, A=Agressive)\n",
    "    - -sL \\t List the targets that will be scanned, without scanning them. Commonly used with -n\n",
    "    - -sn dont port scan (can be combined with -PR)\n",
    "    - -sT TCP Connect scan\n",
    "    - -sU UDP Connect Scan\n",
    "    \n",
    "- [arguements]\n",
    "    - --script [Nmap script]\n",
    "    - vuln [ip] \\t try determine known exploits\n",
    "    - -n \\t Dont resolve DNS\n",
    "    - -PR \\t ARP request only (better be on the same subnet)\n",
    "    - -PE \\t Use ICMP Echo to discover hosts\n",
    "    - -PP \\t Use ICMP timestamp instead of echo, useful if echo is blocked\n",
    "    - -PM \\t Use ICMP address mask instead of echo, useful if echo is blocked\n",
    "    - -PS \\t Uses TCP SYN to discover hosts. Can add a port or range (without spaces), default is on Port80\n",
    "    - -PA \\t Uses TCP ACK to discover hosts (they should respond with a RST)\n",
    "    - -PU \\t Uses a UDP PING\n",
    "    - -R \\t Lookup DNS names for offline devices\n",
    "    - -F \\t Fast mode, only scan best 100, not 1000\n",
    "    - -r \\t Scan ports in order\n",
    "    - -t<n>\\t The speed of the scan (for IDS evassion). 3 is normal, 1 is SLOW and 5 is 'insane'\n",
    "    \n",
    "- -vv : VeryVerbose, stops you going crazy wondering if its working\n",
    "\n",
    "\n",
    "<hr>"
   ]
  },
  {
   "cell_type": "markdown",
   "id": "93a3cfd1-c40c-446a-a9b6-068fe6376722",
   "metadata": {},
   "source": [
    "## Why so many scan options?\n",
    "\n",
    "### Discovery\n",
    "These are the scan types for target discovery (is there something on this IP worth investigating).\n",
    "\n",
    "#### -PR\n",
    "This arguement send a broadcast ARP request only. This is a great one to use as it's not blocked by any firewalls (as it's part of maintaining a network), but it requires you to be on the same subnet as your targets.\n",
    "\n",
    "#### -PE -PP -PM\n",
    "These are ICMP Echo, Timestamp and Mask respectively. All run in the ICMP domain and are ways to work around a firewall. Echo tends to be blocked (and is by default most times). Timestamp and Mask requests are alternatives.\n",
    "\n",
    "#### -PS -PA\n",
    "These are TCP discovery methods. -PS Uses a SYN request (on port 80 by default) and if it recieved back a response (SYNACK or RST) then treats the IP as active. It just waits for the response if run as priveliged user, or completes the handshake if not. -PA is an ACK message which will recieve a RST if the target is active (as its not part of an established message), and can only be run as priveliged user (otherwise it will run a SYN).\n",
    "<hr>"
   ]
  },
  {
   "cell_type": "markdown",
   "id": "039a2e74-12da-4560-acb9-dfc8a45f8e6b",
   "metadata": {},
   "source": [
    "### Port Connect\n",
    "Now that we know what targets to hit, we now have to decide how to confirm a port is open or closed. Because of annoying things like firewalls however, theres more to it. There are 6 possible states of a port scan. This is copied directly from [TryHackMe's nmap02 Room](https://tryhackme.com/room/nmap02)\n",
    "\n",
    "1. Open: indicates that a service is listening on the specified port.\n",
    "2. Closed: indicates that no service is listening on the specified port, although the port is accessible. By accessible, we mean that it is reachable and is not blocked by a firewall or other security appliances/programs.\n",
    "3. Filtered: means that Nmap cannot determine if the port is open or closed because the port is not accessible. This state is usually due to a firewall preventing Nmap from reaching that port. Nmap’s packets may be blocked from reaching the port; alternatively, the responses are blocked from reaching Nmap’s host.\n",
    "4. Unfiltered: means that Nmap cannot determine if the port is open or closed, although the port is accessible. This state is encountered when using an ACK scan -sA.\n",
    "5. Open|Filtered: This means that Nmap cannot determine whether the port is open or filtered.\n",
    "6. Closed|Filtered: This means that Nmap cannot decide whether a port is closed or filtered.\n",
    "\n",
    "#### -sT\n",
    "The sT scan is a TCP connect scan. Simply, Nmap attempts a full TCP 3way Handshake for each scanned port (and then kill it with a RST ACK if it completes). This is the only scan that doesnt require a priveliged account.\n",
    "\n",
    "#### -sS\n",
    "The Sneaky Stealth Scan, or more accurately, the SYN scan. This requires a priveliged user and is mroe sneaky as it doesnt complete a connection (so is less likely to be logged). It starts with the SYN, Recieves a SYNACK and then sends a RST to kill the handshake. As you can guess, this is only more stealthy, but could still be logged.\n",
    "\n",
    "#### -sU\n",
    "The sU scan is a UDP scan, which sort of runs opposite to the TCP scans. As UDP is stateless, we would expect no response if the port is open (as UDP 'packets' dont have a session or give a response, they are fire and forget).<br>\n",
    "A closed port however should give a ICMP \"Destination Unreachable\" response."
   ]
  },
  {
   "cell_type": "code",
   "execution_count": null,
   "id": "4fb93e81-5529-4478-901d-02cb73d00565",
   "metadata": {},
   "outputs": [],
   "source": []
  }
 ],
 "metadata": {
  "kernelspec": {
   "display_name": "Python 3 (ipykernel)",
   "language": "python",
   "name": "python3"
  },
  "language_info": {
   "codemirror_mode": {
    "name": "ipython",
    "version": 3
   },
   "file_extension": ".py",
   "mimetype": "text/x-python",
   "name": "python",
   "nbconvert_exporter": "python",
   "pygments_lexer": "ipython3",
   "version": "3.10.4"
  }
 },
 "nbformat": 4,
 "nbformat_minor": 5
}
