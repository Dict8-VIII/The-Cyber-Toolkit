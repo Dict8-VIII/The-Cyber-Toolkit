{
 "cells": [
  {
   "cell_type": "markdown",
   "id": "82e26d03-cdbc-4ca4-b5c8-ffaab471a995",
   "metadata": {},
   "source": [
    "# File and Disk Tools\n",
    "\n",
    "\n",
    "<hr>"
   ]
  },
  {
   "cell_type": "markdown",
   "id": "081db54f-b710-47fb-8f10-513ac925b9f6",
   "metadata": {},
   "source": [
    "## Sigcheck\n",
    "Sigcheck is a tol for checking file details, this includes\n",
    "- version\n",
    "- status\n",
    "- timestamps\n",
    "- signature details & cert chains (I didnt know files had cert chains)\n",
    "\n",
    "It can also check the file against 'over 40 antivirus engines' and can upload a file to be scanned.\n",
    "\n",
    "## Arguements\n",
    "Standard Use (gives help)\n",
    "> sigcheck -accepteula\n",
    "\n",
    "- -u: show files unknown to AV (virus total) or have no signature\n",
    "- -e: scan executable files only (not extension based)\n",
    "\n",
    "As you can guess, you can define a directory to scan\n",
    "\n",
    "> sigcheck -u -e c:\\windows\\system32 -accepteula\n",
    "\n",
    "<hr>"
   ]
  },
  {
   "cell_type": "markdown",
   "id": "8c683463-5f09-40e4-b81e-3685b090a205",
   "metadata": {},
   "source": [
    "## Streams\n",
    "Streams are file contents stored under the same 'file'. Its a property of NTFS (so mainly Windows). Under the same file, you can multipel contents or attributes which arent visible under normal operation. ADS, or Alternate Data Streams are those outside the default $DATA stream\n",
    "\n",
    "## Arguements\n",
    "Standard Use\n",
    "> streams -accepteula\n",
    "\n",
    "Streams are properties of files, not directories. You can provide a file or directory however.\n",
    "> streams C:\\Users\\Admin\\Desktop\\files.txt\n",
    "\n",
    "![SysInternals_StreamsExample.png](../../images/Tools/SysInternals/SysInternals_StreamsExample.png)\n",
    "\n",
    "To view or open an ADS, it must be passed as an arguement\n",
    "> streams C:\\Users\\Admin\\Desktop\\files.txt:$ADSName\n",
    "\n",
    "![SysInternals_StreamsView.png](../../images/Tools/SysInternals/SysInternals_StreamsView.png)\n",
    "\n",
    "<hr>"
   ]
  },
  {
   "cell_type": "markdown",
   "id": "c146deb1-4393-47f7-97af-4c1946493fa2",
   "metadata": {},
   "source": [
    "## Sdelete\n",
    "Sdelete impliments the DOD 5220.22-M wipe method. Basically its a government standard for how to clear a file from disk completely. Do do this it\n",
    "\n",
    "- Writes 0s to the drive and verifies\n",
    "- Writes 1s to the drive and verifies\n",
    "- Writes a random value to the drive and verifies\n",
    "\n",
    "### Arguements\n",
    "\n",
    "- -p Number of passes to run (default 1)\n",
    "- -c Cleans a disk (must have 0 volumes)\n",
    "- -r Removes 'read only' attribute\n",
    "- -z Zeros free space (guess thats good for thin VMs)\n",
    "- -s Recursive subdirectories, careful with this one.\n",
    "\n",
    "Delete a file\n",
    "> sdelete -p 1 [file]\n",
    "\n",
    "Clear a drive\n",
    "> sdelete -p 1 -z|-c [disk number]\n",
    "\n",
    "<hr>"
   ]
  }
 ],
 "metadata": {
  "kernelspec": {
   "display_name": "Python 3 (ipykernel)",
   "language": "python",
   "name": "python3"
  },
  "language_info": {
   "codemirror_mode": {
    "name": "ipython",
    "version": 3
   },
   "file_extension": ".py",
   "mimetype": "text/x-python",
   "name": "python",
   "nbconvert_exporter": "python",
   "pygments_lexer": "ipython3",
   "version": "3.10.5"
  }
 },
 "nbformat": 4,
 "nbformat_minor": 5
}
