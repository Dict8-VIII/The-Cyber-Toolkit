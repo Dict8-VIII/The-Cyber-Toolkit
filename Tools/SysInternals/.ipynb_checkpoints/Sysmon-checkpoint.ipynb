{
 "cells": [
  {
   "cell_type": "markdown",
   "id": "5bd4dd14-c34b-4b32-a792-16d524ead1e3",
   "metadata": {},
   "source": [
    "# Sysmon\n",
    "\n",
    "Sysmon is a part of the SysInternals package, and is an expanded version of the windows event logs. It provides more details and a more granluar control system. The Events within Sysmon are still stored in the event logs here:\n",
    "\n",
    "> Applications and Services Logs/Microsoft/WIndows/Sysmon/Operational\n",
    "\n",
    "Once Sysmon is installed, it persists through restarts and its primary purpose is to integrate with a SIEM system. Thats not to say you cant monitor it internally, its just where it can really shine. Sysmon itself can record multiple event types (29ish at the time of writing) and you can write either include or exclude rules to filter which events are captured. These rules are stored in the Sysmon config file. Filtering at the monitor can reduce the amount of analysis needed at the SIEM end, however if the rules are not well created it can also hide malicious activity. If starting out, its great to start with a template and configure for your environment (once you know what youre doing). THM recommended [this one by SwiftOnSecurity](https://github.com/SwiftOnSecurity/sysmon-config/blob/master/sysmonconfig-export.xml).\n",
    "\n",
    "<hr>"
   ]
  },
  {
   "cell_type": "markdown",
   "id": "9bbceba1-fb46-4a0c-85b1-c976043658d5",
   "metadata": {},
   "source": [
    "## Config File\n",
    "\n",
    "The config file is a .XML file. Within the XML is nested rules stored in groups, and each group is defined a matching type. The group then has its individual rules defined. The General structure is:\n",
    "\n",
    "Sysmon Schemaversion\n",
    "- Some global rules\n",
    "  - Event Filtering\n",
    "    - RuleGroup name = \"\" groupRelation=\"or\"\n",
    "      - ProcessCreate onmatch=\"exclude\"\n",
    "        - rule 1\n",
    "        - rule 2\n",
    "        - rule 3\n",
    "      - /ProcessCreate\n",
    "    - /RuleGroup\n",
    "\n",
    "\n",
    "This is a very simple config file, which looks for the 'process created' event and excludes them from the logs. In this section we would have the 'trusted' applications, most likely the windows ones or BAU applications (such as chrome, office etc). Obviously some of these can still be malicious so should be carefully considered. In a 'full' config file, you would expect to have rules for all off the Event groups below.\n",
    "      \n",
    "<hr>"
   ]
  },
  {
   "cell_type": "markdown",
   "id": "3de98a0c-5180-4c8b-99e0-e4416b36e86d",
   "metadata": {},
   "source": [
    "## Event Groups\n",
    "\n",
    "As above, the config file can filter multiple event groups, but which should we be looking for?\n",
    "\n",
    "### 1: Process Creation\n",
    "As above, this event can be used to filter out 'safe' processes or include known 'bad' processes. Likely we would want to exclude known, not include what may be unknown. Part of excluding 'safe' processes is that we can also identify if a fake process is run by being mispelt or programs being launched from a non-standard location. Below we are excluding chrome and windows media player."
   ]
  },
  {
   "cell_type": "raw",
   "id": "d34b0aed-e853-4abd-9cf9-9fbbd615fda2",
   "metadata": {},
   "source": [
    "\n",
    "<RuleGroup name=\"\" groupRelation=\"or>\n",
    "  <ProcessCreate onmatch=\"exclude\">\n",
    "    <CommandLine condition=\"begin with\">\"C:\\Program Files\\Google\\Chrome\\Application\\chrome.exe\" --type=</CommandLine>\n",
    "    <Image condition=\"is\">C:\\Program Files\\Windows Media Player\\wmpnscfg.exe</Image> \n",
    "  </ProcessCreate>\n",
    "</RuleGroup>\n"
   ]
  },
  {
   "cell_type": "markdown",
   "id": "5a280363-e713-4e26-8276-3a418e2450a1",
   "metadata": {},
   "source": [
    "### 3: Network Connection\n",
    "This time we are looking for an application making a network connection, or known malicious ports. When we're red teaming, this is part of why we dont use standard ports even on the red side, it's too easy to pick up."
   ]
  },
  {
   "cell_type": "raw",
   "id": "322a2e5b-766e-4d94-9067-f8ba39c9d552",
   "metadata": {},
   "source": [
    "<ruleGroup name=\"\" groupRelation=\"or\">\n",
    "  <NetworkConnect onmatch=\"include\">\n",
    "    <Image condition=\"image\">nmap.exe</Image>\n",
    "    <DestinationPort name=\"Alert,Metasploit\" condition=\"is\">4444</DestinationPort>\n",
    "  </NetworkConnect>\n",
    "</RuleGroup>"
   ]
  },
  {
   "cell_type": "markdown",
   "id": "026fc7f5-1bfe-4cbf-93f2-0ec10748470c",
   "metadata": {},
   "source": [
    "### 7: Image Loaded\n",
    "It says image, but what it really means is a DLL being loaded by a process. As pretty much everything uses a .dll file. The below is an example of an \"ImageLoaded\" tag, but it also includes Image, SIgned and Signatures."
   ]
  },
  {
   "cell_type": "raw",
   "id": "51dc021d-4809-41c1-9e60-b9c546894d1f",
   "metadata": {},
   "source": [
    "<RuleGroup name=\"\" groupRelation=\"or\">\n",
    "  <imageLoad onmatch=\"include\">\n",
    "    <ImageLoaded condition=\"contains\">\\Temp\\</ImageLoaded>\n",
    "  </imageLoad>\n",
    "</Rulegroup>"
   ]
  },
  {
   "cell_type": "markdown",
   "id": "a216b0f1-c7d9-483d-91fe-2bf2027c5756",
   "metadata": {},
   "source": [
    "## 8: Remote Thread\n",
    "This event occurs when a process tries to inject code into another process. Theres 2 ways to approach this event below. The first is looking for a specific memory address ending, and the second is looking for processes that doent also have a parent process when this is done. There are legitimate times this event can be triggered, but these two options are pretty red flags."
   ]
  },
  {
   "cell_type": "raw",
   "id": "cedec6a6-e475-423c-a17b-d624e547b51d",
   "metadata": {},
   "source": [
    "<RuleGroup name=\"\" groupRelation=\"or\"?\n",
    "  <CreateRemoteThread onmatch=\"include\">\n",
    "    <StartAddress name=\"Alert,Cobalt Strike\" condition=\"end with\">0B80</StartAddress>\n",
    "    <SourceImage condition=\"contains\">\\</SourceImage>\n",
    "  </CreateRemoteAddress>\n",
    "</RuleGroup>"
   ]
  },
  {
   "cell_type": "markdown",
   "id": "5611f2f4-4552-4d95-8c25-f29f65d347c3",
   "metadata": {},
   "source": [
    "### 11: File Created\n",
    "\n",
    "This one is a bit easier, if a file is created or overwritten/modified. You can add ransomware strings, known malicious file names (or just ones you dont want)."
   ]
  },
  {
   "cell_type": "raw",
   "id": "394ec814-a0e3-4ef4-ad32-183f4b8f7f89",
   "metadata": {},
   "source": [
    "<RuleGroup name=\"\" groupRelation=\"or\">\n",
    "  <FileCreate onamtch=\"include\">\n",
    "    <TargetFilename name=\"Alert,Ransomware\" condition=\"contains\">HELP_TO_SAVE_FILES</TargetFilename>\n",
    "    <TargetFilename condition=\"contains\">steam.exe</Targetfilename>\n",
    "  </FileCreate>\n",
    "</RuleGroup>"
   ]
  }
 ],
 "metadata": {
  "kernelspec": {
   "display_name": "Python 3 (ipykernel)",
   "language": "python",
   "name": "python3"
  },
  "language_info": {
   "codemirror_mode": {
    "name": "ipython",
    "version": 3
   },
   "file_extension": ".py",
   "mimetype": "text/x-python",
   "name": "python",
   "nbconvert_exporter": "python",
   "pygments_lexer": "ipython3",
   "version": "3.10.5"
  }
 },
 "nbformat": 4,
 "nbformat_minor": 5
}
