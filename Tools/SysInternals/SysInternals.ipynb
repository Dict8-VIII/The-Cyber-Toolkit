{
 "cells": [
  {
   "cell_type": "markdown",
   "id": "1d55e6f1-fbf0-4a7e-b5ac-ea77ccb2de11",
   "metadata": {},
   "source": [
    "# SysInternals\n",
    "\n",
    "https://tryhackme.com/room/btsysinternalssg\n",
    "\n",
    "## Installing\n",
    "https://docs.microsoft.com/en-us/sysinternals/downloads/\n",
    "\n",
    "From your folder, recommened to add ot env variables (path), otherwise will have to navigate.<br>\n",
    "Once added, just run from cmd:\n",
    "> sysdm.cpl \n",
    "\n",
    "## Running Live\n",
    "Can be launched live, without downloading. On windows, you need to enable some services and features. It uses the live link to run the software without downloading locally. https://live.sysinternals.com/. These setps follow running the tools from CMD.\n",
    "\n",
    "> \\\\live.sysinternals.com\\tools\\procmon.exe\n",
    "\n",
    "It fails, we need to add a few things.\n",
    "\n",
    "1. Make sure WebDav is installed. (it is by default on client, but not server builds)<br>\n",
    "    a. Run: Install-WindowsFeature WebDAV-REdirector -Restart<br>\n",
    "    b. Can check with: Get-WindowsFeature WebDAV-Redirector | Format-Table -Autosize<br>\n",
    "2. Enable WebDav protocol<br>\n",
    "    a. get-service webclient<br>\n",
    "    b. start-service webclient<br>\n",
    "3. Enable Network Discovery<br>\n",
    "    a. Can do it from \"Network and Sharing Center\" in Control Panel<br>\n",
    "    b. Otherwise: control.exe /name Microsoft.NetworkAndSharingCenter<br>\n",
    "    c. Advanced Sharing Settings -> Turn on network discovery.<br>\n",
    "    \n",
    "Now we can try it again\n",
    "\n",
    "### Mapping Drive\n",
    "As a middle ground, you can also map the drive<br>\n",
    ">net use * \\\\live.sysinternals.com\\tools\\\n",
    "\n",
    "The * is to use any drive letter.\n",
    "\n",
    "<hr>\n"
   ]
  },
  {
   "cell_type": "code",
   "execution_count": null,
   "id": "12fbbd70-4fd9-4e9e-a81c-2002da24675e",
   "metadata": {},
   "outputs": [],
   "source": []
  }
 ],
 "metadata": {
  "kernelspec": {
   "display_name": "",
   "name": ""
  },
  "language_info": {
   "name": ""
  }
 },
 "nbformat": 4,
 "nbformat_minor": 5
}
