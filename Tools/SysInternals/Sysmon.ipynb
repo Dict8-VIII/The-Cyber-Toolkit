{
 "cells": [
  {
   "cell_type": "markdown",
   "id": "5bd4dd14-c34b-4b32-a792-16d524ead1e3",
   "metadata": {},
   "source": [
    "# Sysmon\n",
    "\n",
    "Sysmon is a part of the SysInternals package, and is an expanded version of the windows event logs. It provides more details and a more granluar control system. The Events within Sysmon are still stored in the event logs here:\n",
    "\n",
    "> Applications and Services Logs/Microsoft/WIndows/Sysmon/Operational\n",
    "\n",
    "Once Sysmon is installed, it persists through restarts and its primary purpose is to integrate with a SIEM system. Thats not to say you cant monitor it internally, its just where it can really shine. Sysmon itself can record multiple event types (29ish at the time of writing) and you can write either include or exclude rules to filter which events are captured. These rules are stored in the Sysmon config file. Filtering at the monitor can reduce the amount of analysis needed at the SIEM end, however if the rules are not well created it can also hide malicious activity. If starting out, its great to start with a template and configure for your environment (once you know what youre doing). THM recommended [this one by SwiftOnSecurity](https://github.com/SwiftOnSecurity/sysmon-config/blob/master/sysmonconfig-export.xml).\n",
    "\n",
    "<hr>"
   ]
  },
  {
   "cell_type": "markdown",
   "id": "4493b41b-4c34-4de6-9954-f7ada626d4d3",
   "metadata": {},
   "source": [
    "## Starting Sysmon\n",
    "\n",
    "Once you have SysInternals installed, you will need to start sysmon (and initialise it). You can also initialise it with a config file. The below will launch SysMon with the SwiftOnSecurity config file. Launch this from the SysMon install location.\n",
    "> Sysmon.exe -accepteula -i ..\\Configuration\\swift.xml\n",
    "\n",
    "<hr>"
   ]
  },
  {
   "cell_type": "markdown",
   "id": "9bbceba1-fb46-4a0c-85b1-c976043658d5",
   "metadata": {},
   "source": [
    "## Config File\n",
    "\n",
    "The config file is a .XML file. Within the XML is nested rules stored in groups, and each group is defined a matching type. The group then has its individual rules defined. The General structure is:\n",
    "\n",
    "Sysmon Schemaversion\n",
    "- Some global rules\n",
    "  - Event Filtering\n",
    "    - RuleGroup name = \"\" groupRelation=\"or\"\n",
    "      - ProcessCreate onmatch=\"exclude\"\n",
    "        - rule 1\n",
    "        - rule 2\n",
    "        - rule 3\n",
    "      - /ProcessCreate\n",
    "    - /RuleGroup\n",
    "\n",
    "\n",
    "This is a very simple config file, which looks for the 'process created' event and excludes them from the logs. In this section we would have the 'trusted' applications, most likely the windows ones or BAU applications (such as chrome, office etc). Obviously some of these can still be malicious so should be carefully considered. In a 'full' config file, you would expect to have rules for all off the Event groups below.\n",
    "\n",
    "### Best Practice for Rules\n",
    "\n",
    "1. Exclude before Include\n",
    "This isn't saying \"write exclude rules before include rules\", but rather that excluding cases (a whitelist) is better than including cases (a blacklist). In this way, any 'new' state is logged instead of being ignored. In other words, its a Fail-Safe state.\n",
    "\n",
    "2. CLI Provides More Granular Control\n",
    "It's harder (probably) to use CLI, but its also where the useful functions are, such as filtering. Use CLI where possible but dont let it get in the way of a complete ruleset. This brings us to....\n",
    "\n",
    "3. Know Your Environment\n",
    "Sounds obvious, but you cant filter bad data without knowing what good data is. If you're from the 'agile' mindset, then yes we can constantly improve but you should also ensure you have a good starting position. If not you are making things more difficult further down the track and things can be missed.\n",
    "      \n",
    "<hr>"
   ]
  },
  {
   "cell_type": "markdown",
   "id": "3de98a0c-5180-4c8b-99e0-e4416b36e86d",
   "metadata": {},
   "source": [
    "## Event Groups\n",
    "\n",
    "As above, the config file can filter multiple event groups, but which should we be looking for?\n",
    "\n",
    "### 1: Process Creation\n",
    "As above, this event can be used to filter out 'safe' processes or include known 'bad' processes. Likely we would want to exclude known, not include what may be unknown. Part of excluding 'safe' processes is that we can also identify if a fake process is run by being mispelt or programs being launched from a non-standard location. Below we are excluding chrome and windows media player."
   ]
  },
  {
   "cell_type": "raw",
   "id": "d34b0aed-e853-4abd-9cf9-9fbbd615fda2",
   "metadata": {},
   "source": [
    "\n",
    "<RuleGroup name=\"\" groupRelation=\"or>\n",
    "  <ProcessCreate onmatch=\"exclude\">\n",
    "    <CommandLine condition=\"begin with\">\"C:\\Program Files\\Google\\Chrome\\Application\\chrome.exe\" --type=</CommandLine>\n",
    "    <Image condition=\"is\">C:\\Program Files\\Windows Media Player\\wmpnscfg.exe</Image> \n",
    "  </ProcessCreate>\n",
    "</RuleGroup>\n"
   ]
  },
  {
   "cell_type": "markdown",
   "id": "5a280363-e713-4e26-8276-3a418e2450a1",
   "metadata": {},
   "source": [
    "### 3: Network Connection\n",
    "This time we are looking for an application making a network connection, or known malicious ports. When we're red teaming, this is part of why we dont use standard ports even on the red side, it's too easy to pick up."
   ]
  },
  {
   "cell_type": "raw",
   "id": "322a2e5b-766e-4d94-9067-f8ba39c9d552",
   "metadata": {},
   "source": [
    "<ruleGroup name=\"\" groupRelation=\"or\">\n",
    "  <NetworkConnect onmatch=\"include\">\n",
    "    <Image condition=\"image\">nmap.exe</Image>\n",
    "    <DestinationPort name=\"Alert,Metasploit\" condition=\"is\">4444</DestinationPort>\n",
    "  </NetworkConnect>\n",
    "</RuleGroup>"
   ]
  },
  {
   "cell_type": "markdown",
   "id": "026fc7f5-1bfe-4cbf-93f2-0ec10748470c",
   "metadata": {},
   "source": [
    "### 7: Image Loaded\n",
    "It says image, but what it really means is a DLL being loaded by a process. As pretty much everything uses a .dll file. The below is an example of an \"ImageLoaded\" tag, but it also includes Image, SIgned and Signatures."
   ]
  },
  {
   "cell_type": "raw",
   "id": "51dc021d-4809-41c1-9e60-b9c546894d1f",
   "metadata": {},
   "source": [
    "<RuleGroup name=\"\" groupRelation=\"or\">\n",
    "  <imageLoad onmatch=\"include\">\n",
    "    <ImageLoaded condition=\"contains\">\\Temp\\</ImageLoaded>\n",
    "  </imageLoad>\n",
    "</Rulegroup>"
   ]
  },
  {
   "cell_type": "markdown",
   "id": "a216b0f1-c7d9-483d-91fe-2bf2027c5756",
   "metadata": {},
   "source": [
    "## 8: Remote Thread\n",
    "This event occurs when a process tries to inject code into another process. Theres 2 ways to approach this event below. The first is looking for a specific memory address ending, and the second is looking for processes that doent also have a parent process when this is done. There are legitimate times this event can be triggered, but these two options are pretty red flags."
   ]
  },
  {
   "cell_type": "raw",
   "id": "cedec6a6-e475-423c-a17b-d624e547b51d",
   "metadata": {},
   "source": [
    "<RuleGroup name=\"\" groupRelation=\"or\"?\n",
    "  <CreateRemoteThread onmatch=\"include\">\n",
    "    <StartAddress name=\"Alert,Cobalt Strike\" condition=\"end with\">0B80</StartAddress>\n",
    "    <SourceImage condition=\"contains\">\\</SourceImage>\n",
    "  </CreateRemoteAddress>\n",
    "</RuleGroup>"
   ]
  },
  {
   "cell_type": "markdown",
   "id": "5611f2f4-4552-4d95-8c25-f29f65d347c3",
   "metadata": {},
   "source": [
    "### 11: File Created\n",
    "\n",
    "This one is a bit easier, if a file is created or overwritten/modified. You can add ransomware strings, known malicious file names (or just ones you dont want)."
   ]
  },
  {
   "cell_type": "raw",
   "id": "394ec814-a0e3-4ef4-ad32-183f4b8f7f89",
   "metadata": {},
   "source": [
    "<RuleGroup name=\"\" groupRelation=\"or\">\n",
    "  <FileCreate onamtch=\"include\">\n",
    "    <TargetFilename name=\"Alert,Ransomware\" condition=\"contains\">HELP_TO_SAVE_FILES</TargetFilename>\n",
    "    <TargetFilename condition=\"contains\">steam.exe</Targetfilename>\n",
    "  </FileCreate>\n",
    "</RuleGroup>"
   ]
  },
  {
   "cell_type": "markdown",
   "id": "d0e13d22-3689-44ca-99dd-df292db8cf70",
   "metadata": {},
   "source": [
    "### 12,13,14: Registry Event\n",
    "This is a change to the Windows registry. Theres many reasons malicious software would want to modify the registry, but its also a common event for 'safe' software. The below will looking for changes in a common malicious directory."
   ]
  },
  {
   "cell_type": "raw",
   "id": "80173cbc-c04d-476a-8541-7f606faccd1c",
   "metadata": {},
   "source": [
    "<RuleGroup name=\"\" groupRelation=\"or\">\n",
    "  <RegistryEvent onmatch=\"include\">\n",
    "    <TargetObject name=\"T1484\" condition=\"contains\">Windows\\System\\Scripts</TargetObjects>\n",
    "  </RegistryEvent>\n",
    "</RuleGroup>"
   ]
  },
  {
   "cell_type": "markdown",
   "id": "82e60651-fc53-49dc-b3a9-94075b24ec7c",
   "metadata": {},
   "source": [
    "### 15: FileCreateStreamHash\n",
    "Alternate data streams are a common way to hide files, it comes up in steganography quite often. Simply your 'file' can be 2 (or more) files, depending on how you call the file."
   ]
  },
  {
   "cell_type": "raw",
   "id": "5aa0b294-48e4-4f73-9ece-38bce86869d5",
   "metadata": {},
   "source": [
    "<RuleGroup name=\"\" groupRelation=\"or\">\n",
    "  <FileCreateStreamHash onmatch=\"include\">\n",
    "    <TargetFilename condition=\"end with\">.hta</TargetFilename>\n",
    "  </FileCreateStreamHash>\n",
    "</RuleGroup>"
   ]
  },
  {
   "cell_type": "markdown",
   "id": "6c3c41a9-a424-444e-8918-e34593c9cb55",
   "metadata": {},
   "source": [
    "### 22: DNS Event\n",
    "DNS queries are naturally part of a normal system running as expected, so its best to exclude trusted domains to keep things clean. Even so you will probably find this one can be quite noisy."
   ]
  },
  {
   "cell_type": "raw",
   "id": "74e0261c-b16c-449e-b132-db860571b662",
   "metadata": {},
   "source": [
    "<RuleGroup name=\"\" groupRelation=\"or\">\n",
    "  <DnsQuery onmatch=\"exclude\">\n",
    "    <QueryName condition=\"end with\">safedomain.com</QueryName>\n",
    "  </DnsQuery>\n",
    "</RuleGroup>"
   ]
  },
  {
   "cell_type": "markdown",
   "id": "35b71d8b-4295-436f-a1e2-c3c1696a9531",
   "metadata": {},
   "source": [
    "<hr>"
   ]
  },
  {
   "cell_type": "code",
   "execution_count": null,
   "id": "cf7da984-cb58-40fc-916a-8d3f899bae03",
   "metadata": {},
   "outputs": [],
   "source": []
  }
 ],
 "metadata": {
  "kernelspec": {
   "display_name": "Python 3 (ipykernel)",
   "language": "python",
   "name": "python3"
  },
  "language_info": {
   "codemirror_mode": {
    "name": "ipython",
    "version": 3
   },
   "file_extension": ".py",
   "mimetype": "text/x-python",
   "name": "python",
   "nbconvert_exporter": "python",
   "pygments_lexer": "ipython3",
   "version": "3.10.5"
  }
 },
 "nbformat": 4,
 "nbformat_minor": 5
}
