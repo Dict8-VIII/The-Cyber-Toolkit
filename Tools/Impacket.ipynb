{
 "cells": [
  {
   "cell_type": "markdown",
   "id": "ddeadd3a-60c7-4806-8791-7f7d9b77dfdd",
   "metadata": {},
   "source": [
    "# Impacket\n",
    "\n",
    "I came across this tool when doing [Active Directory enumeration](https://tryhackme.com/room/attacktivedirectory). It is a collection of scripts and can be found here: https://github.com/SecureAuthCorp/impacket.git\n",
    "\n",
    "## Installation\n",
    "As mentioned above, this is mainly a collection of scripts but it can still be installed. Many of these commands require sudo rights, so you'll need to add this if not running as root.\n",
    "\n",
    "> git clone https://github.com/SecureAuthCorp/impacket.git /opt/impacket <br>\n",
    "> pip3 install -r /opt/impacket/requirements.txt <br>\n",
    "> cd /opt/impacket/ && python3 ./setup.py install <br>\n",
    "\n",
    "<hr>"
   ]
  },
  {
   "cell_type": "markdown",
   "id": "6adc859f-11be-43f8-b072-5d5b9069f099",
   "metadata": {},
   "source": [
    "## Example Scripts\n",
    "\n",
    "### GetNPUsers.py\n",
    "This script is used to enumerate users in the AD, basd on a user list. When I did this, my installation didnt bring over the example scripts so I had to pull these manually.\n",
    "\n",
    "> cd /opt/impacket/impacket/examples <br>\n",
    "> sudo wget https://raw.githubusercontent.com/SecureAuthCorp/impacket/master/examples/GetNPUsers.py\n",
    "\n",
    "\n",
    "You can then run the script, be aware that the Domain needs a / at the end (Red arrow). The Blue arrow is the target IP\n",
    "![Impacket_GetNPUsersExample.png](../images/Tools/Impacket_GetNPUsersExample.png)\n",
    "\n",
    "### SecretsDump.py\n",
    "Sounds fun, and it is. This script dumps the hashes of a remote device, as long as you have a login with the rights to do so. The sudo is because I'm writting a file to /opt.... I think.\n",
    "\n",
    "> cd /opt/impacket/examples <br>\n",
    "> sudo python3 secretsdump.py\n",
    "\n",
    "![Impacket_SecretsDumpExample.png](../images/Tools/Impacket_SecretsDumpExample.png)\n",
    "\n",
    "<hr>"
   ]
  },
  {
   "cell_type": "code",
   "execution_count": null,
   "id": "224c43c2-a92c-419e-8693-6fcc770170ad",
   "metadata": {},
   "outputs": [],
   "source": []
  }
 ],
 "metadata": {
  "kernelspec": {
   "display_name": "Python 3 (ipykernel)",
   "language": "python",
   "name": "python3"
  },
  "language_info": {
   "codemirror_mode": {
    "name": "ipython",
    "version": 3
   },
   "file_extension": ".py",
   "mimetype": "text/x-python",
   "name": "python",
   "nbconvert_exporter": "python",
   "pygments_lexer": "ipython3",
   "version": "3.10.5"
  }
 },
 "nbformat": 4,
 "nbformat_minor": 5
}
