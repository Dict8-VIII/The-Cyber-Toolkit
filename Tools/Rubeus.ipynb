{
 "cells": [
  {
   "cell_type": "markdown",
   "id": "cc94545f-c062-4910-93bd-1cbaa953e5be",
   "metadata": {},
   "source": [
    "# Rubeus\n",
    "\n",
    "Another tool for attacking kerberos. It is used for harvesting tickets for other attacks. You'll need to run this from a windows box.<br>\n",
    "\n",
    "https://github.com/GhostPack/Rubeus <br>\n",
    "\n",
    "For many of these attacks, you need to add the DC to the hosts file, this is different from linux\n",
    "\n",
    "> echo [ip] [DC] >> C:\\Windows\\System32\\drivers\\etc\\hosts\n",
    "\n",
    "## Harvesting\n",
    "\n",
    "![Rubeus_Harvest.png](../images/Tools/Rubeus_Harvest.png)<br>\n",
    "\n",
    "## Spraying\n",
    "Instead of trying to brute force passwords for a user, you can instead bruteforce users for a specific password. If the password is correct, you get the .kirbi TGT.<br>\n",
    "Example from https://tryhackme.com/room/attackingkerberos <br>\n",
    "\n",
    "![Rubeus_Spray.png](../images/Tools/Rubeus_Spray.png)<br>\n",
    "\n"
   ]
  },
  {
   "cell_type": "code",
   "execution_count": null,
   "id": "5de6d9ce-1e74-43d3-8414-f46d5373d4c6",
   "metadata": {},
   "outputs": [],
   "source": []
  }
 ],
 "metadata": {
  "kernelspec": {
   "display_name": "Python 3 (ipykernel)",
   "language": "python",
   "name": "python3"
  },
  "language_info": {
   "codemirror_mode": {
    "name": "ipython",
    "version": 3
   },
   "file_extension": ".py",
   "mimetype": "text/x-python",
   "name": "python",
   "nbconvert_exporter": "python",
   "pygments_lexer": "ipython3",
   "version": "3.10.5"
  }
 },
 "nbformat": 4,
 "nbformat_minor": 5
}
