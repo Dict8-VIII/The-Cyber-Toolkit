{
 "cells": [
  {
   "cell_type": "markdown",
   "id": "a228896e-d277-4d93-9e68-7e6cbb0c571b",
   "metadata": {},
   "source": [
    "# Hydra\n",
    "If youre trying to brute force a login, (THC) Hydra is the place to be. It supports MANY protocols, is very efficient and amazingly versatile.\n",
    "\n",
    "## Examples\n",
    "The basic structure of attacks doesnt really change unless youre doing something special.\n",
    "\n",
    "> hydra -l OR -L [login or list of logins] -p OR -P [password or list of passwords] [target] [protocol] [arguements]\n",
    "\n",
    "It looks complicated, but it's actually quite simple. Some examples\n",
    "\n",
    "### IMAP\n",
    "This example is taken from the [TryHackMe \"Protocols and Servers 2\" room](https://tryhackme.com/room/protocolsandservers2).\n",
    "\n",
    "> hydra -l lazie -P /home/kali/rockyou.txt 10.10.206.48 imap -t 16 -I\n",
    "\n",
    "![Tools-Hydra_IMAP.png](../images/Tools-Hydra_IMAP.png)\n",
    "\n",
    "Breaking this down, we have\n",
    "\n",
    "- hydra : run hydra\n",
    "- -l : use this specific login for all attempts\n",
    "- -P : use this list of passwords to itterate through\n",
    "- 10.10.206.48 : my target IP\n",
    "- imap : attack the IMAP service (default port 143)\n",
    "- -t 16 : use 16 threads\n",
    "- -I : dont wait, just override the restore file\n",
    "\n",
    "<hr>"
   ]
  },
  {
   "cell_type": "code",
   "execution_count": null,
   "id": "010a0a2d-6bfb-48ab-9375-674fcf4a89c2",
   "metadata": {},
   "outputs": [],
   "source": []
  }
 ],
 "metadata": {
  "kernelspec": {
   "display_name": "Python 3 (ipykernel)",
   "language": "python",
   "name": "python3"
  },
  "language_info": {
   "codemirror_mode": {
    "name": "ipython",
    "version": 3
   },
   "file_extension": ".py",
   "mimetype": "text/x-python",
   "name": "python",
   "nbconvert_exporter": "python",
   "pygments_lexer": "ipython3",
   "version": "3.8.1"
  }
 },
 "nbformat": 4,
 "nbformat_minor": 5
}
