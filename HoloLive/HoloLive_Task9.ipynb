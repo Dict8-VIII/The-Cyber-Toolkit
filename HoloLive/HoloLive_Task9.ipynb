{
 "cells": [
  {
   "cell_type": "markdown",
   "id": "2d6c25db-ee77-46a3-8d13-1f6812651949",
   "metadata": {},
   "source": [
    "# HoloLive Walkthrough - Task 9\n",
    "\n",
    "So, to start with we are told about Virtual Hosts, GoBuster & Wfuzz. Lets not get ahead of ourselves though, the first question asks for which directory the images on the server are loaded from:\n",
    "\n",
    "Theres a few ways to achieve this, but as the question specifically asks about the image directory, lets check that out. Open the web server in your browser, right click the 'image', and select \"Copy Image Location\"\n",
    "\n",
    "![Hololive-Task9_getLocation.png](../images/Hololive-Task9_getLocation.png)\n",
    "\n",
    "Paste it somewhere (I just opened a new tab), and you can see the domain (host)\n",
    "\n",
    "![Hololive-Task9_imageLocation.png](../images/Hololive-Task9_imageLocation.png)\n",
    "\n",
    "Easy Question, easy answer :-)\n",
    "\n",
    "They wont always be that easy. How you should probably check this is by viewing the source for the image. Right click a blank space and go \"view source\"\n",
    "\n",
    "![Hololive-Task9_viewSource.png](../images/Hololive-Task9_viewSource.png)\n",
    "\n",
    "You'll get a lot of code, look for something that looks like an image (spoiler alert, search .png)\n",
    "\n",
    "![Hololive-Task9_source.png](../images/Hololive-Task9_source.png)\n",
    "\n",
    "<hr>"
   ]
  },
  {
   "cell_type": "markdown",
   "id": "de48fc04-cb4a-4267-99f6-3ede00d371eb",
   "metadata": {},
   "source": [
    "We have our target, Great! Before we can do some brute forcing, we need to add the server to our hosts\n",
    "\n",
    "![Hololive-Task9_instructions.png](../images/Hololive-Task9_instructions.png)\n",
    "\n",
    "I just used nano\n",
    "> sudo nano /etc/hosts\n",
    "\n",
    "![Hololive-Task9_hostsfile.png](../images/Hololive-Task9_hostsfile.png)\n",
    "\n",
    "Now that that's out of the way lets throw some directories at it and see what sticks.\n",
    "\n",
    "The explaination gives us options, Gobuster or Wfuzz. I'm a fan of Gobuster so lets see what we find\n",
    "\n",
    "![Hololive-Task9_gobuster.png](../images/Hololive-Task9_gobuster.png)\n",
    "\n",
    "Well thats right to it, questions can be answered"
   ]
  },
  {
   "cell_type": "code",
   "execution_count": null,
   "id": "edf29d5c-fb3e-4a72-a3fe-20849c5e1b0a",
   "metadata": {},
   "outputs": [],
   "source": []
  }
 ],
 "metadata": {
  "kernelspec": {
   "display_name": "Python 3 (ipykernel)",
   "language": "python",
   "name": "python3"
  },
  "language_info": {
   "codemirror_mode": {
    "name": "ipython",
    "version": 3
   },
   "file_extension": ".py",
   "mimetype": "text/x-python",
   "name": "python",
   "nbconvert_exporter": "python",
   "pygments_lexer": "ipython3",
   "version": "3.10.2"
  }
 },
 "nbformat": 4,
 "nbformat_minor": 5
}
