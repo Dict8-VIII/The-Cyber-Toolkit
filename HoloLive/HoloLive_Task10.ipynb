{
 "cells": [
  {
   "cell_type": "markdown",
   "id": "3fd6bb12-5e8b-4688-9a12-1c33703ea0bf",
   "metadata": {},
   "source": [
    "# HoloLive Walkthrough - Task 10\n",
    "\n",
    "So, its time to fuzz some directories. But what does that mean?\n",
    "Fuzzing has a few definitions, depending on who you ask.\n",
    "* From a known string, modify some characters and try again. This is normally password related in our context. From \"Password123\"; try \"password123\", \"P@ssw0rd123\" etc\n",
    "* Brutforce subdomains on a website. From \"google.com\"; try \"admin.google.com\", \"dev.google.com\", \"dev.admin.google.com\" etc\n",
    "\n",
    "For this room, the second option is our goal"
   ]
  },
  {
   "cell_type": "code",
   "execution_count": null,
   "id": "8b45ae1d-5572-4e3c-b9cf-1471dcc4b873",
   "metadata": {},
   "outputs": [],
   "source": []
  }
 ],
 "metadata": {
  "kernelspec": {
   "display_name": "Python 3 (ipykernel)",
   "language": "python",
   "name": "python3"
  },
  "language_info": {
   "codemirror_mode": {
    "name": "ipython",
    "version": 3
   },
   "file_extension": ".py",
   "mimetype": "text/x-python",
   "name": "python",
   "nbconvert_exporter": "python",
   "pygments_lexer": "ipython3",
   "version": "3.10.2"
  }
 },
 "nbformat": 4,
 "nbformat_minor": 5
}
