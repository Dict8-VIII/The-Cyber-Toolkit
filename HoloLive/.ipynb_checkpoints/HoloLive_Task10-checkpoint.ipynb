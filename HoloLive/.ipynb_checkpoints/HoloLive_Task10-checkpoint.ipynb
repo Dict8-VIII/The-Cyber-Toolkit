{
 "cells": [
  {
   "cell_type": "markdown",
   "id": "3fd6bb12-5e8b-4688-9a12-1c33703ea0bf",
   "metadata": {},
   "source": [
    "# HoloLive Walkthrough - Task 10"
   ]
  }
 ],
 "metadata": {
  "kernelspec": {
   "display_name": "Python 3 (ipykernel)",
   "language": "python",
   "name": "python3"
  },
  "language_info": {
   "codemirror_mode": {
    "name": "ipython",
    "version": 3
   },
   "file_extension": ".py",
   "mimetype": "text/x-python",
   "name": "python",
   "nbconvert_exporter": "python",
   "pygments_lexer": "ipython3",
   "version": "3.10.2"
  }
 },
 "nbformat": 4,
 "nbformat_minor": 5
}
