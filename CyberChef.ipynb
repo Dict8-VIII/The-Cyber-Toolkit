{
 "cells": [
  {
   "cell_type": "markdown",
   "id": "3d758c3c-58fb-4ad3-9e53-2f2dd2cf5ced",
   "metadata": {},
   "source": [
    "# Cyberchef\n",
    "\n",
    "https://gchq.github.io/CyberChef/\n",
    "\n",
    "A great bit of software to encode/decode real time. You can add/remove filters to craft your own decoding method (Drag/Drop)\n",
    "\n"
   ]
  },
  {
   "cell_type": "code",
   "execution_count": 7,
   "id": "1cd7b02f-11b1-4ef4-92a5-36638057b7b7",
   "metadata": {
    "0": "h",
    "1": "i",
    "2": "d",
    "3": "e",
    "4": "_",
    "5": "i",
    "6": "n",
    "7": "p",
    "8": "u",
    "9": "t",
    "tags": []
   },
   "outputs": [
    {
     "data": {
      "text/html": [
       "<video src=\"videos/CyberChef.mp4\" controls  >\n",
       "      Your browser does not support the <code>video</code> element.\n",
       "    </video>"
      ],
      "text/plain": [
       "<IPython.core.display.Video object>"
      ]
     },
     "execution_count": 7,
     "metadata": {},
     "output_type": "execute_result"
    }
   ],
   "source": [
    "from IPython.display import Video\n",
    "Video(\"videos/CyberChef.mp4\")"
   ]
  },
  {
   "cell_type": "code",
   "execution_count": null,
   "id": "688bce0f-f10f-4088-90cb-147d2f9b33f6",
   "metadata": {},
   "outputs": [],
   "source": []
  }
 ],
 "metadata": {
  "kernelspec": {
   "display_name": "Python 3 (ipykernel)",
   "language": "python",
   "name": "python3"
  },
  "language_info": {
   "codemirror_mode": {
    "name": "ipython",
    "version": 3
   },
   "file_extension": ".py",
   "mimetype": "text/x-python",
   "name": "python",
   "nbconvert_exporter": "python",
   "pygments_lexer": "ipython3",
   "version": "3.10.2"
  }
 },
 "nbformat": 4,
 "nbformat_minor": 5
}
