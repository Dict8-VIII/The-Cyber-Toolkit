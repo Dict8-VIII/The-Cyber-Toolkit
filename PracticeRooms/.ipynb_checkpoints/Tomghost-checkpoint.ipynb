{
 "cells": [
  {
   "cell_type": "markdown",
   "id": "4f8b5a97-33ab-4b07-b8dd-7724f0500ed1",
   "metadata": {},
   "source": [
    "# Tomghost\n",
    "\n",
    "Another easy room, this one is focused around a specific vulnerability (from 2020). It's one of those notes about only enabling what you need. Ofcourse we dont know this going in, so we start as  normal :-)\n",
    "\n",
    "<hr>\n",
    "\n",
    "\n"
   ]
  },
  {
   "cell_type": "markdown",
   "id": "13907d53-8d7d-4977-8005-3dab5e9c2720",
   "metadata": {},
   "source": [
    "## Initial Steps\n",
    "\n",
    "\n",
    "### Nmap Scan\n",
    "Lets grab an nmap scan<br>\n",
    "![Tomghost_NmapResults.png](../images/PracticeRooms/Tomghost_NmapResults.png)<br>\n",
    "\n",
    "So this gives us 3 ports\n",
    "\n",
    "- 8080 : Browsing this gives us the default Tomcat page and a version 9.0.30\n",
    "- 8009 : Looks to be an Apache feature\n",
    "- 53 : DNS... this is an odd one to have featured... probably worth investigating at some point\n",
    "\n",
    "Browsing the 8080 page and sending it against gobuster give a few interesting pages (such as /examples giving an echo command). I tried using this for scripting but no joys there. <br>\n",
    "![Tomghost_documentation.png](../../images/PracticeRooms/Tomghost_documentation.png)<br>\n",
    "It also gives a link to subscribing for vulnerablity emails... ironic...\n",
    "\n",
    "### ExploitDB\n",
    "Theres no obvious exploits I can see here. The DNS looked interesting but I couldnt find anything obvious for it. Lets take a look at exploitDB<br>\n",
    "ExploitDB for Tomcat has https://www.exploit-db.com/exploits/49039. The search results werent quite clear, but checking it out it looks like its relevant for our version. The CVE is CVE-2020-1938. The description tells us theres also a Metasploit module for it, lets check it out.\n",
    "\n",
    "### Metasploit\n",
    "Let's start up Metasploit<br>\n",
    "![Tomghost_startmsf.png](../images/PracticeRooms/Tomghost_startmsf.png)<br>\n",
    "\n",
    "Find the module using the 'search' function. <br>\n",
    "![Tomghost_findmsfmodule.png](../images/PracticeRooms/Tomghost_findmsfmodule.png)<br>\n",
    "\n",
    "Set our options (namely the remote IP). Ports are default but we can compare these in Nmap if you want to.<br>\n",
    "![Tomghost_msfoptions.png](../images/PracticeRooms/Tomghost_msfoptions.png)<br>\n",
    "\n",
    "Then run the exploit<br>\n",
    "![Tomghost_msfexploit.png](../images/PracticeRooms/Tomghost_msfexploit.png)<br>\n",
    "\n",
    "If everything went well, you will get an nice pleasant user/password :-)<br>\n",
    "\n",
    "user: skyfuck<br>\n",
    "pass: 8730281lkjlkjdqlksalks<br>\n",
    "\n",
    "We can use these to log into the machine via SSH :-)\n",
    "\n",
    "<hr>"
   ]
  },
  {
   "cell_type": "markdown",
   "id": "888d02a1-7f27-4122-bfc7-c4996510e22d",
   "metadata": {},
   "source": [
    "## Looking Around\n",
    "\n",
    "*clack clack clack* I'm in.<br>\n",
    "\n",
    "Now what? Lets see what we've got in our home directory<br>\n",
    "![Tomghost_userdirectory.png](../images/PracticeRooms/Tomghost_userdirectory.png)<br>\n",
    "\n",
    "Those look interesting, Spin up a python server an pull them down.<br>\n",
    "![Tomghost_pullfiles.png](../images/PracticeRooms/Tomghost_pullfiles.png)<br>\n",
    "\n",
    "Taking a look around, the merlin directory also has a file. Its our user flag.<br>\n",
    "![Tomghost_usertxt.png](../images/PracticeRooms/Tomghost_usertxt.png)<br>\n",
    "\n",
    "Thats all I found looking around, Lets take a look at those files.\n",
    "\n",
    "<hr>"
   ]
  },
  {
   "cell_type": "markdown",
   "id": "abc41d71-d1a2-4f77-ab65-8261c36098c8",
   "metadata": {},
   "source": [
    "## PGP file\n",
    "\n",
    "I had to do a bit of research on this, I've never used a .asc file before so had to look it up. PGP, or pretty good privacy is an open encryption module that has quite an interesting background. For us today though, an ASC file stores a decryption key for a .pgp file. The ASC file is password protected. Anyways.....\n",
    "\n",
    "\n",
    "\n",
    "\n",
    "can decrypt using cmd version of PGP -> gpg, needs key though\n",
    "gpg --import 'key.asc'\n",
    "gpg --decrypt 'file.pgp'\n",
    "\n",
    "john can try\n",
    "![Tomghost_tojohn.png](attachment:21bc818d-a69c-423e-b3e4-d2fb91c71b17.png)\n",
    "![Tomghost_John.png](attachment:6cdf8f3a-3877-4178-b867-473ebab4aa76.png)\n",
    "![Tomghost_decrypt.png](attachment:a02b967e-f637-47ec-b591-21eebc93889c.png)\n",
    "\n",
    "merlin:asuyusdoiuqoilkda312j31k2j123j1g23g12k3g12kj3gk12jg3k12j3kj123j\n",
    "\n",
    "great, works\n",
    "gives us the user.txt file, already got it though"
   ]
  },
  {
   "cell_type": "markdown",
   "id": "b9eb4e58-6218-4120-8be3-eef6aecd7f95",
   "metadata": {},
   "source": [
    "## Escalate Root\n",
    "\n",
    "sudo -l \n",
    "![Tomghost_sudoable.png](attachment:43d494e7-95c8-41e2-ae6e-482cfcdc0045.png)\n",
    "\n",
    "![Tomghost_gtfo.png](attachment:317b046f-4c0d-43d5-bfb6-96fcb3d4a4a7.png)\n",
    "![Tomghost_getroot.png](attachment:68659f1c-4fbc-40f3-960f-7fe9713fb1e0.png)"
   ]
  }
 ],
 "metadata": {
  "kernelspec": {
   "display_name": "Python 3 (ipykernel)",
   "language": "python",
   "name": "python3"
  },
  "language_info": {
   "codemirror_mode": {
    "name": "ipython",
    "version": 3
   },
   "file_extension": ".py",
   "mimetype": "text/x-python",
   "name": "python",
   "nbconvert_exporter": "python",
   "pygments_lexer": "ipython3",
   "version": "3.10.5"
  }
 },
 "nbformat": 4,
 "nbformat_minor": 5
}
