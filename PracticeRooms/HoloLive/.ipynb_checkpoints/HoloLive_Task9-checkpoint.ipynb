{
 "cells": [
  {
   "cell_type": "markdown",
   "id": "2d6c25db-ee77-46a3-8d13-1f6812651949",
   "metadata": {},
   "source": [
    "# HoloLive Walkthrough - Task 9\n",
    "\n",
    "So, to start with we are told about Virtual Hosts, GoBuster & Wfuzz. Lets not get ahead of ourselves though, the first question asks for which directory the images on the server are loaded from:\n",
    "\n",
    "Theres a few ways to achieve this, but as the question specifically asks about the image directory, lets check that out. Open the web server in your browser, right click the 'image', and select \"Copy Image Location\"\n",
    "\n",
    "![Task9_GetLocation.png](../../Images/HoloLive/Task9_GetLocation.png)\n",
    "\n",
    "Paste it somewhere (I just opened a new tab), and you can see the domain (host)\n",
    "\n",
    "![Task9_ImageLocation.png](../../Images/HoloLive/Task9_ImageLocation.png)\n",
    "\n",
    "Easy Question, easy answer :-)\n",
    "\n",
    "They wont always be that easy. How you should probably check this is by viewing the source for the image. Right click a blank space and go \"view source\"\n",
    "\n",
    "![Task9_ViewSource.png](../../Images/HoloLive/Task9_ViewSource.png)\n",
    "\n",
    "You'll get a lot of code, look for something that looks like an image (spoiler alert, search .png)\n",
    "\n",
    "![Task9_Source.png](../../Images/HoloLive/Task9_Source.png)\n",
    "\n",
    "<hr>"
   ]
  },
  {
   "cell_type": "markdown",
   "id": "de48fc04-cb4a-4267-99f6-3ede00d371eb",
   "metadata": {},
   "source": [
    "We have our target, Great! Before we can do some brute forcing, we need to add the server to our hosts\n",
    "\n",
    "![Task9_Instructions.png](../../Images/HoloLive/Task9_Instructions.png)\n",
    "\n",
    "I just used nano\n",
    "> sudo nano /etc/hosts\n",
    "\n",
    "![Task9_HostsFile.png](../../Images/HoloLive/Task9_HostsFile.png)\n",
    "\n",
    "Now that that's out of the way lets throw some directories at it and see what sticks.\n",
    "\n",
    "The explaination gives us options, Gobuster or Wfuzz. I'm a fan of Gobuster so lets see what we find\n",
    "\n",
    "![Task9_GoBuster.png](../../Images/HoloLive/Task9_GoBuster.png)\n",
    "\n",
    "Well thats right to it, questions can be answered"
   ]
  },
  {
   "cell_type": "code",
   "execution_count": null,
   "id": "edf29d5c-fb3e-4a72-a3fe-20849c5e1b0a",
   "metadata": {},
   "outputs": [],
   "source": []
  }
 ],
 "metadata": {
  "kernelspec": {
   "display_name": "Python 3 (ipykernel)",
   "language": "python",
   "name": "python3"
  },
  "language_info": {
   "codemirror_mode": {
    "name": "ipython",
    "version": 3
   },
   "file_extension": ".py",
   "mimetype": "text/x-python",
   "name": "python",
   "nbconvert_exporter": "python",
   "pygments_lexer": "ipython3",
   "version": "3.11.4"
  }
 },
 "nbformat": 4,
 "nbformat_minor": 5
}
