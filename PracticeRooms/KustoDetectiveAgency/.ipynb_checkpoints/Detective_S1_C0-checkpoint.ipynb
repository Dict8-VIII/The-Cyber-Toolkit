{
 "cells": [
  {
   "cell_type": "markdown",
   "id": "69c5dca5-6be4-47e7-9235-fe5435454755",
   "metadata": {},
   "source": [
    "# Kusto Detective Agency Season 1 (Challenge 0)"
   ]
  },
  {
   "attachments": {},
   "cell_type": "markdown",
   "id": "8d26eb14-18cb-4167-a68a-6a7425ee2471",
   "metadata": {},
   "source": [
    "The first challenge is pretty much just getting set up. Follow the instructions as they are given to you until you have the database imported. While this challenge is trivial, take the time to understand what is going on and follow general best practices for investigating the data provided.<br>\n",
    "\n",
    "We should start by trying to understand the data we are working with. Our table is \"Onboarding\", which we can see in the provided script<br>\n",
    "![KDA_S1_C0_import.png](../../../../Images/Goals/Purview/KQL/KDA_S1_C0_import.png)<br>\n",
    "\n",
    "We can also see it in our data explorer view. If you expand the table you will see the columns and their associated types. In this case, it's very simple. However when approaching any new data you should always take time to understand what you're working with. One of the worst feelings is spending ages trying to extract data from a table then finding the result is already present in another column.<br>\n",
    "![KDA_S1_C0_columns.png](../../../../Images/Goals/Purview/KQL/KDA_S1_C0_columns.png)<br>\n",
    "\n",
    "So, now we know we've only got one column, lets take a look at the data. We COULD simply query the entire table<br>\n",
    "> Onboarding<br>\n",
    "\n",
    "however this will result in a lot of data and could be quite taxing on the backend. Instead we should grab a subset. We can achieve this with the top command. It requires a column to sort by, but as we only have one this is easy. In 'real' data, you could pick an arbritary column but general practice is either a record number (recnum) or create date.<br>\n",
    "> Onboarding<br>\n",
    "> | top 100 by Score<br>\n",
    "\n",
    "![KDA_S1_C0_top.png](../../../../Images/Goals/Purview/KQL/KDA_S1_C0_top.png)<br>\n",
    "\n",
    "So, our data is jus a list of random scores < 10 million. To sum them, we use the summarize command.<br>\n",
    "> Onboarding<br>\n",
    "> | summarize sum(Score)<br>\n",
    "\n",
    "![KDA_S1_C0_sum.png](../../../../Images/Goals/Purview/KQL/KDA_S1_C0_sum.png)<br>\n",
    "\n",
    "This will provide you the answer to the first challenge. They get harder, promise :-)\n",
    "<hr>"
   ]
  },
  {
   "cell_type": "code",
   "execution_count": null,
   "id": "8be5517a-49d8-4dcf-a1bf-4b8cf0bed5e1",
   "metadata": {},
   "outputs": [],
   "source": []
  }
 ],
 "metadata": {
  "kernelspec": {
   "display_name": "Python 3 (ipykernel)",
   "language": "python",
   "name": "python3"
  },
  "language_info": {
   "codemirror_mode": {
    "name": "ipython",
    "version": 3
   },
   "file_extension": ".py",
   "mimetype": "text/x-python",
   "name": "python",
   "nbconvert_exporter": "python",
   "pygments_lexer": "ipython3",
   "version": "3.11.4"
  }
 },
 "nbformat": 4,
 "nbformat_minor": 5
}
