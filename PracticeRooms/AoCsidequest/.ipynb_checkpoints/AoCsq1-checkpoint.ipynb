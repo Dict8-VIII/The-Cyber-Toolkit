{
 "cells": [
  {
   "attachments": {},
   "cell_type": "markdown",
   "id": "f9d59d0e-0853-4b68-a036-1cfd5cb87350",
   "metadata": {},
   "source": [
    "# Advent Of Cyber - Side Quest 1\n",
    "\n",
    "## Accessing the Room\n",
    "To get to this room, you're given some background and asked to find 4 codes across the THM social media. They were\n",
    "\n",
    "- in the room itself\n",
    "- Discord (Pinned at the top)\n",
    "- Linked In\n",
    "- Twitter\n",
    "\n",
    "![AoC_sq1_1Room.png](../../images/PracticeRooms/AoCSideQuest/AoC_sq1_1Room.png)![AoC_sq1_2Discord.png](../../images/PracticeRooms/AoCSideQuest/AoC_sq1_2Discord.png)<br>\n",
    "![AoC_sq1_3LinkedIn.png](../../images/PracticeRooms/AoCSideQuest/AoC_sq1_3LinkedIn.png)![AoC_sq1_4Twitter.png](../../images/PracticeRooms/AoCSideQuest/AoC_sq1_4Twitter.png)<br>\n",
    "\n",
    "assembling all 4 in the provided link gives you a new room: https://tryhackme.com/room/adv3nt0fdbopsjcap <br>\n",
    "(I'm pretty sure the link 'unlocks' it for you then forwards you)\n",
    "\n",
    "<hr>"
   ]
  },
  {
   "attachments": {},
   "cell_type": "markdown",
   "id": "cae129db-f321-47a0-905a-a51d45082290",
   "metadata": {},
   "source": [
    "## The challenge\n",
    "\n",
    "### Wifi Name\n",
    "So, download the task files, unzip them and load them up in wireshark. Straight away we can see the answer to our first question: What is the name of the Wifi Network<br>\n",
    "![AoC_sq1_WifiNetwork.png](../../images/PracticeRooms/AoCSideQuest/AoC_sq1_WifiNetwork.png)<br>\n",
    "\n",
    "### Wifi Password\n",
    "For the next challenge, we need to work out the Wifi Password. Naturally, it's encrypted (well, hashed) in the capture<br>\n",
    "![AoC_sq1_WifiNetwork.png](../../images/PracticeRooms/AoCSideQuest/AoC_sq1_WifiNetwork.png)<br>\n",
    "\n",
    "Buuuut, we know who loves hashes -> Hashcat. We cant' just pass the pcapng to hashcat though, we need to convert it to a format that hashcat can understand and attack. Naturally, theres a tool for that. Make sure you have seclists and hcxtools installed first <br>\n",
    "\n",
    "> sudo apt-get install hcxtools seclists<br>\n",
    "> hcxpcapngtool -o hash.hc22000 VanSpy.pcapng<br>![AoC_sq1_converthash.png](../../images/PracticeRooms/AoCSideQuest/AoC_sq1_converthash.png)<br>\n",
    "> hashcat -m 22000 hash.hc22000 /usr/share/seclists/Passwords/Leaked-Databases/rockyou.txt<br>![AoC_sq1_crackhash.png](../../images/PracticeRooms/AoCSideQuest/AoC_sq1_crackhash.png)\n",
    "\n",
    "I'll be honest, when I was researching this one, I actually needed the wordlist in the hash conversion too. When I ran it again it's not needed any more. No idea why it was recommended in the first case, I didnt keep the page I researched it on. Anyways, running the hash against rockyou gives the answer to the wifi password:<br>\n",
    "![AoC_sq1_crackedhash.png](../../images/PracticeRooms/AoCSideQuest/AoC_sq1_crackedhash.png)<br>\n",
    "\n",
    "### Suspicious Tool\n",
    "Now that we've got the wifi password, we can use it to decode the rest of the communication. Wireshark can do this automatically, https://wiki.wireshark.org/HowToDecrypt802.11<br>\n",
    "FYI, its a WPA-pwd key.<br>\n",
    "![AoC_sq1_wifikey.png](../../images/PracticeRooms/AoCSideQuest/AoC_sq1_wifikey.png)<br>\n",
    "\n",
    "Once decoded, you can see the communication over the 'wire'<br>\n",
    "![AoC_sq1_decoded.png](../../images/PracticeRooms/AoCSideQuest/AoC_sq1_decoded.png)<br>\n",
    "\n",
    "But what can we do with this? We are looking for a suspicous tool, so lets analyze the statistics of the capture. Conversations are a good way to sift through the data quickly. (If I'm honest, the first time I went though this I did it manually, it was not a fun experience. Once I found the fun stuff, I had a 'duh' moment. Live and learn....)<br>\n",
    "![AoC_sq1_Statistics.png](../../images/PracticeRooms/AoCSideQuest/AoC_sq1_Statistics.png)<br>\n",
    "\n",
    "From the conversations, jump to the TCP 1006 Tab (1006 is just the number of conversations in the list). By default, they are chronological. We can immediately see a LOT of traffic in the RDP session (TCP port 3389), but not much else in the way of size. Sorting by size gives a lot more helpful information though.<br>\n",
    "![AoC_sq1_ConversationsUnsorted.png](../../images/PracticeRooms/AoCSideQuest/AoC_sq1_ConversationsUnsorted.png)<br>\n",
    "![AoC_sq1_ConversationsSorted.png](../../images/PracticeRooms/AoCSideQuest/AoC_sq1_ConversationsSorted.png)<br>\n",
    "\n",
    "Hey, would you look at that, 19kB on port 4444. We know what 4444 is -> the default port for metasploit listeners... I'm sure I've commented on using defaults before.... Click on the row and select 'Follow Stream'. <br>\n",
    "Hey, would you look at that... Mimikatz<br>\n",
    "![AoC_sq1_stream.png](../../images/PracticeRooms/AoCSideQuest/AoC_sq1_stream.png)<br>\n",
    "\n",
    "### Case Number"
   ]
  },
  {
   "cell_type": "code",
   "execution_count": null,
   "id": "5c75ada7-36df-4018-a7be-67ec5e2dc6be",
   "metadata": {},
   "outputs": [],
   "source": []
  }
 ],
 "metadata": {
  "kernelspec": {
   "display_name": "Python 3 (ipykernel)",
   "language": "python",
   "name": "python3"
  },
  "language_info": {
   "codemirror_mode": {
    "name": "ipython",
    "version": 3
   },
   "file_extension": ".py",
   "mimetype": "text/x-python",
   "name": "python",
   "nbconvert_exporter": "python",
   "pygments_lexer": "ipython3",
   "version": "3.11.4"
  }
 },
 "nbformat": 4,
 "nbformat_minor": 5
}
