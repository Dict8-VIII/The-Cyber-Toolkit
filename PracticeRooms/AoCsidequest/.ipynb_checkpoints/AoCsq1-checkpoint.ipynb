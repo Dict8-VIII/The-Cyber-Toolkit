{
 "cells": [
  {
   "attachments": {},
   "cell_type": "markdown",
   "id": "f9d59d0e-0853-4b68-a036-1cfd5cb87350",
   "metadata": {},
   "source": [
    "# Advent Of Cyber - Side Quest 1\n",
    "\n",
    "## Accessing the Room\n",
    "To get to this room, you're given some background and asked to find 4 codes across the THM social media. They were\n",
    "\n",
    "- in the room itself\n",
    "- Discord (Pinned at the top)\n",
    "- Linked In\n",
    "- Twitter\n",
    "\n",
    "![AoC_sq1_1Room.png](../../images/PracticeRooms/AoCSideQuest/AoC_sq1_1Room.png)![AoC_sq1_2Discord.png](../../images/PracticeRooms/AoCSideQuest/AoC_sq1_2Discord.png)<br>\n",
    "![AoC_sq1_3LinkedIn.png](../../images/PracticeRooms/AoCSideQuest/AoC_sq1_3LinkedIn.png)![AoC_sq1_4Twitter.png](../../images/PracticeRooms/AoCSideQuest/AoC_sq1_4Twitter.png)<br>\n",
    "\n",
    "assembling all 4 in the provided link gives you a new room: https://tryhackme.com/room/adv3nt0fdbopsjcap <br>\n",
    "(I'm pretty sure the link 'unlocks' it for you then forwards you)\n",
    "\n",
    "<hr>"
   ]
  },
  {
   "cell_type": "markdown",
   "id": "cae129db-f321-47a0-905a-a51d45082290",
   "metadata": {},
   "source": [
    "## The challenge\n"
   ]
  }
 ],
 "metadata": {
  "kernelspec": {
   "display_name": "Python 3 (ipykernel)",
   "language": "python",
   "name": "python3"
  },
  "language_info": {
   "codemirror_mode": {
    "name": "ipython",
    "version": 3
   },
   "file_extension": ".py",
   "mimetype": "text/x-python",
   "name": "python",
   "nbconvert_exporter": "python",
   "pygments_lexer": "ipython3",
   "version": "3.11.4"
  }
 },
 "nbformat": 4,
 "nbformat_minor": 5
}
