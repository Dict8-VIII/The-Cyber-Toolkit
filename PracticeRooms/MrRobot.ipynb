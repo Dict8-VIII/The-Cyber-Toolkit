{
 "cells": [
  {
   "cell_type": "markdown",
   "id": "f6320b76-0a30-4c61-8724-22f48b791ef8",
   "metadata": {},
   "source": [
    "# MR Robot CTF room\n",
    "\n",
    "This page is the walkthrough for the Mr Robot CTF Room. It's a moderate level room and very little guidance is given in the task itself. It does include a walkthrough by DarkStar, but I like that youre expected to have some independance when challenging the room. The flags have multiple steps between them, so you arent even quite sure if youre on the right path.\n",
    "\n",
    "For this room, I learned about using Hydra to brute force a web page, instead of Burpsuite so thats quite helpful. I'm a bit unhappy about the password brute forcing though. The dictionary is quite large and the webserver doesnt seem to handle this very well (I'm not even sure if you could completed the dictionary in a 2hr window as the password is near the end). I even wrote my own program to bruteforce the password at a custom speed but the server couldnt keep up with this either. In Darkstar's walkthrough he doesnt even show it running, just says what the resulting password is.\n",
    "\n",
    "If youre attempting the room for the first time and want to do it without the walkthrough, reverse your password dictionary and start from the bottom. It just saves time....\n"
   ]
  },
  {
   "cell_type": "markdown",
   "id": "e9fbb541-125f-4eae-bc68-33a51a55b08f",
   "metadata": {},
   "source": [
    "## First Steps - NMAP\n",
    "So, we have a new room to go through. Start up the machine and lets go with an NMAP scan.\n",
    "\n",
    "![MrRobot_Nmap.png](../images/PracticeRooms/MrRobot_Nmap.png)\n",
    "\n",
    "So we have\n",
    "- 22 : SSH, thats going to be for later I'm sure\n",
    "- 80 : HTTP, we've got a website to explore\n",
    "- 443 : HTTPS, probably the same as above\n",
    "\n",
    "<hr>\n",
    "\n",
    "## Website Browsing\n",
    "Exploring the website, there looks to be quite a bit of flavour text, nothing jumping out. Lets kick of GoBuster... <br>\n",
    "While thats running, lets take a look at some standard locations.\n",
    "\n",
    "### Standard Locations - Robots.txt\n",
    "Just adding /robots.txt to the URL and we get this:\n",
    "\n",
    "![MrRobot_Robots.txt.png](../images/PracticeRooms/MrRobot_Robots.png)\n",
    "\n",
    "Great\n",
    "- add the .txt file to the path (instead of robots.txt) and we get the first key\n",
    "- pull the dict with wget\n",
    "![MrRobot_WgetDic.png](../images/PracticeRooms/MrRobot_WgetDic.png)\n",
    "\n",
    "### Gobuster\n",
    "So we have a dictionary, it looks to be for passwords. So now what? Lets take a look at our GoBuster scan.\n",
    "![MrRobot_GoBuster.png](../images/PracticeRooms/MrRobot_GoBuster.png)\n",
    "\n",
    "So, a few interesting things here\n",
    "\n",
    "- /login : Forwards us to WP-Login\n",
    "- /admin : Gives us a page that just keeps reloading. Interesting but not much we can do there right now.\n",
    "- /robots : This is the one we already guessed.\n",
    "\n",
    "<hr>"
   ]
  },
  {
   "cell_type": "markdown",
   "id": "7d18718e-adeb-4576-a9b1-9bec373a647f",
   "metadata": {},
   "source": [
    "## Brute Forcing the Login Page\n",
    "Now we have a dictionary of (what I assume) are passwords, and a login page. But that is only 2/3 we need. We could probably brute force the users & passwords with 2 lists and BurpSuite, but I'm on the free one and I've only got a lifespan of about 90 years...<br>\n",
    "![AintNobody.png](../images/Generic/AintNobody.png)<br>\n",
    "\n",
    "So, what else can we do? Lets take a look at the website and try a few things. How about guessing some obvious passwords, like admin/admin?<br>\n",
    "![MrRobot_InvalidUser.png](../images/PracticeRooms/MrRobot_InvalidUser.png)<br>\n",
    "And that didnt work... but wait, theres more! Our error actually gives us tha we have an invalid username... Well thats helpful. Now we can just try bruteforce a login by itself. Again Burp will take forever, but [Hydra](../Tools/Hydra.ipynb) can actually do this for us too.\n",
    "\n",
    "### Bruteforce the Login\n",
    "Following the Hydra method:<br>\n",
    "![Hydra_WebForm.png](../images/Tools/Hydra_WebForm.png)<br>\n",
    "\n",
    "We get the user Elliot. Its got the wrong password but thats fine, we can now focus on that. Trying the username now gives us a different message. <br>\n",
    "![MrRobot_InvalidPassword.png](../images/PracticeRooms/MrRobot_InvalidPassword.png)<br>\n",
    "\n",
    "Lets modify Hydra to now search for the password<br>\n",
    "![MrRobot_HydraPassword.png](../images/PracticeRooms/MrRobot_HydraPassword.png)<br>"
   ]
  },
  {
   "cell_type": "code",
   "execution_count": null,
   "id": "25b1e817-ff7b-4910-b332-f55fb7d6a03b",
   "metadata": {},
   "outputs": [],
   "source": []
  }
 ],
 "metadata": {
  "kernelspec": {
   "display_name": "Python 3 (ipykernel)",
   "language": "python",
   "name": "python3"
  },
  "language_info": {
   "codemirror_mode": {
    "name": "ipython",
    "version": 3
   },
   "file_extension": ".py",
   "mimetype": "text/x-python",
   "name": "python",
   "nbconvert_exporter": "python",
   "pygments_lexer": "ipython3",
   "version": "3.10.5"
  }
 },
 "nbformat": 4,
 "nbformat_minor": 5
}
