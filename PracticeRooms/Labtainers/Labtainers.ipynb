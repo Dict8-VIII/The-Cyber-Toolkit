{
 "cells": [
  {
   "attachments": {},
   "cell_type": "markdown",
   "metadata": {},
   "source": [
    "# Labtainers\n",
    "\n",
    "Labtainers is a collection of labs published by the US Navy Postgraduate school. More details can be found on their page <a href=\"https://nps.edu/web/c3o/labtainers\">here</a>. They include walkthroughs so I wont get too far into it here. This page is more to record some rooms or interesting finds. Any tools used will have their own pages.<br>\n",
    "\n",
    "## General Process\n",
    "The general process for all the labs is the same\n",
    "\n",
    "1. In the labtainers VM, open the terminal\n",
    "2. Enter labtainer [room]\n",
    "3. RTFM\n",
    "4. Press enter to start\n",
    "5. When youre finished, type exit to close the containers\n",
    "6. Type stoplab to close the lab internally and do all the reporting things.\n",
    "\n",
    "Rooms used:\n",
    "\n",
    "> wireshark-basics<br>\n",
    "> network-basics<br>\n",
    "> nmap-discovery<br>\n",
    "\n",
    "<hr>"
   ]
  },
  {
   "attachments": {},
   "cell_type": "markdown",
   "metadata": {},
   "source": []
  }
 ],
 "metadata": {
  "language_info": {
   "name": "python"
  },
  "orig_nbformat": 4
 },
 "nbformat": 4,
 "nbformat_minor": 2
}
