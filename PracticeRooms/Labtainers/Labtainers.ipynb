{
 "cells": [
  {
   "attachments": {},
   "cell_type": "markdown",
   "metadata": {},
   "source": [
    "# Labtainers\n",
    "\n",
    "Labtainers is a collection of labs published by the US Navy Postgraduate school. More details can be found on their page <a href=\"https://nps.edu/web/c3o/labtainers\">here</a>. They include walkthroughs so I wont get too far into it here. This page is more to record some rooms or interesting finds. Any tools used will have their own pages.<br>\n",
    "\n",
    "## General Process\n",
    "The general process for all the labs is the same\n",
    "\n",
    "1. In the labtainers VM, open the terminal\n",
    "2. Enter labtainer [room]\n",
    "3. Let it download the lab. 'log in' (its just a user to record against)\n",
    "4. RTFM\n",
    "5. Press enter to start\n",
    "6. When youre finished, type exit to close the containers\n",
    "7. Type stoplab to close the lab internally and do all the reporting things.\n",
    "\n",
    "Rooms used:\n",
    "\n",
    "> wireshark-intro<br>\n",
    "> network-basics<br>\n",
    "> nmap-discovery<br>\n",
    "\n",
    "<hr>"
   ]
  },
  {
   "attachments": {},
   "cell_type": "markdown",
   "metadata": {},
   "source": [
    "## Wireshark Intro\n",
    "\n",
    "This one actually fails to launch for me, with missing dependencies.... huh. Google says reboot so I did... Didnt work.<br>\n",
    "Ran update-labtainer.sh, and now it works.<br>\n",
    "\n",
    "As for the lab itself, its just finding a telnet stream (by filtering for \"telnet.data\") then following the stream to find the password packets. Only a couple of steps here.\n",
    "\n",
    "<hr>"
   ]
  },
  {
   "cell_type": "markdown",
   "metadata": {},
   "source": [
    "## Network Basics\n",
    "This lab introduces TCPdump, a tool for dumping the output of a TCP port or interface. We used it to analyze a SSH connection for the 3-way handshake. Pretty standard here except the flags looks a bit strange. [S] is the SYN, nice and logical there. The SYN-ACK is [S.] however (with a . symbolizing the ACK part). Following this we have the pure ACK, just a [.]. This is explained, just make sure you read.\n",
    "\n",
    "<hr>"
   ]
  },
  {
   "cell_type": "markdown",
   "metadata": {},
   "source": [
    "## Nmap-discovery\n",
    "Finally one that doesnt hold your hand. The scenario is you have to find an ssh server on the network, but aren't given an IP and its not on the default port... Fun.<br>\n",
    "So, for Nmap, we really need two things. A list of targets and a list of ports. While we could throw it all together, I decided to try find the targets firs. I just thought it would be faster than scanning everywhere. I scanned the whole current subnet, more as an educated guess than anything else\n",
    "\n",
    "> nmap -sn 172.25.0.0/16 -v\n",
    "\n",
    "This found 2 addresses quite quickly; us (ignoring that) and 172.25.0.5, 'nmap-discovery.friedshrimp.student.intranet'. Considering we are looking for 'friedshrimp', I'll take it as what we are after. Next we scan the ports to see where to connect.\n",
    "\n",
    "> nmap 172.25.0.5 -p 2000-3000\n",
    "\n",
    "and we get port 2601/tcp 'zebra'. The manual tells us how to connect \"ssh -p [port] [target].\n",
    "\n",
    "> ssh -p 2601 172.25.0.5\n",
    "\n",
    "We can then ls then cat the found file. And we're done.\n",
    "\n",
    "<hr>"
   ]
  }
 ],
 "metadata": {
  "language_info": {
   "name": "python"
  },
  "orig_nbformat": 4
 },
 "nbformat": 4,
 "nbformat_minor": 2
}
