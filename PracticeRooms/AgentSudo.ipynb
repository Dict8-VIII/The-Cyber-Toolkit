{
 "cells": [
  {
   "cell_type": "markdown",
   "id": "1fd6448e-1f50-4846-98bb-ef119ebd2f08",
   "metadata": {},
   "source": [
    "# Agent Sudo\n",
    "\n",
    "This is an \"Easy\" level room that comes with a bit of everything. Scanning, Hashing, brute force and steganography. I havent seen a lot here that actually covers steganography so it was a bit of googling for me."
   ]
  },
  {
   "cell_type": "markdown",
   "id": "a449d583-c684-4e7b-ba5d-7db7d87c7219",
   "metadata": {},
   "source": [
    "## First Steps\n",
    "\n",
    "As normal, we can start with a scan. Nmap for the standard ports is a good start<br>\n",
    "![AgentSudo_NmapScan.png](../images/PracticeRooms/AgentSudo_NmapScan.png) <br>\n",
    "\n",
    "So, we have 3 open ports\n",
    "- FTP\n",
    "- SSH\n",
    "- HTTP\n",
    "\n",
    "FTP we can look at later, lets start with the website.\n",
    "\n",
    "<hr>\n"
   ]
  },
  {
   "cell_type": "markdown",
   "id": "c935d99a-48fc-4b82-a761-5e0e52042382",
   "metadata": {},
   "source": [
    "## Website Access\n",
    "\n",
    "So we bring up the website, and are greeted with: <br>\n",
    "![AgentSudo_WelcomePage.png](../images/PracticeRooms/AgentSudo_WelcomePage.png)<br>\n",
    "\n",
    "What does it mean though? After a bit of googling, the 'user-agent' is just a header that is passed to the site. We can see this by capturing the request in BurpSuite.<br>\n",
    "![AgentSudo_BurpProxy.png](../images/PracticeRooms/AgentSudo_BurpProxy.png)<br>\n",
    "\n",
    "> Now, as an aside here, I actually had trouble with this next part. It asks to provide a codename to the site, but I couldnt see any example code names. So my thought was to just brute force it. The problem with this however is that Burp is SLOW and I didnt have another tool that could pass header values to a site. In the end I just made my own program to brute force it, [WebBruteForce v1.0](../Tools/Programs/WebBruteForce.ipynb). I set it up and ran it, but it didnt give me a valid name... I thought about it over the next day and had a bit of a D'oh! moment. The result is the steps below.\n",
    "\n",
    "Now that we know where to replace (user-agent), we need to generate a list of guesses. We can see that \"Agent C\" signed off the welcome message, so lets start with that. Send it to repeater and we'll see what we get. <br>\n",
    "<br>\n",
    "\n",
    "Doesnt look good... how about just \"C\"<br>\n",
    "![AgentSudo_BurpRepeater.png](../images/PracticeRooms/AgentSudo_BurpRepeater.png)<br>\n",
    "\n",
    "Still looks similar, but we can see we got back a redirect. Clicking the \"Follow Redirection\" tab gives us a new page. Yay.<br>\n",
    "![AgentSudo_BurpRendered.png](../images/PracticeRooms/AgentSudo_BurpRendered.png) <br>\n",
    "\n",
    "<hr>\n"
   ]
  },
  {
   "cell_type": "markdown",
   "id": "57be4e93-149f-4d8e-8f77-e5f0fce6aacc",
   "metadata": {},
   "source": [
    "## FTP access\n",
    "\n",
    "So, remember how I said we'll look at FTP later, well here we are. We have a username now (chris), and a note saying the password is weak. Thats nice of them. Time to spin up hydra me thinks. <br>\n",
    "![AgentSudo_HydraFTP.png](../images/PracticeRooms/AgentSudo_HydraFTP.png) <br>\n",
    "\n",
    "Nice, now we can log in. Listing our directory gives 3 files. Lets grab all 3. <br>\n",
    "![AgentSudo_FTPFiles.png](../images/PracticeRooms/AgentSudo_FTPFiles.png) <br>\n",
    "\n",
    "<hr>\n"
   ]
  },
  {
   "cell_type": "markdown",
   "id": "1be7f566-7c17-4a58-a393-017104e79471",
   "metadata": {},
   "source": [
    "## Steganography\n",
    "\n",
    "Jumping the gun a bit here, but it's where we are heading. Take a look at the txt file we just grabbed. Agent C is implying that Agent J's password is stored in the pictures. If we look at the pictures they seem normal though. Spoiler alert: they arent.\n",
    "\n",
    "### Exiftool\n",
    "Running Exiftool on the files gives us our first clue. The JPG file \"looks\" pretty normal, but the PNG has a warning about data after the end of the PNG file.<br>\n",
    "![AgentSudo_ExifPNG.png](../images/PracticeRooms/AgentSudo_ExifPNG.png)<br>\n",
    "\n",
    "### Binwalk\n",
    "This will give us an idea what the extra data might be (and allow us to extract it)<br>\n",
    "![AgentSudo_Binwalk.png](../images/PracticeRooms/AgentSudo_Binwalk.png)<br>\n",
    "\n",
    "Ding ding ding! Extract out the files with -e. The will be put in a folder named \"_\\<originalFileName>\"\n",
    "\n",
    "### Cracking the Zip\n",
    "John does this in his sleep. I've already done it so the password doesnt show, \"alien\"<br>\n",
    "![AgentSudo_ZipCracking.png](../images/PracticeRooms/AgentSudo_ZipCracking.png)\n",
    "\n",
    "We can now extract the zip and take a look\n",
    "\n",
    "> 7z e 8702.zip\n",
    "\n",
    "We now have a populated \"to_agentR.txt\"<br>\n",
    "![AgentSudo_ToR.png](../images/PracticeRooms/AgentSudo_ToR.png)\n",
    "\n"
   ]
  },
  {
   "cell_type": "markdown",
   "id": "63692c25-4a94-487f-a3f8-bc0f31a0a2c4",
   "metadata": {},
   "source": [
    "### Steghide\n",
    "So we have a password, but what's it for? We dont have another user yet so probably not for FTP/SSH. But we DO have another image that 'looked' normal. As it's a JPG, there is a specific tool for hiding content : steghide (it's also used for wav files btw)."
   ]
  }
 ],
 "metadata": {
  "kernelspec": {
   "display_name": "Python 3 (ipykernel)",
   "language": "python",
   "name": "python3"
  },
  "language_info": {
   "codemirror_mode": {
    "name": "ipython",
    "version": 3
   },
   "file_extension": ".py",
   "mimetype": "text/x-python",
   "name": "python",
   "nbconvert_exporter": "python",
   "pygments_lexer": "ipython3",
   "version": "3.10.5"
  }
 },
 "nbformat": 4,
 "nbformat_minor": 5
}
