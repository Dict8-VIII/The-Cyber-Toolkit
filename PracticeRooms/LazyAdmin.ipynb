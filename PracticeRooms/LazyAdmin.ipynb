{
 "cells": [
  {
   "cell_type": "markdown",
   "id": "00519c0e-5d0b-44ee-82fb-39ea6b37f29a",
   "metadata": {},
   "source": [
    "# LazyAdmin\n",
    "\n",
    "Welcome to the LazyAdmin room. This is a easy level room which is completely self guided, you are asked for the user flag (gaining a shell) and then the root flag, escalating to root. There is a bit of research needed here but it's one of the easier rooms I've done so far, with a few little 'got-ya-s'. I'll mention these when I get to them.\n",
    "\n",
    "<hr>"
   ]
  },
  {
   "cell_type": "markdown",
   "id": "1e6dcce9-0c90-47cd-8ccb-96afc698dbcd",
   "metadata": {},
   "source": [
    "## First Steps\n",
    "So, we've got an IP, lest start with a scan. Nmap gives us 2 ports on the standard scan. <br>\n",
    "![LazyAdmin_Nmap.png](../../images/PracticeRooms/LazyAdmin_Nmap.png)<br>\n",
    "\n",
    "So we have HTTP and SSH. SSH tends to be a later stage step, so lets bring up the HTTP connection. It looks to be the default page. Guess where the Lazy in the room came from...<br>\n",
    "\n",
    "Nothing looks obvious here, lets spin up GoBuster and Nikto. For me, GoBuster gave the first bit of useful info, a /content directory.<br>\n",
    "![LazyAdmin_GoBuster.png](../../images/PracticeRooms/LazyAdmin_GoBuster.png)<br>\n",
    "\n",
    "Bring up this page brings us a default page for \"sweetrice\", a CMS system. Great. Theres a few pages on Exploit-DB about sweetrice, but for the sake of investigation I didnt start here. If you want to skip ahead, go to the end of the chapter and use the login in the /content/as directory.<br>\n",
    "\n",
    "Running GoBuster on the /content directory gives us a few more sub directories\n",
    "- /inc\n",
    "- /as\n",
    "- /images\n",
    "- /_themes\n",
    "- /attachment\n",
    "\n",
    "These are more interesting than the content page. A few are browsable directories and the /as is a login page. <br>\n",
    "![LazyAdmin_LoginPage.png](../../images/PracticeRooms/LazyAdmin_LoginPage.png)<br>\n",
    "\n",
    "As we dont have any logins yet, lets start with directory browsing. The images page is boring, /inc gives us some fun data though. We get version 1.5.1 from the Lastest.txt file (good England there...) but the backup directory also looking quite tasty. We have a SQL backup in there.<br>\n",
    "![LazyAdmin_BackupLocation.png](../../images/PracticeRooms/LazyAdmin_BackupLocation.png)<br>\n",
    "\n",
    "Using your tool of choice, examining the backup drops all the tables then repopulates them. A weird backup process but OK... However when we examine the file, the repopulation includes the Admin account in the database. Cool. I just threw it into crackstation and it came back with a password.<br>\n",
    "![LazyAdmin_BackupDetails.png](../../images/PracticeRooms/LazyAdmin_BackupDetails.png)<br>\n",
    "\n",
    "The file can be a bit hard to read, but the Admin Account is \"manager\" with the password \"Password123\". Throw it into your login page and we are now connected\n",
    "\n",
    "<hr>"
   ]
  },
  {
   "cell_type": "markdown",
   "id": "ca131e9c-5783-4092-ad7b-f2bc88243bc8",
   "metadata": {},
   "source": [
    "## Getting to a Shell\n",
    "\n",
    "jump to ads, add a new one and copy the reverse shell script. name code. Start listener and navigate\n",
    "![LazyAdmin_AdsExploit.png](attachment:67199436-6fc2-4f43-91fb-ba811e7027ea.png)\n",
    "\n",
    "http://10.10.221.72/content/inc/ads/code.php\n",
    "\n",
    "user flag is in itguy's folder\n",
    "![LazyAdmin_UserFlag.png](attachment:8fd395bf-5590-4de6-b1ff-97ca3988b3a4.png)\n",
    "\n",
    "theres a sql login: rice:randompass\n",
    "\n",
    "can run sudo -l, gives a perl script with sh running.... helpful.. but its only root writable\n",
    "![LazyAdmin_Sudo.png](attachment:833c7555-302d-41cf-8a19-e86e776e3384.png)\n",
    "\n",
    "The shell itslef runs somethign else though. which we can write too\n",
    "![LazyAdmin_copySH.png](attachment:cc0cf9a7-5e4f-4e28-b7f8-6abf30ca60c4.png)\n",
    "\n",
    "It keeps not allowing sudo even though we have NoPasword enabled.... annoying. Fix is here\n",
    "![LazyAdmin_GetRoot.png](attachment:0caceea0-7ef8-4a5d-8d05-cdd7966cdb5c.png)\n",
    "\n",
    "flag is /root/root.txt"
   ]
  }
 ],
 "metadata": {
  "kernelspec": {
   "display_name": "Python 3 (ipykernel)",
   "language": "python",
   "name": "python3"
  },
  "language_info": {
   "codemirror_mode": {
    "name": "ipython",
    "version": 3
   },
   "file_extension": ".py",
   "mimetype": "text/x-python",
   "name": "python",
   "nbconvert_exporter": "python",
   "pygments_lexer": "ipython3",
   "version": "3.10.5"
  }
 },
 "nbformat": 4,
 "nbformat_minor": 5
}
