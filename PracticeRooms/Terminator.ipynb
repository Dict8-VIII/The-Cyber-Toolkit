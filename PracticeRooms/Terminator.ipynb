{
 "cells": [
  {
   "cell_type": "markdown",
   "id": "03e2b37b-2596-4959-ae6c-32fc9dc557c9",
   "metadata": {},
   "source": [
    "# Terminator\n",
    "\n",
    "Gobuster after, to get where its used (squirrelmail)"
   ]
  },
  {
   "cell_type": "markdown",
   "id": "a766815a-3701-48d3-846c-9121b1c61e65",
   "metadata": {},
   "source": [
    "This is a Terminator themed room, at the \"easy\" level\n",
    "\n",
    "## First steps\n",
    "\n",
    "As normal, lets start with an Nmap scan of the server<br>\n",
    "![Terminator_Nmap.png](../images/PracticeRooms/Terminator_Nmap.png)<br>\n",
    "\n",
    "Ok, a few things to look at today\n",
    "\n",
    "- 22 FTP\n",
    "- 80 Web Server\n",
    "- 110 POP3\n",
    "- 139 NetBios (Samba)\n",
    "- 143 IMAP\n",
    "- 445 NetBios (samba)\n",
    "\n",
    "### IMAP / POP3\n",
    "I've never played with these before so I started here. IMAP didnt allow authentication over unsecure (requires SSL/TLS), a non starter for me atm. POP3 couldnt really get me anywhere. Skipping past these for now\n",
    "\n",
    "<hr>\n"
   ]
  },
  {
   "cell_type": "markdown",
   "id": "7c48ccdb-7bef-4604-a797-f5b25f7610cc",
   "metadata": {},
   "source": [
    "## SMB\n",
    "Ok, SMB tends to give away a bit, so lets go there next. Nmap has a built in enum script for this:<br>\n",
    "![Terminator_NmapEnumShares.png](../images/PracticeRooms/Terminator_NmapEnumShares.png) <br>\n",
    "\n",
    "Now we're getting somewhere. Both the anonymous and IPC directorys have anonymous access, im going to start with the anonymous one.<br>\n",
    "![Terminator_SMBaccess.png](../images/PracticeRooms/Terminator_SMBaccess.png)<br>\n",
    "Which was indeed very interesting. I've grabbed the txt files in the initial directory and the log1 file from the logs directory. These look a lot like passwords, which the attention.txt file supports:<br>\n",
    "![Terminator_SMBfiles.png](../images/PracticeRooms/Terminator_SMBfiles.png)\n",
    "\n",
    "### Using the Found Passwords\n",
    "Now that we have a list of passwords, lets try use these against the share we dont have a login for:<br>\n",
    "Aaaand, I got nothing using the username\n",
    "- MilesDyson\n",
    "- Miles\n",
    "\n",
    "What else have we got?\n",
    "\n",
    "<hr>\n"
   ]
  },
  {
   "cell_type": "markdown",
   "id": "fdc53037-c373-4b5b-84aa-44641aef496a",
   "metadata": {},
   "source": [
    "## Website Enumeration\n",
    "So we have a user and password, but nowhere to put it.... thats annoying... Lets move on to the website enumeration. I'm a fan of gobuster so I'll start there<br>\n",
    "![Terminator_GoBusterScan.png](../images/PracticeRooms/Terminator_GoBusterScan.png)<br>\n",
    "\n",
    "- No luck in the /Admin or /ai pages\n",
    "\n",
    "SquirrelMail is an interesting one though, its asks for a username and password. Burp makes short work of that...<br>\n",
    "![Terminator_BurpSquirrelMail.png](../images/PracticeRooms/Terminator_BurpSquirrelMail.png)<br>\n",
    "\"cyborg007haloterminator\"... nice....\n",
    "\n",
    "### Exploring\n",
    "So, we have a webmail box...<br>\n",
    "![Terminator_Inbox.png](../images/PracticeRooms/Terminator_Inbox.png)<br>\n",
    "\n",
    "- Nothing in the Drafts, sent or Trash\n",
    "- 2 emails look a bit noisy... cyberchef gives one back as a string from the other, might be something for later\n",
    "- The other one is a password reset for SMB... well thats helpful: \n",
    ")s{A&2Z=F^n_E.B`\n",
    "\n",
    "<hr>\n"
   ]
  },
  {
   "cell_type": "markdown",
   "id": "1c5f62e9-fea8-4eb2-9af1-6e756c912068",
   "metadata": {},
   "source": [
    "## Back to SMB\n",
    "Lets try this back in Miles SMB share:<br>\n",
    "![Terminator_MilesDirectory.png](../images/PracticeRooms/Terminator_MilesDirectory.png)<br>\n",
    "\n",
    "Ok, wasnt expecting that... Lets see what's in \"notes\"<br>\n",
    "![Terminator_Notes.png](../images/PracticeRooms/Terminator_Notes.png)<br>\n",
    "\n",
    "Well that looks Important. \"Get\" it then take a look<br>\n",
    "![Terminator_Important.png](../images/PracticeRooms/Terminator_Important.png) <br>\n",
    "Nice /45kra24zxs28v3yd\n",
    "\n",
    "<hr>\n"
   ]
  },
  {
   "cell_type": "markdown",
   "id": "20ac2716-536e-4021-b541-434398800b9f",
   "metadata": {},
   "source": [
    "## Now What?\n",
    "\n",
    "Ok, we've sorta hit a dead end now. That page wasnt very fun. That being said, it was mentioned that this directory is a beta version. Maybe there is more in this subdirectory?<br>\n",
    "![Terminator_GobusterAgain.png](..\\images\\PracticeRooms\\Terminator_GobusterAgain.png)"
   ]
  },
  {
   "cell_type": "code",
   "execution_count": null,
   "id": "811b9a2b-b013-4f31-8949-da3b8a77508c",
   "metadata": {},
   "outputs": [],
   "source": []
  }
 ],
 "metadata": {
  "kernelspec": {
   "display_name": "Python 3 (ipykernel)",
   "language": "python",
   "name": "python3"
  },
  "language_info": {
   "codemirror_mode": {
    "name": "ipython",
    "version": 3
   },
   "file_extension": ".py",
   "mimetype": "text/x-python",
   "name": "python",
   "nbconvert_exporter": "python",
   "pygments_lexer": "ipython3",
   "version": "3.10.5"
  }
 },
 "nbformat": 4,
 "nbformat_minor": 5
}
