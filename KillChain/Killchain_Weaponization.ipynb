{
 "cells": [
  {
   "cell_type": "markdown",
   "id": "beaf8adf-bf53-4a2d-98c9-743a8df5ecce",
   "metadata": {},
   "source": [
    "# Killchain - Weaponization\n",
    "\n",
    "Weaponization is the process of creating a payload that will be used for an attack. It follows Recon to understand what attacks may work, and preceeds delivery because well... you need something to deliver. In many cases, the payload will be embedded in something else (such as a PDF or email) and these are all included in weaponization.\n",
    "\n",
    "<hr>\n",
    "\n",
    "\n",
    "\n",
    "\n"
   ]
  },
  {
   "cell_type": "markdown",
   "id": "b344a746-f7bf-434e-bc3c-59b87ab54302",
   "metadata": {},
   "source": [
    "## Windows Example: WSH / Wscript/CScript\n",
    "WSH, or the Windows Script Host is a built in tool for automating tasks in the windows OS. It includes 2 engines\n",
    "- cscript.exe : For command line\n",
    "- wscript.exe : For a UI\n",
    "\n",
    "Both execute VisualBasic scripts such as .vbs and .vbe. When a script is run, it runs with the rights of a standard user.<br>\n",
    "\n",
    "**Example VBScript (alert box):**<br>\n",
    "\n",
    "> Dim message <br>\n",
    "> message = \"Wassup!!!\"<br>\n",
    "> MsgBox message\n",
    "\n",
    "So, what does this do? First we define a variable \"message\", then we set it to the value \"Wassup!!!\" and lastly we display it in a popup/alert/message box. <br>\n",
    "\n",
    "\n",
    "**Example VBScript (run shell command):**\n",
    "\n",
    "> Set shell = Wscript.CreateObject(\"Wscript.Shell\")<br>\n",
    "> shell.Run(\"C:\\WIndows\\System32\\Explorer.exe\" & WScript.ScroptFUllName),0,True\n",
    "\n",
    "You can now run this, and it will launch an explorer window. Sometimes a vbs extension can be blocked. Fortunately you can just store it as a .txt file and call the file with an arguement to force the extension.<br>\n",
    "\n",
    "> wscript /e:VBScript [sneakyfile.txt]\n",
    "\n",
    "<hr>"
   ]
  },
  {
   "cell_type": "markdown",
   "id": "feb40c59-0cd4-496b-824c-ede1de737c21",
   "metadata": {},
   "source": [
    "## Windows Example: HTA\n",
    "\n",
    "An HTA, or HTML Application is simply a standalone HTML file which can be download and run alone. For our purpose, you embed the attack in a HTML file and then publish this for a target to access (via Social Engineering, redirects, SEO Posioning etc).<br>\n",
    "\n",
    "**Example HTA***"
   ]
  },
  {
   "cell_type": "raw",
   "id": "a65ff291-028f-4a42-8c4d-334654096a02",
   "metadata": {},
   "source": [
    "<html>\n",
    "<body>\n",
    "<script>\n",
    "\tvar c= 'cmd.exe'\n",
    "\tnew ActiveXObject('WScript.Shell').Run(c);\n",
    "</script>\n",
    "</body>\n",
    "</html>"
   ]
  },
  {
   "cell_type": "markdown",
   "id": "d35eb83c-83f6-4a7d-9dff-18ff2143ac82",
   "metadata": {},
   "source": [
    "When this file is opened/run by the target, it will spawn a CMD window.<br>\n",
    "\n",
    "Not so helpful by itself (unless you provide arguemenst to the CMD window), but you can also create a reverse shell using [msfvenom](../Tools/Msfvenom.ipynb) or straight in metasploit itself using exploit/windows/misc/hta_server."
   ]
  },
  {
   "cell_type": "code",
   "execution_count": null,
   "id": "c703b16d-445d-44bd-a04e-6255c93c7d8c",
   "metadata": {},
   "outputs": [],
   "source": []
  }
 ],
 "metadata": {
  "kernelspec": {
   "display_name": "Python 3 (ipykernel)",
   "language": "python",
   "name": "python3"
  },
  "language_info": {
   "codemirror_mode": {
    "name": "ipython",
    "version": 3
   },
   "file_extension": ".py",
   "mimetype": "text/x-python",
   "name": "python",
   "nbconvert_exporter": "python",
   "pygments_lexer": "ipython3",
   "version": "3.10.5"
  }
 },
 "nbformat": 4,
 "nbformat_minor": 5
}
