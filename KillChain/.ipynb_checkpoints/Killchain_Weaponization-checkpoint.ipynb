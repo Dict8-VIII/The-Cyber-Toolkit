{
 "cells": [
  {
   "cell_type": "markdown",
   "id": "beaf8adf-bf53-4a2d-98c9-743a8df5ecce",
   "metadata": {},
   "source": [
    "# Killchain - Weaponization\n",
    "\n",
    "Weaponization is the process of creating a payload that will be used for an attack. It follows Recon to understand what attacks may work, and preceeds delivery because well... you need something to deliver. In many cases, the payload will be embedded in something else (such as a PDF or email) and these are all included in weaponization.\n",
    "\n",
    "<hr>\n",
    "\n",
    "\n",
    "\n",
    "\n"
   ]
  },
  {
   "cell_type": "markdown",
   "id": "b344a746-f7bf-434e-bc3c-59b87ab54302",
   "metadata": {},
   "source": [
    "## Example Payloads - Windows\n",
    "\n",
    "\n",
    "\n",
    "### WSH / Wscript/CScript\n",
    "WSH, or the Windows Script Host is a built in tool for automating tasks in the windows OS. It includes 2 engines\n",
    "- cscript.exe : For command line\n",
    "- wscript.exe : For a UI\n",
    "\n",
    "Both execute VisualBasic scripts such as .vbs and .vbe. When a script is run, it runs with the rights of a standard user.<br>\n",
    "\n",
    "**Example VBScript (alert box):**<br>\n",
    "\n",
    "> Dim message <br>\n",
    "> message = \"Wassup!!!\"<br>\n",
    "> MsgBox message\n",
    "\n",
    "So, what does this do? First we define a variable \"message\", then we set it to the value \"Wassup!!!\" and lastly we display it in a popup/alert/message box. <br>\n",
    "\n",
    "\n",
    "**Example VBScript (run shell command):**\n",
    "\n",
    "> Set shell = Wscript.CreateObject(\"Wscript.Shell\")<br>\n",
    "> shell.Run(\"C:\\WIndows\\System32\\Explorer.exe\" & WScript.ScroptFUllName),0,True\n",
    "\n",
    "You can now run this, and it will launch an explorer window. Sometimes a vbs extension can be blocked. Fortunately you can just store it as a .txt file and call the file with an arguement to force the extension.<br>\n",
    "\n",
    "> wscript /e:VBScript [sneakyfile.txt]\n",
    "\n",
    "<hr>\n",
    "\n"
   ]
  }
 ],
 "metadata": {
  "kernelspec": {
   "display_name": "Python 3 (ipykernel)",
   "language": "python",
   "name": "python3"
  },
  "language_info": {
   "codemirror_mode": {
    "name": "ipython",
    "version": 3
   },
   "file_extension": ".py",
   "mimetype": "text/x-python",
   "name": "python",
   "nbconvert_exporter": "python",
   "pygments_lexer": "ipython3",
   "version": "3.10.5"
  }
 },
 "nbformat": 4,
 "nbformat_minor": 5
}
