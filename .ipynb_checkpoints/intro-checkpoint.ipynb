{
 "cells": [
  {
   "cell_type": "markdown",
   "id": "afe28b69-e16b-4f3c-818b-1f2807046a28",
   "metadata": {
    "tags": []
   },
   "source": [
    "# The Cyber Toolkit\n",
    "I've written this book for a few reasons\n",
    "\n",
    "- To keep track of and formalise my notes on my \"Try Hack Me\" experience\n",
    "\n",
    "- To publish some write-ups when I feel confident enough in my knowledge\n",
    "\n",
    "- To show off my methods\n",
    "\n",
    "- To learn something new\n",
    "\n",
    "- And simply because I can\n",
    "\n",
    "\n",
    "As I progress through this I'll add extra sections and I'm sure modify things all over the place.\n",
    "    "
   ]
  },
  {
   "cell_type": "code",
   "execution_count": null,
   "id": "d0b85104-91a5-46fa-8f8b-387bf33c20b6",
   "metadata": {},
   "outputs": [],
   "source": []
  }
 ],
 "metadata": {
  "kernelspec": {
   "display_name": "Python 3 (ipykernel)",
   "language": "python",
   "name": "python3"
  },
  "language_info": {
   "codemirror_mode": {
    "name": "ipython",
    "version": 3
   },
   "file_extension": ".py",
   "mimetype": "text/x-python",
   "name": "python",
   "nbconvert_exporter": "python",
   "pygments_lexer": "ipython3",
   "version": "3.10.2"
  }
 },
 "nbformat": 4,
 "nbformat_minor": 5
}
