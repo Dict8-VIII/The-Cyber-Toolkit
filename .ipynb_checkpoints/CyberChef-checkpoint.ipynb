{
 "cells": [
  {
   "cell_type": "markdown",
   "id": "3d758c3c-58fb-4ad3-9e53-2f2dd2cf5ced",
   "metadata": {},
   "source": [
    "# Cyberchef\n",
    "\n",
    "https://gchq.github.io/CyberChef/\n",
    "\n",
    "A great bit of software to encode/decode real time. You can add/remove filters to craft your own decoding method (Drag/Drop)\n",
    "\n"
   ]
  },
  {
   "cell_type": "markdown",
   "id": "e81a7f0f-fda6-4511-b66d-ab614087fc69",
   "metadata": {},
   "source": [
    "<video controls src=\"videos/CyberChef.mp4\" />"
   ]
  }
 ],
 "metadata": {
  "kernelspec": {
   "display_name": "Python 3 (ipykernel)",
   "language": "python",
   "name": "python3"
  },
  "language_info": {
   "codemirror_mode": {
    "name": "ipython",
    "version": 3
   },
   "file_extension": ".py",
   "mimetype": "text/x-python",
   "name": "python",
   "nbconvert_exporter": "python",
   "pygments_lexer": "ipython3",
   "version": "3.10.2"
  }
 },
 "nbformat": 4,
 "nbformat_minor": 5
}
