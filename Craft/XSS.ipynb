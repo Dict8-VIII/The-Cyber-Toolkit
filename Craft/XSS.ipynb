{
 "cells": [
  {
   "cell_type": "markdown",
   "id": "27bae02b-f2ff-4b46-981a-8aab6e544343",
   "metadata": {},
   "source": [
    "# XSS\n",
    "XSS, or Cross Site Scripting, is a method for exploiting a website by exploiting user controlable fields.\n",
    "\n",
    "There are 3 kinds of XSS\n",
    "- Which I\n",
    "- Cant Remeber\n",
    "- Right now\n",
    "\n",
    "## Type 1 - The one where you install javascript on a form\n",
    "\n",
    "Example Payload\n",
    "> \\<script>fetch(/settings?new_password=\"That persons new password\");\\</script>"
   ]
  },
  {
   "cell_type": "markdown",
   "id": "7dc37f18-726b-4dd6-b9d7-bcadc414fbaa",
   "metadata": {},
   "source": [
    "## Modifying a DIV tag via ID\n",
    "In HTML, elements can be referenced by their ID (normally a DIV tag). To modify one when you can inject scripts, insert the below between \\<script> tags\n",
    ">document.getElementById(\"The ID goes here\").innerHTML=\"What I want the cell to be\";"
   ]
  },
  {
   "cell_type": "code",
   "execution_count": null,
   "id": "fcf3ef93-33fe-4bfb-9d0b-158ab68e3240",
   "metadata": {},
   "outputs": [],
   "source": []
  }
 ],
 "metadata": {
  "kernelspec": {
   "display_name": "Python 3 (ipykernel)",
   "language": "python",
   "name": "python3"
  },
  "language_info": {
   "codemirror_mode": {
    "name": "ipython",
    "version": 3
   },
   "file_extension": ".py",
   "mimetype": "text/x-python",
   "name": "python",
   "nbconvert_exporter": "python",
   "pygments_lexer": "ipython3",
   "version": "3.10.5"
  }
 },
 "nbformat": 4,
 "nbformat_minor": 5
}
