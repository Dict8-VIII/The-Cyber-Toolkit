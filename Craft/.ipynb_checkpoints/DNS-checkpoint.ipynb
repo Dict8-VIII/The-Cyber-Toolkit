{
 "cells": [
  {
   "cell_type": "markdown",
   "id": "add52978-fb04-4a4f-bc3e-46f2431d33b0",
   "metadata": {},
   "source": [
    "# DNS\n",
    "\n",
    "Domain name system, the process for resolving domain names to IP addresses.<br>\n",
    "\n",
    "In the public space, this resolution goes through a chain.<br>\n",
    "\n",
    "To access mail.github.com for example <br>\n",
    "- Device queries the configured DNS server by IP<br>\n",
    "- This server queries the RootDNS servers for the IP of the appropriate TLD server (in this case .com)<br>\n",
    "- Once it has the IP of the TLD server, It asks the TLD server for the IP address of the domain authorative server (in this case, github.com)<br>\n",
    "- Lastly the server can now ask the domain authorative server for the subdomain IP (in this case, mail.github.com)<br>\n",
    "- This final IP address is then passed back to the host and cached in the DNS server<br>\n",
    "\n",
    "<hr>"
   ]
  },
  {
   "cell_type": "markdown",
   "id": "4ab53d06-9432-4711-8cd2-6777032adaa2",
   "metadata": {},
   "source": [
    "## Record types\n",
    "\n",
    "- A: IPv4 Address\n",
    "- AAAA: IPv6 Address\n",
    "- MX: Mail Record\n",
    "- NS: Authorative Name Server\n",
    "\n",
    "<hr>"
   ]
  }
 ],
 "metadata": {
  "kernelspec": {
   "display_name": "Python 3 (ipykernel)",
   "language": "python",
   "name": "python3"
  },
  "language_info": {
   "codemirror_mode": {
    "name": "ipython",
    "version": 3
   },
   "file_extension": ".py",
   "mimetype": "text/x-python",
   "name": "python",
   "nbconvert_exporter": "python",
   "pygments_lexer": "ipython3",
   "version": "3.11.4"
  }
 },
 "nbformat": 4,
 "nbformat_minor": 5
}
