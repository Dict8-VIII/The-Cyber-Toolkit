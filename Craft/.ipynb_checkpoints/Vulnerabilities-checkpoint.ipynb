{
 "cells": [
  {
   "cell_type": "markdown",
   "id": "07cc989c-b676-4742-8b7f-74759fc53113",
   "metadata": {},
   "source": [
    "# Vulnerabilities\n",
    "\n",
    "## Common Terms\n",
    "\n",
    "Threat : an entity which may wish to attack<br>\n",
    "Thread Actors : about the same<br>\n",
    "Threat Vector : the means of performing an attack<br>\n",
    "Vulnerability : A weakness in the system which an attacker could leverge to create a vector.<br>\n",
    "Asset : something that needs to be protected. Data, servers, switches, etc\n",
    "\n",
    "<hr>\n",
    "\n",
    "## Risk\n",
    "Arranged by likelyhood against impact<br>\n",
    "\n",
    "Risk Appetite/tolerance - How much risk a company can accept<br>\n",
    "\n",
    "## Types of Risk Treatments\n",
    "\n",
    "### Avoidance\n",
    "Elimination in OHS speak, removing the risk entirely\n",
    "\n",
    "### Mitigation\n",
    "Reducing the risk to a more acceptable level, such as by implimenting controls, admin, audits etc\n",
    "\n",
    "### Transfer\n",
    "Passing the risk to someone else, this could include a cloud provider (cloudflare) or Insurance (including cyber insurance)\n",
    "\n",
    "### Acceptance\n",
    "Make no changes, just accept the risk and monitor"
   ]
  }
 ],
 "metadata": {
  "kernelspec": {
   "display_name": "Python 3 (ipykernel)",
   "language": "python",
   "name": "python3"
  },
  "language_info": {
   "codemirror_mode": {
    "name": "ipython",
    "version": 3
   },
   "file_extension": ".py",
   "mimetype": "text/x-python",
   "name": "python",
   "nbconvert_exporter": "python",
   "pygments_lexer": "ipython3",
   "version": "3.10.5"
  }
 },
 "nbformat": 4,
 "nbformat_minor": 5
}
