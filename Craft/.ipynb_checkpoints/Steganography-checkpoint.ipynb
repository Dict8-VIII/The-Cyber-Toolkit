{
 "cells": [
  {
   "cell_type": "markdown",
   "metadata": {},
   "source": [
    "# Steganography\n",
    "\n",
    "\n",
    "Or the art of hiding things in plain sight....\n",
    "\n",
    "\n",
    "## Tools\n",
    "\n",
    "### Strings\n",
    "\n",
    "### Hexedit\n",
    "Why not take a look at the raw data and see what you can find. Just because their is an end to the data, doesnt mean it's the end of the file.\n",
    "> hexedit <file>\n",
    "\n",
    "### Exiftool\n",
    "Used for examining a file for extra information. This normally includes metadata that isnt obviously seen in the file. This could include capture location, date, device etc.\n",
    "Most social media / image sharing sites scrub this data, but it cant hurt to check.\n",
    "\n",
    "Another check, the 'colour components' may indicate another layer (such as alpha).\n",
    "\n",
    "> Exiftool <file>\n",
    "\n",
    "### steghide\n",
    "Used for hiding data in another file (jpeg or wav)\n",
    "\n",
    "### binwalk\n",
    "Used for examining a file for other files that may be included. It can extract them too!\n",
    "> binwalk <file>\n",
    "\n",
    "### Stegsnow\n",
    "Used for hiding data in ASCII files (text). To store\n",
    "> stegsnow -C -m \"secrets\" -p \"superpassword\" <infile> <outfile>\n",
    "\n",
    "To extract\n",
    "> stegsnow -C -p \"superpassword\" <outfile>\n",
    "\n",
    "If it comes back empty, nothing there sorry.\n",
    "\n",
    "### tineye\n",
    "Tineye.com does reverse image search. Maybe see if the file source can give any hints.\n",
    "\n",
    "### Stegseek\n",
    "Bruteforce a file for hidden data against a wordlist. Looks to try extracting against common tools that can use a password to store (such as steghide).\n"
   ]
  },
  {
   "cell_type": "code",
   "execution_count": null,
   "metadata": {},
   "outputs": [],
   "source": []
  }
 ],
 "metadata": {
  "kernelspec": {
   "display_name": "Python 3 (ipykernel)",
   "language": "python",
   "name": "python3"
  },
  "language_info": {
   "codemirror_mode": {
    "name": "ipython",
    "version": 3
   },
   "file_extension": ".py",
   "mimetype": "text/x-python",
   "name": "python",
   "nbconvert_exporter": "python",
   "pygments_lexer": "ipython3",
   "version": "3.11.4"
  }
 },
 "nbformat": 4,
 "nbformat_minor": 4
}
