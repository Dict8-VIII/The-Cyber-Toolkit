{
 "cells": [
  {
   "cell_type": "markdown",
   "id": "4b4fada1-efa3-48bd-a046-6e00767605dc",
   "metadata": {},
   "source": [
    "# Telnet \n",
    "\n",
    "The non-secure version of SSH, Telnet is a legacy protocol that runs on port 23 by default. It is used for the same role as SSH (a remote shell), but is UNENCRYPTED in transit. If you send a login over telnet, anyone who is sniffing the data can see it in plain text.\n",
    "\n",
    ">Telnet [IP]\n",
    "\n",
    "Windows servers need a telnet client installed to run a remote connection, Linux comes with it (most of the time)\n",
    "<hr>"
   ]
  }
 ],
 "metadata": {
  "kernelspec": {
   "display_name": "Python 3 (ipykernel)",
   "language": "python",
   "name": "python3"
  },
  "language_info": {
   "codemirror_mode": {
    "name": "ipython",
    "version": 3
   },
   "file_extension": ".py",
   "mimetype": "text/x-python",
   "name": "python",
   "nbconvert_exporter": "python",
   "pygments_lexer": "ipython3",
   "version": "3.10.5"
  }
 },
 "nbformat": 4,
 "nbformat_minor": 5
}
