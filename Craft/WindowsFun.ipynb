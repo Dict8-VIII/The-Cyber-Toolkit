{
 "cells": [
  {
   "cell_type": "markdown",
   "id": "ba136aaa-24c4-4a50-aa60-0a1067df2da4",
   "metadata": {},
   "source": [
    "# Windows 'Fun' Stuff\n"
   ]
  },
  {
   "cell_type": "markdown",
   "id": "2e2187c5-68a6-4522-bcce-ef01952017eb",
   "metadata": {},
   "source": [
    "## Locations\n",
    "\n",
    "A set of juicy locations to investigate when trying to exploit a windows machine.\n",
    "\n",
    "C:\\ <br>\n",
    "C:\\users\\'user'\\documents <br>\n",
    "c:\\windows\\system32\\config <br>\n",
    "\n",
    "### Scheduled Tasks\n",
    "\n",
    "Task scheduler creates files in 2 locations:\n",
    "\n",
    "- C:\\Windows\\Tasks (legacy)\n",
    "- C:\\Windows\\System32\\Tasks\n",
    "\n",
    "<hr>"
   ]
  }
 ],
 "metadata": {
  "kernelspec": {
   "display_name": "Python 3 (ipykernel)",
   "language": "python",
   "name": "python3"
  },
  "language_info": {
   "codemirror_mode": {
    "name": "ipython",
    "version": 3
   },
   "file_extension": ".py",
   "mimetype": "text/x-python",
   "name": "python",
   "nbconvert_exporter": "python",
   "pygments_lexer": "ipython3",
   "version": "3.10.5"
  }
 },
 "nbformat": 4,
 "nbformat_minor": 5
}
