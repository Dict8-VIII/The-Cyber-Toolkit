{
 "cells": [
  {
   "cell_type": "markdown",
   "id": "dd178a7a-d725-4a0c-b092-1021389c139f",
   "metadata": {},
   "source": [
    "# Threat Intelligence\n"
   ]
  },
  {
   "cell_type": "markdown",
   "id": "25d6b641-39fb-47fe-b81a-bb4cf8524f2a",
   "metadata": {},
   "source": [
    "## Sources\n",
    "\n",
    "- Webroot https://community.webroot.com/welcome-1<br>\n",
    "  - Industry News, Threat Reports<br>\n",
    "- Cisco Talos\n",
    "- Trellix (Prev FireEye)\n",
    "  - Threat reports https://www.trellix.com/advanced-research-center/threat-reports/\n",
    "- CyberCX (Australia)\n",
    "- AIS https://www.cisa.gov/topics/cyber-threats-and-advisories/information-sharing/automated-indicator-sharing-ais"
   ]
  },
  {
   "cell_type": "markdown",
   "id": "32a87555-8ab8-468c-984c-46224ed1fa8f",
   "metadata": {},
   "source": [
    "## Standards\n",
    "\n",
    "### Structured Threat Information Expression (STIX)\n",
    "\n",
    "### Trusted Automated Exchange of Indicator Information (TAXII)\n",
    "App layer protocol for the exchange of cyber threat information (CTI, such as STIX) over HTTPS\n",
    "\n",
    "### Cyber Observable Expression (CybOX)\n",
    "Schemas that form a part of Stix\n",
    "\n",
    "### Malware Information Sharing Platform (MISP)\n",
    "Open source platform for the sharing of CTI."
   ]
  }
 ],
 "metadata": {
  "kernelspec": {
   "display_name": "Python 3 (ipykernel)",
   "language": "python",
   "name": "python3"
  },
  "language_info": {
   "codemirror_mode": {
    "name": "ipython",
    "version": 3
   },
   "file_extension": ".py",
   "mimetype": "text/x-python",
   "name": "python",
   "nbconvert_exporter": "python",
   "pygments_lexer": "ipython3",
   "version": "3.11.4"
  }
 },
 "nbformat": 4,
 "nbformat_minor": 5
}
