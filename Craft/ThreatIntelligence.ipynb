{
 "cells": [
  {
   "cell_type": "markdown",
   "id": "dd178a7a-d725-4a0c-b092-1021389c139f",
   "metadata": {},
   "source": [
    "# Threat Intelligence\n"
   ]
  },
  {
   "cell_type": "markdown",
   "id": "25d6b641-39fb-47fe-b81a-bb4cf8524f2a",
   "metadata": {},
   "source": [
    "## Sources\n",
    "\n",
    "- Webroot https://community.webroot.com/welcome-1<br>\n",
    "  - Industry News, Threat Reports<br>\n",
    "- Cisco Talos\n",
    "- Trellix (Prev FireEye)\n",
    "  - Threat reports https://www.trellix.com/advanced-research-center/threat-reports/\n",
    "- CyberCX (Australia)\n",
    "- AIS https://www.cisa.gov/topics/cyber-threats-and-advisories/information-sharing/automated-indicator-sharing-ais"
   ]
  },
  {
   "cell_type": "code",
   "execution_count": null,
   "id": "521db7f3-0549-4721-83bd-65e5dd98df43",
   "metadata": {},
   "outputs": [],
   "source": []
  }
 ],
 "metadata": {
  "kernelspec": {
   "display_name": "Python 3 (ipykernel)",
   "language": "python",
   "name": "python3"
  },
  "language_info": {
   "codemirror_mode": {
    "name": "ipython",
    "version": 3
   },
   "file_extension": ".py",
   "mimetype": "text/x-python",
   "name": "python",
   "nbconvert_exporter": "python",
   "pygments_lexer": "ipython3",
   "version": "3.11.5"
  }
 },
 "nbformat": 4,
 "nbformat_minor": 5
}
