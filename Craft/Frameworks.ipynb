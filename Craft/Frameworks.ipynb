{
 "cells": [
  {
   "cell_type": "markdown",
   "metadata": {},
   "source": [
    "# Frameworks\n",
    "\n",
    "ATT&CK\n",
    "OWASP - Pentetration Testing Methodologies\n",
    "PTES - Penetration Testing Execution Standard\n",
    "OSSTMM - Open Souurce Security Testing Methodology Manual\n",
    "NIST - 800-115\n",
    "ISSAF - Information Systems Security Assessment Framework"
   ]
  }
 ],
 "metadata": {
  "language_info": {
   "name": "python"
  },
  "orig_nbformat": 4
 },
 "nbformat": 4,
 "nbformat_minor": 2
}
