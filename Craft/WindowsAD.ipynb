{
 "cells": [
  {
   "cell_type": "markdown",
   "id": "582e2806-eded-4460-ae6a-b7589601406f",
   "metadata": {},
   "source": [
    "# Windows Active Directory\n",
    "\n",
    "The Windows Active Directory, or AD, is a service that manages authentication in a domain. This page focuses on what and AD is, and how it works. If you're more interested in attacking AD, check out the [Kerberos](Kerberos.ipynb) page for understanding or some of the tools such as [kerbrute](../Tools/Kerbrute.ipynb).\n",
    "\n",
    "## The Basics\n",
    "So, what is an AD and why do we need one? Think about your situation at home. You might have a few laptops/windows tablets, maybe a couple of desktops. These probably all have their own logins and any network shares are probably open internally; no reason to hide the media server. This probably works quite well. Its a bit of work to set these up if you get a new device, but its not the end of the world. If someone needs to borrow another computer, you might just leave it logged in for them or create their own account<br>\n",
    "Now imagine you suddenly had 300 teenagers added to the house, and they all brought along their own laptops. Some wanted so share a media server, others had special photos to back up, the girls made a 'girls club' that they boys arent allowed in, and we want everyones' internet access to stop at midnight. Also you need to have a login for all these devices because people keep forgetting their passwords. You could manually set these all up, one by one, but theres a few problems here<br>\n",
    "\n",
    "- It will just take a long time<br>\n",
    "- The chances are, you'll get something wrong<br>\n",
    "- What if the media server password changes or you buy a new one? Are you going to update all 300 devices<br>\n",
    "- What if someone buys a new laptop, are you going to go through every device and change it?<br>\n",
    "- Its exam time, and you want to allow internet access later but only for research and not 'research purposes'.<br>\n",
    "- What if they want to share devices, but only to browse the internet and not change things?<br>\n",
    "\n",
    "As you may be thinking, this is going to take a while. What if we could change settings on a group of devices, instead of every device itself? Enter Active Directory & Domains. The general way to achieve this is<br>\n",
    "\n",
    "1. Create a Domain Controller to host the domain. A domain is known by its name,normally in the format something.something, such as WhoAreYouPeople.local<br>\n",
    "   - A Domain Controller hosts the Active Directory Domain Service (AD DS), which is a catalogue of data which can be read by devices on the domain. The share is known as the SYSVOL.\n",
    "2. Create groups in the domain, known as organisational units (OUs).<br>\n",
    "   -  These can then be further divided into sub groups<br>\n",
    "   -  A sub group inherets from its upper groups<br>\n",
    "   -  You can only be a member of one group by type (user or computer)<br>\n",
    "3. Create rules to apply to these groups, or subgroups. As above, subgroups inheret from upper groups<br>\n",
    "4. Create users in the domain, and assign each to a group<br>\n",
    "5. Join computers to the domain, and then assign each to a group<br>\n",
    "\n",
    "If you do all of this correctly, you can now assign rights and rules to each group, assign tasks and access rights and accounts can be used between devices without creating a logon stored on each. Nice\n",
    "<br>\n",
    "<hr>\n"
   ]
  },
  {
   "cell_type": "markdown",
   "id": "a717668f-7c43-40fb-b449-0f9fe47c5eda",
   "metadata": {},
   "source": [
    "## Managing an AD - Types\n",
    "\n",
    "There are a few types in a domain, some of which we have already covered. It is important to understand the distinction between these as there are certain tasks that can only be performed on some groups. It also helps when you need to talk to someone else and sound like you know what youre doing....\n",
    "\n",
    "### Users\n",
    "Depending on what your domain looks like, this will probably be the largest 'type' in your domain. Users are also called Security Principles. This is because they are assigned rights over other resources.<br>\n",
    "The most common type of user will be a person, John/Jane/Jordan/Janet etc... This isnt the only type of user however. A service (such as SQL server) is normally run as a 'user' type. Why? So you can assign rights to them as well. Think back to the example of the media server. Perhaps you have a service that downloads media art and subtitles for your movies. The service still needs to authenticate with the media server before it can make changes to a file. Services are people too... <br>\n",
    "\n",
    "\n",
    "### Machines\n",
    "Also called devices.\n",
    "\n",
    "\n",
    "\n"
   ]
  },
  {
   "cell_type": "code",
   "execution_count": null,
   "id": "99ac7e4b-b7b7-4b85-87fe-700dc1a0caa5",
   "metadata": {},
   "outputs": [],
   "source": []
  }
 ],
 "metadata": {
  "kernelspec": {
   "display_name": "Python 3 (ipykernel)",
   "language": "python",
   "name": "python3"
  },
  "language_info": {
   "codemirror_mode": {
    "name": "ipython",
    "version": 3
   },
   "file_extension": ".py",
   "mimetype": "text/x-python",
   "name": "python",
   "nbconvert_exporter": "python",
   "pygments_lexer": "ipython3",
   "version": "3.10.5"
  }
 },
 "nbformat": 4,
 "nbformat_minor": 5
}
