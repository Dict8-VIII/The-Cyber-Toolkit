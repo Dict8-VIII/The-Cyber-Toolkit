{
 "cells": [
  {
   "cell_type": "markdown",
   "id": "1510dfe4-c0b8-43f0-bd1d-56526dafd561",
   "metadata": {},
   "source": [
    "# The OSI Model\n",
    "\n",
    "The OSI model is one of the fundamental understandings of how networks work. It is a model of 7 layers (or 5 if you're lucky), with the top layer being the most human-readable, and the bottom layer being purely electronics. When data is transfered across a network, it is all done at the bottom level, but having multiple layers allow us to encapsulate (down) or deencapsulate (up) data whereby we dont need to understand how every layer works.\n",
    "\n",
    "## The Layers\n",
    "As mentioned above, there are 7 layers in the OSI model. From top - down, these are:\n",
    "\n",
    "7. Application Layer\n",
    "6. Presentation Layer\n",
    "5. Session Layer\n",
    "4. Transport Layer\n",
    "3. Network Layer\n",
    "2. Data Link Layer\n",
    "1. Physical layer\n",
    "\n",
    "### Application Layer\n",
    "HTTP, FTP, SMTP, POP3, IMAP\n",
    "\n",
    "### Presentation Layer\n",
    "SSL, TLS\n",
    "\n",
    "### Session Layer\n",
    "\n",
    "### Transport Layer\n",
    "TCP, UDP\n",
    "\n",
    "### Network Layer\n",
    "IPv4, IPv6, routing\n",
    "\n",
    "### Data Link Layer\n",
    "MAC, ARP\n",
    "\n",
    "### Physical layer\n",
    "Ethernet, Wifi, Fibre, Pigeon etc\n",
    "1,0,1,1,0,1,0,0"
   ]
  }
 ],
 "metadata": {
  "kernelspec": {
   "display_name": "Python 3 (ipykernel)",
   "language": "python",
   "name": "python3"
  },
  "language_info": {
   "codemirror_mode": {
    "name": "ipython",
    "version": 3
   },
   "file_extension": ".py",
   "mimetype": "text/x-python",
   "name": "python",
   "nbconvert_exporter": "python",
   "pygments_lexer": "ipython3",
   "version": "3.8.1"
  }
 },
 "nbformat": 4,
 "nbformat_minor": 5
}
