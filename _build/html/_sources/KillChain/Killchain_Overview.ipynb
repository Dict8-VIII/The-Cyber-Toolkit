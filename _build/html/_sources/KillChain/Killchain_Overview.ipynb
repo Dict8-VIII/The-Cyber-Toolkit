{
 "cells": [
  {
   "cell_type": "markdown",
   "id": "d8aa0b09-91a2-4594-a09e-0e7a6aa1b7f7",
   "metadata": {},
   "source": [
    "# Killchain Overview\n",
    "\n",
    "The \"killchain\" is a generic term for the process that an attacker follows to penetrate a system. Each step follows on from the last in a linear order and breaking a link in the chain breaks the attack... at least in theory. Either way, it is a popular concept and improving any of the links from the blue side can only be helpful.<br>\n",
    "\n",
    "\"Killchain\" is a generic term, but there are standard models that can be used:\n",
    "\n",
    "1. [\"The Cyber Killchain\"](https://www.lockheedmartin.com/en-us/capabilities/cyber/cyber-kill-chain.html), by Lockhead Martin\n",
    "\n",
    "2. [\"The Unified Kill Chain\"](https://www.unifiedkillchain.com/assets/The-Unified-Kill-Chain.pdf), by Paul Pols\n",
    "\n",
    "This section is based around a simplified Killchain that bas been used in [TryHackMe](https://tryhackme.com/room/pentestingfundamentals). The sections are:\n",
    "\n",
    "1. Information Gathering\n",
    "2. Ennumeration / Scanning\n",
    "3. Exploitation\n",
    "4. Privilege Escalation\n",
    "5. Post Exploitation"
   ]
  },
  {
   "cell_type": "code",
   "execution_count": null,
   "id": "6ab83fbf-985a-4de5-a9fa-5c1e8d664471",
   "metadata": {},
   "outputs": [],
   "source": []
  }
 ],
 "metadata": {
  "kernelspec": {
   "display_name": "Python 3 (ipykernel)",
   "language": "python",
   "name": "python3"
  },
  "language_info": {
   "codemirror_mode": {
    "name": "ipython",
    "version": 3
   },
   "file_extension": ".py",
   "mimetype": "text/x-python",
   "name": "python",
   "nbconvert_exporter": "python",
   "pygments_lexer": "ipython3",
   "version": "3.10.4"
  }
 },
 "nbformat": 4,
 "nbformat_minor": 5
}
