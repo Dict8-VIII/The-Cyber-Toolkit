{
 "cells": [
  {
   "cell_type": "markdown",
   "id": "b720b377-81fd-4bdf-a251-eecd2aa7a1c4",
   "metadata": {},
   "source": [
    "# My Programs\n",
    "\n",
    "This section includes some custom programs I have made in my journey, for one reason or another. <br>\n",
    "They are stored in raw format so (hopefully) they are readable. Feel free to take them to use as you would like - subject to the 'ethical' paragraph in the home page\n",
    "\n",
    "<hr>"
   ]
  },
  {
   "cell_type": "code",
   "execution_count": null,
   "id": "ee1908df-c76e-4419-8b2b-9be67d9a8b5f",
   "metadata": {},
   "outputs": [],
   "source": []
  }
 ],
 "metadata": {
  "kernelspec": {
   "display_name": "Python 3 (ipykernel)",
   "language": "python",
   "name": "python3"
  },
  "language_info": {
   "codemirror_mode": {
    "name": "ipython",
    "version": 3
   },
   "file_extension": ".py",
   "mimetype": "text/x-python",
   "name": "python",
   "nbconvert_exporter": "python",
   "pygments_lexer": "ipython3",
   "version": "3.11.4"
  }
 },
 "nbformat": 4,
 "nbformat_minor": 5
}
