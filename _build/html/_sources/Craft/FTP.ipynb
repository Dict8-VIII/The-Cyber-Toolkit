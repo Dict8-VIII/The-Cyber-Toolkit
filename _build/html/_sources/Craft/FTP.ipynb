{
 "cells": [
  {
   "cell_type": "markdown",
   "id": "1006ddf8-4d03-4c42-ab8c-c3e4a565d78e",
   "metadata": {},
   "source": [
    "# FTP\n",
    "\n",
    "FTP, or File Transfer Protocol, is a common method of transferring files on a network. It can be used from a web browser or FTP client. An FTP server listens on port 21 by default and you can even attempt a connection via telnet. It will connect, but as FTP uses port 21 for initial connection only (and transfers files over a different port), the transfer will fail. As you can probably guess by the fact telnet can be used, FTP is unencrypted.\n",
    "\n",
    "There are 2 modes to FTP\n",
    "1. Active: A new connection is made from the Server to the Client on port 20\n",
    "2. Passive: A new connection is made from the Client to the Server on a port >1023\n",
    "\n",
    "## Connection Methods\n",
    "\n",
    "### Telnet\n",
    "Connecting via telnet uses multiple commands and it cant be used alone. You could probably try hosting a seperate listener but I havent tried this... would be good to do.\n",
    "\n",
    "1. telnet [IP] 21\n",
    "2. USER [the username]\n",
    "3. PASS [the password]\n",
    "\n",
    "We can then use different commands on the server.\n",
    "- STAT: the server status/current FTP configuration\n",
    "- SYST: the system hosting the FTP server\n",
    "- PASV: set the FTP transfer to Passive\n",
    "- TYPE A: Transfer mode ASCII\n",
    "- TYPE I: Transfer mode Binary\n",
    "\n",
    "<hr>\n",
    "\n",
    "### FTP Client\n",
    "The far more useful method is to use an FTP client, Linux has one built int\n",
    "\n",
    "1. ftp [IP] [port] (port is optional)\n",
    "2. Name: [username]\n",
    "3. Password: [the password]\n",
    "\n",
    "We can then use various commands\n",
    "- ls: list directory\n",
    "- ascii: switch to ASCII mode\n",
    "- get [filename].ext: Download the file\n",
    "- exit: wanna guess?\n",
    "\n",
    "Below is an example, with my commands highlighted GREEN\n",
    "![JnrPen-FTP_Example.png](../images/JnrPen-FTP_Example.png)\n",
    "It should be noted that the files will be coppied to your PWD, so launch FTP from the correct location or enter a path when you 'download'\n",
    "<hr>"
   ]
  },
  {
   "cell_type": "code",
   "execution_count": null,
   "id": "6270d056-47ab-404f-832a-f56b2a6b3647",
   "metadata": {},
   "outputs": [],
   "source": []
  }
 ],
 "metadata": {
  "kernelspec": {
   "display_name": "Python 3 (ipykernel)",
   "language": "python",
   "name": "python3"
  },
  "language_info": {
   "codemirror_mode": {
    "name": "ipython",
    "version": 3
   },
   "file_extension": ".py",
   "mimetype": "text/x-python",
   "name": "python",
   "nbconvert_exporter": "python",
   "pygments_lexer": "ipython3",
   "version": "3.8.1"
  }
 },
 "nbformat": 4,
 "nbformat_minor": 5
}
