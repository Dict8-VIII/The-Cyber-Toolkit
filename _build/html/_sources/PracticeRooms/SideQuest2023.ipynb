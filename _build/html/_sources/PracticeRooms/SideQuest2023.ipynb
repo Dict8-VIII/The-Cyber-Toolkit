{
 "cells": [
  {
   "cell_type": "markdown",
   "id": "048585d0-0cb1-436b-8723-25c11619407d",
   "metadata": {},
   "source": [
    "# Advent Of Cyber Side Quest 2023\n",
    "\n",
    "This year, THM released an 'advanced' challenge along side their beginner level \"Advent of Cyber\" event over christmas. This was aimed at advanced/insane level participants.<br>\n",
    "While I don't yet consider myself advanced, at least globally speaking, insane is right up my alley. Whats the worst that can happen?<br>\n",
    "<br>\n",
    "*Spoiler Alert: I ended up having to rebuild my attack box.... 4? times so far? Thats the worst that can happen :-)*<br>\n",
    "\n",
    "<br>\n",
    "This challenge was very 'trial by fire'. Part of the rules were NO sharing of hints during the challenge period. No sharing of room, suggesting paths, nothing.<br>\n",
    "\n",
    "With that in mind, during the challenge<br>\n",
    "- I completed the first room, so much fun there<br>\n",
    "- Got to the second room, found what I wanted to do (and had to brush up on my assembly and hex)<br>\n",
    "- 3rd room was found<br>\n",
    "- 4th room was found<br>\n",
    "\n",
    "While I didn't complete the challenges during the window, they are really fun for pushing yourself. I'll keep going with them with the hope I can complete them all without walkthroughs! <br>\n",
    "\n",
    "<hr>"
   ]
  },
  {
   "cell_type": "code",
   "execution_count": null,
   "id": "58ed2eff-c989-4c1f-98d7-9fab5e71283e",
   "metadata": {},
   "outputs": [],
   "source": []
  }
 ],
 "metadata": {
  "kernelspec": {
   "display_name": "Python 3 (ipykernel)",
   "language": "python",
   "name": "python3"
  },
  "language_info": {
   "codemirror_mode": {
    "name": "ipython",
    "version": 3
   },
   "file_extension": ".py",
   "mimetype": "text/x-python",
   "name": "python",
   "nbconvert_exporter": "python",
   "pygments_lexer": "ipython3",
   "version": "3.11.4"
  }
 },
 "nbformat": 4,
 "nbformat_minor": 5
}
