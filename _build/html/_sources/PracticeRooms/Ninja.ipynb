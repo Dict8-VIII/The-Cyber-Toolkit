{
 "cells": [
  {
   "cell_type": "markdown",
   "id": "3c7e22a5-70e2-4600-a95e-218edb664474",
   "metadata": {},
   "source": [
    "# Ninja \n",
    "\n",
    "This one is a bit different, its a practice room but not CTF. Why Ninja? Time to pull out your google-fu.\n",
    "\n"
   ]
  },
  {
   "cell_type": "markdown",
   "id": "f430ed5c-2985-4bf6-9f23-62181eefbdee",
   "metadata": {},
   "source": [
    "Not really the idea of the room.. I think..., but I'm interested in grep-ing skills for this attempt (as mine may or may not be very good).\n",
    "\n",
    "## Get all File Locations & get rights\n",
    "First get a list of where all the files are.\n",
    "\n",
    "> find / -type f -name \"8V2L\" -o -name \"bny0\" -o -name \"c4ZX\" -o -name \"D8B3\" -o -name \"FHl1\" -o -name \"oiMO\" -o -name \"PFbD\" -o -name \"rmfX\" -o -name \"SRSq\" -o -name \"uqyw\" -o -name \"v2Vb\" -o -name \"X1Uy\" 2>/dev/null\n",
    "\n",
    "![Ninja_Find.png](../images/PracticeRooms/Ninja_Find.png)<br>\n",
    "\n",
    "Piping to xargs lets us run this on all the found files\n",
    "\n",
    "> find / -type f -name \"8V2L\" -o -name \"bny0\" -o -name \"c4ZX\" -o -name \"D8B3\" -o -name \"FHl1\" -o -name \"oiMO\" -o -name \"PFbD\" -o -name \"rmfX\" -o -name \"SRSq\" -o -name \"uqyw\" -o -name \"v2Vb\" -o -name \"X1Uy\" 2>/dev/null | xargs ls -lh\n",
    "\n",
    "![Ninja_ls.png](../images/PracticeRooms/Ninja_ls.png)<br>\n",
    "\n",
    "Which also answers our first question, the last one, and with a bit of guess work, the 5th one<br>\n",
    "<hr>\n",
    "\n",
    "## Find an IP address\n",
    "Next we need to find an IP address. Pipe it to grep instead to search. The -E allows Extended regex, so we can escape the . with a \\. (a . is normally just any single character).\n",
    "\n",
    "> find / -type f -name \"8V2L\" -o -name \"bny0\" -o -name \"c4ZX\" -o -name \"D8B3\" -o -name \"FHl1\" -o -name \"oiMO\" -o -name \"PFbD\" -o -name \"rmfX\" -o -name \"SRSq\" -o -name \"uqyw\" -o -name \"v2Vb\" -o -name \"X1Uy\" 2>/dev/null | xargs grep -E \"\\.\"\n",
    "\n",
    "![Ninja_IP.png](../images/PracticeRooms/Ninja_IP.png)<br>\n",
    "\n",
    "We now have our file with an IP (which we can see was 1.1.1.1)<br>\n",
    "<hr>\n",
    "\n",
    "## SHA1 hash\n",
    "We're on a roll. There is a built in script to calculate SHA1 (and other) hashes, so lets pipe there instead.\n",
    "\n",
    "> find / -type f -name \"8V2L\" -o -name \"bny0\" -o -name \"c4ZX\" -o -name \"D8B3\" -o -name \"FHl1\" -o -name \"oiMO\" -o -name \"PFbD\" -o -name \"rmfX\" -o -name \"SRSq\" -o -name \"uqyw\" -o -name \"v2Vb\" -o -name \"X1Uy\" 2>/dev/null | xargs sha1sum\n",
    "\n",
    "![Ninja_sha1.png](../images/PracticeRooms/Ninja_sha1.png)<br>\n",
    "\n",
    "give it a check :-)\n",
    "\n",
    "<hr>\n",
    "\n",
    "## Number of Lines\n",
    "Now we have the line count, again its just where we pipe things. There is another built in command, wc, which will answer this for us. -l gives the number of lines\n",
    "\n",
    "> find / -type f -name \"8V2L\" -o -name \"bny0\" -o -name \"c4ZX\" -o -name \"D8B3\" -o -name \"FHl1\" -o -name \"oiMO\" -o -name \"PFbD\" -o -name \"rmfX\" -o -name \"SRSq\" -o -name \"uqyw\" -o -name \"v2Vb\" -o -name \"X1Uy\" 2>/dev/null | xargs wc -l\n",
    "\n",
    "![Ninja_CountLines.png](../images/PracticeRooms/Ninja_CountLines.png)<br>\n",
    "\n",
    "Well it worked, but they are all 209... huh....<br>\n",
    "Those of you that have been paying attention will notice there were 12 files, but we only got 11 in our find. Where did the \"bny0\" go?\n",
    "\n",
    "- instead of a -name, try -iname (to make it case INsenstive), no joy there\n",
    "- drop the -type f incase its a directory. Still no joy\n",
    "- try follow symbolic links (-L before /), sits there spinning its wheels, pretty sure I got in an infinte loop...\n",
    "- swap the 0 to a O, nothing\n",
    "\n",
    "So, 'bny0' is our file with 230 lines, and that is correct. I dove into this quite far (because the question asks for a specific number) and it looks like it was a deliberate decision that you cant find that file, theres even a few bugs logged in the THM Discord channel that have the same comment. I dont like it but it seems thats just how things are today.\n",
    "\n",
    "<hr>"
   ]
  },
  {
   "cell_type": "code",
   "execution_count": null,
   "id": "f0923102-0a39-4249-8621-05e65cc0d368",
   "metadata": {},
   "outputs": [],
   "source": []
  }
 ],
 "metadata": {
  "kernelspec": {
   "display_name": "Python 3 (ipykernel)",
   "language": "python",
   "name": "python3"
  },
  "language_info": {
   "codemirror_mode": {
    "name": "ipython",
    "version": 3
   },
   "file_extension": ".py",
   "mimetype": "text/x-python",
   "name": "python",
   "nbconvert_exporter": "python",
   "pygments_lexer": "ipython3",
   "version": "3.10.5"
  }
 },
 "nbformat": 4,
 "nbformat_minor": 5
}
