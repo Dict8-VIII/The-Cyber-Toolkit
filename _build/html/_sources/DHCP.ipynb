{
 "cells": [
  {
   "cell_type": "markdown",
   "id": "c00d0951-87ec-4970-85ef-6a3c002f89d6",
   "metadata": {},
   "source": [
    "# DHCP \n",
    "\n",
    "Client -> Discover -> Server <br>\n",
    "Client <- Offer    <- Server <br>\n",
    "Client -> Request  -> Server <br>\n",
    "Client <- ACK      <- Server <br>"
   ]
  },
  {
   "cell_type": "code",
   "execution_count": null,
   "id": "286029e5-fc0c-41b1-b05b-99c7c723ef24",
   "metadata": {},
   "outputs": [],
   "source": []
  }
 ],
 "metadata": {
  "kernelspec": {
   "display_name": "Python 3 (ipykernel)",
   "language": "python",
   "name": "python3"
  },
  "language_info": {
   "codemirror_mode": {
    "name": "ipython",
    "version": 3
   },
   "file_extension": ".py",
   "mimetype": "text/x-python",
   "name": "python",
   "nbconvert_exporter": "python",
   "pygments_lexer": "ipython3",
   "version": "3.10.2"
  }
 },
 "nbformat": 4,
 "nbformat_minor": 5
}
