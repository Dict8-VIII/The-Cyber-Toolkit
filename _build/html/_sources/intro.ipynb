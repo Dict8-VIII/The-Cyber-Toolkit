{
 "cells": [
  {
   "cell_type": "markdown",
   "id": "afe28b69-e16b-4f3c-818b-1f2807046a28",
   "metadata": {
    "tags": []
   },
   "source": [
    "# The Cyber Toolkit\n",
    "Welcome to \"The Cyber Toolkit\", my private (and publicly shared) collection of Notes, Tools, Walkthroughs, and general thoughts gathered from my Cyber Security study. Most content so far is from my own time on TryHackMe.com but will also include my notes during formal study. I've written this book for a few reasons.\n",
    "\n",
    "- To help others to learn. I am finding during my formal study that some basic knowledge isn’t being explained well or many assumptions are made. Other times, the explanation is presented in a way that I feel is un-natural for some people. I won't claim that this 'book' is for everyone, but I hope it helps some get through those initial steps. <br>\n",
    "\n",
    "- To keep track of and formalise my notes on my \"Try Hack Me\" experience. It is a great tool for learning about cyber security and I'd love to help others on this path. <br>\n",
    "\n",
    "- To publish some write-ups when I feel confident enough in my knowledge (or enough to pretend). No-one knows it all, I referred to some walkthroughs when I got stuck and I'm sure others will too. <br>\n",
    "\n",
    "- To show off my methods. Well, show off is the wrong phrase. We all think differently and seeing how others work is just another way to become more well-rounded. <br>\n",
    "\n",
    "- To learn something new. I've never published a 'book' before and I feel the Jupyter Book platform could really help me to publish in the future. Why not learn it now. <br>\n",
    "\n",
    "- And simply because I can.\n",
    "\n",
    "This book is also my semi-professional project, in which I try to explain things logically and clearly. That being said, theres no point in letting 'professional' get in the way of better understanding. If a meme, cartoon, or anime reference helps the message stick; you bet I'm putting that in. As I progress through this, I'll add extra sections and I'm sure modify things all over the place. This is most certainly a work in progress; some sections are placeholders, others are incomplete (as I work through my older notes recording) and others are rather fleshed out. There are bound to be many spelling mistakes as well. Sorry. \n",
    "\n",
    "\n",
    "I'm still studying & learning, and this book will follow my own process so may not be the most logical for you. I’ve designed this book to be a collection of tools which stand alone as much as possible. There is no need to start at the beginning or read everything I have on a topic before moving on; the search button is there for a reason. Promise I won’t take it personally.\n",
    "\n",
    "## The Boring Stuff\n",
    "I have written this book during my ETHICAL hacking study. Notice the key word there. If it’s not clear\n",
    "\n",
    "> ETHICAL!!!!!\n",
    "\n",
    "I can't stop you misusing any information you gather here, but my expectation of you (and a condition of access to this information) is that you will be the definition of a \"White-Hat\" hacker. No \"little bit of grey hat\". Bleach even. So white that Netflix has a restraining order...\n",
    "\n",
    "\n",
    "## A Bit about Me\n",
    "\n",
    "<a href=\"http://linkedin.com/in/paul-williams-234a6180\">My Linked-In Page</a>\n",
    "\n",
    "My interest in Cyber Security started when my work purchased a PluralSight subscription and gave me an account. The work stuff wasn't very interesting, but I also found the Ethical Hacking Path run by Dale Meredith. It really captured my interest and I'd recommend it to anyone else who has a subscription (and enjoys Dale's sense of humour). I only got to start Troy Hunt's one before my account ended though...\n",
    "\n",
    "Since then, I have done my own little projects, but nothing too intensive. I tried HackTheBox.com, was interesting but didn’t have enough background to take full advantage of it. Tried pwn.college, really wished I still had my notes from uni. TryHackMe I could really sink my teeth into though.\n",
    "\n",
    "I should also take a minute to thank Emma. This book literally wouldn’t exist without her. I learned python to help with her study (I migrated from C) and she introduced me to Jupyter Notebook, lab & book; the latter 2 are where this is being written. Thank you\n",
    "\n",
    "Lastly, Abby, who is smiling on every page. She is far more stubborn than any room, tool, or application I've ever wrestled with. \"Thanks\".  She has shown me how dedicated I can be to a topic and how fulfilling it is to see them succeed, which is why she has been chosen as this book's logo. Besides, what dad doesn’t like showing off his daughter?\n",
    "\n",
    "<hr>\n"
   ]
  },
  {
   "cell_type": "code",
   "execution_count": null,
   "id": "d0b85104-91a5-46fa-8f8b-387bf33c20b6",
   "metadata": {},
   "outputs": [],
   "source": []
  }
 ],
 "metadata": {
  "kernelspec": {
   "display_name": "Python 3 (ipykernel)",
   "language": "python",
   "name": "python3"
  },
  "language_info": {
   "codemirror_mode": {
    "name": "ipython",
    "version": 3
   },
   "file_extension": ".py",
   "mimetype": "text/x-python",
   "name": "python",
   "nbconvert_exporter": "python",
   "pygments_lexer": "ipython3",
   "version": "3.10.5"
  }
 },
 "nbformat": 4,
 "nbformat_minor": 5
}
