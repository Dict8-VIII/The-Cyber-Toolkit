{
 "cells": [
  {
   "cell_type": "markdown",
   "id": "cc94545f-c062-4910-93bd-1cbaa953e5be",
   "metadata": {},
   "source": [
    "# Rubeus\n",
    "\n",
    "Another tool for attacking kerberos. It is used for harvesting tickets for other attacks. You'll need to run this from a windows box.<br>\n",
    "\n",
    "https://github.com/GhostPack/Rubeus <br>\n",
    "\n",
    "For many of these attacks, you need to add the DC to the hosts file, this is different from linux\n",
    "\n",
    "> echo [ip] [DC] >> C:\\Windows\\System32\\drivers\\etc\\hosts\n",
    "\n",
    "<hr>"
   ]
  },
  {
   "cell_type": "markdown",
   "id": "f5add81e-9d49-43b8-b8db-45c21fa981b1",
   "metadata": {},
   "source": [
    "## Harvesting\n",
    "\n",
    "### Basic\n",
    "![Rubeus_Harvest.png](../images/Tools/Rubeus_Harvest.png)<br>\n",
    "\n",
    "<hr>\n",
    "\n",
    "### For Kerberoasting\n",
    "First, run Rubeus with the kerberoast mode<br>\n",
    "\n",
    "> Rubeus.exe kerberoast\n",
    "\n",
    "![Ruebus_kerberoasting.png](../images/Tools/Ruebus_kerberoasting.png)<br>\n",
    "\n",
    "Once you have the hashes dumped, copy to a hash.txt file and crack it against a wordlist using hashcat mode 13100. NOTE: the hash is the entire dumped string, not just the password hash itself (grab everything that is dumped in the 'Hash\" field) <br>\n",
    "![Ruebus_HashcatKerberoast.png](../images/Tools/Ruebus_HashcatKerberoast.png)<br>\n",
    "\n",
    "<hr>\n",
    "\n",
    "### For AS-REP Roasting\n",
    "\n",
    "> Rubeuse asreproast (AS REP ROAST)\n",
    "\n",
    "![Rubeus_ASREP-roast.png](../images/Tools/Rubeus_ASREP-roast.png)<br>\n",
    "\n",
    "This time, once you have the hashes dumped you need to modify them so hashcat can do its thing. Add a 23(dollar) after (dollar)krb5asrep(dollar) so that your hash looks something like this<br>\n",
    "![Rubeus_Add23.png](../images/Tools/Rubeus_Add23.png)<br>\n",
    "\n",
    "You can then attack with mode 18200\n",
    "> hashcat 0m 18200 -a 0 hash.txt wordlist.txt --force\n",
    "\n",
    "<hr>"
   ]
  },
  {
   "cell_type": "markdown",
   "id": "7134d2b6-f111-41b5-b3e2-f1efdc2f8966",
   "metadata": {},
   "source": [
    "## Spraying\n",
    "Instead of trying to brute force passwords for a user, you can instead bruteforce users for a specific password. If the password is correct, you get the .kirbi TGT.<br>\n",
    "Example from https://tryhackme.com/room/attackingkerberos <br>\n",
    "\n",
    "![Rubeus_Spray.png](../images/Tools/Rubeus_Spray.png)<br>\n",
    "\n",
    "<hr>"
   ]
  }
 ],
 "metadata": {
  "kernelspec": {
   "display_name": "Python 3 (ipykernel)",
   "language": "python",
   "name": "python3"
  },
  "language_info": {
   "codemirror_mode": {
    "name": "ipython",
    "version": 3
   },
   "file_extension": ".py",
   "mimetype": "text/x-python",
   "name": "python",
   "nbconvert_exporter": "python",
   "pygments_lexer": "ipython3",
   "version": "3.10.5"
  }
 },
 "nbformat": 4,
 "nbformat_minor": 5
}
