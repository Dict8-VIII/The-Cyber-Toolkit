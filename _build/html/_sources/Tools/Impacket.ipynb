{
 "cells": [
  {
   "cell_type": "markdown",
   "id": "ddeadd3a-60c7-4806-8791-7f7d9b77dfdd",
   "metadata": {},
   "source": [
    "# Impacket\n",
    "\n",
    "I came across this tool when doing [Active Directory enumeration](https://tryhackme.com/room/attacktivedirectory). It is a collection of scripts for post-exploitation and escalation. Again it may be quite loud on a network.<br>\n",
    "It can be found here: https://github.com/SecureAuthCorp/impacket.git\n",
    "\n",
    "<hr>"
   ]
  },
  {
   "cell_type": "markdown",
   "id": "76d229f3-5a0e-426c-98b9-28bfd51b00dd",
   "metadata": {},
   "source": [
    "## Installation\n",
    "As mentioned above, this is mainly a collection of scripts but it can still be installed. Many of these commands require sudo rights, so you'll need to add this if not running as root.\n",
    "\n",
    "> git clone https://github.com/SecureAuthCorp/impacket.git /opt/impacket <br>\n",
    "> pip3 install -r /opt/impacket/requirements.txt <br>\n",
    "> cd /opt/impacket/ && python3 ./setup.py install <br>\n",
    "\n",
    "<hr>\n",
    "\n",
    "Another Page recommends 0.9.20 + are quite unstable, try 0.9.19<br>\n",
    "https://tryhackme.com/room/attackingkerberos<br>\n",
    "\n",
    "> cd /opt<br>\n",
    "> wget https://github.com/SecureAuthCorp/impacket/releases/download/impacket_0_9_19/impacket-0.9.19.tar.gz<br>\n",
    "> unpack it<br>\n",
    "> cd Impacket-0.9.19<br>\n",
    "> pip install .<br>\n",
    "\n",
    "<hr>\n",
    "\n",
    "And another...<br>\n",
    "\n",
    "This is taken from https://tryhackme.com/room/zer0logon<br>\n",
    "\n",
    "> python3 -m pip install virtualenv<br>\n",
    "> python3 -m virtualenv impacketEnv<br>\n",
    "> source impacketEnv/bin/activate<br>\n",
    "> pip install git+https://github.com/SecureAuthCorp/impacket<br>\n",
    "\n",
    "\n",
    "<hr>"
   ]
  },
  {
   "cell_type": "markdown",
   "id": "bb77daf7-7122-46c6-ab2e-56e2154a3a66",
   "metadata": {},
   "source": [
    "## Kerberoasting\n",
    "\n",
    "> cd/usr/share/doc/python3-impacket/examples\n",
    "> sudo python3 GetUserSPNs.py [domain]/[Machine1:Password1] -dc-ip [DC IP] -request\n",
    "> pass dumps to hashcat: hashcat -m 13100 -a 0 hash.txt wordlist.txt\n",
    "\n",
    "<hr>"
   ]
  },
  {
   "cell_type": "markdown",
   "id": "6adc859f-11be-43f8-b072-5d5b9069f099",
   "metadata": {},
   "source": [
    "## Example Scripts\n",
    "\n",
    "### GetNPUsers.py\n",
    "This script is used to enumerate users in the AD, basd on a user list. When I did this, my installation didnt bring over the example scripts so I had to pull these manually.\n",
    "\n",
    "> cd /opt/impacket/impacket/examples <br>\n",
    "> sudo wget https://raw.githubusercontent.com/SecureAuthCorp/impacket/master/examples/GetNPUsers.py\n",
    "\n",
    "\n",
    "You can then run the script, be aware that the Domain needs a / at the end (Red arrow). The Blue arrow is the target IP\n",
    "![Impacket_GetNPUsersExample.png](../images/Tools/Impacket_GetNPUsersExample.png)\n",
    "\n",
    "<hr>\n",
    "\n",
    "### SecretsDump.py\n",
    "Sounds fun, and it is. This script dumps the hashes of a remote device, as long as you have a login with the rights to do so. The sudo is because I'm writting a file to /opt.... I think.\n",
    "\n",
    "> cd /opt/impacket/examples <br>\n",
    "> sudo python3 secretsdump.py\n",
    "\n",
    "![Impacket_SecretsDumpExample.png](../images/Tools/Impacket_SecretsDumpExample.png)\n",
    "\n",
    "<hr>"
   ]
  }
 ],
 "metadata": {
  "kernelspec": {
   "display_name": "Python 3 (ipykernel)",
   "language": "python",
   "name": "python3"
  },
  "language_info": {
   "codemirror_mode": {
    "name": "ipython",
    "version": 3
   },
   "file_extension": ".py",
   "mimetype": "text/x-python",
   "name": "python",
   "nbconvert_exporter": "python",
   "pygments_lexer": "ipython3",
   "version": "3.11.4"
  }
 },
 "nbformat": 4,
 "nbformat_minor": 5
}
