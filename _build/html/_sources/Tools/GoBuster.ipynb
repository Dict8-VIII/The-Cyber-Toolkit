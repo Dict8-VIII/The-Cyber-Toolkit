{
 "cells": [
  {
   "cell_type": "markdown",
   "id": "fb05409f-975d-41bb-879c-07123ee1c044",
   "metadata": {},
   "source": [
    "# Gobuster\n",
    "\n",
    "Gobuster is great software for bruteforcing directories. Naturally its only as good as the wordlists you provide.\n",
    "\n",
    "## Webserver Directories\n",
    "You can use GoBuster in the Enum stage for directories, as well as files.\n",
    "\n",
    "For Directories\n",
    "> gobuster dir -u http://\\[IP] -w [wordlist]\n",
    "* -u: The URL\n",
    "* -w: Path to a wordlist of directories\n",
    "\n",
    "For files\n",
    "> gobuster dir -u http://\\[IP] -w \\[wordlist] -x \\[extensions]\n",
    "* -x: Extension to search for. Can be a comma separated list\n",
    "\n",
    "![GoBuster-DirectoryScanpng.png](../images/GoBuster-DirectoryScanpng.png)\n",
    "\n",
    "<hr>"
   ]
  },
  {
   "cell_type": "markdown",
   "id": "1bf62ea7-b450-4dab-bf78-876507dde7f8",
   "metadata": {},
   "source": [
    "## Mode: Webserver vHosts\n",
    "A vHost is a second 'virtual' website hosted on your one server. I think technically the first host is a vHost as well, but dont quote me on that... Something to find out....\n",
    "\n",
    "Gobuster can scan for these too\n",
    "\n",
    "> Gobuster vhost -u http://\\[url\\] -w \\[wordlist\\]\n",
    "\n",
    "<hr>"
   ]
  },
  {
   "cell_type": "code",
   "execution_count": null,
   "id": "ba5d83e7-0b3f-446e-bdcc-c0819565aa72",
   "metadata": {},
   "outputs": [],
   "source": []
  }
 ],
 "metadata": {
  "kernelspec": {
   "display_name": "Python 3 (ipykernel)",
   "language": "python",
   "name": "python3"
  },
  "language_info": {
   "codemirror_mode": {
    "name": "ipython",
    "version": 3
   },
   "file_extension": ".py",
   "mimetype": "text/x-python",
   "name": "python",
   "nbconvert_exporter": "python",
   "pygments_lexer": "ipython3",
   "version": "3.10.4"
  }
 },
 "nbformat": 4,
 "nbformat_minor": 5
}
