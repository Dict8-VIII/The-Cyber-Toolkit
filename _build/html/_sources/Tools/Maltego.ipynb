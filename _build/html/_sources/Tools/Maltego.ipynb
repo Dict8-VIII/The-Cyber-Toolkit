{
 "cells": [
  {
   "cell_type": "markdown",
   "id": "402dfbca-4569-4925-91d6-c2c8de48a673",
   "metadata": {},
   "source": [
    "# Maltego\n",
    "\n",
    "Maltego is a 'mind mapping' / flowcharting OSINT tool, for those who are more visual with their process.\n",
    "\n",
    "## The Basics\n",
    "With Maltego, you start with basic 'known' information and apply a transform to convert it to more data (or entities). Info about the transforms can be found here https://www.maltego.com/transform-hub/\n",
    "\n",
    "### Installing\n",
    "Maltego itself has a community edition, however some transforms are charged above this. Again you may or may not need your own keys for some transforms. "
   ]
  }
 ],
 "metadata": {
  "kernelspec": {
   "display_name": "Python 3 (ipykernel)",
   "language": "python",
   "name": "python3"
  },
  "language_info": {
   "codemirror_mode": {
    "name": "ipython",
    "version": 3
   },
   "file_extension": ".py",
   "mimetype": "text/x-python",
   "name": "python",
   "nbconvert_exporter": "python",
   "pygments_lexer": "ipython3",
   "version": "3.11.4"
  }
 },
 "nbformat": 4,
 "nbformat_minor": 5
}
