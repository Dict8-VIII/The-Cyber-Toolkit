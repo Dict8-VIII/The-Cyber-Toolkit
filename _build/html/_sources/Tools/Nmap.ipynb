{
 "cells": [
  {
   "cell_type": "markdown",
   "id": "f453072a-01b3-4718-a01d-cd532e64fd53",
   "metadata": {},
   "source": [
    "# Nmap\n",
    "\n",
    "Nmap is a Scanning tool used for the enumeration stage of Pen Testing. It is very versatile and industry standard.\n",
    "\n",
    "Common usages\n",
    "- Port Scanning\n",
    "- Service Enum\n",
    "- Running Nmap scripts for specific enum\n",
    "\n",
    "## Syntax\n",
    "\n",
    "> nmap \\[ip] [scan method] [MANY arguements] -vv\n",
    "\n",
    "- [ip] : The target server IP address\n",
    "- [scan method] : -s[something], there can be a number of arguements here\n",
    "    - -sV is to try determine what is running behind the ports\n",
    "    - -sS sneaky stealth scan\n",
    "    - -sA is to try determine OS version (as well as other things, A=Agressive)\n",
    "    - -sL \\t List the targets that will be scanned, without scanning them. Commonly used with -n\n",
    "    - -sn dont port scan (can be combined with -PR)\n",
    "    \n",
    "- [arguements]\n",
    "    - --script [Nmap script]\n",
    "    - vuln [ip] \\t try determine known exploits\n",
    "    - -n \\t Dont resolve DNS\n",
    "    - -PR \\t ARP request only (better be on the same subnet)\n",
    "    - -PE \\t Use ICMP Echo to discover hosts\n",
    "    - -PP \\t Use ICMP timestamp instead of echo, useful if echo is blocked\n",
    "    - -PM \\t Use ICMP address mask instead of echo, useful if echo is blocked\n",
    "    - -PS \\t Uses TCP SYN to discover hosts. Can add a port or range (without spaces), default is on Port80\n",
    "    - -PA \\t Uses TCP ACK to discover hosts (they should respond with a RST)\n",
    "    - -PU \\t Uses a UDP PING\n",
    "    - -R \\t Lookup DNS names for offline devices\n",
    "    \n",
    "- -vv : VeryVerbose, stops you going crazy wondering if its working\n",
    "\n",
    "\n"
   ]
  },
  {
   "cell_type": "markdown",
   "id": "93a3cfd1-c40c-446a-a9b6-068fe6376722",
   "metadata": {},
   "source": [
    "## Why so many scan options?\n",
    "\n",
    "### Discovery\n",
    "These are the scan types for target discovery (is there something on this IP worth investigating).\n",
    "\n",
    "#### -PR\n",
    "This arguement send a broadcast ARP request only. This is a great one to use as it's not blocked by any firewalls (as it's part of maintaining a network), but it requires you to be on the same subnet as your targets.\n",
    "\n",
    "#### -PE -PP -PM\n",
    "These are ICMP Echo, Timestamp and Mask respectively. All run in the ICMP domain and are ways to work around a firewall. Echo tends to be blocked (and is by default most times). Timestamp and Mask requests are alternatives.\n",
    "\n",
    "#### -PS -PA\n",
    "These are TCP discovery methods. -PS Uses a SYN request (on port 80 by default) and if it recieved back a response (SYNACK or RST) then treats the IP as active. It just waits for the response if run as priveliged user, or completes the handshake if not. -PA is an ACK message which will recieve a RST if the target is active (as its not part of an established message), and can only be run as priveliged user (otherwise it will run a SYN)."
   ]
  }
 ],
 "metadata": {
  "kernelspec": {
   "display_name": "Python 3 (ipykernel)",
   "language": "python",
   "name": "python3"
  },
  "language_info": {
   "codemirror_mode": {
    "name": "ipython",
    "version": 3
   },
   "file_extension": ".py",
   "mimetype": "text/x-python",
   "name": "python",
   "nbconvert_exporter": "python",
   "pygments_lexer": "ipython3",
   "version": "3.10.4"
  }
 },
 "nbformat": 4,
 "nbformat_minor": 5
}
