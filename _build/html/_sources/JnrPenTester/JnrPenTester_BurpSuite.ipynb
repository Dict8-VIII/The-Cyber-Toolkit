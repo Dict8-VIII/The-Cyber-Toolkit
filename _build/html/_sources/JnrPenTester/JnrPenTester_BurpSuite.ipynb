{
 "cells": [
  {
   "cell_type": "markdown",
   "id": "62b529fb-71cb-42b4-8d53-9516cca85724",
   "metadata": {},
   "source": [
    "# Burp Suite\n",
    "\n",
    "This group of tasks has been referenced in the [BurpSuite section of the tools category.](../Tools/BurpSuite/Burp.ipynb)\n",
    "\n",
    "<hr>"
   ]
  },
  {
   "cell_type": "code",
   "execution_count": null,
   "id": "3a1f5935-9b94-489b-b624-97eafc396794",
   "metadata": {},
   "outputs": [],
   "source": []
  }
 ],
 "metadata": {
  "kernelspec": {
   "display_name": "Python 3 (ipykernel)",
   "language": "python",
   "name": "python3"
  },
  "language_info": {
   "codemirror_mode": {
    "name": "ipython",
    "version": 3
   },
   "file_extension": ".py",
   "mimetype": "text/x-python",
   "name": "python",
   "nbconvert_exporter": "python",
   "pygments_lexer": "ipython3",
   "version": "3.10.5"
  }
 },
 "nbformat": 4,
 "nbformat_minor": 5
}
