{
 "cells": [
  {
   "cell_type": "markdown",
   "id": "7d900ece-6551-456f-8c86-276d3c9c15dd",
   "metadata": {},
   "source": [
    "# Exploiting the SUID Bit\n",
    "\n",
    "This is taken from the [TryHackMe \"Linux PrivEsc\" room Task 8](https://tryhackme.com/room/linprivesc). We are presented with a Linux box where we have a low privelige account and need to escalate some users to see some files.\n",
    "<br>\n",
    "\n",
    "## Finding an Exploit\n",
    "\n",
    "Once logged in with the default credentials, we can start with the basic\n",
    "\n",
    "- sudo -l : no permission\n",
    "- su : yea sorry\n",
    "\n",
    "OK, so lets see where the SUID bit is set<br>\n",
    "![JrPen-PrivEsc_findSUID.png](../images/JrPen-PrivEsc_findSUID.png)\n",
    "\n",
    "Theres a lot in here. Many of them are standard ones but a few stand out to me, simply because the look interesting\n",
    "\n",
    "1. gpasswd\n",
    "2. newgrp\n",
    "3. chsh\n",
    "4. base64\n",
    "5. fusermount\n",
    "\n",
    "Taking these to GTFOBins, and adding the +SUID to the search, we find one that meets our criteria; base64.<br>\n",
    "![JrPen-PrivEsc_GTFObins.png](../images/JrPen-PrivEsc_GTFObins.png)\n",
    "\n",
    "<hr>"
   ]
  },
  {
   "cell_type": "markdown",
   "id": "d8a7f0fd-22ae-43dc-9565-0e4071dcfc58",
   "metadata": {},
   "source": [
    "## Using the exploit\n",
    "\n",
    "So, we have an exploit, and it looks like we can use it to read files we arent supposed to, but how do we apply this? Well the first step is to understand what our vulnerable software does....\n",
    "<br>\n",
    "<br>\n",
    ".... After some reasearch it looks like this is simply a converter from/to base64. Simple enough. How do we use it? Well it looks like our goal is to get some users & passwords, so let use this to copy the files. <br>\n",
    "\n",
    "First, make a workspace\n",
    "> cd /tmp<br>\n",
    "> mkdir suid<br>\n",
    "> cd suid\n",
    "\n",
    "Next, lets copy the passwd file to our new directory. This file has read rights for everyone anyway so we can just copy it.\n",
    "> cp /etc/passwd passwdcopy\n",
    "\n",
    "If we try to do the same thing with the shadow file, we get a big fat NOPE. <br>\n",
    "\n",
    "![JnrPen-PrivEsc_NoCopy.png](../images/JnrPen-PrivEsc_NoCopy.png)\n",
    "\n",
    "This is where our SUID vulnerability comes in. Instead of copying the file directly, we can use the base64 software to read the shadow file, and write this to a new location.<br>\n",
    "\n",
    "![JnrPen-PrivEsc_YesCopy.png](../images/JnrPen-PrivEsc_YesCopy.png)\n",
    "\n",
    "great, we now have both files, and both are readable (you can check with cat).\n",
    "\n",
    "<hr>"
   ]
  },
  {
   "cell_type": "markdown",
   "id": "430746a1-d547-488c-b962-b8cd7a5c56fc",
   "metadata": {},
   "source": [
    "## Pulling out the Passwords\n",
    "\n",
    "Now that we have both the passwd and shadow files, we can unshadow these and give them to our good friend [John](../Tools/John). Unfortunately, the target vm and John arent aquainted yet and we cant do this on the machine.<br>\n",
    "![JnrPen-PrivEsc_NoJohn.png](../images/JnrPen-PrivEsc_NoJohn.png)\n",
    "\n",
    "Python IS installed though, so we can just transfer these files over http.<br>\n",
    "![JnrPen-PrivEsc_Retrieve.png](../images/JnrPen-PrivEsc_Retrieve.png)\n",
    "\n",
    "1. Host the Server on the target machine\n",
    "2. Make a directory on the local machine to store the files\n",
    "3. Download the passwd file\n",
    "4. Download the shadow file\n",
    "5. Make it John friendly\n",
    "6. Crack some hashes\n",
    "\n",
    "You'll notice that I recieved no new passwords in this case; as I have run this already. You'll have to do it yourself if you want the passwords for question 2 :-)\n",
    "\n",
    "<hr>"
   ]
  },
  {
   "cell_type": "markdown",
   "id": "ccd75401-ed34-4e3e-875d-1cbb60deae0e",
   "metadata": {},
   "source": [
    "## Grabbing the flag\n",
    "\n",
    "So we have some passwords now, but we still need to grab our flag. Or first step is to find where this file is. As we're given the name, lets just run find.\n",
    "\n",
    "> find / -type f -name \"flag3.txt\" 2>/dev/null\n",
    "\n",
    "This will return the location /home/ubuntu/flag3. If we try to open this however, we'll find that we have no permissions... drat... We 2 have 2 other accounts though. To swap users, run\n",
    "\n",
    "> su [username]\n",
    "\n",
    "1. user2 : No luck, no rights\n",
    "2. the user from question 1 : Also no luck... damn.\n",
    "\n",
    "Ok, so none of our users work. Fortunately our base64 vulnerability still works so we can just run this directly\n",
    "\n",
    "> base64 /home/ubuntu/flag3.txt | base64 --decode\n",
    "\n",
    "This will give us the answer to question 3.\n",
    "\n",
    "### The more complex way\n",
    "\n",
    "Unfortunately, I actually tried this another way first. I tried adding the new user to the passwd file and writing this back to the correct location, but unfortunately it looks like this vulnerability allows read exploits, not write. This is interesting as its running under SUID so I wasnt expecting this. Will need to revisit this at some point.\n",
    "\n",
    "<hr>"
   ]
  },
  {
   "cell_type": "code",
   "execution_count": null,
   "id": "4ce60148-577b-4ce0-9ed9-af0bb0c6b10b",
   "metadata": {},
   "outputs": [],
   "source": []
  }
 ],
 "metadata": {
  "kernelspec": {
   "display_name": "Python 3 (ipykernel)",
   "language": "python",
   "name": "python3"
  },
  "language_info": {
   "codemirror_mode": {
    "name": "ipython",
    "version": 3
   },
   "file_extension": ".py",
   "mimetype": "text/x-python",
   "name": "python",
   "nbconvert_exporter": "python",
   "pygments_lexer": "ipython3",
   "version": "3.10.5"
  }
 },
 "nbformat": 4,
 "nbformat_minor": 5
}
