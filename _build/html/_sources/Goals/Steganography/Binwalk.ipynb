{
 "cells": [
  {
   "cell_type": "markdown",
   "metadata": {},
   "source": [
    "# Binwalk\n",
    "\n",
    "Binwalk is a steganography tool used for examining a file and separating data that has been hidden within it. This data is mainly extra files.\n",
    "This is one of my go-to tools for CTFs, it seems quite common at some point and is rather reliable.\n",
    "\n",
    "<hr>\n",
    "\n",
    "## Installation\n",
    "\n",
    "Binwalk comes installed on kali by default, but if you are extracting zip files, you need the JDK installed\n",
    "\n",
    "> sudo apt install default-jdk\n",
    "\n",
    "<hr>\n",
    "\n",
    "## Examining a File\n",
    "You can examine a file simply by passing it to Binwalk\n",
    "\n",
    "> binwalk cutie.png\n",
    "\n",
    "If files are found, you can then extract them with a -e. They are then stored in a subfolder of your current location\n",
    "\n",
    "![Binwalk_Example.png](../../Images/Goals/Steganography/Binwalk_Example.png)\n",
    "\n",
    "<hr>"
   ]
  },
  {
   "cell_type": "code",
   "execution_count": null,
   "metadata": {},
   "outputs": [],
   "source": []
  }
 ],
 "metadata": {
  "kernelspec": {
   "display_name": "Python 3 (ipykernel)",
   "language": "python",
   "name": "python3"
  },
  "language_info": {
   "codemirror_mode": {
    "name": "ipython",
    "version": 3
   },
   "file_extension": ".py",
   "mimetype": "text/x-python",
   "name": "python",
   "nbconvert_exporter": "python",
   "pygments_lexer": "ipython3",
   "version": "3.11.4"
  }
 },
 "nbformat": 4,
 "nbformat_minor": 4
}
