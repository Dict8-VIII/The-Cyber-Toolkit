{
 "cells": [
  {
   "cell_type": "markdown",
   "id": "d544caf9-34ca-4499-a2fb-fb6d0d81f4c9",
   "metadata": {},
   "source": [
    "# Zimmerman\n",
    "\n",
    "A collection of Erice Zimmermans tools."
   ]
  },
  {
   "cell_type": "markdown",
   "id": "b2f80a41-4e8d-4909-b7c9-1757bf30db5b",
   "metadata": {},
   "source": [
    "## EZviewer\n",
    "A CSV viewing tool used for reviewing the output of other tools\n",
    "\n",
    "<hr>"
   ]
  },
  {
   "cell_type": "markdown",
   "id": "2de96577-e6f2-4766-a9ef-6fbfca8bb622",
   "metadata": {},
   "source": [
    "## MFT Explorer - MFTECmd.exe\n",
    "\n",
    "mftecmd -f [file to explore] --csv [path to csv output file]<br>\n",
    "\n",
    "<hr>"
   ]
  },
  {
   "cell_type": "markdown",
   "id": "accd5d8c-f26b-4d00-9aac-5b2ce235486e",
   "metadata": {},
   "source": [
    "## PEcmd.exe\n",
    "\n",
    "Prefetch explorer."
   ]
  }
 ],
 "metadata": {
  "kernelspec": {
   "display_name": "Python 3 (ipykernel)",
   "language": "python",
   "name": "python3"
  },
  "language_info": {
   "codemirror_mode": {
    "name": "ipython",
    "version": 3
   },
   "file_extension": ".py",
   "mimetype": "text/x-python",
   "name": "python",
   "nbconvert_exporter": "python",
   "pygments_lexer": "ipython3",
   "version": "3.11.4"
  }
 },
 "nbformat": 4,
 "nbformat_minor": 5
}
