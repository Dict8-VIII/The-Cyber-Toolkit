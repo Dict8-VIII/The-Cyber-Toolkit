{
 "cells": [
  {
   "cell_type": "markdown",
   "id": "c15d34d5-6696-4866-9677-a573fa35f748",
   "metadata": {},
   "source": [
    "# Recon-ng\n",
    "\n",
    "This is a framwork for automating (some of) the common OSINT tasks. It comes at a base level and modules are added on to increase the functionality. Some modules require an API key as well. If you ever get stuck in a 'context', type 'back' to return one level\n",
    "\n",
    "<hr>"
   ]
  },
  {
   "cell_type": "markdown",
   "id": "c17477ef-1097-4d52-b800-9ce22b074fdf",
   "metadata": {},
   "source": [
    "## The Basics\n",
    "\n",
    "### Install\n",
    "It's part of the standard repositories\n",
    "> sudo apt install recon-ng\n",
    "\n",
    "### Run\n",
    "Nice and easy\n",
    "\n",
    "> recon-ng\n",
    "\n",
    "If its your first time running, there wont be any modules installed. You'll also see your terminal swap to the recon-ng name (with your workspace)<br>\n",
    "![Recon-ng_Run.png](../../../Images/Goals/RedTeam/Recon-ng_Run.png)\n",
    "\n",
    "### Workspaces\n",
    "As with many tools, you can set workspaces to isolate investigations.\n",
    "\n",
    "- Create a workspace\n",
    "  - workspaces create [workspace_name]\n",
    "  \n",
    "<hr>"
   ]
  },
  {
   "cell_type": "markdown",
   "id": "7834c2a3-cdd3-4605-848e-d8a60b379a84",
   "metadata": {},
   "source": [
    "## General Process\n",
    "\n",
    "In a workspace, you will want to start with known data and use that to populate more relevant data. Sounds simple, right? Well..... not really. There's a DB sitting underneath and you can see its schema with\n",
    "\n",
    ">db schema\n",
    "\n",
    "### Inserting a Domain\n",
    "So, lets say we start with a domain name, we will want to drop that into the db.\n",
    "\n",
    "> db insert domains<br>\n",
    "> [enter your domain]<br>\n",
    "\n",
    "![Recon-ng_InsertDomain.png](../../../Images/Goals/RedTeam/Recon-ng_InsertDomain.png)<br>\n",
    "\n",
    "### Finding More Modules (marketplace)\n",
    "Like many OS, Recon-ng comes with its own marketplace for finding more modules. Modules are split into categories such as discover, import, recon and reporting. Some of these also have subcategories. The modules are named based on the source and resulting data.\n",
    "\n",
    "- Marketplace search [query]\n",
    "  - search for modules (a blank query gives all)\n",
    "- marketplace info [module]\n",
    "  - get info about a module\n",
    "- marketplace install [module]\n",
    "  - install a module\n",
    "- marketplace remove [module]\n",
    "  - uninstall a module\n",
    "\n",
    "### Loading a Module\n",
    "Once you have a module installed, you can now load it into memory\n",
    "\n",
    "- modules search [query]\n",
    "  - list installed modules, again an empty query is all\n",
    "- modules load [module]\n",
    "  - loads the module to memory to provide arguements to\n",
    "- options list\n",
    "  - lists all options\n",
    "- options set [option] [value]\n",
    "  - set an option to a value\n",
    "- run\n",
    "  - runs the module\n",
    "  \n",
    "<hr>"
   ]
  },
  {
   "cell_type": "code",
   "execution_count": null,
   "id": "2f434095-620e-46d0-ab97-6ea5a73d2f73",
   "metadata": {},
   "outputs": [],
   "source": []
  }
 ],
 "metadata": {
  "kernelspec": {
   "display_name": "Python 3 (ipykernel)",
   "language": "python",
   "name": "python3"
  },
  "language_info": {
   "codemirror_mode": {
    "name": "ipython",
    "version": 3
   },
   "file_extension": ".py",
   "mimetype": "text/x-python",
   "name": "python",
   "nbconvert_exporter": "python",
   "pygments_lexer": "ipython3",
   "version": "3.11.4"
  }
 },
 "nbformat": 4,
 "nbformat_minor": 5
}
