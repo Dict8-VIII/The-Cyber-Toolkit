{
 "cells": [
  {
   "cell_type": "markdown",
   "id": "fb15bd01-5c26-44ed-ab10-71f7cc768634",
   "metadata": {},
   "source": [
    "# Compliance Portal\n"
   ]
  },
  {
   "cell_type": "markdown",
   "id": "4c6ab2f3-862d-430c-bc08-54a09d93d45c",
   "metadata": {},
   "source": [
    "## Document Fingerprinting\n",
    "\n",
    "Partial & Exact matching\n",
    "Used for DLP\n",
    "\n",
    "Document fingerprinting is converting a standard form to a SIT (Senstitive Information Type). For example, a document template, customer feedback form or invoice template. You then make a policy to watch for this & apply actions or controls. You can also notify or warn the employee that they may be about to send senstitive information.\n",
    "\n",
    "The fingerprint only stores the document field hashes, not the data itself.\n",
    "\n",
    "fingerprinting does not support a .dotx (word template file). Thats an odd one. Fingerprinting also doesnt work on\n",
    "- Password protected files (they are encrypted)\n",
    "- Images only (there is no text)\n",
    "- Documents that dont include all the template text (in exact matching)\n",
    "- Files > 4MB... ok that one is odd...\n",
    "\n",
    "Partial matching is also included. The defaults are Low, Medium and High, with 30-90% matching requirements.\n",
    "\n",
    "### Creating a fingerprint\n",
    "\n",
    "1. In the Compliance porta\n",
    "2. Data Classification -> Classifiers\n",
    "3. Select Sensitive info types -> Create Fingerprint based SIT\n",
    "4. Enter the details and provide a template file.\n",
    "5. Click Create\n",
    "\n",
    "You can store about 50 fingerprints per tenant...\n",
    "<hr>"
   ]
  },
  {
   "cell_type": "markdown",
   "id": "af051b21-0cfd-487c-9f2c-be7c13853db0",
   "metadata": {},
   "source": [
    "## Named Entities\n",
    "A named entity is a dictionary or pattern match classifier stored as a SIT.\n",
    "\n",
    "Some common examples of these are\n",
    "- Credit Card Numbers (24 digit string)\n",
    "- Sensitive words such as 'top secret', 'internal' or industry specific jargon\n",
    "\n",
    "Named entities are bundled or unbundled. Unbundled are specific (such as Aus Addresses) while bundled are 'all of a type', such as global addresses.\n",
    "\n",
    "\n",
    "### Keyword Dictionaries\n",
    "Keyword dictionaries are large lists of words that need to be flagged and may be subject to change often. The max size is 1MB post compression & language variants. A keyword dictionary is the easiest to manage large size list.\n",
    "<hr>"
   ]
  }
 ],
 "metadata": {
  "kernelspec": {
   "display_name": "Python 3 (ipykernel)",
   "language": "python",
   "name": "python3"
  },
  "language_info": {
   "codemirror_mode": {
    "name": "ipython",
    "version": 3
   },
   "file_extension": ".py",
   "mimetype": "text/x-python",
   "name": "python",
   "nbconvert_exporter": "python",
   "pygments_lexer": "ipython3",
   "version": "3.11.4"
  }
 },
 "nbformat": 4,
 "nbformat_minor": 5
}
