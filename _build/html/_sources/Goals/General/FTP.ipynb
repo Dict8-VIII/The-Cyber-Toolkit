{
 "cells": [
  {
   "cell_type": "markdown",
   "id": "1006ddf8-4d03-4c42-ab8c-c3e4a565d78e",
   "metadata": {},
   "source": [
    "# FTP\n",
    "\n",
    "FTP, or File Transfer Protocol, is a common method of transferring files on a network. It can be used from a web browser or FTP client. An FTP server listens on port 21 by default and you can even attempt a connection via telnet. It will connect, but as FTP uses port 21 for initial connection only (and transfers files over a different port), the transfer will fail. As you can probably guess by the fact telnet can be used, FTP is unencrypted.<br>\n",
    "\n",
    "There are 2 modes to FTP<br>\n",
    "1. Active: A new connection is made from the Server to the Client on port 20<br>\n",
    "2. Passive: A new connection is made from the Client to the Server on a port >1023<br>\n",
    "\n",
    "## Connection Methods\n",
    "\n",
    "### Telnet\n",
    "Connecting via telnet uses multiple commands and it cant be used alone. You could probably try hosting a separate listener but I haven’t tried this... would be good to do.<br>\n",
    "\n",
    "1. telnet [IP] 21<br>\n",
    "2. USER [the username]<br>\n",
    "3. PASS [the password]<br>\n",
    "\n",
    "We can then use different commands on the server.<br>\n",
    "- STAT: the server status/current FTP configuration<br>\n",
    "- SYST: the system hosting the FTP server<br>\n",
    "- PASV: set the FTP transfer to Passive<br>\n",
    "- TYPE A: Transfer mode ASCII<br>\n",
    "- TYPE I: Transfer mode Binary<br>\n",
    "\n",
    "<hr>\n",
    "\n",
    "### FTP Client\n",
    "The far more useful method is to use an FTP client, Linux has one built in<br>\n",
    "\n",
    "1. ftp [IP] [port] (port is optional)<br>\n",
    "2. Name: [username]<br>\n",
    "3. Password: [the password]<br>\n",
    "\n",
    "We can then use various commands<br>\n",
    "- ls: list directory<br>\n",
    "- ascii: switch to ASCII mode<br>\n",
    "- get [filename].ext: Download the file<br>\n",
    "- exit: wanna guess?<br>\n",
    "\n",
    "Below is an example, with my commands highlighted GREEN<br>\n",
    "\n",
    "![FTP_Example.png](../../Images/Goals/General/FTP_Example.png)<br>\n",
    "\n",
    "It should be noted that the files will be copied to your PWD, so launch FTP from the correct location or enter a path when you 'download'<br>\n",
    "\n",
    "<hr>\n"
   ]
  },
  {
   "cell_type": "markdown",
   "id": "cf5ebb6e-0b6e-448a-bc57-51f1ec855f29",
   "metadata": {},
   "source": [
    "## Issues\n",
    "\n",
    "Sometimes we can get the \"entering extended passive mode\" line, and the FTP server just hangs waiting. Theres a few ways around this\n",
    "\n",
    "> WAIT!!!<br>\n",
    "\n",
    "Just wait... breathe... if there is no error, you probably just need to wait....<br>\n",
    "\n",
    "> epsv<br>\n",
    "\n",
    "This turns off extending passive mode. Sometimes helps, sometimes doesnt<br>\n",
    "\n",
    "> passive<br>\n",
    "\n",
    "Swaps the state of passive mode, makes things do the worky<br>\n",
    "\n",
    "![FTP_Passive.png](../../Images/Goals/General/FTP_Passive.png)<br>\n",
    "\n",
    "<hr>"
   ]
  },
  {
   "cell_type": "code",
   "execution_count": null,
   "id": "6bee861c-52f1-4e68-a8d0-84562954003c",
   "metadata": {},
   "outputs": [],
   "source": []
  }
 ],
 "metadata": {
  "kernelspec": {
   "display_name": "Python 3 (ipykernel)",
   "language": "python",
   "name": "python3"
  },
  "language_info": {
   "codemirror_mode": {
    "name": "ipython",
    "version": 3
   },
   "file_extension": ".py",
   "mimetype": "text/x-python",
   "name": "python",
   "nbconvert_exporter": "python",
   "pygments_lexer": "ipython3",
   "version": "3.11.4"
  }
 },
 "nbformat": 4,
 "nbformat_minor": 5
}
