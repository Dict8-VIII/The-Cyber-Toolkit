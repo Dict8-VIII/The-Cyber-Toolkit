{
 "cells": [
  {
   "cell_type": "markdown",
   "id": "cbbb89b6-6e43-4458-a794-ab5af7c3e284",
   "metadata": {},
   "source": [
    "# Stabalising a shell\n",
    "\n",
    "The problem with a number of exploits, is that the reverse shell isnt the most stable medium\n",
    "\n",
    "* It doesn't have autofill\n",
    "* CTRL+C will kill the listener (cant kill a launched program)"
   ]
  }
 ],
 "metadata": {
  "kernelspec": {
   "display_name": "Python 3 (ipykernel)",
   "language": "python",
   "name": "python3"
  },
  "language_info": {
   "codemirror_mode": {
    "name": "ipython",
    "version": 3
   },
   "file_extension": ".py",
   "mimetype": "text/x-python",
   "name": "python",
   "nbconvert_exporter": "python",
   "pygments_lexer": "ipython3",
   "version": "3.10.2"
  }
 },
 "nbformat": 4,
 "nbformat_minor": 5
}