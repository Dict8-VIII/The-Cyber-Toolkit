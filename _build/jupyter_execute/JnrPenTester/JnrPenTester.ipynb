{
 "cells": [
  {
   "cell_type": "markdown",
   "id": "f910d6c2-79f3-488e-a254-2bd22a8b1756",
   "metadata": {},
   "source": [
    "# Jr Pen Tester Path\n",
    "\n",
    "Welcome to the Jr Pen Tester Path. This is the most basic of the paths I plan to record in this book. Partly because I don't want to replicate those that are already walked through, and partly because I started this book after already completing Pre Security and Complete Beginner.\n",
    "\n",
    "I'm also not planning to walk through or replicate what is already walked through by the rooms themselves. Whats the point in me repeating what the room already says? That being said, there are plenty skills worth noting even if they are already walked through. Many of these can be found in the Hacker Craft Section of this book. With that in mind, the walkthroughs I've decided to complete are:\n",
    "\n",
    "#### File Inclusion\n",
    "Youve got a form to pass back a file from the server, what can we do with that? Who is to say it has to be a form? It's done as a get request here, but user defined file requests can sit anywhere."
   ]
  }
 ],
 "metadata": {
  "kernelspec": {
   "display_name": "Python 3 (ipykernel)",
   "language": "python",
   "name": "python3"
  },
  "language_info": {
   "codemirror_mode": {
    "name": "ipython",
    "version": 3
   },
   "file_extension": ".py",
   "mimetype": "text/x-python",
   "name": "python",
   "nbconvert_exporter": "python",
   "pygments_lexer": "ipython3",
   "version": "3.10.4"
  }
 },
 "nbformat": 4,
 "nbformat_minor": 5
}