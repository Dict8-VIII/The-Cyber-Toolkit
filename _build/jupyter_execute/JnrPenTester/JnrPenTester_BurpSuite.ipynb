{
 "cells": [
  {
   "cell_type": "markdown",
   "id": "62b529fb-71cb-42b4-8d53-9516cca85724",
   "metadata": {},
   "source": [
    "# Burp Suite\n",
    "\n",
    "This group of tasks has been referenced in the [BurpSuite section of the tools category.](../Tools/BurpSuite/Burp.html)"
   ]
  },
  {
   "cell_type": "code",
   "execution_count": null,
   "id": "d6293e8e-475c-4ada-b3cc-246f9508611f",
   "metadata": {},
   "outputs": [],
   "source": []
  }
 ],
 "metadata": {
  "kernelspec": {
   "display_name": "Python 3 (ipykernel)",
   "language": "python",
   "name": "python3"
  },
  "language_info": {
   "codemirror_mode": {
    "name": "ipython",
    "version": 3
   },
   "file_extension": ".py",
   "mimetype": "text/x-python",
   "name": "python",
   "nbconvert_exporter": "python",
   "pygments_lexer": "ipython3",
   "version": "3.10.4"
  }
 },
 "nbformat": 4,
 "nbformat_minor": 5
}