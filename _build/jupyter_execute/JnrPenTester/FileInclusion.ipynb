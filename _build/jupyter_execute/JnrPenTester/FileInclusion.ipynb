{
 "cells": [
  {
   "cell_type": "markdown",
   "id": "85629ea6-bb1f-442f-8954-d9683879f5b5",
   "metadata": {},
   "source": [
    "# File Inclusion\n",
    "\n",
    "\n",
    "### Task 8 Challenge\n",
    "I'm starting with the challenges, as the rest is already walked through in the tasks. No guidance on this one though\n",
    "\n",
    "#### Flag1\n",
    "![JrPen-FileInclusion_task1.png](../images/JrPen-FileInclusion_task1.png)\n",
    "\n",
    "OK, so the form is broken. If we take a quick look at the source, it's a get request instead of a POST... smart\n",
    "![JrPen-FileInclusion_GET.png](../images/JrPen-FileInclusion_GET.png)\n",
    "\n",
    "If we can't use the built in form, theres a few ways around this. The first thing that came to mind was CURL. A quick, easy way to send a request...\n",
    "\n",
    "A quick google for the format and I ended up with the below command\n",
    "\n",
    "![JrPen-FileInclusion_Curl.png](../images/JrPen-FileInclusion_Curl.png)\n",
    "\n",
    "* -X: The Type of Request\n",
    "* -F: A Field=Value string\n",
    "* the last string is my target (no flag)\n",
    "\n",
    "Those of you playing along at home may wonder why I have 4 \"up-one-level\" in the path. The simple answer is it was an educated guess. If the are asking for /etc/ then we're on a linux box. Linux tends to host in /var/www/html, so 3 would be fine. One of the great things about trying to access a directory by 'returning' to the root directory, is that even if you overshoot how many levels up you need to go, extras just put you in the exact same spot.\n",
    "\n",
    "Finally and see what we get. Scrolling to the bottom of the response, we have a code.... huh. It seems we have found our flag\n",
    "\n",
    "![JrPen-FileInclusion_CurlResponse.png](../images/JrPen-FileInclusion_CurlResponse.png)\n",
    "\n",
    "If we had gotten it wrong, we can also see the directory passed back by the webpage. It was the default directory so 3 would have been enough.\n",
    "\n",
    "The hints recommend Burp or Fixing the page source, whatever method works for you :-)\n",
    "\n",
    "<hr>\n",
    "\n"
   ]
  },
  {
   "cell_type": "markdown",
   "id": "ba6d1e6a-a54e-49bf-87ed-5f757ec17ff3",
   "metadata": {},
   "source": [
    "#### Flag2\n",
    "\n",
    "So... We are told to refresh then get this page\n",
    "\n",
    "![JrPen-FileInclusion_task2.png](../images/JrPen-FileInclusion_task2.png)\n",
    "\n",
    "Huh... refresh then we arent allowed in... Did someone say cookies?\n",
    "Lets take a look at our dev tools\n",
    "![JrPen-FileInclusion_cookieBefore.png](../images/JrPen-FileInclusion_cookieBefore.png)\n",
    "\n",
    "Now, guest sounds kinda boring dont you think? Lets try shake things up as an admin....\n",
    "\n",
    "![JrPen-FileInclusion_cookieAfter.png](../images/JrPen-FileInclusion_cookieAfter.png)\n",
    "\n",
    "Close the Dev tools and refresh.\n",
    "![JrPen-FileInclusion_cookieAdmin.png](../images/JrPen-FileInclusion_cookieAdmin.png)\n",
    "\n",
    "Now, isnt that more interesting :-)"
   ]
  },
  {
   "cell_type": "code",
   "execution_count": null,
   "id": "12d6df0d-888c-4bc2-b78a-2871c2526533",
   "metadata": {},
   "outputs": [],
   "source": []
  }
 ],
 "metadata": {
  "kernelspec": {
   "display_name": "Python 3 (ipykernel)",
   "language": "python",
   "name": "python3"
  },
  "language_info": {
   "codemirror_mode": {
    "name": "ipython",
    "version": 3
   },
   "file_extension": ".py",
   "mimetype": "text/x-python",
   "name": "python",
   "nbconvert_exporter": "python",
   "pygments_lexer": "ipython3",
   "version": "3.10.2"
  }
 },
 "nbformat": 4,
 "nbformat_minor": 5
}