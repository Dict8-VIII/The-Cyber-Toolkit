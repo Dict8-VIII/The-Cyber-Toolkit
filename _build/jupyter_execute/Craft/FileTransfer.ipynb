{
 "cells": [
  {
   "cell_type": "markdown",
   "id": "10e7fdfc-63bd-4487-8a66-3cd5d2bd58df",
   "metadata": {},
   "source": [
    "# File Transfer to Machines\n",
    "\n",
    "Ok, so you have this great exploit that you can push to a target machine. You even have a low privelige users who can put the file for you. Now the question becomes; \"how do I get my file to the remote machine\"? As is rather standard with this sort of stuff, the answer is \"Many ways\".\n",
    "\n",
    "### Python's SimpleHTTPServer\n",
    "\n",
    "\n",
    "\n",
    "![JrPen-FileInclusion_PythonServer.png](../images/JrPen-FileInclusion_PythonServer.png)"
   ]
  },
  {
   "cell_type": "code",
   "execution_count": null,
   "id": "9e8c86e6-f597-4e3c-9f96-55e541272b55",
   "metadata": {},
   "outputs": [],
   "source": []
  }
 ],
 "metadata": {
  "kernelspec": {
   "display_name": "Python 3 (ipykernel)",
   "language": "python",
   "name": "python3"
  },
  "language_info": {
   "codemirror_mode": {
    "name": "ipython",
    "version": 3
   },
   "file_extension": ".py",
   "mimetype": "text/x-python",
   "name": "python",
   "nbconvert_exporter": "python",
   "pygments_lexer": "ipython3",
   "version": "3.10.2"
  }
 },
 "nbformat": 4,
 "nbformat_minor": 5
}