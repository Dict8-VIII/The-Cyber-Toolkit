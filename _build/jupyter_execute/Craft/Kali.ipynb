{
 "cells": [
  {
   "cell_type": "markdown",
   "id": "9896a465-68ec-44ee-aaa0-f91d6d7bcf17",
   "metadata": {},
   "source": [
    "# Kali\n",
    "\n",
    "Maybe move to tools?\n",
    "\n",
    "kali-tweaks : A cmdtool to change some kali settings, the Community sources a slow so swapping to Cloudflare has been great\n",
    "\n",
    "xfreerdp /u:administrator /v:[ip]\n",
    "\n",
    "run .jar files\n",
    "> java -jar [filename]"
   ]
  }
 ],
 "metadata": {
  "kernelspec": {
   "display_name": "Python 3 (ipykernel)",
   "language": "python",
   "name": "python3"
  },
  "language_info": {
   "codemirror_mode": {
    "name": "ipython",
    "version": 3
   },
   "file_extension": ".py",
   "mimetype": "text/x-python",
   "name": "python",
   "nbconvert_exporter": "python",
   "pygments_lexer": "ipython3",
   "version": "3.11.4"
  }
 },
 "nbformat": 4,
 "nbformat_minor": 5
}