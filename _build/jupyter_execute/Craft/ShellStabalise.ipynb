{
 "cells": [
  {
   "cell_type": "markdown",
   "id": "cbbb89b6-6e43-4458-a794-ab5af7c3e284",
   "metadata": {},
   "source": [
    "# Stabalising a shell\n",
    "\n",
    "The problem with a number of exploits, is that the reverse shell isnt the most stable medium\n",
    "\n",
    "* It doesn't have autofill\n",
    "* CTRL+C will kill the listener (cant kill a launched program)\n",
    "\n",
    "<hr>"
   ]
  },
  {
   "cell_type": "markdown",
   "id": "1ffc9391-21f8-48d9-af4b-743ddc8a6c6c",
   "metadata": {},
   "source": [
    "## Method 1 - Linux w/ Python\n",
    "\n",
    "The easiest method (if you can do it), is to simply launch a new shell on the remote machine\n",
    "Being easy, it also has some requirements\n",
    "\n",
    "* Python needs to be installed on the remote machine\n",
    "* This method is the LINUX version, because linux tends to come with python already installed\n",
    "\n",
    "On the remote shell, spawn a new shell\n",
    "NOTE: This may need to be python3 launched instead, depending on what is installed remotely\n",
    "> python -c 'import pty; pty.spawn(\"/bin/bash\")'\n",
    "\n",
    "Set Environment?\n",
    "> export TERM=xterm\n",
    "\n",
    "Background the 'nested' shell so we can make some changes to our main one\n",
    "> CTRL+z\n",
    "\n",
    "Turn off echo on the 'main' shell, then jump back to the 'nested' shell\n",
    "> stty raw -echo; fg\n",
    "\n",
    "NOTE: Our own echo is gone now, if you want it back, run 'reset'\n",
    "<hr>"
   ]
  },
  {
   "cell_type": "markdown",
   "id": "caa9989a-e008-4d66-ab8c-c010d27d41b1",
   "metadata": {},
   "source": [
    "## Method 2 - rlwrap\n",
    "\n",
    "Only slightly harder than above, rlwrap needs to be installed locally (and doest come with most distros)\n",
    "\n",
    "Once its installed, instead of listening direct with Netcat, just pass it as an arguement to rlwrap\n",
    "\n",
    "> rlwrap nc -lvnp \\[port]\n",
    "\n",
    "You will still need to disable local echo, same steps as above\n",
    "\n",
    "<i>Background the 'nested' shell so we can make some changes to our main one<br>\n",
    "\n",
    "> CTRL+z\n",
    "\n",
    "<i>Turn off echo on the 'main' shell, then jump back to the 'nested' shell<br>\n",
    "\n",
    "> stty raw -echo; fg\n",
    "\n",
    "<hr>"
   ]
  },
  {
   "cell_type": "markdown",
   "id": "7a4a5be7-d6b7-48c7-b27a-7369d17d1a12",
   "metadata": {},
   "source": [
    "## Method 3 - socat\n",
    "\n",
    "Even harder than the other 2, as you need to install software remotely (socat). If you can install software remotely, you've probably already got some level of access\n",
    "\n",
    "Copy the SOCAT binary to the remote machine (normally via a remote webserver)\n",
    "Follow your nose\n",
    "<hr>"
   ]
  },
  {
   "cell_type": "code",
   "execution_count": null,
   "id": "04f163a1-e38e-40ee-8cae-19bf8c2a9e41",
   "metadata": {},
   "outputs": [],
   "source": []
  }
 ],
 "metadata": {
  "kernelspec": {
   "display_name": "Python 3 (ipykernel)",
   "language": "python",
   "name": "python3"
  },
  "language_info": {
   "codemirror_mode": {
    "name": "ipython",
    "version": 3
   },
   "file_extension": ".py",
   "mimetype": "text/x-python",
   "name": "python",
   "nbconvert_exporter": "python",
   "pygments_lexer": "ipython3",
   "version": "3.10.4"
  }
 },
 "nbformat": 4,
 "nbformat_minor": 5
}