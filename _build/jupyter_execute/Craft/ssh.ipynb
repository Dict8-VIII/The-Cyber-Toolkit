{
 "cells": [
  {
   "cell_type": "markdown",
   "id": "042414c3-04de-441a-9248-f4a068168789",
   "metadata": {},
   "source": [
    "# SSH\n",
    "\n",
    "### Using a cert\n",
    "\n",
    "> ssh -i id_rsa [IP] [name] <br>\n",
    "> ssh -i id_rsa [name]@[IP]\n",
    "\n"
   ]
  }
 ],
 "metadata": {
  "kernelspec": {
   "display_name": "Python 3 (ipykernel)",
   "language": "python",
   "name": "python3"
  },
  "language_info": {
   "codemirror_mode": {
    "name": "ipython",
    "version": 3
   },
   "file_extension": ".py",
   "mimetype": "text/x-python",
   "name": "python",
   "nbconvert_exporter": "python",
   "pygments_lexer": "ipython3",
   "version": "3.10.4"
  }
 },
 "nbformat": 4,
 "nbformat_minor": 5
}