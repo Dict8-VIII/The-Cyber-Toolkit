{
 "cells": [
  {
   "cell_type": "markdown",
   "id": "614c8dd2-6fb9-4fb6-bd7e-08a86b66e63f",
   "metadata": {},
   "source": [
    "# Upload Vulnerabilities\n",
    "\n",
    "Upload vulnerabilities are when a site requests an upload from the user (for example a profile picture) and the file inputs are not restricted. Why would a profile picture upload allow a PHP file for example?\n",
    "\n",
    "There are many checks than can be performed, some are better than others, and there are workarounds for many.\n",
    "\n",
    "### Check based on file extension\n",
    "The most trivial is simply to check the extension. A profile picture should be a PNG, JPG, JPEG, BMP etc.\n",
    "\n",
    "How this is implimented can vary however. Listing what is allowed (like I have done above) is a whitelist (or allow list), while picking others to block, such as PHP, would be a blacklist/blocklist (or deny list). Whitelists are easier to implement but can be annoying for a legitimate user. Blacklists require you to list all extensions you want to block but you can easily miss some as listed.\n",
    "\n",
    "1. Try an alternate file extension. The obvious one to block on a PHP server is the .PHP extension. However PHP can exist in other extensions. PHP3,PHP4,PHP5,PHP7,PHP-S,PHAR,PHTML etc. <br>\n",
    "\n",
    "2. You may be thinking \"OK, blocklists arent a good way to go, I'll just allow files containing my extensions\". Sure, what if I presented a file \"file.PNG.PHP\". If youre just looking to allow extensions, would this pass your filter? It contains the allowed extension but is still a .PHP file. <br>\n",
    "\n",
    "3. \"Fine! Easy fix, I'll only allow files that have a .PHP then nothing afterwards.\" What about a file name \"file.PNG .PHP\"? Does a space terminate your filter? <br>\n",
    "\n",
    "4. \"HA! I've got you now! I'll just make a filter where the last 4 characters must be .PNG!\". Ok, ignoring the fact that you can have extensions larger than 3 characters, filters based on positions can also be fooled sometimes. If you've already looked at LFI then you will know about the NULL Byte. With this we can create a file like \"file.PNG%00.PHP\". If your filter is terminated by the NULL byte, then this will pass but the file is STILL a .PHP.\n",
    "\n",
    "If you're thinking this is getting a bit silly, I couldn't agree more. \n",
    "\n",
    "![biggerGuns.gif](../images/biggerGuns.gif)\n",
    "\n",
    "<hr>"
   ]
  },
  {
   "cell_type": "markdown",
   "id": "12f87d1e-92db-46f3-ae5a-df2372f673da",
   "metadata": {},
   "source": [
    "### Magic Numbers"
   ]
  }
 ],
 "metadata": {
  "kernelspec": {
   "display_name": "Python 3 (ipykernel)",
   "language": "python",
   "name": "python3"
  },
  "language_info": {
   "codemirror_mode": {
    "name": "ipython",
    "version": 3
   },
   "file_extension": ".py",
   "mimetype": "text/x-python",
   "name": "python",
   "nbconvert_exporter": "python",
   "pygments_lexer": "ipython3",
   "version": "3.10.2"
  }
 },
 "nbformat": 4,
 "nbformat_minor": 5
}