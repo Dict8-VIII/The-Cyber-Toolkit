{
 "cells": [
  {
   "cell_type": "markdown",
   "id": "5bca4b5e-1a6f-4db7-bc41-f5d0caff99b6",
   "metadata": {},
   "source": [
    "# OWASP Top 10 - 2021\n",
    "\n",
    "From the Free Linked in course 2022.\n",
    "\n",
    "## 1 Broken Access Control\n",
    "\n",
    "Being able to access areas you shouldnt be able to. Also includes data being sent to uninteneded recipients.\n",
    "\n",
    "## 2 Cryptographic Failures\n",
    "\n",
    "Using non secure encryption. Also encryting at rest and in transit\n",
    "\n",
    "## 3 Injection\n",
    "\n",
    "Not sanitising input, front end commands getting to the back end.\n",
    "An input is treated as a command\n",
    "\n",
    "## 4 Insecure Design\n",
    "\n",
    "The Webapp not being secure by design. Storing passwords in plain txt, built on old infrastructure etc\n",
    "\n",
    "## 5 Digital Security Misconfiguration\n",
    "\n",
    "Default settings, extra modules enabled etc\n",
    "Declining passwords (i.e. not enabling on device)\n",
    "\n",
    "## 6 Vulnerable and outdated components\n",
    "\n",
    "Old versions running, unpatched etc.\n",
    "\n",
    "## 7 Identification and Authentication Failures\n",
    "\n",
    "Doesnt ask for authentication, verifying ID, outdated certs etc. Sessions not being closed out (someone else user being available).\n",
    "\n",
    "## 8 Software and Data Integrity Failures\n",
    "\n",
    "Updates not verified (by update internally). Agile may introduce concerns. Plugins, repos, 3rd party software etc. Focused around rapid development. A subset of 6\n",
    "\n",
    "## 9 Security Logging and Monitoring Failures\n",
    "\n",
    "Lack of logging, fundamentally is that they will happen. Monitoring should be able to identify its in progress and this can be managed. Opportunities should be leveraged to stop an attack.\n",
    "\n",
    "## 10 SSRF - Server Side Request Forgery\n",
    "\n",
    "Send requests while pretending to be someone else?\n",
    "Internal API calls.\n",
    "Server requesting info from another location.\n",
    "Managed by permit/deny lists. Limit connections by expected traffic\n",
    "Allow - External\n",
    "Deny - Interal where it shouldnt be looking\n"
   ]
  }
 ],
 "metadata": {
  "kernelspec": {
   "display_name": "Python 3 (ipykernel)",
   "language": "python",
   "name": "python3"
  },
  "language_info": {
   "codemirror_mode": {
    "name": "ipython",
    "version": 3
   },
   "file_extension": ".py",
   "mimetype": "text/x-python",
   "name": "python",
   "nbconvert_exporter": "python",
   "pygments_lexer": "ipython3",
   "version": "3.11.4"
  }
 },
 "nbformat": 4,
 "nbformat_minor": 5
}