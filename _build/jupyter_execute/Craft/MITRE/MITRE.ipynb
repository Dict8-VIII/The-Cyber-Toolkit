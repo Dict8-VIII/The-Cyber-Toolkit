{
 "cells": [
  {
   "cell_type": "markdown",
   "id": "b3585853-457b-4383-8ce4-6337ead73a03",
   "metadata": {},
   "source": [
    "# Mitre\n",
    "\n",
    "This group of pages is around the data that has been compiled by MITRE.org. It is a great collection of tools, tactics, methods, adversaries and frameworks that are encapsulated under the umbrella of \"Cyber Security\". <br>\n",
    "\n",
    "The pages included are \n",
    "\n",
    "- ATT&CK (Adversarial Tactics, Techniques and Common Knowledge)\n",
    "- CAR (Cyber Analytics Repository) Knowledge Base\n",
    "- ENGAGE (A framework for simulating an engagement)\n",
    "- D3FEND (Detection, Denial and Disruption Framework Empowering Network Defense)\n",
    "- AEP (ATT&CK Emulation Plans)\n",
    "\n",
    "<hr>"
   ]
  }
 ],
 "metadata": {
  "kernelspec": {
   "display_name": "Python 3 (ipykernel)",
   "language": "python",
   "name": "python3"
  },
  "language_info": {
   "codemirror_mode": {
    "name": "ipython",
    "version": 3
   },
   "file_extension": ".py",
   "mimetype": "text/x-python",
   "name": "python",
   "nbconvert_exporter": "python",
   "pygments_lexer": "ipython3",
   "version": "3.10.5"
  }
 },
 "nbformat": 4,
 "nbformat_minor": 5
}