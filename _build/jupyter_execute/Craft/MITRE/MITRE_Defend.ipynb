{
 "cells": [
  {
   "cell_type": "markdown",
   "id": "a1dab92a-c361-4dd5-8f6f-4be5e953b164",
   "metadata": {},
   "source": [
    "# MITRE Defend"
   ]
  }
 ],
 "metadata": {
  "kernelspec": {
   "display_name": "Python 3 (ipykernel)",
   "language": "python",
   "name": "python3"
  },
  "language_info": {
   "codemirror_mode": {
    "name": "ipython",
    "version": 3
   },
   "file_extension": ".py",
   "mimetype": "text/x-python",
   "name": "python",
   "nbconvert_exporter": "python",
   "pygments_lexer": "ipython3",
   "version": "3.10.5"
  }
 },
 "nbformat": 4,
 "nbformat_minor": 5
}