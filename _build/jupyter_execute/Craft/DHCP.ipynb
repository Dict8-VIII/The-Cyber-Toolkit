{
 "cells": [
  {
   "cell_type": "markdown",
   "id": "c00d0951-87ec-4970-85ef-6a3c002f89d6",
   "metadata": {},
   "source": [
    "# DHCP \n",
    "\n",
    "Client -> Discover -> Server <br>\n",
    "Client <- Offer    <- Server <br>\n",
    "Client -> Request  -> Server <br>\n",
    "Client <- ACK      <- Server <br>\n",
    "\n",
    "The names of the different DHCP messages"
   ]
  }
 ],
 "metadata": {
  "kernelspec": {
   "display_name": "Python 3 (ipykernel)",
   "language": "python",
   "name": "python3"
  },
  "language_info": {
   "codemirror_mode": {
    "name": "ipython",
    "version": 3
   },
   "file_extension": ".py",
   "mimetype": "text/x-python",
   "name": "python",
   "nbconvert_exporter": "python",
   "pygments_lexer": "ipython3",
   "version": "3.10.3"
  }
 },
 "nbformat": 4,
 "nbformat_minor": 5
}