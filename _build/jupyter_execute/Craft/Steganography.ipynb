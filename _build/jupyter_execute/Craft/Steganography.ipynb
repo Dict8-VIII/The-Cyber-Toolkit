{
 "cells": [
  {
   "cell_type": "markdown",
   "metadata": {},
   "source": [
    "# Steganography\n",
    "\n",
    "\n",
    "Or the art of hiding things in plain sight....\n",
    "\n",
    "\n",
    "## Tools\n",
    "\n",
    "### Exiftool\n",
    "Used for examining a file for extra information\n",
    "\n",
    "### steghide\n",
    "Used for hiding data in another file (jpeg or wav)\n",
    "\n",
    "### binwalk\n",
    "Used for examining a file for other files that may be included. It can extract them too!"
   ]
  }
 ],
 "metadata": {
  "kernelspec": {
   "display_name": "Python 3 (ipykernel)",
   "language": "python",
   "name": "python3"
  },
  "language_info": {
   "codemirror_mode": {
    "name": "ipython",
    "version": 3
   },
   "file_extension": ".py",
   "mimetype": "text/x-python",
   "name": "python",
   "nbconvert_exporter": "python",
   "pygments_lexer": "ipython3",
   "version": "3.11.4"
  }
 },
 "nbformat": 4,
 "nbformat_minor": 4
}