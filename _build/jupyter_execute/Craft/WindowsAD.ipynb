{
 "cells": [
  {
   "cell_type": "markdown",
   "id": "582e2806-eded-4460-ae6a-b7589601406f",
   "metadata": {},
   "source": [
    "# Windows Active Directory\n",
    "\n",
    "The Windows Active Directory, or AD, is a service that manages authentication in a domain. This page focuses on what and AD is, and how it works. If you're more interested in attacking AD, check out the [Kerberos](Kerberos.ipynb) page for understanding or some of the tools such as [kerbrute](../Tools/Kerbrute.ipynb).<br>\n",
    "A good chunk of this content is adapted from https://tryhackme.com/room/winadbasics\n",
    "\n",
    "## The Basics\n",
    "So, what is an AD and why do we need one? Think about your situation at home. You might have a few laptops/windows tablets, maybe a couple of desktops. These probably all have their own logins and any network shares are probably open internally; no reason to hide the media server. This probably works quite well. Its a bit of work to set these up if you get a new device, but its not the end of the world. If someone needs to borrow another computer, you might just leave it logged in for them or create their own account<br>\n",
    "Now imagine you suddenly had 300 teenagers added to the house, and they all brought along their own laptops. Some wanted so share a media server, others had special photos to back up, the girls made a 'girls club' that they boys arent allowed in, and we want everyones' internet access to stop at midnight. Also you need to have a login for all these devices because people keep forgetting their passwords. You could manually set these all up, one by one, but theres a few problems here<br>\n",
    "\n",
    "- It will just take a long time<br>\n",
    "- The chances are, you'll get something wrong<br>\n",
    "- What if the media server password changes or you buy a new one? Are you going to update all 300 devices<br>\n",
    "- What if someone buys a new laptop, are you going to go through every device and change it?<br>\n",
    "- Its exam time, and you want to allow internet access later but only for research and not 'research purposes'.<br>\n",
    "- What if they want to share devices, but only to browse the internet and not change things?<br>\n",
    "\n",
    "As you may be thinking, this is going to take a while. What if we could change settings on a group of devices, instead of every device itself? Enter Active Directory & Domains. The general way to achieve this is<br>\n",
    "\n",
    "1. Create a Domain Controller to host the domain. A domain is known by its name,normally in the format something.something, such as WhoAreYouPeople.local<br>\n",
    "   - A Domain Controller hosts the Active Directory Domain Service (AD DS), which is a catalogue of data which can be read by devices on the domain. The share is known as the SYSVOL.\n",
    "2. Create groups in the domain, known as organisational units (OUs).<br>\n",
    "   -  These can then be further divided into sub groups<br>\n",
    "   -  A sub group inherets from its upper groups<br>\n",
    "   -  You can only be a member of one group by type (user or computer)<br>\n",
    "3. Create rules to apply to these groups, or subgroups. As above, subgroups inheret from upper groups<br>\n",
    "4. Create users in the domain, and assign each to a group<br>\n",
    "5. Join computers to the domain, and then assign each to a group<br>\n",
    "\n",
    "If you do all of this correctly, you can now assign rights and rules to each group, assign tasks and access rights and accounts can be used between devices without creating a logon stored on each. Nice\n",
    "<br>\n",
    "<hr>\n"
   ]
  },
  {
   "cell_type": "markdown",
   "id": "a717668f-7c43-40fb-b449-0f9fe47c5eda",
   "metadata": {},
   "source": [
    "## Managing an AD - Types\n",
    "\n",
    "There are a few types in a domain, some of which we have already covered. It is important to understand the distinction between these as there are certain tasks that can only be performed on some groups. It also helps when you need to talk to someone else and sound like you know what youre doing....\n",
    "\n",
    "### Users\n",
    "Depending on what your domain looks like, this will probably be the largest 'type' in your domain. Users are also called Security Principles. This is because they are assigned rights over other resources.<br>\n",
    "The most common type of user will be a person, John/Jane/Jordan/Janet etc... This isnt the only type of user however. A service (such as SQL server) is normally run as a 'user' type. Why? So you can assign rights to them as well. Think back to the example of the media server. Perhaps you have a service that downloads media art and subtitles for your movies. The service still needs to authenticate with the media server before it can make changes to a file. Services are people too... <br>\n",
    "\n",
    "\n",
    "### Machines\n",
    "Also called devices. It may sound odd that devices have a login to the domain, but after a while you should realise it just makes sense. The machine account doesnt have much rights in the domain, but it is usually a local admin on 'itself'. They can be easily identified as they end with a '&#36;'. So the laptop \"HomePC\" will have the machine account \"HomePC&#36;\".<br>\n",
    "\n",
    "The password for a machine account is changed automatically and has length 120, made of random characters.<br>\n",
    "\n",
    "\n",
    "### Security Groups\n",
    "This should be quite easy. There are groups in the domain which can make it easier to assign rules to groups of accounts instead of individual ones. They can be a mix of account types, as well as other groups. A full list can be found in the [Microsoft Docos.](https://docs.microsoft.com/en-us/windows/security/identity-protection/access-control/active-directory-security-groups)\n",
    "\n",
    "- Domain Admins: Admins for the domain, thats easy huh. They can (by default) administer everything on the domain, including DCs<br>\n",
    "- Server Operators: Accounts that can make changes on a DC, they cant change who has admin group roles however<br>\n",
    "- Backup Operators: Can access files, ignoring their permissions. It's for backup but can guess why this could be fun for a red team<br>\n",
    "- Account Operators: Can modify other accounts in the domain<br>\n",
    "- Domain Users: All users in the domain<br>\n",
    "- Domain Computers: All the machine accounts in the domain<br>\n",
    "- Domain Controllers: The DCs in the domain<br>\n",
    "\n",
    "\n",
    "### Organisational Units (OUs)\n",
    "And OU is like a 'folder' in the domain, where a user or machine 'sits'. You can also have an OU within another OU, and they do inherit from their parents. We'll get to this a bit more when we look at a domain structure. A user or machine can only be in ONE OU at a time.<br>\n",
    "\n",
    "An OU and Security Group may sound similar, but they have very different usage. A key point is that an entitiy can only be a member of one OU, but can be in multiple Security Groups. An OU is used for logical groups which may have different policies, for a businsess this could be different departments. A security groups is to give rights / permissions to a resource, such as a shared resource.\n",
    "\n",
    "<hr>"
   ]
  },
  {
   "cell_type": "markdown",
   "id": "da44cf6d-9f54-4f43-8340-191b88f718eb",
   "metadata": {},
   "source": [
    "## AD Structure\n",
    "\n",
    "--- Working on this ---\n",
    "\n",
    "<hr>"
   ]
  },
  {
   "cell_type": "markdown",
   "id": "e9df2cdf-2f3c-4324-9811-cbb1258b4382",
   "metadata": {},
   "source": [
    "## Managing Computers\n",
    "\n",
    "If a machine joins the domain with the GUI (or without specifiying an OU path in the Domain Join), it will get dropped in the \"Computers\" OU. This is nice, but if we have a full domain setup we will likely need to move this to a location that will apply the correct GPOs. Whats a GPO? Well its a group policy. If that doesnt help, check the next section....\n",
    "\n",
    "<hr>"
   ]
  },
  {
   "cell_type": "markdown",
   "id": "08974416-084d-425f-bd1f-e2e0a19a27f6",
   "metadata": {},
   "source": [
    "### Group Policy Objects (GPOs)\n",
    "\n",
    "A GPO is a 'rule' that is applied to an OU.\n",
    "\n",
    "<hr>"
   ]
  }
 ],
 "metadata": {
  "kernelspec": {
   "display_name": "Python 3 (ipykernel)",
   "language": "python",
   "name": "python3"
  },
  "language_info": {
   "codemirror_mode": {
    "name": "ipython",
    "version": 3
   },
   "file_extension": ".py",
   "mimetype": "text/x-python",
   "name": "python",
   "nbconvert_exporter": "python",
   "pygments_lexer": "ipython3",
   "version": "3.10.5"
  }
 },
 "nbformat": 4,
 "nbformat_minor": 5
}