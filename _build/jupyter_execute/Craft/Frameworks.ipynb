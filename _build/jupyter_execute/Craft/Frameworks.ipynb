{
 "cells": [
  {
   "cell_type": "markdown",
   "metadata": {},
   "source": [
    "# Frameworks\n",
    "\n",
    "- ATT&CK\n",
    "- OWASP - Pentetration Testing Methodologies\n",
    "- PTES - Penetration Testing Execution Standard\n",
    "- OSSTMM - Open Souurce Security Testing Methodology Manual\n",
    "- NIST - 800 [115,171,53]\n",
    "- ISSAF - Information Systems Security Assessment Framework"
   ]
  }
 ],
 "metadata": {
  "language_info": {
   "codemirror_mode": {
    "name": "ipython",
    "version": 3
   },
   "file_extension": ".py",
   "mimetype": "text/x-python",
   "name": "python",
   "nbconvert_exporter": "python",
   "pygments_lexer": "ipython3",
   "version": "3.11.4"
  }
 },
 "nbformat": 4,
 "nbformat_minor": 2
}