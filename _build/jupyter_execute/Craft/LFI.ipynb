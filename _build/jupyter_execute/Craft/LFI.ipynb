{
 "cells": [
  {
   "cell_type": "markdown",
   "id": "3260f334-12be-4f79-ac54-832c63c8a3f8",
   "metadata": {},
   "source": [
    "# LFI\n",
    "\n",
    "LFI, or Local File Inclusion, is a web exploit, where you form a request in which the server passes back data it wasn’t supposed to (this could be anything kept on the server, web files, stored passwords, local credentials etc). Normally the server runs checks on the requested resource, but there are options...\n",
    "\n",
    "## Finding a vulnerable site\n",
    "This vulnerability could present in multiple ways. The most obvious is shown below and can be seen when examining the URL.\n",
    "Here, we are requesting a file \"userCV.pdf\"\n",
    "> Note: This is a PHP vulnerability example, but an LFI vulnerability could be seen in other locations as well\n",
    "\n",
    "![image.png](../images/HackerCraft/LFI_PHP_FORMAT.png)\n",
    "\n",
    "source: https://tryhackme.com/room/fileinc\n"
   ]
  },
  {
   "cell_type": "markdown",
   "id": "5bdd9bf6-06c3-4c8e-ac95-6dca8003fa2f",
   "metadata": {},
   "source": [
    "## Easy Methods\n",
    "\n",
    "### The Trivial Path\n",
    "The most obvious path to try, is simply request a different file. Instead of \"?file=userCV.pdf\", how about \"?file=secret.txt\"\n",
    "Tools like BurpSuite or gobuster could automate this process based on wordlists.\n",
    "\n",
    "### Directory Traversal\n",
    "The next check is if we can move \"up a level\". \n",
    "\n",
    "Normally a Linux box will host in \"usr/var/www/pages\", but that doesn’t mean we can’t 'ask' for other files\n",
    "To move up a level, try \"..\", \"?file=../../../../\" puts us in the root directory asking for a file.\n",
    "\n",
    "Windows hosts in \"C:\\inetpub\\www\"\n",
    "To move up a level, it’s still \"..\", isn’t consistency nice?\n",
    "\n",
    "<hr>\n"
   ]
  },
  {
   "cell_type": "markdown",
   "id": "98764939-c6d8-48fd-af38-9c76bf36e1b6",
   "metadata": {},
   "source": [
    "## Harder Methods\n",
    "Now, LFI is a known issue, and there are ways to prevent it. Not all 'fixes' are created equal, and there are ways around many of them.\n",
    "\n",
    "### Filter\n",
    "Instead of asking for an executed file, pass a filter to prevent execution (file is stored in /resource)\n",
    "> php://filter/resource=\"file.ext\"\n",
    "\n",
    "### Convert Base64\n",
    "Can be used instead of filter (file is stored in /resource)\n",
    ">convert.base64-encode/resource=\"file.ext\"\n",
    "\n",
    "<hr>"
   ]
  },
  {
   "cell_type": "code",
   "execution_count": null,
   "id": "07f0b84f-5cb2-44eb-91dc-ce4926a0cb35",
   "metadata": {},
   "outputs": [],
   "source": []
  }
 ],
 "metadata": {
  "kernelspec": {
   "display_name": "Python 3 (ipykernel)",
   "language": "python",
   "name": "python3"
  },
  "language_info": {
   "codemirror_mode": {
    "name": "ipython",
    "version": 3
   },
   "file_extension": ".py",
   "mimetype": "text/x-python",
   "name": "python",
   "nbconvert_exporter": "python",
   "pygments_lexer": "ipython3",
   "version": "3.10.5"
  }
 },
 "nbformat": 4,
 "nbformat_minor": 5
}