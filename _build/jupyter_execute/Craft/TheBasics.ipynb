{
 "cells": [
  {
   "cell_type": "markdown",
   "id": "efa83392-f7bf-49e9-af24-9c714472f9d7",
   "metadata": {},
   "source": [
    "# The Basics\n",
    "\n",
    "So, you've decided to start your path in Cyber Security, or more likely, hacking sounds fun. Great! It can be! But there is more to it then getting a hoodie and balaclava and hunching over a laptop (in the dark obviously). Hacking is a career path, regardless of what popular media tells you about hackers.\n",
    "\n",
    "![hackerinhoodie.jpg](../images/hackerinhoodie.jpg)\n"
   ]
  },
  {
   "cell_type": "markdown",
   "id": "bd9a51f0-4dcf-42d8-be21-2ff76ffb0fd6",
   "metadata": {},
   "source": [
    "### Why Is Cyber Security Important?\n",
    "\n",
    "<hr>"
   ]
  },
  {
   "cell_type": "markdown",
   "id": "4bb75a5b-a76f-4569-b59f-fd30ca080b58",
   "metadata": {},
   "source": [
    "### Types of Hackers\n",
    "So that leads us to the first note, what kind of hackers are there? Hackers can be divided by 2 metrics, their knowledge and their motives. The most clearly defined is the motives;\n",
    "\n",
    "#### White Hat\n",
    "These are the professionals who operate within the scope of law and regulation. They work for a business (or are contracted to one) to engage in a range of cyber security tasks. They have permission from an entity to perform task on a system that they own, within a 'scope' of engagement. They have well defined documentation of what they are permitted to do on a system and follow this to the letter. \n",
    "\n",
    "An example would be a Pen Test (Penetration Test) where an airport contracts a security company to test their publicly exposed network to attempt to gain access. They are only permitted to operate within a defined target range and DDoS attacks are not permitted.\n",
    "\n",
    "Their motive is purely professional and within agreed terms. Any findings are reported professionally and remediation is advised.\n",
    "\n",
    "\n",
    "#### Black Hat\n",
    "The opposite of a White Hat is a Black Hat. They operation with no permission and their motivation is purely personal. This could range from a child sitting at home trying to guess Mum's facebook password, to a fully underground network of hackers who operation on a global scale. Their motivation could be financial, political, anarchist or simply because they want to know if they can. The KEY definiton of a Black Hat is that they attack a system without permission.\n",
    "\n",
    "\n",
    "#### Grey Hat\n",
    "There is a 3rd type, however personally it should be considered a Black Hat. A Grey hat is a Black Hat who is hacking with a positive motive but no permission. An example would be someone who hacks a website without permission, but shares the method of entry with the owner of the site, with the hope they will fix it (or they ask for \\$\\$\\$ before they will share the method). They \"Grey Hat\" title should be handled with caution, I Am Not A Lawyer, but if you are caught your motivation is irrelivant and you will likely be considered a \"Black Hat\".\n",
    "<hr>"
   ]
  },
  {
   "cell_type": "markdown",
   "id": "21f6d5e2-a766-4657-8b11-5a32ba5e129a",
   "metadata": {},
   "source": [
    "### Types of Attacks\n"
   ]
  }
 ],
 "metadata": {
  "kernelspec": {
   "display_name": "Python 3 (ipykernel)",
   "language": "python",
   "name": "python3"
  },
  "language_info": {
   "codemirror_mode": {
    "name": "ipython",
    "version": 3
   },
   "file_extension": ".py",
   "mimetype": "text/x-python",
   "name": "python",
   "nbconvert_exporter": "python",
   "pygments_lexer": "ipython3",
   "version": "3.10.2"
  }
 },
 "nbformat": 4,
 "nbformat_minor": 5
}