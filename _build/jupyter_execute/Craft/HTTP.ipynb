{
 "cells": [
  {
   "cell_type": "markdown",
   "id": "68366aec-9eaa-4d5f-b65e-f16e7c03e588",
   "metadata": {},
   "source": [
    "# HTTP\n",
    "\n",
    "HTTP, or HyperText Transfer Protocol is the most common web protocol. It is unencrypted and stateless, meaning each request is handled independently of each other. Request a page and an image on the page are 2 separate requests. For sites that require a login to access a page, this is managed by cookies.\n",
    "\n",
    "While web browsers are commonly used for retrieving pages, this isn’t a requirement. A telnet client could also request these (or curl). HTTP servers are normally hosted on port 80, but don’t have to be.\n",
    "\n",
    "## HTTP Methods (Verb)\n",
    "An HTTP method is the action type requested on communication to a server. These are called methods or verbs. The most common are:\n",
    "\n",
    "GET\n",
    "POST\n",
    "PUT\n",
    "DELETE\n",
    "\n",
    "## Request process\n",
    "The easiest verb to show is a get request. To do this over telnet\n",
    "\n",
    ">Telnet [serverIP] 80\n",
    ">Get / HTTP/1.1\n",
    ">host: telnet\n",
    "> press enter a couple of times\n",
    "\n",
    "In the first line, we are simply creating a TCP handshake to the server on port 80.<br>\n",
    "In the second line, we are getting the \"/\" file, normally index.html, and providing a protocol to use<br>\n",
    "In the last line, we need to tell the server our host, this could really be anything but must be provided.<br>\n",
    "\n",
    "If this all goes well, you will receive the page code to your terminal. Simple.\n",
    "\n",
    "<hr>\n"
   ]
  }
 ],
 "metadata": {
  "kernelspec": {
   "display_name": "Python 3 (ipykernel)",
   "language": "python",
   "name": "python3"
  },
  "language_info": {
   "codemirror_mode": {
    "name": "ipython",
    "version": 3
   },
   "file_extension": ".py",
   "mimetype": "text/x-python",
   "name": "python",
   "nbconvert_exporter": "python",
   "pygments_lexer": "ipython3",
   "version": "3.10.5"
  }
 },
 "nbformat": 4,
 "nbformat_minor": 5
}