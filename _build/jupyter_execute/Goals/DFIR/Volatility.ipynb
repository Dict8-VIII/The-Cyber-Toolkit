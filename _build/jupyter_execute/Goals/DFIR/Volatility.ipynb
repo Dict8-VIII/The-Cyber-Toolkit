{
 "cells": [
  {
   "cell_type": "markdown",
   "id": "7a53c145-8852-49e4-8869-89d9062d5f17",
   "metadata": {},
   "source": [
    "# Volatility\n",
    "\n",
    "Volatility is a memory analysis tool used to extract data from memory files (captured previously). It is built in Python3 and run from the command line. For this page we are using Volatility3, however v2 is still used in the wild as not all of the v2 features are available in v3. Installation instructions can be found here: https://github.com/volatilityfoundation/volatility/wiki/Installation<br>\n",
    "\n",
    "As you're aware (from previous chapters), we should be reading data from a captured memory file.\n",
    "The standard process for execution is vol.py -f [memory file] [plugin] [plugin options]\n",
    "\n",
    "<hr>"
   ]
  },
  {
   "cell_type": "markdown",
   "id": "2e3ae5b6-7c3e-4394-baf5-f5c0271bdd0e",
   "metadata": {},
   "source": [
    "## Plugins\n",
    "Volatility uses plugins to extract data. These plugins are OS specific and follow a standard format. To use the 'info' plugin example:<br>\n",
    "\n",
    "> windows.info -> The .info plugin for the Windows environment<br>\n",
    "> mac.info -> The .info plugin for the MacOS environment<br>\n",
    "> linux.info -> The .info plugin fo standard Linux environments<br>\n",
    "\n",
    "These are only the OS specific plugins, but there are others which are not so specific. Some of these are below.\n",
    "\n",
    "### Common Plugins\n",
    "The list below is what I have found useful (and what it is useful for). It is not a complete list by any means, simply those that I have focused on previously.\n",
    "\n",
    "* windows.pslist : This plugin extracts the details of the processes running on the device at capture time. It only shows those linked so there may be processes hidden which are not shown.<br>\n",
    "* windows.psscan : Similar to pslist, this plugin shows running processes. It lists everything using the _Eprocess data structure, so it can show some hidden processes. Unfortunately it can also give false positives.<br>\n",
    "* windows.pstree : This plugin shows the pslist extract in a 'tree' structure, which allows you to see the parent/child relationships. As with all 3 of the process lists, they are most valuable when you know what is expected. Refer to the <a href=\"WindowsProcesses.ipynb\">WindowsProcess</a> chapter for further information on this. <br>\n",
    "* windows.netstat : as with the windows command of same name, this shows active network connections. It's not really reliable on older OSs though. Bulk-extractor (in Kali) should be used for pcap files in this case. <br>\n",
    "* windows.dlllist : so many Ls... This module lists the loaded .dll files. It should really be used during late stage investigation as there will be a lot of files listed. <br>\n",
    "  * I've found this one helpful before <br>\n",
    "* windows.malfind : this module shows processes with no memory mapped on disk (file-less malware), or processes with the RWE / RX bit set. RWE is remote wakeup enabled and RX is read-execute. Both of these have legitimate usage, but a good indicators with other evidence.<br>\n",
    "* yarascan.yarascan : Runs your yara rules against the memory dump. The rules file needs to be passed as an arguement <br>\n",
    "  * Full disclosure, I've never made this work for me. May be a layer 8 issue.<br>\n",
    "* windows.ssdt : The Windows System Service Descriptor Table. Windows uses this to look up system functions and SSDT hooks can modify these functions to point elsewhere. Theres a lot of 'normal' here, so this is a more advanced module where you should either be comparing to a baseline of know what you're looking at. <br>\n",
    "* windows.modules : the list of loaded kernel modules. Modules can be missed if they are hidden or idle<br>\n",
    "* windows.driverscan : Normally this one has no output. <br>\n",
    "* windows.memmap : dumps the memory of a process, so you'll need to know which one to dump. Pass --pid and the process number, --dump and -o to specify the directory to store the output. You'll get quite a few files.<br>\n",
    "  * running strings against the output is a helpful next step <br>\n",
    "* windows.handles : dumps the mutex list <br>\n",
    "  * You'll want to grep the output <br>\n",
    "* windows.filescan : lists the loaded files <br>\n",
    "  * And again, grep is your friend <br>\n",
    "\n",
    "I've also seen references to modscan, driverirp, callbacks, idt, apihooks, moddump , cmdline & svcscan but havent used them. Leaving them here for next time.\n",
    "\n",
    "<hr>"
   ]
  },
  {
   "cell_type": "code",
   "execution_count": null,
   "id": "c4ba83c3-ad7f-48a8-9751-493443973c83",
   "metadata": {},
   "outputs": [],
   "source": []
  }
 ],
 "metadata": {
  "kernelspec": {
   "display_name": "Python 3 (ipykernel)",
   "language": "python",
   "name": "python3"
  },
  "language_info": {
   "codemirror_mode": {
    "name": "ipython",
    "version": 3
   },
   "file_extension": ".py",
   "mimetype": "text/x-python",
   "name": "python",
   "nbconvert_exporter": "python",
   "pygments_lexer": "ipython3",
   "version": "3.11.4"
  }
 },
 "nbformat": 4,
 "nbformat_minor": 5
}