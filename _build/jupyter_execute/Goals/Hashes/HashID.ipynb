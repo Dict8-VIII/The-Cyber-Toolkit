{
 "cells": [
  {
   "cell_type": "markdown",
   "id": "26d6f1a9-b5a3-494c-a3ee-58241017efd6",
   "metadata": {},
   "source": [
    "# HashID\n",
    "\n",
    "This is a simple one, give it a hash in the terminal and it returns the possible hash types... great!<br>\n",
    "It also comes pre-laoded on Kali, so we can just run it\n",
    "\n",
    "> hashid [hash_to_crack]\n",
    "\n",
    "![HashID_Example.png](../images/Tools/HashID_Example.png)\n",
    "\n",
    "<hr>\n"
   ]
  },
  {
   "cell_type": "code",
   "execution_count": null,
   "id": "0a9d0a8f-ac00-4047-9e5e-f131c444c847",
   "metadata": {},
   "outputs": [],
   "source": []
  }
 ],
 "metadata": {
  "kernelspec": {
   "display_name": "Python 3 (ipykernel)",
   "language": "python",
   "name": "python3"
  },
  "language_info": {
   "codemirror_mode": {
    "name": "ipython",
    "version": 3
   },
   "file_extension": ".py",
   "mimetype": "text/x-python",
   "name": "python",
   "nbconvert_exporter": "python",
   "pygments_lexer": "ipython3",
   "version": "3.11.4"
  }
 },
 "nbformat": 4,
 "nbformat_minor": 5
}