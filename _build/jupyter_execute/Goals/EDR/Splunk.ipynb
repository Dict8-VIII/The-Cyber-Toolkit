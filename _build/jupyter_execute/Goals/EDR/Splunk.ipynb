{
 "cells": [
  {
   "cell_type": "markdown",
   "id": "9d2c6ec4-bbec-466a-bb09-9c92a7785882",
   "metadata": {},
   "source": [
    "# Splunk\n",
    "\n",
    "## Installation\n",
    "\n",
    "1. Head to https://www.splunk.com/ and create a free account\n",
    "2. Download the .deb from the same location (or wget, they provide a nice link)\n",
    "3. Chmod +x [file]\n",
    "4. Install\n",
    "> sudo dpkg -i [file]\n",
    "5. Its now installed in /opt/splunk\n",
    "6. Can now launch by running the below in the /opt/splunk/bin directory (need sudo on first run)\n",
    "> ./splunk start --accept-license\n",
    "7. You'll be asked for the first admin account. Default is 'admin' with your password\n",
    "8. Your service is now started at localhost:8000\n",
    "\n",
    "<hr>"
   ]
  },
  {
   "cell_type": "markdown",
   "id": "adf9c89a-80b8-472a-903b-979dac804b7a",
   "metadata": {},
   "source": [
    "## Splunk Components\n",
    "\n",
    "Splunk consists of 3 components, the Indexer, Search and Forwarder.\n",
    "\n",
    "### Forwarder\n",
    "The forwarder is simply an agent that is installed on the endpoint to be monitored, or forwarded from other instances. The agent is \"very lightweight\" (it's not really) and forwards events to the Splunk server. End points include\n",
    "- A web server generating/recieving web traffic\n",
    "- A windows machine with Event Logs, sysmon, powershell etc\n",
    "- A linux host with its internal logs\n",
    "- A DB server with requests, responses and errors\n",
    "\n",
    "### Indexer\n",
    "The indexer processes the data it recieves and converts it to a standard format (normalising). This includes creating Key/Value pairs, determining the data type and storage to its internal DB. This is in preparation for the next component.\n",
    "\n",
    "### Search (Search Head)\n",
    "Well whats the point in all of this data if you can't search it or apply other rules? This is where the search head comes in. It can also convert the data for visualistions, export and other such tasks. You can think of this as the \"GUI\" of Splunk, and it is where we will spend most of our time. Throughout this page, when I'm refering to \"Splunk\", it is this web GUI.\n",
    "\n",
    "<hr>"
   ]
  },
  {
   "cell_type": "markdown",
   "id": "6a8c53d7-b589-443a-949d-2abf69e23779",
   "metadata": {},
   "source": [
    "## Navigation\n",
    "\n",
    "### Home Page\n",
    "\n",
    "The home page is quite straight forward. The bar at the top is refered to as the \"Splunk Bar\". The Navigation bar on the Left is the \"Apps Panel\".<br>\n",
    "![Splunk_HomePage.png](../../Images/Goals/EDR/Splunk_HomePage.png)<br>\n",
    "\n",
    "The main section above (the \"explore splunk\") can be replaced with a default dashboard. THe Dashboard studio can assist with this (or just update your splunk versions and you can see it on the home page). Once we upload our data, there is a bit of configuration needed<br>\n",
    "\n",
    "<hr>"
   ]
  },
  {
   "attachments": {},
   "cell_type": "markdown",
   "id": "65ddabc9-5576-48b1-abf9-9f0b52152504",
   "metadata": {},
   "source": [
    "## Loading Data\n",
    "\n",
    "Most of the time we will be bringing in Data from the indexers, but to get some initial demo data we can load this in. If you're going through job interviews, this will probably be your first step too.<br>\n",
    "On the Splunk home page, once logged in you can select \"Add Data\" or go to Settings -> Add Data. <br>\n",
    "![Splunk_AddData.png](../../Images/Goals/EDR/Splunk_AddData.png)<br>\n",
    "\n",
    "> Select the \"Source\" -> Where are we getting the data from (Such as 'uploaded file')<br>\n",
    "> Select the \"Source Type\" -> What data are we loading in <br>\n",
    "> Add the \"Input Settings\" -> What host was it and what Index should be used <br>\n",
    "> Check it all, and go \"Done\" <br>\n",
    "\n",
    "<hr>"
   ]
  },
  {
   "cell_type": "markdown",
   "id": "d4d4f0d0-d634-4be5-a061-b1804cd445a5",
   "metadata": {},
   "source": [
    "## SPL - Search Programming Language\n",
    "\n",
    "SPL Consists of 5 components\n",
    "1. Search Terms\n",
    "2. Commands\n",
    "3. Functions\n",
    "4. Arguements\n",
    "5. Clauses\n",
    "\n",
    "When running a search, you can have one or more of these. The are separated by pipes in the search (as an AND)<br>\n",
    "\n",
    "### Search Terms\n",
    "\n",
    "Wildcard * are supported <br>\n",
    "Boolean (AND, OR, NOT) are supported <br>\n",
    "\"Quotes\" are supported <br>\n",
    "Can escape quotes in search with a \\ <br>\n",
    "Can do () to make order of events (like (x and y) OR Z) <br>\n",
    "\n",
    "When you search, it reads results into ram. Each command is a separate query so results are 'cleared' when removed.<br>\n",
    "\n",
    "### Piping\n",
    "Once you have created your search, you will want to filter the results or display them in a readable way.\n",
    "\n",
    "- RENAME : renames a table result\n",
    "- DEDUP : removes duplicates based on a key (or key column)\n",
    "- FIELDS : only show the specific fields from the results\n",
    "- TABLE : show a table of the specified fields\n",
    "- Sort : sort by a field (such as time). You can also reverse the order by Sort -time (for example)\n",
    "\n",
    "<hr>"
   ]
  },
  {
   "cell_type": "markdown",
   "id": "fc43a687-132b-474a-924a-548ce2aa95a0",
   "metadata": {},
   "source": [
    "## User Accounts\n",
    "Theres multiple leves for the web portal. Main ones are Power and User.<br>\n",
    "The default account is setup during first run (above)\n",
    "<hr>"
   ]
  },
  {
   "cell_type": "markdown",
   "id": "c867f83b",
   "metadata": {},
   "source": [
    "## Forwarders\n",
    "\n",
    "As above, forwarders send data to splunk. A SIEM isnt much help if it doesnt have data to analyze.\n",
    "\n",
    "1. Set up a reciever in splunk. This will open the port for the forwarder to send data to. This can be done in Settings -> Forwarding and Recieving -> Recive Data. Add the port (9997 by default.)\n",
    "\n",
    "2. Install the forwarder. This is as simple as grabbing the msi and running, or doing a silent install over terminal. There are two options for how to deploy, via a deployment server or recieving indexer. I went with the later. It will also ask for an account, this is for the FORWARDER, not the target.\n",
    "\n",
    "3. Configure the config files. In windows. these are in \\<install>/etc/system/default (or in apps if youre using multiple)\n",
    "\n",
    "  - inputs.conf<br>\n",
    "    This is how the forwarder collects data (and what)\n",
    "\n",
    "  - outputs.conf<br>\n",
    "    How the forwarder sends to the indexer.\n",
    "  \n",
    "  - server.conf<br>\n",
    "    Connection, performance and tuning.\n",
    "\n",
    "  - deploymentclient.conf<br>\n",
    "    If you're using a deployment server.\n",
    "\n",
    "Unfortunately, there is more to it than this. THere are multiple 'apps' within the forwarder that can be configured differently\n",
    "\n",
    "### Forwarding Network Traffic\n",
    "So, I spent forever looking for this. In the inputs.conf file (default directory above)\n",
    "Add a stanza:<br>\n",
    "\n",
    "\\[WinNetMon://\\<WhatSourceYouWant>]<br>\n",
    "index = \\<yourIndexHere><br>\n",
    "\n",
    "For me, this became<br>\n",
    "\\[WinNetMon://NetworkTraffic]<br>\n",
    "index = domaincontrollers<br>\n",
    "\n",
    "As you can guess, this resulted in a LOT of events.\n",
    "\n",
    "\n",
    "Deployment Server\n",
    "Recieving Indexer\n",
    "\n",
    "<hr>"
   ]
  },
  {
   "cell_type": "markdown",
   "id": "bde1974b",
   "metadata": {},
   "source": [
    "## Helpful Glossary\n",
    "\n",
    "### Stanza\n",
    "A stanza is a config block consisting of a text field enclosed in [] followed by Key value configuration pairs.\n",
    "\n",
    "[best_config]\n",
    "BlockHackers = True\n",
    "DollarsSaved = 999\n",
    "BackdoorsMissed = None\n",
    "index = tellEveryone\n",
    "\n",
    "### Index\n",
    "An index is like a database in a DB server. It holds a collection of data against a defined topic. There are a number of defaults but you can make your own. Forwarders send data to the indexer who assigns the event to an index. You then search based on an index. While it's perfectly possible to send everything custom to one, it's not as efficient as it can bloat. Retention settings are also per index.\n",
    "\n",
    "<hr>"
   ]
  },
  {
   "cell_type": "markdown",
   "id": "b5645ad9",
   "metadata": {},
   "source": [
    "## Threat Hunting with Splunk\n",
    "\n",
    "> Starts the same a DFIR, but we just dont have a specific target to look for <br>\n",
    "> Check for high traffic loads from single devices (index = MyIndex src_ip='IP Address')<br>\n",
    "> Can view the immediate results in the search page, or pipe to a table (table col1 col2 etc). Helpful fields could be the user agent (for scripted connections), src_ip etc<br>\n",
    "> Brute forces can be found with form_data=\\*username\\*passwd\\* (wildcard searches)<br>\n",
    "> Can search for .exe files<br>\n",
    "> To get the filename, the field may not be shown. Try \"additonal fields\" at the end of the search column and search 'file'\n",
    "> For \"evidence of execution\", add the source (XmlWinEventLog) and the EventCode for exectution (eventCode=1). Add Commandline for further details\n",
    "> https://www.robtex.com/ -> threat intel\n",
    "> https://otx.alienvault.com -> More threat intel"
   ]
  },
  {
   "cell_type": "code",
   "execution_count": null,
   "id": "76c9de48-3e78-482e-8fee-77210acb980f",
   "metadata": {},
   "outputs": [],
   "source": []
  }
 ],
 "metadata": {
  "kernelspec": {
   "display_name": "Python 3 (ipykernel)",
   "language": "python",
   "name": "python3"
  },
  "language_info": {
   "codemirror_mode": {
    "name": "ipython",
    "version": 3
   },
   "file_extension": ".py",
   "mimetype": "text/x-python",
   "name": "python",
   "nbconvert_exporter": "python",
   "pygments_lexer": "ipython3",
   "version": "3.11.4"
  }
 },
 "nbformat": 4,
 "nbformat_minor": 5
}