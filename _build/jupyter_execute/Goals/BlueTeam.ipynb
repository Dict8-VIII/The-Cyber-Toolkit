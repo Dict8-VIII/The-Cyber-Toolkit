{
 "cells": [
  {
   "cell_type": "markdown",
   "id": "d2e33a0f-c754-4be3-a4fa-1bc07da95b88",
   "metadata": {},
   "source": [
    "# Blue Team\n",
    "\n",
    "While many of the tools covered in the main section should be used by the blue team (to test their own security), these are those more specific to Blue Teams. The are also sections that really should be nested as well, including SysInternal and Splunk. I'll have to clean this up at some point.<br>\n",
    "\n",
    "Like most people, I find the Red team to be much more exciting than Blue. You're Private Ryan on D-Day storming Omaha beach, or the spy sneaking in unnoticed.<br>\n",
    "The Blue team has it's excitement too though, the Lord protecting their domain from the bandits using your wits to outsmart the brutes. If you're less invested, it's a Tower Defense game. <br>\n",
    "\n",
    "Now, the real world doesn't quite work this way. If you're Red teaming they are actually firing nerf bullets at you; and I'm pretty confident a Lord has never had to deal with people saying \"is it economical to defeat the bandits all the time\". But if we're not having fun then how can we be creative?\n",
    "\n",
    "<hr>"
   ]
  }
 ],
 "metadata": {
  "kernelspec": {
   "display_name": "Python 3 (ipykernel)",
   "language": "python",
   "name": "python3"
  },
  "language_info": {
   "codemirror_mode": {
    "name": "ipython",
    "version": 3
   },
   "file_extension": ".py",
   "mimetype": "text/x-python",
   "name": "python",
   "nbconvert_exporter": "python",
   "pygments_lexer": "ipython3",
   "version": "3.11.4"
  }
 },
 "nbformat": 4,
 "nbformat_minor": 5
}