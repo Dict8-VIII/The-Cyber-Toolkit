{
 "cells": [
  {
   "cell_type": "markdown",
   "id": "264259ea-102d-489c-ac33-f002036657c5",
   "metadata": {},
   "source": [
    "# Social Engineering Toolkit (SET)\n",
    "\n",
    "Pulled directly from their [Github page](https://github.com/trustedsec/social-engineer-toolkit)\n",
    "The Social-Engineer Toolkit is an open-source penetration testing framework designed for social engineering. SET has a number of custom attack vectors that allow you to make a believable attack quickly. SET is a product of TrustedSec, LLC – an information security consulting firm located in Cleveland, Ohio. \n",
    "\n",
    "## Install\n",
    "The SET is a part of the standard kali repos\n",
    "> sudo apt-get install set\n",
    "\n",
    "<hr>"
   ]
  },
  {
   "cell_type": "markdown",
   "id": "bc3af1d5-c533-4d2f-be2d-8c71ba2ccd76",
   "metadata": {},
   "source": [
    "## Usage\n",
    "\n",
    "They even have a manual (which you can download from their Github page as well). That's different. It can be found here https://github.com/trustedsec/social-engineer-toolkit/raw/master/readme/User_Manual.pdf\n",
    "\n",
    "### The Basics\n",
    "The SET is launched from the terminal, however it is 'menu based' software. It is launched with\n",
    "> sudo setoolkit\n",
    "\n",
    "Yes, thats only one 't'. You'll then be presented with the main menu.<br>\n",
    "![SET_MainMenu.png](../../../Images/Goals/RedTeam/SET_MainMenu.png)\n",
    "\n",
    "\n",
    "<hr>"
   ]
  },
  {
   "cell_type": "code",
   "execution_count": null,
   "id": "b71c11a3-c87a-463a-8f2a-93525d6ef57e",
   "metadata": {},
   "outputs": [],
   "source": []
  }
 ],
 "metadata": {
  "kernelspec": {
   "display_name": "Python 3 (ipykernel)",
   "language": "python",
   "name": "python3"
  },
  "language_info": {
   "codemirror_mode": {
    "name": "ipython",
    "version": 3
   },
   "file_extension": ".py",
   "mimetype": "text/x-python",
   "name": "python",
   "nbconvert_exporter": "python",
   "pygments_lexer": "ipython3",
   "version": "3.11.4"
  }
 },
 "nbformat": 4,
 "nbformat_minor": 5
}