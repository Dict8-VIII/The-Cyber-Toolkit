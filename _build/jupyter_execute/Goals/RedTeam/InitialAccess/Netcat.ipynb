{
 "cells": [
  {
   "cell_type": "markdown",
   "id": "77a29e57-8c0a-48c8-84aa-8df8d6ab663e",
   "metadata": {},
   "source": [
    "# Netcat\n",
    "\n",
    "Another one of the very versatile fundamentals of exploitation, netcat is one of those programs that becomes second nature to an Ethical Hacker.\n",
    "\n",
    "<hr>"
   ]
  },
  {
   "cell_type": "markdown",
   "id": "fc083854-898d-49eb-b12c-31e742d03fc6",
   "metadata": {},
   "source": [
    "## Setting up a Listener\n",
    "A number of exploits create a 'reverse shell', in which the exploited machine calls back to the attacker. Part of this, is that you must set up a listener to recieve this call.\n",
    "\n",
    "> nc -lvnp \\[port]\n",
    "\n",
    "* l -> Listen\n",
    "* v -> verbose logging\n",
    "* n -> dont resolve DNS\n",
    "* p -> next arguement is the port to listen on\n",
    "\n",
    "<hr>"
   ]
  }
 ],
 "metadata": {
  "kernelspec": {
   "display_name": "Python 3 (ipykernel)",
   "language": "python",
   "name": "python3"
  },
  "language_info": {
   "codemirror_mode": {
    "name": "ipython",
    "version": 3
   },
   "file_extension": ".py",
   "mimetype": "text/x-python",
   "name": "python",
   "nbconvert_exporter": "python",
   "pygments_lexer": "ipython3",
   "version": "3.11.4"
  }
 },
 "nbformat": 4,
 "nbformat_minor": 5
}