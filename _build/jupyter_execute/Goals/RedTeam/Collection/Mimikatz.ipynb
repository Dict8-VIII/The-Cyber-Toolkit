{
 "cells": [
  {
   "cell_type": "markdown",
   "id": "f3308a79-a963-4921-a35d-53c786f2f182",
   "metadata": {},
   "source": [
    "# MimiKatz\n",
    "\n",
    "Mimikatz is a post-exploit tool used for dumping user credentials once you already have access to a Windows machine. It can use these tickets.\n",
    "\n",
    "<hr>"
   ]
  },
  {
   "cell_type": "markdown",
   "id": "d1771936-71e8-4f7e-9414-78e56ec6282d",
   "metadata": {},
   "source": [
    "## Install\n",
    "Mimikatz is a part of the standard repositories so can be pulled easily\n",
    "\n",
    "> sudo apt install mimikatz\n",
    "\n",
    "## Running\n",
    "From Windows CMD, just run the EXE. This will update your terminal to \"mimikat #\" and the below commands must be run inside this environment.<br>\n",
    "\n",
    "If you have installed it from the standard repo, and run this in kali it will print the install directory contents, get the exe on the target, it's a post exploit tool...<br>\n",
    "![Mimikatz_Install.png](../../../Images/Goals/RedTeam/Mimikatz_Install.png)\n",
    "<hr>"
   ]
  },
  {
   "cell_type": "markdown",
   "id": "c05bb236-7631-4a31-894d-337b1e0a1a15",
   "metadata": {},
   "source": [
    "## Pass The Ticket\n",
    "\n",
    "### Check Privilege\n",
    "First you need make sure you're running cmd as an admin (local is sufficient).\n",
    "\n",
    "> privilege::debug\n",
    "\n",
    "This should return \"Privilege '20' OK\"<br>\n",
    "\n",
    "### Dump\n",
    "Next, dump the tickets to the pwd\n",
    "\n",
    "> sekurlsa::tickets /export\n",
    "\n",
    "This will dump the current tickets. You can also use one that has already been dumped, such as by Rubeus.<br>\n",
    "\n",
    "### Pass The Ticket\n",
    "You can now pass the file as a ticket. The names can be quite detailed but everything needs to be included, that includes the square brackets and special characters.\n",
    "\n",
    "> kerperos::ptt [file.ext]\n",
    "\n",
    "### Verify\n",
    "You can verify your are using the ticket with\n",
    "\n",
    "> klist\n",
    "\n",
    "<hr>"
   ]
  },
  {
   "cell_type": "markdown",
   "id": "16921f0a-a631-45f4-91d9-cdcbcc96f88c",
   "metadata": {},
   "source": [
    "## I've Got a Golden Ticket\n",
    "A golden ticket is fundamentally the ability to create a service ticket for anything. (A silver ticket is the same for a single service/client/user). If you've got a golden ticket, its fundamentally a domain admin, even if domain admin doesnt have rights. Again, we start by checking our privilege<br>\n",
    "\n",
    "> privilege::debug\n",
    "\n",
    "We can then dump the hash and identifier which will be used to create the Golden Ticket. The top command is for a golden ticket, the second for a silver ticket for the administrator account.\n",
    "\n",
    "> lsadump::lsa /inject /name:krbtgt <br>\n",
    "> lsadump::lsa /inject /name:administratr <br>\n",
    "\n",
    "![Mimikatz_DumpedGolden.png](../../../Images/Goals/RedTeam/Mimikatz_DumpedGolden.png)<br>\n",
    "\n",
    "Next, we pass the data to mimikatz to create the ticket. There are 3 bits of data we need for this.<br>\n",
    "![Mimikatz_DumpedData.png](../../../Images/Goals/RedTeam/Mimikatz_DumpedData.png)<br>\n",
    "\n",
    "1. SID - This is the RED box above\n",
    "2. NTLM - This is the ticket of the 'user'\n",
    "3. RID - We're going to change this to 500 for a golden ticket (or the right level for the silver ticket).\n",
    "\n",
    "Plug it into the create function and you'll have a ticket<br>\n",
    "\n",
    "![Mimikatz_CreateGolden.png](../../../Images/Goals/RedTeam/Mimikatz_CreateGolden.png)<br>\n",
    "\n",
    "### How to use it?\n",
    "So, now what? You can use this directly in mimkatz now. The below will launch a cmd terminal using the ticket. Do your thing :-)\n",
    "\n",
    "> misc::cmd\n",
    "\n",
    "<hr>"
   ]
  },
  {
   "cell_type": "markdown",
   "id": "12784247-7a05-445b-81dc-00307997a673",
   "metadata": {},
   "source": [
    "## Skeleton Keys\n",
    "\n",
    "Skeletons... Dead skeletons...<br>\n",
    "A skeleton key is a 'quieter' back door, which runs in memory on a DC. It only works on Kerberos RC4 encryption. Simply, it creates a 'second' password for the accounts in the system. Your normal login will work, but so will the password with the hash \"60BA4FCADC466C7A033C178194C03DF6\". Thats 'mimikatz' for those of you who dont read hashes....<br>\n",
    "\n",
    "On the domain controller, you ened to run mimikatz with a really difficult command, its looks like this:\n",
    "\n",
    "> misc::skeleton\n",
    "\n",
    "I know right... So difficult. If this is all OK you can now use the password 'mimikatz' for any user in the domain... spooky<br>\n",
    "\n",
    "![spooky-season-skeleton-dance.gif](../../../Images/Generic/spooky-season-skeleton-dance.gif)<br>\n",
    "\n",
    "<hr>"
   ]
  },
  {
   "cell_type": "code",
   "execution_count": null,
   "id": "e638071e-638b-48ec-8ea0-c68dc8e326f3",
   "metadata": {},
   "outputs": [],
   "source": []
  }
 ],
 "metadata": {
  "kernelspec": {
   "display_name": "Python 3 (ipykernel)",
   "language": "python",
   "name": "python3"
  },
  "language_info": {
   "codemirror_mode": {
    "name": "ipython",
    "version": 3
   },
   "file_extension": ".py",
   "mimetype": "text/x-python",
   "name": "python",
   "nbconvert_exporter": "python",
   "pygments_lexer": "ipython3",
   "version": "3.11.4"
  }
 },
 "nbformat": 4,
 "nbformat_minor": 5
}