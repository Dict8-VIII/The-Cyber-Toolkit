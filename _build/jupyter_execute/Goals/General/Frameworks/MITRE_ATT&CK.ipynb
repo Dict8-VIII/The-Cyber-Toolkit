{
 "cells": [
  {
   "cell_type": "markdown",
   "id": "fca2d5e6-b637-4a08-8e50-34a66e95a20b",
   "metadata": {},
   "source": [
    "# Mitre ATT&CK\n",
    "\n",
    "ATT&CK, or Adversarial Tactics, Techniques and Common Knowlege is a framework of useful information about the landscape of cyber security. But what do these mean?\n",
    "\n",
    "- Tactic : The goal or objective<br>\n",
    "- Technique : How the objective is achieved<br>\n",
    "- Procedure : How the technique is executed.<br>\n",
    "\n",
    "I'm still working on this myself, but an example would be getting data out of a database.<br>\n",
    "\n",
    "- Tactic : Retrieving a User List from the DB<br>\n",
    "- Technique : SQL Injection<br>\n",
    "- Procedure : Exploiting the login page to extract the DB via blind SQL injection.<br>\n",
    "\n",
    "The ATT&CK page can be found at [https://attack.mitre.org/](https://attack.mitre.org/). Overall it is a great resource for the Blue team, as well as a trove of information for the Red team<br>\n",
    "\n",
    "<hr>\n"
   ]
  },
  {
   "cell_type": "markdown",
   "id": "8d87e072-6546-4fa1-b726-8a94d2ecebfc",
   "metadata": {},
   "source": [
    "## Exploring the Framework\n",
    "\n",
    "On first opening the URL, we are presented with the full framework which can be quite daunting at first<br>\n",
    "![ATT&CK_Full_Framework.png](../../../Images/Goals/General/Frameworks/ATT&CK_Full_Framework.png)<br>\n",
    "\n",
    "Breaking it down however, we can see the matrix is initially techniques split by the stage of an attack\n",
    "\n",
    "- Reconnaissance<br>\n",
    "- Resource Development<br>\n",
    "- Initial Access<br>\n",
    "- Execution<br>\n",
    "- Persistence<br>\n",
    "- Privilege Escalation<br>\n",
    "- Defense Evasion<br>\n",
    "- Credential Access<br>\n",
    "- Discovery<br>\n",
    "- Lateral Movement<br>\n",
    "- Collection<br>\n",
    "- Command & Control (C&C)<br>\n",
    "- Exfiltration<br>\n",
    "- Impact<br>\n",
    "\n",
    "Under \"Privilege Escalation\", for example, we can select the technique \"Create or Modify System Process\".<br>\n",
    "\n",
    "<hr>"
   ]
  },
  {
   "cell_type": "markdown",
   "id": "a9ccd1d6-537b-490b-962d-a5a071415219",
   "metadata": {},
   "source": [
    "## Data in a Technique\n",
    "\n",
    "From here, we can now see what is provided for a single technique. We are given:<br>\n",
    "- Rough Overview : A simple description<br>\n",
    "- Procedure Examples : A time this has been used<br>\n",
    "- Mitigations : Ways to reduce the impact if this technique is used<br>\n",
    "- Detections : Ways to detect the technique<br>\n",
    "\n",
    "<hr>"
   ]
  }
 ],
 "metadata": {
  "kernelspec": {
   "display_name": "Python 3 (ipykernel)",
   "language": "python",
   "name": "python3"
  },
  "language_info": {
   "codemirror_mode": {
    "name": "ipython",
    "version": 3
   },
   "file_extension": ".py",
   "mimetype": "text/x-python",
   "name": "python",
   "nbconvert_exporter": "python",
   "pygments_lexer": "ipython3",
   "version": "3.11.4"
  }
 },
 "nbformat": 4,
 "nbformat_minor": 5
}