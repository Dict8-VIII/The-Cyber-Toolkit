{
 "cells": [
  {
   "cell_type": "markdown",
   "metadata": {},
   "source": [
    "# Frameworks\n",
    "\n",
    "- ATT&CK <br>\n",
    "- OWASP - Pentetration Testing Methodologies<br>\n",
    "- PTES - Penetration Testing Execution Standard<br>\n",
    "- OSSTMM - Open Souurce Security Testing Methodology Manual<br>\n",
    "- NIST - 800 [115,171,53]<br>\n",
    "- ISSAF - Information Systems Security Assessment Framework<br>"
   ]
  }
 ],
 "metadata": {
  "kernelspec": {
   "display_name": "Python 3 (ipykernel)",
   "language": "python",
   "name": "python3"
  },
  "language_info": {
   "codemirror_mode": {
    "name": "ipython",
    "version": 3
   },
   "file_extension": ".py",
   "mimetype": "text/x-python",
   "name": "python",
   "nbconvert_exporter": "python",
   "pygments_lexer": "ipython3",
   "version": "3.11.4"
  }
 },
 "nbformat": 4,
 "nbformat_minor": 4
}