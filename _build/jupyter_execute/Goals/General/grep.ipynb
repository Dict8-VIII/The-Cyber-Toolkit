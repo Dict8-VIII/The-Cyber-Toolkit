{
 "cells": [
  {
   "cell_type": "markdown",
   "id": "1567228f-3c03-4ea6-adbd-6bce6765f5f7",
   "metadata": {},
   "source": [
    "# Grep\n",
    "\n",
    "Grep itself is a simple tool built into Linux. It's used for searching files or filtering a result set. While it is built into linux, it is also quite a powerful tool worthy of its own page. Theres alredy a whole lot of websites dedicated to grep so I don't want to dive in too far.\n",
    "\n",
    "<hr>\n",
    "\n",
    "## Basic Syntax\n",
    "\n",
    "When trying to search a string in a result set. In the below, we are searching for \"string\" in the result set of \"some query\"<br>\n",
    "> some query | grep \"string\"<br>\n",
    "\n",
    "We can also search a file by passing it as an arguement. Below we are searching for the sting \"password\" in the user.log file. You can also pass a directory and it will search all the files in the directory.<br>\n",
    "> grep \"password\" user.log<br>\n",
    "\n",
    "In the above queries, we are searching for exact strings, but what if the case is wrong? There are a few flags that can help us<br>\n",
    "- -i : ignore case<br>\n",
    "- -E : pass a RegEx instead of a string...<br>\n",
    "- -r : recursive search. when specifying a directory, also check its sub folders<br>\n",
    "\n",
    "<hr>"
   ]
  },
  {
   "cell_type": "code",
   "execution_count": null,
   "id": "833ab9e2-f70d-40f7-b1f0-57416253083d",
   "metadata": {},
   "outputs": [],
   "source": []
  }
 ],
 "metadata": {
  "kernelspec": {
   "display_name": "Python 3 (ipykernel)",
   "language": "python",
   "name": "python3"
  },
  "language_info": {
   "codemirror_mode": {
    "name": "ipython",
    "version": 3
   },
   "file_extension": ".py",
   "mimetype": "text/x-python",
   "name": "python",
   "nbconvert_exporter": "python",
   "pygments_lexer": "ipython3",
   "version": "3.11.4"
  }
 },
 "nbformat": 4,
 "nbformat_minor": 5
}