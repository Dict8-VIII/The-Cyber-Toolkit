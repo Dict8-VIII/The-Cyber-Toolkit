{
 "cells": [
  {
   "cell_type": "markdown",
   "id": "b9b6ceae-a53f-4233-b7e2-c7c52f14f434",
   "metadata": {},
   "source": [
    "# Kerberos Attacks\n",
    "\n",
    "https://tryhackme.com/room/attackingkerberos\n",
    "\n",
    "## Commmon Terminology\n",
    "\n",
    "- TGT: Ticket Granting Ticket. An Authentication ticket that requests service tickets from TGS for domain resources.<br>\n",
    "\n",
    "- KDC: Key Distribution Centre. A service for issuing TGTs and Service tickets. It has 2 components<br>\n",
    "  - Authentication Service (AS)<br>\n",
    "  - Ticket Granting Service (TGS)<br>\n",
    "  \n",
    "- AS: Authentication Service. Issues TGT that are used by the TGS to request access to other machines and service tickets<br>\n",
    "\n",
    "- TGS: Ticket Granting Service. Tages a TGT and returns a ticket to a domain machine<br>\n",
    "\n",
    "- SPN: Service Principal Name. An identifier given to a service instance to associate it with a domain service account. Windows requires that services have a domain service account so a service needs an SPN set.<br>\n",
    "\n",
    "- KDC LT Key: KDC Long Term Secret Key. a KDC key is based on the KRBTGT service account. Used to encrypt the TGT and sign PAC.<br>\n",
    "\n",
    "- Client LT Key: Client Long Term Secret Key. The client key is basedo n the computer or service account. It checks the encryption of the timestamps and encrypts the session key.<br>\n",
    "\n",
    "- Service LT Key: The service key is based on the service account. It encrypts the service part of the service ticket and signs the PAC<br>\n",
    "\n",
    "- Session Key. Issued bythe KDC when a TGT is issued. It is provided to the KDC with the TGT when requesting a service ticket.<br>\n",
    "\n",
    "- PAC : Privelege Attribute Certificate.Holds all the users relevant information, it is sent with the TGT to the KDC to be signed by the Tartget LT Key and the KDC LT Key to validate the user.<br>\n",
    "\n",
    "### AS-REQ w/ PRe-Authentication in Detail\n",
    "\n",
    "1. User requests TGT from KDC<br>\n",
    "2. User encrypts a timestamp NT hash and sends to the AS<br>\n",
    "3. KDC attempts to decrypt with users NT Hash<br>\n",
    "4. If successful, KDC issues a TGT and session key to the user<br>\n",
    "\n",
    "<hr>\n",
    "\n",
    "### TGT Contents\n",
    "The TGT itself comes from the user and is passed to the KDC. In return, if validated it returns a service ticket. <br>\n",
    "\n",
    "It includes fields fields such as<br>\n",
    "- Start/end/Renewal<br>\n",
    "- Service Name<br>\n",
    "- Target Name<br>\n",
    "- Client name<br>\n",
    "- Flags<br>\n",
    "- Session Key<br>\n",
    "- PAC<br>\n",
    "\n",
    "It is signed with the Service LT Key and KDC LT Key<br>\n",
    "\n",
    "<hr>\n",
    "\n",
    "### Service Ticket Contents\n",
    "A service ticket is split into 2 sections, the Service and User portion.<br>\n",
    "\n",
    "Service Portion:<br>\n",
    "- User Details<br>\n",
    "- Session Key<br>\n",
    "- It is encrypted with the service account NTLM hash<br>\n",
    "\n",
    "User Portion:<br>\n",
    "- Validity Timestamp<br>\n",
    "- Session Keys<br>\n",
    "- It is encrypted with the TGT Session key.<br>\n",
    "\n",
    "<hr>\n",
    "\n",
    "### Authentication Overview\n",
    "The steps for Authenicating with Kerberos and the message types<br>\n",
    "\n",
    "1. AS-REQ: The client requests an Authentication Ticket or TGT<br>\n",
    "2. AS-REP: The KDC verifies the client and returns an encrypted TGT<br>\n",
    "3. TGS-REQ: The client sents the encrypted TGT to the TGS with the SPN of the service where access is requested<br>\n",
    "4. TGS-REP: The KDC verifies the TGT and that the user has access, then returns a session key for the service<br>\n",
    "5. AP-REQ: The client requests the  service and sends the session key<br>\n",
    "6. AP-REP: The service provides access<br>\n",
    "\n",
    "<hr>\n",
    "\n",
    "### Kerberos Tickets Overview\n",
    "The tickets themselves dont have file extensions, but depending on your attacks these may be presented as files. A .kirbi is for Rubeus and .ccache for Impacket. They are usually base64 encoded and depending on the ticket can be used for a different attacks. A TGT must be used authenicated with the KDC to get service tickets, but this can return other details. More below.<br>\n",
    "\n",
    "<hr>\n"
   ]
  },
  {
   "cell_type": "markdown",
   "id": "8474e0f3-afa9-441a-83ed-ed5e5833dd77",
   "metadata": {},
   "source": [
    "## Attacks & Credentails Needed\n",
    "\n",
    "No Domain Access<br>\n",
    "- Kerbrute Enumeration<br>\n",
    "\n",
    "Access as any user<br>\n",
    "- Kerberaosting<br>\n",
    "- AS-REP Roasting<br>\n",
    "\n",
    "Access as a domain user<br>\n",
    "- Pass the Ticket<br>\n",
    "\n",
    "Full domain (admin)<br>\n",
    "- Golden Ticket<br>\n",
    "- Skeleton Key<br>\n",
    "\n",
    "Service Hash<br>\n",
    "- Silver Ticket<br>\n",
    "\n",
    "<hr>"
   ]
  },
  {
   "cell_type": "markdown",
   "id": "828b1f40-a96b-41f6-953f-65161c423774",
   "metadata": {},
   "source": [
    "## Rubeus\n",
    "\n",
    "Check the [Rubeus](../RedTeam/LateralMovement/Rubeus.ipynb) section\n",
    "\n",
    "<hr>"
   ]
  },
  {
   "cell_type": "markdown",
   "id": "ff9ca5bb-e747-4027-a022-ab61bb757a6d",
   "metadata": {},
   "source": [
    "## Kerbrute Enumeration\n",
    "\n",
    "Check the tools section for [Kerbrute](../Tools/Kerbrute.ipynb)\n",
    "\n",
    "<hr>"
   ]
  },
  {
   "cell_type": "markdown",
   "id": "db899fba-9886-4c97-a9fa-883c77ee2ba3",
   "metadata": {},
   "source": [
    "## Kerberoasting\n",
    "Using either Rubeus or Impacket, you can dump the hashes for service accounts and then attempt to crack these in Hashcat. See the Rubeus or Impacket section for how to achieve this.\n",
    "\n",
    "<hr>"
   ]
  },
  {
   "cell_type": "markdown",
   "id": "dd920c2b-8c80-4f9b-a49e-aa8a32200018",
   "metadata": {},
   "source": [
    "## AS-REP Roasting\n",
    "Unlike kerberoasting, AS-REP Roasting can be used for any type of account. The only requirement is that the user has pre-authentication disabled.<br>\n",
    "See the Rubeus section for how to achieve this.\n",
    "\n",
    "<hr>"
   ]
  },
  {
   "cell_type": "markdown",
   "id": "4792fa23-f9e0-4b88-9ed9-5a359a4fdf67",
   "metadata": {},
   "source": [
    "## Pass The Ticket\n",
    "\n",
    "Basically if you've logged into a machine and it hasnt rebooted, your ticket may be stored in memory. This can be dumped and used to impersonate your account without knowing your password.\n",
    "\n",
    "This one is in [MimiKatz](../Tools/Mimikatz.ipynb). \n",
    "\n",
    "<hr>"
   ]
  },
  {
   "cell_type": "code",
   "execution_count": null,
   "id": "93bfbd24-dedd-49ac-b07e-7866a654d79b",
   "metadata": {},
   "outputs": [],
   "source": []
  }
 ],
 "metadata": {
  "kernelspec": {
   "display_name": "Python 3 (ipykernel)",
   "language": "python",
   "name": "python3"
  },
  "language_info": {
   "codemirror_mode": {
    "name": "ipython",
    "version": 3
   },
   "file_extension": ".py",
   "mimetype": "text/x-python",
   "name": "python",
   "nbconvert_exporter": "python",
   "pygments_lexer": "ipython3",
   "version": "3.11.4"
  }
 },
 "nbformat": 4,
 "nbformat_minor": 5
}