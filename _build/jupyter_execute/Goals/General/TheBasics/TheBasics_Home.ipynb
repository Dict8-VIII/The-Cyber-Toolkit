{
 "cells": [
  {
   "cell_type": "markdown",
   "id": "efa83392-f7bf-49e9-af24-9c714472f9d7",
   "metadata": {},
   "source": [
    "# The Basics\n",
    "\n",
    "So, you've decided to start your path in Cyber Security, or more likely, hacking sounds fun. Great! It can be! But there is more to it than getting a hoodie and balaclava and hunching over a laptop (in the dark obviously). Hacking is a career path, regardless of what popular media tells you about hackers.\n",
    "\n",
    "![hackerinhoodie.jpg](../../../Images/Generic/hackerinhoodie.jpg)\n"
   ]
  },
  {
   "cell_type": "markdown",
   "id": "d5a94168-6579-4a9d-a66a-160ee38d4feb",
   "metadata": {},
   "source": [
    "## What is Cyber Security?\n",
    "\n",
    "<hr>"
   ]
  },
  {
   "cell_type": "markdown",
   "id": "8404cf1d-e3ac-42c0-a9a8-77f8be3a6f68",
   "metadata": {},
   "source": [
    "## The CIA Triad\n",
    "\n",
    "The CIA triad is one of the fundamental concepts of Cyber Security and encompases the domains that need to be protected. As a side note, it doesnt mention human protection, but this should be considered the priority in all domains. <br>\n",
    "\n",
    "CIA doesnt refer the the US Government agency, but rather Confidentiality, Integrity and Availability. Without all 3 domains protected, you are in a vulnerable state.\n",
    "\n",
    "### Confidentiality\n",
    "This domain is focused on protecting access to information and ensuring only authorised users/devices can access protected data. This could include access control, encryption & IAM.\n",
    "\n",
    "### Integrity\n",
    "Integrity is ensuring that data hasnt been modified, and if it has you know who did. This includes checksums, Non-repudiation and backups.\n",
    "\n",
    "### Availiablity\n",
    "Lastly, Availibility is making sure that services & data can be accessed and aren't 'offline'. If someone is authorised, they should be able to access information.\n",
    "\n",
    "<hr>"
   ]
  },
  {
   "cell_type": "markdown",
   "id": "96de26f1-9e7b-4bcb-a1d6-e42c3ddcc3ef",
   "metadata": {},
   "source": [
    "## Terminolgy Used\n",
    "\n",
    "There is a large amount of jargon used when discussing attacks. The below shows how this looks in an overarching scale<br>\n",
    "![Terminology.png](../../../Images/HackerCraft/Terminology.png)<br>\n",
    "\n",
    "- A THREAT is any person/group/organistion who isn't following the 'green path' so is therefore attacking the system<br>\n",
    "- An EVENT is any recordable action performed by a THREAT. This could be a ports scan, attempted SQL injection or a failed password attempt<br>\n",
    "- A VULNERABILITY is any weakness in the system<br>\n",
    "- A THREAT can EXPLOIT a VULNERABILITY to access the system outside their expected access. This is a BREACH<br>\n",
    "- An INCIDENT can be one or many linked BREACHES or EVENTS<br>"
   ]
  },
  {
   "cell_type": "code",
   "execution_count": null,
   "id": "74932254-8c21-4a30-9354-6da9de21bb56",
   "metadata": {},
   "outputs": [],
   "source": []
  }
 ],
 "metadata": {
  "kernelspec": {
   "display_name": "Python 3 (ipykernel)",
   "language": "python",
   "name": "python3"
  },
  "language_info": {
   "codemirror_mode": {
    "name": "ipython",
    "version": 3
   },
   "file_extension": ".py",
   "mimetype": "text/x-python",
   "name": "python",
   "nbconvert_exporter": "python",
   "pygments_lexer": "ipython3",
   "version": "3.11.4"
  }
 },
 "nbformat": 4,
 "nbformat_minor": 5
}