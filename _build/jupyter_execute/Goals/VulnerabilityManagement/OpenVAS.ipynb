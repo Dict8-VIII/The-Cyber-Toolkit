{
 "cells": [
  {
   "attachments": {},
   "cell_type": "markdown",
   "id": "83f039d3-e3f9-46d6-937d-df196f9130ac",
   "metadata": {},
   "source": [
    "# OpenVAS\n",
    "\n",
    "THM Room : https://tryhackme.com/room/openvas\n",
    "\n",
    "Web App and endpoint scanner for vulnerabilities.\n",
    "Part of GreenBone Vulnerability Management solution.\n",
    "\n",
    "\n",
    "Taken from : https://tryhackme.com/room/openvasTaken \n",
    "\n",
    "![GVM_Framework.png](../../images/Tools/BlueTeam/GVM_Framework.png)\n",
    "\n",
    "The current state of OpenVAS is it being integrated to the greenbone secuirty suite. You cant get an installer just for OpenVAS now, you need the whole package. As below, you can get it as an appliance though, which is quite useful. The difference between the 'free' and enterprise versions is the streams made available to you. The enterprise one has the full up-to-date stream (with the newest models), while the free one uses a community feed.\n",
    "\n",
    "<hr>"
   ]
  },
  {
   "attachments": {},
   "cell_type": "markdown",
   "id": "74d2c3e6-669c-45f5-9d08-ee20717d5170",
   "metadata": {},
   "source": [
    "## Installation\n",
    "\n",
    "From Repos:\n",
    "https://websiteforstudents.com/how-to-install-and-configure-openvas-on-ubuntu-18-04-16-04/\n",
    "https://www.agix.com.au/installing-openvas-on-kali-in-2020/\n",
    "\n",
    "From Source:\n",
    "https://github.com/greenbone/openvas-scanner/blob/master/INSTALL.md\n",
    "\n",
    "For Docker (prefered)\n",
    "https://github.com/mikesplain/openvas-docker\n",
    "https://hub.docker.com/r/mikesplain/openvas/dockerfile\n",
    "\n",
    "> apt install docker.io<br>\n",
    "> docker run -d -p 443:443 --name openvas mikesplain/openvas\n",
    "\n",
    "Updated since I ran the THM room, there is also now a VM appliance available. This is how I set mine up in my lab. You can't find the 'free' one any more, it's not that it doesn't exist, you just have to get the enterprise trial and it stays free.\n",
    "\n",
    "Can then open in 127.0.0.1 (browser over port 9392)<br>\n",
    "Default credentails admin/admin\n",
    "\n",
    "<hr>"
   ]
  },
  {
   "attachments": {},
   "cell_type": "markdown",
   "id": "79188f21-586e-40f4-8739-d26647b7991c",
   "metadata": {},
   "source": [
    "## First Steps\n",
    "Assuming you have run the initial setup and logged in....\n",
    "\n",
    "### Make a target\n",
    "Like most (all?) vulnerability scanners, you need to start by creating targets to scan. First open the \"Targets\" page then select the \"new targets\" button.<br>\n",
    "![OpenVAS_TargetsPage.png](../../images/Tools/BlueTeam/OpenVAS_TargetsPage.png)<br>\n",
    "<br>\n",
    "In this instance, we are adding the entire local subnet (I'm only using the first /24 subnet in my lab)<br>\n",
    "![OpenVAS_AddTargets.png](../../images/Tools/BlueTeam/OpenVAS_AddTargets.png)<br>\n",
    "\n",
    "### Add a task\n",
    "Now that we have a defined group of targets to interogate, we need to create a task. A task is basically an action to run against a target (or group of targets).<br>\n",
    "![OpenVAS_TasksPage.png](../../images/Tools/BlueTeam/OpenVAS_TasksPage.png)<br>\n",
    "![OpenVAS_AddTask.png](../../images/Tools/BlueTeam/OpenVAS_AddTask.png)<br>\n",
    "\n",
    "### Run the task\n",
    "Now we can do the things.<br>\n",
    "![OpenVAS_RunTask.png](../../images/Tools/BlueTeam/OpenVAS_RunTask.png)<br>\n",
    "\n"
   ]
  },
  {
   "cell_type": "code",
   "execution_count": null,
   "id": "60e14bb4-0dc7-4ab0-9a7b-28ae567ed129",
   "metadata": {},
   "outputs": [],
   "source": []
  }
 ],
 "metadata": {
  "kernelspec": {
   "display_name": "Python 3 (ipykernel)",
   "language": "python",
   "name": "python3"
  },
  "language_info": {
   "codemirror_mode": {
    "name": "ipython",
    "version": 3
   },
   "file_extension": ".py",
   "mimetype": "text/x-python",
   "name": "python",
   "nbconvert_exporter": "python",
   "pygments_lexer": "ipython3",
   "version": "3.11.4"
  }
 },
 "nbformat": 4,
 "nbformat_minor": 5
}