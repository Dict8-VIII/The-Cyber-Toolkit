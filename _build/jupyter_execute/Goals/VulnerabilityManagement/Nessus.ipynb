{
 "cells": [
  {
   "cell_type": "markdown",
   "id": "17281e48-4d1e-4189-9783-80d1fad9973e",
   "metadata": {},
   "source": [
    "# Nessus\n",
    "\n",
    "Nessus is an automated vulnerability scanner for Web Applications and on-prem devices. It includes quite a few modules, and MANY pluggins to make it rather easy to scan a web application in search of <strike>Bug Bounties</strike> vulnerabilities. There is a free edition but it requires registration for an activation key. I've only done a bit on this so far but it looks like a great tool to add to the Active Scanning stage of an attack. You can start [here](https://www.tenable.com/products/nessus).\n",
    "\n",
    "You may be wondering why this is in Blue Team if it's helpful for Active Scanning? Well, if you're on the blue team, you should be considering running vulnerability scans against your own infrastructure on the regular.\n",
    "\n",
    "<hr>"
   ]
  },
  {
   "attachments": {},
   "cell_type": "markdown",
   "id": "6a98dd35-df16-4974-8814-66260393abf8",
   "metadata": {},
   "source": [
    "## Installation\n",
    "For my lab, I have installed Nessus as an Appliance. Your steps may differ if you add to a Windows or Linux box.\n",
    "\n",
    "1. Download the \"Tenable Core Nessus\" Appliance\n",
    "2. Import the OVF\n",
    "3. Launch the OVF, set IP settings & create a web application User<br>\n",
    "![Nessus_CreateLogin.png](../../images/Tools/BlueTeam/Nessus_CreateLogin.png)<br>\n",
    "4. Connect to the web portal (Based on the IP you set earlier). You'll need to enter your registration settings.<br>\n",
    "![Nessus_Welcome.png](../../images/Tools/BlueTeam/Nessus_Welcome.png)\n",
    "![Nessus_Register.png](../../images/Tools/BlueTeam/Nessus_Register.png)<br>\n",
    "5. It will then sit downloading plugins etc. Once done you're good to proceed.\n",
    "\n",
    "<hr>"
   ]
  },
  {
   "cell_type": "markdown",
   "id": "49b9f589-2900-4217-8027-6588a97cdd4b",
   "metadata": {},
   "source": [
    "## Launching\n",
    "Once you have Nessus installed, it must be started on your device as a service. This isnt needed if running the appliance.\n",
    "\n",
    "> sudo /bin/systemctl start nessusd.service\n",
    "\n",
    "You can then open it on the local machine on port 8834 (in a web browser)\n",
    "\n",
    "> http://[IP]:8834\n",
    "\n",
    "And log in<br>\n",
    "![Nessus_Login.png](../../images/Tools/BlueTeam/Nessus_Login.png)\n",
    "\n",
    "<hr>"
   ]
  },
  {
   "attachments": {},
   "cell_type": "markdown",
   "id": "4a76453f-61c9-438d-aa61-8fe295d18e97",
   "metadata": {},
   "source": [
    "## Scanning\n",
    "\n",
    "Most of the time, you are either wanting to scan or see the report for another scan. To create a basic scan\n",
    "1. Select the \"Scans\" tab at the top\n",
    "2. Create a new \"Scan\" on the top right\n",
    "3. Start with a basic scan, use your whole subnet (assuming its not massive and youre allowed to...)\n",
    "4. ~~Fire ze missiles~~ Kick off the scan.\n",
    "5. Go make a coffee\n",
    "6. Come back and see your report... or a dead site... Either way; if you havent done this before it probably wont look pretty.\n",
    "\n",
    "Here's my Lab<br>\n",
    "![Nessus_Results.png](../../images/Tools/BlueTeam/Nessus_Results.png)<br>\n",
    "\n",
    "Theres a few insights I'd like to share from here.\n",
    "* DVWA and Metasploitable have a LOT of vulnerabilities. Theres no suprises here.\n",
    "* Server2016 has no critical issues found, thats actually surprising (though at time of writing, Server2016 still has extended support)\n",
    "* Nessus & OpenVAS are both appliances but still have some medium level vulnerabilities found\n",
    "* Splunk, Kali & Ubuntu are all fully patched ubuntu boxes, so expected their results to be about the same\n",
    "* OpenKylin is also one though, interesting that it has SO much more in the info. Same with Labtainers\n",
    "\n",
    "Now, of course you can only take these results as an indication at best. A lot of the mediums are SMB signing which may not even be used by the environment. At best, what we've done so far is purely script kiddie level. The skill from here comes in understanding what is relevant (and can be exploited) and what can be ignored. \n",
    "<hr>"
   ]
  },
  {
   "cell_type": "code",
   "execution_count": null,
   "id": "86ee6074-7357-4822-96db-573647076f19",
   "metadata": {},
   "outputs": [],
   "source": []
  }
 ],
 "metadata": {
  "kernelspec": {
   "display_name": "Python 3 (ipykernel)",
   "language": "python",
   "name": "python3"
  },
  "language_info": {
   "codemirror_mode": {
    "name": "ipython",
    "version": 3
   },
   "file_extension": ".py",
   "mimetype": "text/x-python",
   "name": "python",
   "nbconvert_exporter": "python",
   "pygments_lexer": "ipython3",
   "version": "3.11.4"
  }
 },
 "nbformat": 4,
 "nbformat_minor": 5
}