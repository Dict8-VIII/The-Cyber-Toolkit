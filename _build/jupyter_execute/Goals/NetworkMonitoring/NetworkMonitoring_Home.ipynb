{
 "cells": [
  {
   "cell_type": "markdown",
   "id": "9b6e8fb8-1f4a-47a3-9684-77b90127d5a9",
   "metadata": {},
   "source": [
    "# Network Monitoring\n",
    "\n",
    "."
   ]
  }
 ],
 "metadata": {
  "kernelspec": {
   "display_name": "Python 3 (ipykernel)",
   "language": "python",
   "name": "python3"
  },
  "language_info": {
   "codemirror_mode": {
    "name": "ipython",
    "version": 3
   },
   "file_extension": ".py",
   "mimetype": "text/x-python",
   "name": "python",
   "nbconvert_exporter": "python",
   "pygments_lexer": "ipython3",
   "version": "3.11.4"
  }
 },
 "nbformat": 4,
 "nbformat_minor": 5
}