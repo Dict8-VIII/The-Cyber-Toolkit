{
 "cells": [
  {
   "cell_type": "markdown",
   "id": "4ca15188-c7e2-42b9-bd2e-3ef8641fb85f",
   "metadata": {},
   "source": [
    "# Information Protection Scanner\n",
    "\n",
    "The IPS is used to scan on-prem file systems. This is advertised as 'anything Windows can index'. This could include SMB or NFS shares, and hopefully also local files... I haven't worked that one out yet.\n",
    "\n",
    "<hr>"
   ]
  },
  {
   "attachments": {},
   "cell_type": "markdown",
   "id": "88746104-89e5-4555-9aec-356a0327f2f1",
   "metadata": {},
   "source": [
    "## Installation\n",
    "\n",
    "To access the install files, either google it or you can find it in the compliance portal.\n",
    "1. Open compliance.microsoft.com\n",
    "2. Go to settings -> Information Protection Scanner\n",
    "3. If it's not installed, you'll get a link to the download page.\n",
    "\n",
    "![DownloadLink.png](../../../images/Tools/BlueTeam/MS_Purview/DownloadLink.png)\n",
    "\n",
    "Unfortuately, I got stopped here. You need an Entra Subscription."
   ]
  },
  {
   "cell_type": "code",
   "execution_count": null,
   "id": "50d45442-9c57-4b73-b197-f3c0db3672a7",
   "metadata": {},
   "outputs": [],
   "source": []
  }
 ],
 "metadata": {
  "kernelspec": {
   "display_name": "Python 3 (ipykernel)",
   "language": "python",
   "name": "python3"
  },
  "language_info": {
   "codemirror_mode": {
    "name": "ipython",
    "version": 3
   },
   "file_extension": ".py",
   "mimetype": "text/x-python",
   "name": "python",
   "nbconvert_exporter": "python",
   "pygments_lexer": "ipython3",
   "version": "3.11.4"
  }
 },
 "nbformat": 4,
 "nbformat_minor": 5
}