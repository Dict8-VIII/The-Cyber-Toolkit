{
 "cells": [
  {
   "cell_type": "markdown",
   "id": "fdbfa50f-7f3d-4122-8447-daf77f7037f0",
   "metadata": {},
   "source": [
    "# Nikto\n",
    "\n",
    "Nikto is a tool I really should use more often. It is a webserver enum software which is quite expandable with its built in plugins.<br>\n",
    "I've started using it for CTFs, but more as a sanity check after the manual tasks; it can take a while to run.\n",
    "\n",
    "<hr>"
   ]
  },
  {
   "cell_type": "markdown",
   "id": "67e3b000-7677-4c9f-b2f8-98b5e4fecfc5",
   "metadata": {},
   "source": [
    "## Basic usage\n",
    "The 'quick' version for site enum\n",
    "> nikto -h \\[ip\\]\n",
    "\n",
    "* -h: The host IP of the server\n",
    "\n",
    "## Plugins\n",
    "\n",
    "* --list-plugins: List all plugins\n",
    "* -plugins: add your plugin name, if you dont define one, it runs all\n"
   ]
  }
 ],
 "metadata": {
  "kernelspec": {
   "display_name": "Python 3 (ipykernel)",
   "language": "python",
   "name": "python3"
  },
  "language_info": {
   "codemirror_mode": {
    "name": "ipython",
    "version": 3
   },
   "file_extension": ".py",
   "mimetype": "text/x-python",
   "name": "python",
   "nbconvert_exporter": "python",
   "pygments_lexer": "ipython3",
   "version": "3.11.4"
  }
 },
 "nbformat": 4,
 "nbformat_minor": 5
}