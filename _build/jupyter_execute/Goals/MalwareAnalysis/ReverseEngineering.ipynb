{
 "cells": [
  {
   "cell_type": "markdown",
   "id": "49002a40-0707-42e5-98b4-9fde4238d6fa",
   "metadata": {},
   "source": [
    "# Reverse Engineering\n",
    "\n",
    "file [filename] gives the details of the file (elf, format etc)\n",
    "\n",
    "strings [filename] gives common strings & data"
   ]
  }
 ],
 "metadata": {
  "kernelspec": {
   "display_name": "Python 3 (ipykernel)",
   "language": "python",
   "name": "python3"
  },
  "language_info": {
   "codemirror_mode": {
    "name": "ipython",
    "version": 3
   },
   "file_extension": ".py",
   "mimetype": "text/x-python",
   "name": "python",
   "nbconvert_exporter": "python",
   "pygments_lexer": "ipython3",
   "version": "3.11.4"
  }
 },
 "nbformat": 4,
 "nbformat_minor": 5
}