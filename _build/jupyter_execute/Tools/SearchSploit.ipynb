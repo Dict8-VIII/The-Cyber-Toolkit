{
 "cells": [
  {
   "cell_type": "markdown",
   "id": "bb6a8d6c-d10c-4126-be32-0ba440b30c93",
   "metadata": {},
   "source": [
    "# Searchsploit \n",
    "\n",
    "The 'offline' database of exploits. I think it's Metasploit's?\n",
    "\n",
    "<hr>"
   ]
  },
  {
   "cell_type": "markdown",
   "id": "c36e7640-9f3f-4152-8bfc-5d7978ded20f",
   "metadata": {},
   "source": [
    "## Commands\n",
    "\n",
    "### Search\n",
    "The easy one, just use some keywords\n",
    "\n",
    "> searchsploit \"something something darkside\"\n",
    "\n",
    "![Tools-SearchSploit_search.png](../images/Tools-SearchSploit_search.png)\n",
    "\n",
    "### Copy an exploit to PWD\n",
    "Because you dont want to break the working one while testing.\n",
    "\n",
    "> searchsploit -m 47887.py\n",
    "\n",
    "![Tools-SearchSploit_copy.png](../images/Tools-SearchSploit_copy.png)\n",
    "\n",
    "### Run it\n",
    "![Tools-SearchSploit_run.png](../images/Tools-SearchSploit_run.png)"
   ]
  }
 ],
 "metadata": {
  "kernelspec": {
   "display_name": "Python 3 (ipykernel)",
   "language": "python",
   "name": "python3"
  },
  "language_info": {
   "codemirror_mode": {
    "name": "ipython",
    "version": 3
   },
   "file_extension": ".py",
   "mimetype": "text/x-python",
   "name": "python",
   "nbconvert_exporter": "python",
   "pygments_lexer": "ipython3",
   "version": "3.11.4"
  }
 },
 "nbformat": 4,
 "nbformat_minor": 5
}