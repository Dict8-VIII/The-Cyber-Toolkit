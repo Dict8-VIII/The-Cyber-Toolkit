{
 "cells": [
  {
   "cell_type": "markdown",
   "id": "8b9659ec-3934-43bb-ade1-0c28e35cb638",
   "metadata": {},
   "source": [
    "# OS Query\n",
    "\n",
    "OSquery is an open source terminal level sql syntax application. Odly enough, its built by facebook. It's main application is still the cyber security field however. It can be installed from the standard sources, details are here https://osquery.readthedocs.io/en/stable/installation/install-linux/<br>\n",
    "\n",
    "Once installed, you can launch the application with \n",
    "> osqueryi\n",
    "\n",
    "Yes, that \"i\" is a part of it.... I've also taken a lot of this page from my progress in the [tryhackme OSquery room](https://tryhackme.com/room/osqueryf8). If youre on the same page, remember the questions are for the version of OSquery installed on the provided VM, not the 4.7.0 in the images. That one stumped me for a bit as I'm on my own one.\n",
    "\n",
    "<hr>\n"
   ]
  },
  {
   "cell_type": "markdown",
   "id": "79ec610d-2553-4bd8-83a9-6c79bb96db8e",
   "metadata": {},
   "source": [
    "## Basic Syntax\n",
    "\n",
    "OSquery is a console application based on the SQLite application. <br>\n",
    "The cmd-line flags can be found here: https://osquery.readthedocs.io/en/latest/installation/cli-flags/<br>\n",
    "\"meta\" commands can be identified by starting with a \".\", for example <br>\n",
    "- .help will bring up the help window<br>\n",
    "- .exit will exit the program (so will .quit)<br>\n",
    "- .show gives current settings (environment)<br>\n",
    "\n",
    "\n",
    "\n",
    "### Querying the Database\n",
    "First, we will want to see what tables we have<br>\n",
    "> .tables\n",
    "\n",
    "This will list all the tables in the database. If we wanted to filter for something helpful in the name, just add it as a string at the end<br>\n",
    "> .tables system\n",
    "\n",
    "We can see the format, or schema of a table by querying it's schema. This will give us data such as the columns and their types<br>\n",
    "For further info on the schemas, go [here](https://osquery.io/schema/5.5.1/). It's the 5.5.1 one<br>\n",
    "> .schema table_name\n",
    "\n",
    "As for the actual queries, we are only ever 'selecting', no update or drop here... (at least for most tables). <br>\n",
    "As with 'normal' select statements, we will also have a FROM, but all queries must end with a semicolon ';'... I'm getting C flashbacks....<br>\n",
    "> select * from system;<br>\n",
    "\n",
    "![OSquery_AllFromSystemInfo.png](../images/Tools/OSquery_AllFromSystemInfo.png)<br>\n",
    "\n",
    "We can also do specific columns<br>\n",
    "> select hostname, cpu_physical_cores, physical_memory from system_info;<br>\n",
    "\n",
    "![OSquery_SomeFromSystemInfo.png](../images/Tools/OSquery_SomeFromSystemInfo.png)<br>\n",
    "\n",
    "Or if its really busy, we can just get a count from the table<br>\n",
    "> select count(*) from processes;<br>\n",
    "\n",
    "![OSquery_Count.png](../images/Tools/OSquery_Count.png)<br>\n",
    "\n",
    "<hr>\n"
   ]
  },
  {
   "cell_type": "markdown",
   "id": "134ed403-7f05-4de0-adca-e9122f3802a7",
   "metadata": {},
   "source": [
    "## More Advanced Syntax\n",
    "\n",
    "Matching wildcards / rules"
   ]
  }
 ],
 "metadata": {
  "kernelspec": {
   "display_name": "Python 3 (ipykernel)",
   "language": "python",
   "name": "python3"
  },
  "language_info": {
   "codemirror_mode": {
    "name": "ipython",
    "version": 3
   },
   "file_extension": ".py",
   "mimetype": "text/x-python",
   "name": "python",
   "nbconvert_exporter": "python",
   "pygments_lexer": "ipython3",
   "version": "3.11.4"
  }
 },
 "nbformat": 4,
 "nbformat_minor": 5
}