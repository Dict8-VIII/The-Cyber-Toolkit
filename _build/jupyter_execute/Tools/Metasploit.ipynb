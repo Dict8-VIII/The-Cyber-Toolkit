{
 "cells": [
  {
   "cell_type": "markdown",
   "id": "0105b148-1ac6-42f8-907f-ae8321833354",
   "metadata": {},
   "source": [
    "# Metasploit Framework\n",
    "\n",
    "The MetaSploitFramework (msf / Metasploit) is a collection of exploits, payloads, scripts, enum tools,  has its own custom shell, nmap and will probably even walk the dog if you asked nicely enough.\n",
    "\n",
    "It also installs a postgresSQL instance, where it stores your history, which must also be running when you launch it.\n",
    "\n",
    "### Launching\n",
    "\n",
    "If you need to start the postgress instance manually\n",
    "\n",
    "> sudo service start postgressql\n",
    "\n",
    "Launching the Console\n",
    "\n",
    "> msfconsole\n",
    "\n",
    "### Initial steps\n",
    "\n",
    "search for an exploit (includes scanning and post exploit 'exploits')\n",
    "\n",
    "> search Eternal_Blue\n",
    "> search CVE-2017-0144\n",
    "> select # (your number from the list)\n",
    "\n",
    "determine which paramaters need to be set\n",
    "\n",
    "> options\n",
    "\n",
    "Set the paramaters' value (this includes the default payload as described)\n",
    "\n",
    "> set Lhost 127.0.0.1\n",
    "> set Rhosts 127.0.0.2"
   ]
  },
  {
   "cell_type": "markdown",
   "id": "424f4019-7ead-497c-92f8-f311bac2e8d2",
   "metadata": {},
   "source": [
    "## Fun exploits\n",
    "\n",
    "### Eternal Blue\n",
    "This one is easy, if youre running windows 7 and have SMB enabled (spoiler, they all do), you're screwed\n",
    "> search Eternal_Blue\n",
    "\n",
    "### Hashdump\n",
    "Dumps all the hashes in an exploited windows box, stores in Metasploit DB.\n",
    "> search post/windows/gather/hashdump\n",
    "\n",
    "### Crack Windows\n",
    "Follows on from the above hashdump, try to crack the passwords we have... borrowed...\n",
    "If its a good password, this is gonna take a while.... use John instead\n",
    "> auxiliary/analyze/crack_windows\n",
    "\n",
    "### Escalation Suggester\n",
    "One of the built in tools for PrivEx. Requires a session to be created already. I havent had much luck with this though\n",
    "> multi/recon/local_exploit_suggester"
   ]
  },
  {
   "cell_type": "code",
   "execution_count": null,
   "id": "a6e46f9a-4b37-4ff3-b4bf-3694018b42ce",
   "metadata": {},
   "outputs": [],
   "source": []
  }
 ],
 "metadata": {
  "kernelspec": {
   "display_name": "Python 3 (ipykernel)",
   "language": "python",
   "name": "python3"
  },
  "language_info": {
   "codemirror_mode": {
    "name": "ipython",
    "version": 3
   },
   "file_extension": ".py",
   "mimetype": "text/x-python",
   "name": "python",
   "nbconvert_exporter": "python",
   "pygments_lexer": "ipython3",
   "version": "3.10.3"
  }
 },
 "nbformat": 4,
 "nbformat_minor": 5
}