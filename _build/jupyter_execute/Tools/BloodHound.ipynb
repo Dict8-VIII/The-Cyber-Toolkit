{
 "cells": [
  {
   "cell_type": "markdown",
   "id": "34336d18-208d-48a7-bd85-2c03f7627018",
   "metadata": {},
   "source": [
    "# BloodHound\n",
    "\n",
    "Another one from Active Directory. Bloodhound is used to 'sniff out' AD exploitation paths.<br>\n",
    "Unfortunatley I havent looked into this one too much... yet.\n",
    "\n",
    "## Installation\n",
    "\n",
    "> apt install bloodhound neo4j\n",
    ">\n",
    "\n",
    "<hr>"
   ]
  },
  {
   "cell_type": "code",
   "execution_count": null,
   "id": "8878b395-888d-4483-b313-50f9fc26aac8",
   "metadata": {},
   "outputs": [],
   "source": []
  }
 ],
 "metadata": {
  "kernelspec": {
   "display_name": "Python 3 (ipykernel)",
   "language": "python",
   "name": "python3"
  },
  "language_info": {
   "codemirror_mode": {
    "name": "ipython",
    "version": 3
   },
   "file_extension": ".py",
   "mimetype": "text/x-python",
   "name": "python",
   "nbconvert_exporter": "python",
   "pygments_lexer": "ipython3",
   "version": "3.11.4"
  }
 },
 "nbformat": 4,
 "nbformat_minor": 5
}