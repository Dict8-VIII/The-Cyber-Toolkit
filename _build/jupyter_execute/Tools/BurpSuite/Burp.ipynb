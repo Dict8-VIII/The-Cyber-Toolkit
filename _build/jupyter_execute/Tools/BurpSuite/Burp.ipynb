{
 "cells": [
  {
   "cell_type": "markdown",
   "id": "7e527d1f-5d00-4ccd-8306-d838b7ed7dc9",
   "metadata": {},
   "source": [
    "# Burp Suite\n",
    "\n",
    "Burpsuite is a collection of tools specific to web site applications. It is created by [PortSwigger](https://portswigger.net/burp) and includes a community edition that can be used for free. There are limitations on the free edition but pretty much anyone who is doing this as a career has the paid edition.\n",
    "\n"
   ]
  },
  {
   "cell_type": "code",
   "execution_count": null,
   "id": "ef2dd9e3-5ee1-418f-9722-976650700789",
   "metadata": {},
   "outputs": [],
   "source": []
  }
 ],
 "metadata": {
  "kernelspec": {
   "display_name": "Python 3 (ipykernel)",
   "language": "python",
   "name": "python3"
  },
  "language_info": {
   "codemirror_mode": {
    "name": "ipython",
    "version": 3
   },
   "file_extension": ".py",
   "mimetype": "text/x-python",
   "name": "python",
   "nbconvert_exporter": "python",
   "pygments_lexer": "ipython3",
   "version": "3.10.4"
  }
 },
 "nbformat": 4,
 "nbformat_minor": 5
}