{
 "cells": [
  {
   "cell_type": "markdown",
   "id": "c9be989a-2e65-4045-85f3-08f5dae95c5b",
   "metadata": {},
   "source": [
    "# John The Ripper\n",
    "\n",
    "While the namesake is famous for terrorising London, John is just as well known in the Cyber Security space. It is an amazingly versatile tool used for cracking hashes.\n",
    "\n",
    "The typical format is:\n",
    "> john --wordlist=\\[wordlist] \\[file]\n",
    "\n",
    "Unfortunately, yes, you have to pass a file containing your hash(s), one per line if you have multiple.\n",
    "How the file is formatted depends on what you want to crack"
   ]
  }
 ],
 "metadata": {
  "kernelspec": {
   "display_name": "Python 3 (ipykernel)",
   "language": "python",
   "name": "python3"
  },
  "language_info": {
   "codemirror_mode": {
    "name": "ipython",
    "version": 3
   },
   "file_extension": ".py",
   "mimetype": "text/x-python",
   "name": "python",
   "nbconvert_exporter": "python",
   "pygments_lexer": "ipython3",
   "version": "3.10.2"
  }
 },
 "nbformat": 4,
 "nbformat_minor": 5
}