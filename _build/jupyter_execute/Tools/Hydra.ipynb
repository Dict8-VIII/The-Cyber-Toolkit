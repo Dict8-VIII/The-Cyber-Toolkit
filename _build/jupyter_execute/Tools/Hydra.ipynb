{
 "cells": [
  {
   "cell_type": "markdown",
   "id": "a228896e-d277-4d93-9e68-7e6cbb0c571b",
   "metadata": {},
   "source": [
    "# Hydra\n",
    "If youre trying to brute force a login, (THC) Hydra is the place to be. It supports MANY protocols, is very efficient and amazingly versatile.\n",
    "\n"
   ]
  },
  {
   "cell_type": "markdown",
   "id": "2b05ad11",
   "metadata": {},
   "source": [
    "## Examples\n",
    "The basic structure of attacks doesnt really change unless youre doing something special.\n",
    "\n",
    "> hydra -l OR -L [login or list of logins] -p OR -P [password or list of passwords] [target] [protocol] [arguements]\n",
    "\n",
    "Arguement options:\n",
    "- -t n : use n threads, 16 is high\n",
    "- -s n : use this port if non-standard\n",
    "- -I : dont use the restore file, and it's ok to override\n",
    "\n",
    "It looks complicated, but it's actually quite simple. Some examples\n",
    "\n",
    "### IMAP\n",
    "This example is taken from the [TryHackMe \"Protocols and Servers 2\" room](https://tryhackme.com/room/protocolsandservers2).\n",
    "\n",
    "> hydra -l lazie -P /home/kali/rockyou.txt 10.10.206.48 imap -t 16 -I\n",
    "\n",
    "![Tools-Hydra_IMAP.png](../images/Tools-Hydra_IMAP.png)\n",
    "\n",
    "Breaking this down, we have\n",
    "\n",
    "- hydra : run hydra\n",
    "- -l : use this specific login for all attempts\n",
    "- -P : use this list of passwords to itterate through\n",
    "- 10.10.206.48 : my target IP\n",
    "- imap : attack the IMAP service (default port 143)\n",
    "- -t 16 : use 16 threads\n",
    "- -I : dont wait, just override the restore file\n",
    "\n",
    "### FTP\n",
    "This example is taken form the [TryHackMe \"Agent Sudo\" room](https://tryhackme.com/room/agentsudoctf)\n",
    "\n",
    "> hydra -l chris -P /usr/share/wordlists/rockyou.txt ftp ://10.10.61.220 -vv  \n",
    "\n",
    "![Hydra_ExampleFTP.png](../images/Tools/Hydra_ExampleFTP.png)\n",
    "\n",
    "Breaking this down, we have\n",
    "\n",
    "- hydra : run hydra\n",
    "- -l : use the specific login 'chris'\n",
    "- -P : use the 'rockyou' password list\n",
    "- ftp ://10.10.61.220 : the target we want to brute force (ignore the space, its to break the link in my page)\n",
    "- -vv : very verbose, optional\n",
    "\n",
    "<hr>"
   ]
  },
  {
   "cell_type": "markdown",
   "id": "6665b306-76c1-4327-8e13-833767a60fe4",
   "metadata": {},
   "source": [
    "## Web Forms\n",
    "\n",
    "We can also use hydra to attack a web form login (instead of the time limited burpsuite). Unfortunately we can only use 1 wordlist though so its a 'sniper' attack. We can swap the user/password to use a wordlist but it's for the user here.\n",
    "\n",
    "> hydra -L < file> -p < known password> [ip] http-post-form \"/[url.ext]:log=^USER^&pwd=theknownpassword:Invalid username\" -t 30\n",
    "\n",
    "![Hydra_WebForm.png](../images/Tools/Hydra_WebForm.png)\n",
    "\n",
    "- ^USER^ is where the defined username will be put\n",
    "- ^PASS^ is where the defind password will be put\n",
    "- You dont need the port or http/s\n",
    "\n",
    "So, why did we do all of this? In this case it is an attack where the browser reports back if the user or password is invalid. As we are iteratting through users, its the invalid username response we care about (if it changes)."
   ]
  },
  {
   "cell_type": "code",
   "execution_count": null,
   "id": "7b80cbcd-d888-4801-9a42-7f151d855ded",
   "metadata": {},
   "outputs": [],
   "source": []
  }
 ],
 "metadata": {
  "kernelspec": {
   "display_name": "Python 3 (ipykernel)",
   "language": "python",
   "name": "python3"
  },
  "language_info": {
   "codemirror_mode": {
    "name": "ipython",
    "version": 3
   },
   "file_extension": ".py",
   "mimetype": "text/x-python",
   "name": "python",
   "nbconvert_exporter": "python",
   "pygments_lexer": "ipython3",
   "version": "3.11.4"
  }
 },
 "nbformat": 4,
 "nbformat_minor": 5
}