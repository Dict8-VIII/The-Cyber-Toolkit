{
 "cells": [
  {
   "cell_type": "markdown",
   "id": "7038a8ca-c5f2-4814-9293-27f676ba89c2",
   "metadata": {},
   "source": [
    "# Evil-WinRM\n",
    "\n",
    "A rather noisy tool for (shockingly) exploiting a Windows machine. While it's fun for a lot of challenges it could be quite loud in the real world. I'd limit it to pass-the-hash attacks remotely.\n",
    "\n",
    "<hr>\n",
    "\n",
    "## Install\n",
    "\n",
    "> sudo apt install evil-winrm\n",
    "\n",
    "<hr>\n",
    "\n",
    "## Launch (login to a machine with just password hash)\n",
    "\n",
    "> evil-winrm -h\n",
    "\n",
    "![EvilWinRM_Example.png](../images/Tools/EvilWinRM_Example.png)\n",
    "\n",
    "<hr>"
   ]
  },
  {
   "cell_type": "code",
   "execution_count": null,
   "id": "fe2c6a96-a3cf-4cb5-9926-28180ea01a7d",
   "metadata": {},
   "outputs": [],
   "source": []
  }
 ],
 "metadata": {
  "kernelspec": {
   "display_name": "Python 3 (ipykernel)",
   "language": "python",
   "name": "python3"
  },
  "language_info": {
   "codemirror_mode": {
    "name": "ipython",
    "version": 3
   },
   "file_extension": ".py",
   "mimetype": "text/x-python",
   "name": "python",
   "nbconvert_exporter": "python",
   "pygments_lexer": "ipython3",
   "version": "3.11.4"
  }
 },
 "nbformat": 4,
 "nbformat_minor": 5
}