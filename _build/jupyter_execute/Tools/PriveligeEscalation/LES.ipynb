{
 "cells": [
  {
   "cell_type": "markdown",
   "id": "77ec48cb-9f27-46b2-9e88-9641be8d817e",
   "metadata": {},
   "source": [
    "# Linux Exploit Suggester\n",
    "\n",
    "> Another of the linux privex scripts. Still to add more data"
   ]
  }
 ],
 "metadata": {
  "kernelspec": {
   "display_name": "Python 3 (ipykernel)",
   "language": "python",
   "name": "python3"
  },
  "language_info": {
   "codemirror_mode": {
    "name": "ipython",
    "version": 3
   },
   "file_extension": ".py",
   "mimetype": "text/x-python",
   "name": "python",
   "nbconvert_exporter": "python",
   "pygments_lexer": "ipython3",
   "version": "3.10.3"
  }
 },
 "nbformat": 4,
 "nbformat_minor": 5
}