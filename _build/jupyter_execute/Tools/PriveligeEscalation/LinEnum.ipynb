{
 "cells": [
  {
   "cell_type": "markdown",
   "id": "e95066b8-22c3-4816-9f69-2bf508201834",
   "metadata": {},
   "source": [
    "# LinEnum\n",
    "\n",
    "A self contained script for enumerating linux privelige escalation points. It can be downloaded from its gitub repository at https://github.com/rebootuser/LinEnum.\n",
    "\n",
    "Copy the script to the target machine using any [file transfer method](../../Craft/FileTransfer.ipynb) then run it\n",
    "\n",
    "> ./linenum.sh -s [user&password] -t\n",
    "\n",
    "* -t : run the 'big' tests, may take a bit of time"
   ]
  },
  {
   "cell_type": "code",
   "execution_count": null,
   "id": "b8732f37-8e74-4711-9451-d8b083aa2ebe",
   "metadata": {},
   "outputs": [],
   "source": []
  }
 ],
 "metadata": {
  "kernelspec": {
   "display_name": "Python 3 (ipykernel)",
   "language": "python",
   "name": "python3"
  },
  "language_info": {
   "codemirror_mode": {
    "name": "ipython",
    "version": 3
   },
   "file_extension": ".py",
   "mimetype": "text/x-python",
   "name": "python",
   "nbconvert_exporter": "python",
   "pygments_lexer": "ipython3",
   "version": "3.10.3"
  }
 },
 "nbformat": 4,
 "nbformat_minor": 5
}