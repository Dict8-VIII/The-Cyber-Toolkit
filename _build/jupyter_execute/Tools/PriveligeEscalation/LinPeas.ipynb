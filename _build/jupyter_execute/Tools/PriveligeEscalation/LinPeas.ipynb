{
 "cells": [
  {
   "cell_type": "markdown",
   "id": "5518d330-72e7-4a60-91df-001c11000250",
   "metadata": {},
   "source": [
    "# LinPeas\n",
    "\n",
    "Similar to LinEmum, this is a script for finding privelige escalation points.\n",
    "\n",
    "> This page is a placeholder, I dont have much more info yet...."
   ]
  }
 ],
 "metadata": {
  "kernelspec": {
   "display_name": "Python 3 (ipykernel)",
   "language": "python",
   "name": "python3"
  },
  "language_info": {
   "codemirror_mode": {
    "name": "ipython",
    "version": 3
   },
   "file_extension": ".py",
   "mimetype": "text/x-python",
   "name": "python",
   "nbconvert_exporter": "python",
   "pygments_lexer": "ipython3",
   "version": "3.10.3"
  }
 },
 "nbformat": 4,
 "nbformat_minor": 5
}