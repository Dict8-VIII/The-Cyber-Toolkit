{
 "cells": [
  {
   "cell_type": "markdown",
   "id": "f3d42986-49b9-41bf-9a7c-d66e0ca744c2",
   "metadata": {},
   "source": [
    "# Powerup\n",
    "\n",
    "A powershell script to attempt privelige escalation on a windows machine. It can be sourced from:\n",
    "> https://github.com/PowerShellMafia/PowerSploit/blob/master/Privesc/PowerUp.ps1\n",
    "\n",
    "Once coppied to the target machine, it must be invoked using 2 commands\n",
    "1. ./powerup.ps1\n",
    "2. Invoke-AllChecks\n",
    "\n",
    "The first command launches the script (when running from meterpreter in kali), then we run 'all checks' to see what we can find :-) <br>\n",
    "NOTE: powershell requires '\\\\' as '\\' in meterpreter (must escape the escape char)\n",
    "\n",
    "\n"
   ]
  }
 ],
 "metadata": {
  "kernelspec": {
   "display_name": "Python 3 (ipykernel)",
   "language": "python",
   "name": "python3"
  },
  "language_info": {
   "codemirror_mode": {
    "name": "ipython",
    "version": 3
   },
   "file_extension": ".py",
   "mimetype": "text/x-python",
   "name": "python",
   "nbconvert_exporter": "python",
   "pygments_lexer": "ipython3",
   "version": "3.10.5"
  }
 },
 "nbformat": 4,
 "nbformat_minor": 5
}