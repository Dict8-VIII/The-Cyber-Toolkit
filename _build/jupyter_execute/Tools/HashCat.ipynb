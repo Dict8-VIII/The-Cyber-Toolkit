{
 "cells": [
  {
   "cell_type": "markdown",
   "id": "411ba366-3e26-4ee9-9460-20b5e83a8b59",
   "metadata": {},
   "source": [
    "# Hashcat\n",
    "\n",
    "Similar to John The Ripper, Hashcat is used for well... hashes....\n",
    "Unlike John however, hashcat requires that you define the mode (hash type) and attack method.\n",
    "\n",
    "> hashcat -m [the mode number] -a [the attack method] [the file with hashes listed]\n",
    "\n",
    "The file could include salts as well, depending on the mode number defined.\n",
    "\n",
    "There are a LOT of modes (hash types) that can be cracked. To see the list\n",
    "\n",
    "> hashcat -h\n",
    "\n",
    "* 0:      MD5\n",
    "* 100:    SHA1\n",
    "* 1800:   sha512crypt ( &#36;6&#36; hashes)\n",
    "\n",
    "The attack modes are easier, theres only 5\n",
    "\n",
    "* 0 : Straight\n",
    "* 1 : Combination\n",
    "* 3 : Brute-Force\n",
    "* 6 : Hybrid Wordlist + Mask\n",
    "* 7 : Hybrid Mask + Wordlist"
   ]
  },
  {
   "cell_type": "code",
   "execution_count": null,
   "id": "3611e4f0-1524-47db-b8da-91cc0f2e845e",
   "metadata": {},
   "outputs": [],
   "source": []
  }
 ],
 "metadata": {
  "kernelspec": {
   "display_name": "Python 3 (ipykernel)",
   "language": "python",
   "name": "python3"
  },
  "language_info": {
   "codemirror_mode": {
    "name": "ipython",
    "version": 3
   },
   "file_extension": ".py",
   "mimetype": "text/x-python",
   "name": "python",
   "nbconvert_exporter": "python",
   "pygments_lexer": "ipython3",
   "version": "3.10.3"
  }
 },
 "nbformat": 4,
 "nbformat_minor": 5
}