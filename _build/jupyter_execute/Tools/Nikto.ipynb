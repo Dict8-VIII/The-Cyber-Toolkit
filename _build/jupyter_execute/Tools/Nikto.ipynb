{
 "cells": [
  {
   "cell_type": "markdown",
   "id": "fdbfa50f-7f3d-4122-8447-daf77f7037f0",
   "metadata": {},
   "source": [
    "# Nikto\n",
    "\n",
    "Nikto is a tool I really should use more often. It is a webserver enum software which is quite expandable with it's built in plugins.\n",
    "\n",
    "### Basic usage\n",
    "The 'quick' version for site enum\n",
    "> nikto -h \\[ip\\]\n",
    "\n",
    "* -h: The host IP of the server\n",
    "\n",
    "### Plugins\n",
    "\n",
    "* --list-plugins: List all plugins\n",
    "* -plugins: add your plugin name, if you dont define one, it runs all\n"
   ]
  },
  {
   "cell_type": "code",
   "execution_count": null,
   "id": "a81a819d-29fd-4754-a440-b26b7b91d0e1",
   "metadata": {},
   "outputs": [],
   "source": []
  }
 ],
 "metadata": {
  "kernelspec": {
   "display_name": "Python 3 (ipykernel)",
   "language": "python",
   "name": "python3"
  },
  "language_info": {
   "codemirror_mode": {
    "name": "ipython",
    "version": 3
   },
   "file_extension": ".py",
   "mimetype": "text/x-python",
   "name": "python",
   "nbconvert_exporter": "python",
   "pygments_lexer": "ipython3",
   "version": "3.10.4"
  }
 },
 "nbformat": 4,
 "nbformat_minor": 5
}