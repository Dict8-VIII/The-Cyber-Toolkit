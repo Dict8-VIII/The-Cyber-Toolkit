{
 "cells": [
  {
   "cell_type": "markdown",
   "id": "580e153e-e7db-4252-a40f-6b917e325b51",
   "metadata": {},
   "source": [
    "# TCPDump\n",
    "\n",
    "TCPDump is an open source CLI program for listening to traffic. As with any eavesdropping software, you must already have a 'listener' available. This could be:\n",
    "- A wireless listener\n",
    "- Wiretap\n",
    "- Port Mirroring (on a switch)\n",
    "- etc.\n",
    "\n",
    "## Port Data\n",
    "\n",
    "> sudo tcpdump port [portnumber] -A\n",
    "\n",
    "You need sudo rights to run packet capture.<br>\n",
    "-A forces the results to be in ASCII.\n",
    "\n",
    "## Interface Data\n",
    "\n",
    "> sudo tcpdump -vv -n -e -i [interface]\n",
    "\n",
    "This will dump all the data on the interface.<br>\n",
    "-vv is very verbose<br>\n",
    "-n : dont look up DNS (just do the IP)<br>\n",
    "-e : show the ethernet MAC<br>\n",
    "-i : which interface to use<br>\n",
    "\n",
    "<hr>\n"
   ]
  }
 ],
 "metadata": {
  "kernelspec": {
   "display_name": "Python 3 (ipykernel)",
   "language": "python",
   "name": "python3"
  },
  "language_info": {
   "codemirror_mode": {
    "name": "ipython",
    "version": 3
   },
   "file_extension": ".py",
   "mimetype": "text/x-python",
   "name": "python",
   "nbconvert_exporter": "python",
   "pygments_lexer": "ipython3",
   "version": "3.11.4"
  }
 },
 "nbformat": 4,
 "nbformat_minor": 5
}