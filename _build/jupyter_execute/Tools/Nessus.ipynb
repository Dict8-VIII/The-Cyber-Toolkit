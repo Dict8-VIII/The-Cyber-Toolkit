{
 "cells": [
  {
   "cell_type": "markdown",
   "id": "17281e48-4d1e-4189-9783-80d1fad9973e",
   "metadata": {},
   "source": [
    "# Nessus\n",
    "\n",
    "Nessus is an automated vulnerability scanner for Web Applications. It includes quite a few modules, and MANY pluggins to make it rather easy to scan a web application in search of <strike>Bug Bounties</strike> vulnerabilities. There is a free edition but it requires registration for an activation key. I've only done a bit on this so far but it looks like a great tool to add to the Active Scanning stage of an attack. You can start [here](https://www.tenable.com/products/nessus).\n",
    "\n",
    "## Launching\n",
    "Once you have Nessus installed, it must be started on your device as a service.\n",
    "\n",
    "> sudo /bin/systemctl start nessusd.service\n",
    "\n",
    "You can then open it on the local machine on port 8834 (in a web browser)\n",
    "\n",
    "> http://localhost:8834\n",
    "\n",
    "And log in<br>\n",
    "![NessusLogin.png](../images/NessusLogin.png)\n",
    "\n",
    "--I'm still working on this--\n",
    "\n",
    "<hr>"
   ]
  },
  {
   "cell_type": "code",
   "execution_count": null,
   "id": "e5191cc4-d371-4949-8b3f-b4c93780f48e",
   "metadata": {},
   "outputs": [],
   "source": []
  }
 ],
 "metadata": {
  "kernelspec": {
   "display_name": "Python 3 (ipykernel)",
   "language": "python",
   "name": "python3"
  },
  "language_info": {
   "codemirror_mode": {
    "name": "ipython",
    "version": 3
   },
   "file_extension": ".py",
   "mimetype": "text/x-python",
   "name": "python",
   "nbconvert_exporter": "python",
   "pygments_lexer": "ipython3",
   "version": "3.10.5"
  }
 },
 "nbformat": 4,
 "nbformat_minor": 5
}