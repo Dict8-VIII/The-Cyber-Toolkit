{
 "cells": [
  {
   "cell_type": "markdown",
   "id": "17281e48-4d1e-4189-9783-80d1fad9973e",
   "metadata": {},
   "source": [
    "# Nessus\n",
    "\n",
    "Nessus is an automated vulnerability scanner. It can be downloaded from [here](https://www.tenable.com/products/nessus)\n",
    "\n",
    "--I'm still working on this--"
   ]
  }
 ],
 "metadata": {
  "kernelspec": {
   "display_name": "Python 3 (ipykernel)",
   "language": "python",
   "name": "python3"
  },
  "language_info": {
   "codemirror_mode": {
    "name": "ipython",
    "version": 3
   },
   "file_extension": ".py",
   "mimetype": "text/x-python",
   "name": "python",
   "nbconvert_exporter": "python",
   "pygments_lexer": "ipython3",
   "version": "3.10.4"
  }
 },
 "nbformat": 4,
 "nbformat_minor": 5
}