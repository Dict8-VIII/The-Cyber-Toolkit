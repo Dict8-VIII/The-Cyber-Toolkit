{
 "cells": [
  {
   "cell_type": "markdown",
   "id": "ef23021b-c2ec-4921-9dcc-2d0ddb8d48f0",
   "metadata": {},
   "source": [
    "# Integration Runtime\n",
    "\n",
    "The integration runtime is a local 'proxy' to manage connections to internal services. The most common of these (from a 2second google search) is an internal SQL server. The integration runtime is installed on a local server which will make connections to the target service. These connections need to be authenticated using the Azure credential manager.\n",
    "\n",
    "<hr>"
   ]
  },
  {
   "cell_type": "markdown",
   "id": "2c866c00-13b3-4370-bd62-0435b8159dfb",
   "metadata": {},
   "source": [
    "## Installation\n",
    "\n",
    "\n"
   ]
  }
 ],
 "metadata": {
  "kernelspec": {
   "display_name": "Python 3 (ipykernel)",
   "language": "python",
   "name": "python3"
  },
  "language_info": {
   "codemirror_mode": {
    "name": "ipython",
    "version": 3
   },
   "file_extension": ".py",
   "mimetype": "text/x-python",
   "name": "python",
   "nbconvert_exporter": "python",
   "pygments_lexer": "ipython3",
   "version": "3.11.4"
  }
 },
 "nbformat": 4,
 "nbformat_minor": 5
}