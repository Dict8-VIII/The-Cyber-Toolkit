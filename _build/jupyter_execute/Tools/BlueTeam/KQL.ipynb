{
 "cells": [
  {
   "cell_type": "markdown",
   "id": "8891dbd6-536e-4a76-99ef-2b5b680d38aa",
   "metadata": {},
   "source": [
    "# Kusto Query Language (KQL)\n",
    "\n",
    "Kusto Query Language (KQL) is the query language used by Microsoft security products for querying events. On premisis, this is Defender, and in the cloud it's Sentinel. Being a DB query language, you'll feel right at home if you have any experience in SQL. You have tables, rows, columns, joins etc etc. That being said, you also have to change your mindset for Kusto.<br>\n",
    "\n",
    "<hr>"
   ]
  },
  {
   "cell_type": "markdown",
   "id": "c11548fd-c7ef-421f-b5fc-bc311efc4221",
   "metadata": {},
   "source": [
    "## Key Features\n",
    "\n",
    "### Sequential Queries\n",
    "Now, we all know that computers are sequential under the hood, but I found this was more explicit with KQL. The whole structure of KQL is pipes (|) between commands, where each command is a simple task.<br>\n",
    "When learning SQL, you may have come across a layout that looked a lot like this<br>\n",
    "> SELECT<br>\n",
    "> FROM<br>\n",
    "> WHERE<br>\n",
    "> GROUP BY<br>\n",
    "> HAVING<br>\n",
    "> ORDER BY<br>\n",
    "\n",
    "In KQL, We are always querying historic data. Therefore we are always selecting, it doesnt need to be defined. We simply have the table name<br>\n",
    "> MyTable<br>\n",
    "\n",
    "As the tables are likely quite large, we need to structure our queries to efficiently achieve our goals. We have selected our table, but there may be many columns in a table (depending on your structure). The FROM command has already been done as our first command. To select specific tables we must used the PROJECT command. To me, the project command could mean two things, we are either building a project, or projecting certain columns. Pick your favourite as long as it helps you remember things. The project command is also used for calculating new columns. If we want to select name & age, we would have<br>\n",
    "\n",
    "> MyTable<br>\n",
    "> | Project Name, Age <br>\n",
    "\n",
    "If you wanted only adults (I'm using 21 here), we would then use the where command. This would be the equivilant of \"Select Name, Age from MyTable where Age > 20\"<br>\n",
    "\n",
    "> MyTable<br>\n",
    "> | Project Name, Age <br>\n",
    "> | Where Age > 20 <br>\n",
    "\n",
    "As you can see, we are very strictly sequential, with small commands per row. We are still querying database, but the way we structure our commands has changed.\n",
    "\n",
    "<hr>"
   ]
  },
  {
   "cell_type": "markdown",
   "id": "e5b153bb-0394-4e2a-9837-fe8c673ced1f",
   "metadata": {},
   "source": [
    "## Practice\n",
    "\n",
    "A great tool for learning KQL is the \"Kusto Detective Agency\". It is a free resource provided by Microsoft in partnership with AMD, and it's fully online. Like a lot of cyber study, it is a gamified series where you are given challenges to solve along a theme and story, with increasing levels of difficulty and complexity. The first challenge takes you through setting up your environment, so even if you haven't worked with Azure or Data Explorer before you can get started. I highly recommend the series and will be walking through it in further chapters of this book.<br>\n",
    "https://detective.kusto.io/<br>\n",
    "\n",
    "<hr>"
   ]
  },
  {
   "cell_type": "code",
   "execution_count": null,
   "id": "9e9c7398-572c-4c14-bc9a-d1c98c8b728d",
   "metadata": {},
   "outputs": [],
   "source": []
  }
 ],
 "metadata": {
  "kernelspec": {
   "display_name": "Python 3 (ipykernel)",
   "language": "python",
   "name": "python3"
  },
  "language_info": {
   "codemirror_mode": {
    "name": "ipython",
    "version": 3
   },
   "file_extension": ".py",
   "mimetype": "text/x-python",
   "name": "python",
   "nbconvert_exporter": "python",
   "pygments_lexer": "ipython3",
   "version": "3.11.4"
  }
 },
 "nbformat": 4,
 "nbformat_minor": 5
}