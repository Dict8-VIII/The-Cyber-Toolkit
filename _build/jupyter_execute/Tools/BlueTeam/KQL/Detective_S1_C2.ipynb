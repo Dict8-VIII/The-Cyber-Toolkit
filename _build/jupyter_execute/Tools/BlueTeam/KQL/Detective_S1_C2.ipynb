{
 "cells": [
  {
   "cell_type": "markdown",
   "id": "69c5dca5-6be4-47e7-9235-fe5435454755",
   "metadata": {},
   "source": [
    "# Kusto Detective Agency Season 1 (Challenge 2)\n",
    "\n",
    "In this challenge, we need to spot election fraud. There's 4 candidates but a highly suspicious victory....\n",
    "This challenge introdcude the bin function (binary). Finding high activity in short periods is very relevant to cyber. Is someone brute forcing after hours? Trying to DDoS? Have 500 errors spiked? Who knows... we do!\n",
    "\n",
    "<hr>"
   ]
  },
  {
   "attachments": {},
   "cell_type": "markdown",
   "id": "71201478-6063-4613-acac-b18a5180480d",
   "metadata": {},
   "source": [
    "## Solution\n",
    "\n",
    "### Investigating the Data\n",
    "We've brought in the Votes table, select the first 1000 to take a look<br>\n",
    "![KDA_S1_C2_top.png](../../../images/Tools/BlueTeam/KQL/KDA_S1_C2_top.png)<br>\n",
    "\n",
    "Taking a look at the first 1000, should start with the low hanging fruit. Is the voter hash repeated?<br>\n",
    "![KDA_S1_C2_Hash.png](../../../images/Tools/BlueTeam/KQL/KDA_S1_C2_Hash.png)<br>\n",
    "\n",
    "9 collisions in 5 million votes, I'll put that down to expected (and not enough for voter fraud). It could also be that someone is generating hashes randomly to brute force<br>\n",
    "How about that voter IP column?<br>\n",
    "![KDA_S1_C2_viaIP.png](../../../images/Tools/BlueTeam/KQL/KDA_S1_C2_viaIP.png)<br>\n",
    "\n",
    "Normally I would think we're on to something here, but the hints tell us that votes are done via proxy in local areas. So once again this is probably expected.\n",
    "\n",
    "### Introducing Bias\n",
    "Lets introduce some bias and assume fraud did happen. In an election it's probably not the most moral thing; but in cyber there is a whole mindset of assuming you've been breached.<br>\n",
    "Lets see where the votes came from, and order them by time.<br>\n",
    "![KDA_S1_C2_Poppy1000.png](../../../images/Tools/BlueTeam/KQL/KDA_S1_C2_Poppy1000.png)<br>\n",
    "\n",
    "OK, thats suspicious. So many votes in the first second of the polls opening, at the same address (which also happens to be the first URL). 10 seconds later it swaps to the next ip in the list and the same action repeats. Clearly something is sus here....<br>\n",
    "\n",
    "### Calculating the fraud\n",
    "So, someone is loading as many votes as possible to a server every 10 seconds, then moving on to the next. Let's work out the votes where there were more than 10, in a 10 second window, in a single IP. We can then count these and treat them as fake votes.<br>\n",
    "Now, there may be perfectly legitimate votes in this time that we are bypassing. In the grand scheme, these are rounding errors so I'm not too worried about this.<br>\n",
    "Time to introduce the bin function. Which does exactly that.<br>\n",
    "\n",
    "![KDA_S1_C2_fakeVotes.png](../../../images/Tools/BlueTeam/KQL/KDA_S1_C2_fakeVotes.png)<br>\n",
    "\n",
    "2.5 million votes? that looks like fraud to me.\n",
    "\n",
    "### Removing the fraud\n",
    "We can now work out how many votes each nominee had. Assuming there was no fraud for the others, they are just their own count, and we reduce the Poppy votes by the fraud amount.<br>\n",
    "We have to multiply by 100 then divide over the total to get the percentage (cant get a partial int)<br>\n",
    "![KDA_S1_C2_Final.png](../../../images/Tools/BlueTeam/KQL/KDA_S1_C2_Final.png)<br>\n",
    "<br>\n",
    "I really should pass the variable through here instead of running it in two separate calculations, but I honestly had trouble here. \n",
    "\n",
    "<hr>\n"
   ]
  },
  {
   "cell_type": "markdown",
   "id": "36315a42-d9ed-4f31-9055-991b9530b9c0",
   "metadata": {},
   "source": [
    "## Final Script"
   ]
  },
  {
   "cell_type": "raw",
   "id": "062e3ca4-8d93-4d8c-9fdd-fd0926f3d65a",
   "metadata": {},
   "source": [
    "let fraud=Votes\n",
    "| where vote == 'Poppy'\n",
    "| summarize count() by via_ip, Length=bin(Timestamp, 10s)\n",
    "| where count_ > 10\n",
    "| summarize fake=sum(count_)\n",
    ";\n",
    "fraud //2497919\n",
    "\n",
    "Votes\n",
    "| summarize Kastor=countif(vote=='Kastor'), Gaul=countif(vote=='Gaul'), Poppy=countif(vote=='Poppy'), Willie=countif(vote=='Willie')\n",
    "| project K=Kastor, G=Gaul, P=(Poppy-2497919), W=Willie\n",
    "| project K, G, P, W, Total=K+G+P+W\n",
    "| project Kastor=todouble(K)*100/Total, Gaul=todouble(G)*100/Total, Poppy=todouble(P)*100/Total, Willie=todouble(W)*100/Total\n",
    "// remember these arent in the same order as the answer request!"
   ]
  }
 ],
 "metadata": {
  "kernelspec": {
   "display_name": "Python 3 (ipykernel)",
   "language": "python",
   "name": "python3"
  },
  "language_info": {
   "codemirror_mode": {
    "name": "ipython",
    "version": 3
   },
   "file_extension": ".py",
   "mimetype": "text/x-python",
   "name": "python",
   "nbconvert_exporter": "python",
   "pygments_lexer": "ipython3",
   "version": "3.11.4"
  }
 },
 "nbformat": 4,
 "nbformat_minor": 5
}