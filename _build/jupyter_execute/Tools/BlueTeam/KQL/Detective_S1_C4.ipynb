{
 "cells": [
  {
   "cell_type": "markdown",
   "id": "69c5dca5-6be4-47e7-9235-fe5435454755",
   "metadata": {},
   "source": [
    "# Kusto Detective Agency Season 1 (Challenge 4)"
   ]
  },
  {
   "cell_type": "markdown",
   "id": "532340a9-0432-4514-8e3c-908d2b79e3f0",
   "metadata": {},
   "source": [
    "## Part 1\n",
    "This is the first challenge where we are split to multiple parts."
   ]
  },
  {
   "cell_type": "code",
   "execution_count": 1,
   "id": "14c230bc-5bca-4fbd-b919-92147c66b661",
   "metadata": {},
   "outputs": [],
   "source": [
    "#Primes\n",
    "#| sort by Numbers desc\n",
    "#| where Numbers < 50000000\n",
    "#| project Numbers, previous = prev(Numbers)\n",
    "#| project Numbers, previous, total = Numbers + previous + 1\n",
    "#| join kind=inner Primes on $left.total == $right.Numbers\n",
    "#| sort by total"
   ]
  },
  {
   "cell_type": "markdown",
   "id": "ee5fbce9-0c2f-42b3-88c5-36477edca1ac",
   "metadata": {},
   "source": [
    "## Part 2\n",
    "We're running a bit off grid now, taking instructions from an unknown person. Surely theres some rules about this.... Anyways, this is all we're getting (along with some data to import):"
   ]
  },
  {
   "cell_type": "markdown",
   "id": "4b6be113-128e-43a8-bd0c-7a5afe445b22",
   "metadata": {},
   "source": [
    "Well done, my friend.\n",
    "It's time to meet. Let's go for a virtual sTREEt tour...\n",
    "Across the Big Apple city, there is a special place with Turkish Hazelnut and four Schubert Chokecherries within 66-meters radius area.\n",
    "Go 'out' and look for me there, near the smallest American Linden tree (within the same area).\n",
    "Find me and the bottom line: my key message to you.\n",
    "\n",
    "Cheers,\n",
    "El Puente."
   ]
  },
  {
   "attachments": {},
   "cell_type": "markdown",
   "id": "82c572ab-a1d3-4656-b930-4fe9cd8d06bd",
   "metadata": {},
   "source": [
    "### Investigating the Data\n",
    "\n",
    "As is tradition, lets grab the top few rows and take a look what we're working with.<br>\n",
    "![KDA_S1_C4_trees.png](../../../images/Tools/BlueTeam/KQL/KDA_S1_C4_trees.png)<br>\n",
    "\n",
    "So, it's quite a diverse dataset, with plenty of data that we dont really need. At the end of the day, all of our requirements revolve around 3 species. We can find these in the 'spc_common' column. Lets get rid of everything else<br>\n",
    "\n",
    "> nyc_trees<br>\n",
    "> | where spc_common in (\"'Schubert' chokecherry\", \"Turkish hazelnut\", \"American linden\")<br>\n",
    "\n",
    "### Finding the Radius Cell & Tree\n",
    "Shock, theres still a lot, but we can get started now. The count of trees inside a radius area is a strange one. I was thinking how I could do a 'moving' mask and filter through that, but I felt it was excessive and likely not the right path. Going through the hints, they refer to a H3 cell of size 10 being roughly that size. After a bit of research on the topic, I had so many 'what if's' with the static cells; what if the count overlaps? Do the instructions include dead trees? Is it four 'cherries' or more etc etc...<br>\n",
    "Getting out of my own head, it's suggested by the challenge, just give it a go. There is a function that converts lat/long to a H3 cell. Lets add this as a column and get rid of a lot of extras..\n",
    "\n",
    "> nyc_trees<br>\n",
    "> | where spc_common in (\"'Schubert' chokecherry\", \"Turkish hazelnut\", \"American linden\")<br>\n",
    "> | project tree_id, spc_common, tree_dbh, latitude, longitude, cell = geo_point_to_h3cell(longitude, latitude, 10)<br>\n",
    "> | project tree_id, spc_common, cell, tree_dbh<br>\n",
    "\n",
    "![KDA_S1_C4_cells.png](../../../images/Tools/BlueTeam/KQL/KDA_S1_C4_cells.png)<br>\n",
    "\n",
    "Next step, we need to find the cell that meets our criteria. Simply, we need the data for each cell, which means we need to summarise<br>\n",
    "This is where we introduce the 'countif'. Simply, it counts the rows where the conditions are met, by the cell (at the end). We are creating two columns here.<br>\n",
    "Lastly, we're adding the 'where' to only give us cells with the correct count of trees.\n",
    "\n",
    "> nyc_trees<br>\n",
    "> | where spc_common in (\"'Schubert' chokecherry\", \"Turkish hazelnut\", \"American linden\")<br>\n",
    "> | project tree_id, spc_common, tree_dbh, latitude, longitude, cell = geo_point_to_h3cell(longitude, latitude, 10)<br>\n",
    "> | project tree_id, spc_common, cell, tree_dbh<br>\n",
    "> | summarize SC=countif(spc_common==\"'Schubert' chokecherry\"), TH=countif(spc_common==\"Turkish hazelnut\") by cell<br>\n",
    "> | where SC==4 and TH>0<br>\n",
    "\n",
    "![KDA_S1_C4_sumarizedCells.png](../../../images/Tools/BlueTeam/KQL/KDA_S1_C4_sumarizedCells.png)<br>\n",
    "\n",
    "Awesome, our '66m radius' cell is 8a2a100dec9ffff. Thats only our first step here however. We dont want the cell, we want the smallest \"American Linden\" in the cell. Jumping up our query we can just ask for this though. Add the Latitude and Longitude back in too.<br>\n",
    "![KDA_S1_C4_smallest.png](../../../images/Tools/BlueTeam/KQL/KDA_S1_C4_smallest.png)<br>\n",
    "\n",
    "\n",
    "### Finding the Message\n",
    "\n",
    "Final submission is the last line: wytaPUJM!PS:2,7,17,29,42,49,58,59,63\n",
    "<hr>"
   ]
  },
  {
   "cell_type": "code",
   "execution_count": 2,
   "id": "9523dc8c-14c0-43f8-9f4c-3be7c8d2c3cd",
   "metadata": {},
   "outputs": [],
   "source": [
    "#Working out the correct cell\n",
    "#\n",
    "#nyc_trees \n",
    "#| where spc_common in (\"'Schubert' chokecherry\", \"Turkish hazelnut\", \"American linden\") \n",
    "#| project tree_id, spc_common, tree_dbh, latitude, longitude, cell = geo_point_to_h3cell(longitude, latitude, 1, 0)\n",
    "#| project tree_id, spc_common, cell, tree_id\n",
    "#| summarize SC=countif(spc_common==\"'Schubert' chokecherry\"), TH=countif(spc_common==\"Turkish hazelnut\") by cell\n",
    "#| where SC==4 and TH>0\n",
    "#\n",
    "#Finding the tree\n",
    "#nyc_trees\n",
    "#| where spc_common in (\"'Schubert' chokecherry\", \"Turkish hazelnut\", \"American linden\") \n",
    "#| project tree_id, spc_common, tree_dbh, latitude, longitude, cell = geo_point_to_h3cell(longitude, latitude, 1, 0)\n",
    "#| where cell == \"8a2a100dec9ff\n",
    "#VirtualTourLink(40.71222313,-73.96452201)\n",
    "#\n",
    "#Decoding the message\n",
    "#\n",
    "#let code=@'20INznpGzmkmK2NlZ0JILtO4OoYhOoYUB0OrOoTl5mJ3KgXrB0[8LTSSXUYhzUY8vmkyKUYevUYrDgYNK07yaf7soC3kKgMlOtHkLt[kZEclBtkyOoYwvtJGK2YevUY[v65iLtkeLEOhvtNlBtpizoY[v65yLdOkLEOhvtNlDn5lB07lOtJIDmllzmJ4vf7soCpiLdYIK0[eK27soleqO6keDpYp2CeH5d\\F\\fN6aQT6aQL[aQcUaQc[aQ57aQ5[aQDG';\n",
    "#\n",
    "#let message = \"ASHES to ASHES\";\n",
    "\n",
    "#print Decrypt(code, message)"
   ]
  },
  {
   "cell_type": "code",
   "execution_count": null,
   "id": "a137a9f1-10c9-4c58-b407-e80fade7f4de",
   "metadata": {},
   "outputs": [],
   "source": []
  }
 ],
 "metadata": {
  "kernelspec": {
   "display_name": "Python 3 (ipykernel)",
   "language": "python",
   "name": "python3"
  },
  "language_info": {
   "codemirror_mode": {
    "name": "ipython",
    "version": 3
   },
   "file_extension": ".py",
   "mimetype": "text/x-python",
   "name": "python",
   "nbconvert_exporter": "python",
   "pygments_lexer": "ipython3",
   "version": "3.11.4"
  }
 },
 "nbformat": 4,
 "nbformat_minor": 5
}