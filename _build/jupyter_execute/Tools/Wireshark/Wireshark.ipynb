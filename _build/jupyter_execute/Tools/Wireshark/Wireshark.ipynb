{
 "cells": [
  {
   "cell_type": "markdown",
   "id": "5c6f647c-685d-4deb-aedb-edf1d14d625b",
   "metadata": {},
   "source": [
    "# Wireshark\n",
    "\n",
    "Wireshark is a tool used for analyzing network traffic. It can both create and read \"PCAP\" or PacketCAPture files.\n",
    "\n"
   ]
  },
  {
   "cell_type": "markdown",
   "id": "612469b9-7696-4a2a-9f6b-4ce2676d04c3",
   "metadata": {},
   "source": [
    "## Installation\n",
    "\n",
    "Wireshark comes pre-installed in Kali, but it can be installed manually if you are on a different OS.\n",
    "\n",
    "### Linux\n",
    "Wireshark can be installed the same way as most other software\n",
    "> apt install wireshark\n",
    "\n",
    "### Windows / MacOS\n",
    "You'll need to visit the official website : https://www.wireshark.org/download.html\n",
    "\n",
    "<hr>"
   ]
  },
  {
   "cell_type": "markdown",
   "id": "6daa2662-2b51-49e0-8aea-9d5282bb714f",
   "metadata": {},
   "source": [
    "## The Basics\n",
    "\n",
    "### Launch Page\n",
    "When we first open Wireshark, we are greeted by the launch page: <br>\n",
    "![Wireshark_Landing.png](../../images/Tools/Wireshark_Landing.png) \n",
    "\n",
    "From here, we can see\n",
    "1. The \"start capture\" button\n",
    "2. The \"filter\", when we have live or saved data to review\n",
    "3. A \"Capture\" filter. If you click the green 'flag' it will show a list of defined filters.\n",
    "4. My list of interfaces that support packet capturing, and some tools as well. Double click one of these (or pres (1) to start capturing packets)\n",
    "\n",
    "### Capture Window\n",
    "Once you have started a capture (or opened a saved one), you are presented with the capture window <br>\n",
    "![Wireshark_ExampleCapture.png](../../images/Tools/Wireshark_ExampleCapture.png)\n",
    "\n",
    "This shows the history of captured packets, including simple information in the 'ticker' and extended information once one is selected. <br>\n",
    "Each packet is also colour coded for urgency / type.\n",
    "\n",
    "<hr>"
   ]
  },
  {
   "cell_type": "code",
   "execution_count": null,
   "id": "61862928-cfcd-46fd-b9d5-3315d7ee52ac",
   "metadata": {},
   "outputs": [],
   "source": []
  }
 ],
 "metadata": {
  "kernelspec": {
   "display_name": "Python 3 (ipykernel)",
   "language": "python",
   "name": "python3"
  },
  "language_info": {
   "codemirror_mode": {
    "name": "ipython",
    "version": 3
   },
   "file_extension": ".py",
   "mimetype": "text/x-python",
   "name": "python",
   "nbconvert_exporter": "python",
   "pygments_lexer": "ipython3",
   "version": "3.11.4"
  }
 },
 "nbformat": 4,
 "nbformat_minor": 5
}