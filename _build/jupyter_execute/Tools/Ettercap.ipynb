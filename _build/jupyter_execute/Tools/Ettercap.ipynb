{
 "cells": [
  {
   "cell_type": "markdown",
   "id": "8d9e2915-49ac-456d-8328-b76a2b68b7c2",
   "metadata": {},
   "source": [
    "# Ettercap & Bettercap\n",
    "\n",
    "Ettercap is a suite of tools for MitM attacks. It comes pre-installed in Kali. It can perform packet sniffing, filtering and a range of other tasks.<br>\n",
    "\n",
    "Bettercap is another level of Ettercap and supports a larger number of protocols. Wifi, BLE etc are all supported, as well as a packet sniffer, proxy, port scanner and other usefull tools.\n",
    "\n"
   ]
  }
 ],
 "metadata": {
  "kernelspec": {
   "display_name": "Python 3 (ipykernel)",
   "language": "python",
   "name": "python3"
  },
  "language_info": {
   "codemirror_mode": {
    "name": "ipython",
    "version": 3
   },
   "file_extension": ".py",
   "mimetype": "text/x-python",
   "name": "python",
   "nbconvert_exporter": "python",
   "pygments_lexer": "ipython3",
   "version": "3.10.4"
  }
 },
 "nbformat": 4,
 "nbformat_minor": 5
}