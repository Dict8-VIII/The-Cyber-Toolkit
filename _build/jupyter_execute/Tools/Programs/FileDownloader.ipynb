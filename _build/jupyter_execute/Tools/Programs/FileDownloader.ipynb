{
 "cells": [
  {
   "cell_type": "markdown",
   "id": "4c2cb192-9115-42cc-8867-87a568e38835",
   "metadata": {
    "tags": [
     "skip-execution"
    ]
   },
   "source": [
    "# File Downloader\n",
    "\n",
    "## V1.0\n",
    "This is actually a uni assignment that I finished at 2.0. Renamed as 1.0"
   ]
  },
  {
   "cell_type": "code",
   "execution_count": 1,
   "id": "340e7501-df74-41ff-9313-ebf7dfa98880",
   "metadata": {},
   "outputs": [
    {
     "ename": "FileNotFoundError",
     "evalue": "[Errno 2] No such file or directory: 'urls.txt'",
     "output_type": "error",
     "traceback": [
      "\u001b[1;31m---------------------------------------------------------------------------\u001b[0m",
      "\u001b[1;31mFileNotFoundError\u001b[0m                         Traceback (most recent call last)",
      "Cell \u001b[1;32mIn[1], line 20\u001b[0m\n\u001b[0;32m     16\u001b[0m \u001b[38;5;28;01mimport\u001b[39;00m \u001b[38;5;21;01murllib\u001b[39;00m\u001b[38;5;21;01m.\u001b[39;00m\u001b[38;5;21;01mrequest\u001b[39;00m\n\u001b[0;32m     18\u001b[0m \u001b[38;5;66;03m#Links moved above the chdir, to ensure it can be in the current location\u001b[39;00m\n\u001b[0;32m     19\u001b[0m \u001b[38;5;66;03m#Could just add it to the path...\u001b[39;00m\n\u001b[1;32m---> 20\u001b[0m links \u001b[38;5;241m=\u001b[39m \u001b[38;5;28;43mopen\u001b[39;49m\u001b[43m(\u001b[49m\u001b[38;5;124;43m'\u001b[39;49m\u001b[38;5;124;43murls.txt\u001b[39;49m\u001b[38;5;124;43m'\u001b[39;49m\u001b[43m,\u001b[49m\u001b[43m \u001b[49m\u001b[38;5;124;43m'\u001b[39;49m\u001b[38;5;124;43mr\u001b[39;49m\u001b[38;5;124;43m'\u001b[39;49m\u001b[43m)\u001b[49m\n\u001b[0;32m     22\u001b[0m \u001b[38;5;66;03m# Addition of where to save the file(s)\u001b[39;00m\n\u001b[0;32m     23\u001b[0m save_location \u001b[38;5;241m=\u001b[39m \u001b[38;5;28minput\u001b[39m(\u001b[38;5;124m\"\u001b[39m\u001b[38;5;124mHello. Where would you like to store the files [leave empty for current directory]:\u001b[39m\u001b[38;5;124m\"\u001b[39m)\n",
      "File \u001b[1;32m~\\AppData\\Local\\Programs\\Python\\Python311\\Lib\\site-packages\\IPython\\core\\interactiveshell.py:284\u001b[0m, in \u001b[0;36m_modified_open\u001b[1;34m(file, *args, **kwargs)\u001b[0m\n\u001b[0;32m    277\u001b[0m \u001b[38;5;28;01mif\u001b[39;00m file \u001b[38;5;129;01min\u001b[39;00m {\u001b[38;5;241m0\u001b[39m, \u001b[38;5;241m1\u001b[39m, \u001b[38;5;241m2\u001b[39m}:\n\u001b[0;32m    278\u001b[0m     \u001b[38;5;28;01mraise\u001b[39;00m \u001b[38;5;167;01mValueError\u001b[39;00m(\n\u001b[0;32m    279\u001b[0m         \u001b[38;5;124mf\u001b[39m\u001b[38;5;124m\"\u001b[39m\u001b[38;5;124mIPython won\u001b[39m\u001b[38;5;124m'\u001b[39m\u001b[38;5;124mt let you open fd=\u001b[39m\u001b[38;5;132;01m{\u001b[39;00mfile\u001b[38;5;132;01m}\u001b[39;00m\u001b[38;5;124m by default \u001b[39m\u001b[38;5;124m\"\u001b[39m\n\u001b[0;32m    280\u001b[0m         \u001b[38;5;124m\"\u001b[39m\u001b[38;5;124mas it is likely to crash IPython. If you know what you are doing, \u001b[39m\u001b[38;5;124m\"\u001b[39m\n\u001b[0;32m    281\u001b[0m         \u001b[38;5;124m\"\u001b[39m\u001b[38;5;124myou can use builtins\u001b[39m\u001b[38;5;124m'\u001b[39m\u001b[38;5;124m open.\u001b[39m\u001b[38;5;124m\"\u001b[39m\n\u001b[0;32m    282\u001b[0m     )\n\u001b[1;32m--> 284\u001b[0m \u001b[38;5;28;01mreturn\u001b[39;00m \u001b[43mio_open\u001b[49m\u001b[43m(\u001b[49m\u001b[43mfile\u001b[49m\u001b[43m,\u001b[49m\u001b[43m \u001b[49m\u001b[38;5;241;43m*\u001b[39;49m\u001b[43margs\u001b[49m\u001b[43m,\u001b[49m\u001b[43m \u001b[49m\u001b[38;5;241;43m*\u001b[39;49m\u001b[38;5;241;43m*\u001b[39;49m\u001b[43mkwargs\u001b[49m\u001b[43m)\u001b[49m\n",
      "\u001b[1;31mFileNotFoundError\u001b[0m: [Errno 2] No such file or directory: 'urls.txt'"
     ]
    }
   ],
   "source": [
    "'''\n",
    "This python script opens a file named urls.txt in the  current folder and\n",
    "downloads each url sequentually. Downloaded files are saved into the current folder.\n",
    "\n",
    "Requirements\n",
    "* In urls.txt URLs must be one per line and no line can be blank\n",
    "* The URL must not use GET parameters (e.g. http://server/retrieve?file=myfile)\n",
    "* urls.txt must be stored in the same folder as this file\n",
    "* You must have read and write permission to this folder\n",
    "\n",
    "v2.0 : 04/06/22\n",
    "Additional function to allow selection of file save location\n",
    "'''\n",
    "\n",
    "import os\n",
    "import urllib.request\n",
    "\n",
    "#Links moved above the chdir, to ensure it can be in the current location\n",
    "#Could just add it to the path...\n",
    "links = open('urls.txt', 'r')\n",
    "\n",
    "# Addition of where to save the file(s)\n",
    "save_location = input(\"Hello. Where would you like to store the files [leave empty for current directory]:\")\n",
    "if (save_location == \"\"):\n",
    "    save_location = os.getcwd()\n",
    "    \n",
    "os.chdir(save_location)\n",
    "\n",
    "for link in links:\n",
    "\n",
    "    #Get one line of text (e.g. http://server/files/grades.doc),\n",
    "    # then get the filename from the end of the URL\n",
    "    link = link.strip()\n",
    "    filename = link.rsplit('/', 1)[-1]\n",
    "\n",
    "    #Does this file exist in this folder? If not, download it\n",
    "    if not (os.path.isfile(filename)):\n",
    "        #print('Downloading: ' + filename )\n",
    "        print(\"Downloading\", link, \"and saving as\", save_location+filename)\n",
    "        try:\n",
    "            urllib.request.urlretrieve(link, filename)\n",
    "            print(\"File size was\", os.path.getsize(filename))\n",
    "        except Exception as inst:\n",
    "            print(inst)\n",
    "            print('  Encountered unknown error. Continuing.')\n",
    "    \n",
    "    #File exists; don't download\n",
    "    else:\n",
    "        print(\"This file exists already.\")\n",
    "\n",
    "#End of program\n",
    "print(\"Finished downloading.\")"
   ]
  },
  {
   "cell_type": "markdown",
   "id": "7ea94ab5-15fa-4609-b09e-309b1753f952",
   "metadata": {},
   "source": [
    "V2.0"
   ]
  },
  {
   "cell_type": "code",
   "execution_count": 3,
   "id": "a88721c4-c144-4091-8f63-458862104f2d",
   "metadata": {},
   "outputs": [
    {
     "name": "stdin",
     "output_type": "stream",
     "text": [
      "Hello. Where would you like to store the files [leave empty for current directory]: \n"
     ]
    },
    {
     "name": "stdout",
     "output_type": "stream",
     "text": [
      "Target:  https://victorianwomenshealthatlas.net.au/reports/factsheets/Sexual%20and%20Reproductive%20Health/Darebin/VWHAtlas%20Fact%20Sheet%20Sexual%20and%20Reproductive%20Health%20Darebin.pdf\n",
      "File:  VWHAtlas%20Fact%20Sheet%20Sexual%20and%20Reproductive%20Health%20Darebin.pdf\n",
      "Downloading https://victorianwomenshealthatlas.net.au/reports/factsheets/Sexual%20and%20Reproductive%20Health/Darebin/VWHAtlas%20Fact%20Sheet%20Sexual%20and%20Reproductive%20Health%20Darebin.pdf and saving as C:\\Users\\paulj\\Documents\\The-Cyber-Toolkit\\Tools\\ProgramsVWHAtlas%20Fact%20Sheet%20Sexual%20and%20Reproductive%20Health%20Darebin.pdf\n",
      "File size was 700149\n",
      "Target:  https://victorianwomenshealthatlas.net.au/reports/factsheets/Sexual%20and%20Reproductive%20Health/Hume/VWHAtlas%20Fact%20Sheet%20Sexual%20and%20Reproductive%20Health%20Hume.pdf\n",
      "File:  VWHAtlas%20Fact%20Sheet%20Sexual%20and%20Reproductive%20Health%20Hume.pdf\n",
      "Downloading https://victorianwomenshealthatlas.net.au/reports/factsheets/Sexual%20and%20Reproductive%20Health/Hume/VWHAtlas%20Fact%20Sheet%20Sexual%20and%20Reproductive%20Health%20Hume.pdf and saving as C:\\Users\\paulj\\Documents\\The-Cyber-Toolkit\\Tools\\ProgramsVWHAtlas%20Fact%20Sheet%20Sexual%20and%20Reproductive%20Health%20Hume.pdf\n",
      "File size was 699841\n",
      "Finished downloading.\n"
     ]
    }
   ],
   "source": [
    "'''\n",
    "This python script opens a file named urls.txt in the  current folder and\n",
    "downloads each url sequentually. Downloaded files are saved into the current folder.\n",
    "\n",
    "Requirements\n",
    "* In urls.txt URLs must be one per line and no line can be blank\n",
    "* The URL must not use GET parameters (e.g. http://server/retrieve?file=myfile)\n",
    "* urls.txt must be stored in the same folder as this file\n",
    "* You must have read and write permission to this folder\n",
    "\n",
    "v2.0 : 04/06/22\n",
    "Additional function to allow selection of file save location\n",
    "'''\n",
    "\n",
    "import os\n",
    "import urllib.request\n",
    "\n",
    "#Links moved above the chdir, to ensure it can be in the current location\n",
    "#Could just add it to the path...\n",
    "#links = open('urls.txt', 'r')\n",
    "\n",
    "# Addition of where to save the file(s)\n",
    "save_location = input(\"Hello. Where would you like to store the files [leave empty for current directory]:\")\n",
    "if (save_location == \"\"):\n",
    "    save_location = os.getcwd()\n",
    "    \n",
    "os.chdir(save_location)\n",
    "\n",
    "arguements_list=('Darebin', 'Hume')\n",
    "\n",
    "for arguement in arguements_list:\n",
    "    target = \"https://victorianwomenshealthatlas.net.au/reports/factsheets/Sexual%20and%20Reproductive%20Health/\" + arguement + \"/VWHAtlas%20Fact%20Sheet%20Sexual%20and%20Reproductive%20Health%20\" + arguement + \".pdf\"\n",
    "    \n",
    "    #link = link.strip()\n",
    "    filename = target.rsplit('/', 1)[-1]\n",
    "    print(\"Target: \", target)\n",
    "    print(\"File: \", filename)\n",
    "\n",
    "\n",
    "\n",
    "    #Does this file exist in this folder? If not, download it\n",
    "    if not (os.path.isfile(filename)):\n",
    "        #print('Downloading: ' + filename )\n",
    "        print(\"Downloading\", target, \"and saving as\", save_location+filename)\n",
    "        try:\n",
    "            urllib.request.urlretrieve(target, filename)\n",
    "            print(\"File size was\", os.path.getsize(filename))\n",
    "        except Exception as inst:\n",
    "            print(inst)\n",
    "            print('  Encountered unknown error. Continuing.')\n",
    "    \n",
    "    #File exists; don't download\n",
    "    else:\n",
    "        print(\"This file exists already.\")\n",
    "\n",
    "#End of program\n",
    "print(\"Finished downloading.\")"
   ]
  },
  {
   "cell_type": "code",
   "execution_count": null,
   "id": "7b84ca32-dac7-48ac-a86f-6a14088310f1",
   "metadata": {},
   "outputs": [],
   "source": []
  }
 ],
 "metadata": {
  "kernelspec": {
   "display_name": "Python 3 (ipykernel)",
   "language": "python",
   "name": "python3"
  },
  "language_info": {
   "codemirror_mode": {
    "name": "ipython",
    "version": 3
   },
   "file_extension": ".py",
   "mimetype": "text/x-python",
   "name": "python",
   "nbconvert_exporter": "python",
   "pygments_lexer": "ipython3",
   "version": "3.11.4"
  }
 },
 "nbformat": 4,
 "nbformat_minor": 5
}