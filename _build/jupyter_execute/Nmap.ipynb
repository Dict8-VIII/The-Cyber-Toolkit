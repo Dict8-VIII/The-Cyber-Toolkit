{
 "cells": [
  {
   "cell_type": "markdown",
   "id": "f453072a-01b3-4718-a01d-cd532e64fd53",
   "metadata": {},
   "source": [
    "# Nmap\n",
    "\n",
    "Nmap is a Scanning tool used for the enumeration stage of Pen Testing. It is very versatile and industry standard.\n",
    "\n",
    "Common usages\n",
    "- Port Scanning\n",
    "- Service Enum\n",
    "- Running Nmap scripts for specific enum\n",
    "\n",
    "### Syntax\n",
    "\n",
    "> nmap \\[ip] [scan method] [MANY arguements] -vv\n",
    "\n",
    "- [ip] : The target server IP address\n",
    "- [scan method] : -s[something], there can be a number of arguements here\n",
    "    - -sV is to try determine what is running behind the ports\n",
    "    - -sS sneaky stealth scan\n",
    "    - -sA is to try determine OS version\n",
    "- [arguements]\n",
    "    - --script [Nmap script]\n",
    "    - vuln [ip] \\t try determine known exploits\n",
    "- -vv : VeryVerbose, stops you going crazy wondering if its working"
   ]
  },
  {
   "cell_type": "code",
   "execution_count": null,
   "id": "c29784cb-e5bb-41f0-b14f-fb066ad7d07d",
   "metadata": {},
   "outputs": [],
   "source": []
  }
 ],
 "metadata": {
  "kernelspec": {
   "display_name": "Python 3 (ipykernel)",
   "language": "python",
   "name": "python3"
  },
  "language_info": {
   "codemirror_mode": {
    "name": "ipython",
    "version": 3
   },
   "file_extension": ".py",
   "mimetype": "text/x-python",
   "name": "python",
   "nbconvert_exporter": "python",
   "pygments_lexer": "ipython3",
   "version": "3.10.2"
  }
 },
 "nbformat": 4,
 "nbformat_minor": 5
}