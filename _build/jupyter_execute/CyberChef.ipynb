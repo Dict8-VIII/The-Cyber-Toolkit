{
 "cells": [
  {
   "cell_type": "markdown",
   "id": "1cabc8f5-a095-43bd-b4ce-9f07af9ce49f",
   "metadata": {},
   "source": [
    "# Cyberchef\n",
    "\n",
    "https://gchq.github.io/CyberChef/\n",
    "\n",
    "A great bit of software to encode/decode real time. You can add/remove filters to craft your own decoding method."
   ]
  }
 ],
 "metadata": {
  "kernelspec": {
   "display_name": "Python 3 (ipykernel)",
   "language": "python",
   "name": "python3"
  },
  "language_info": {
   "codemirror_mode": {
    "name": "ipython",
    "version": 3
   },
   "file_extension": ".py",
   "mimetype": "text/x-python",
   "name": "python",
   "nbconvert_exporter": "python",
   "pygments_lexer": "ipython3",
   "version": "3.10.2"
  }
 },
 "nbformat": 4,
 "nbformat_minor": 5
}