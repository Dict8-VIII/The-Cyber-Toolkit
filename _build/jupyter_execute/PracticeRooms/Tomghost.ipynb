{
 "cells": [
  {
   "cell_type": "markdown",
   "id": "4f8b5a97-33ab-4b07-b8dd-7724f0500ed1",
   "metadata": {},
   "source": [
    "# Tomghost\n",
    "\n",
    "Another easy room, this one is focused around a specific vulnerability (from 2020). It's one of those notes about only enabling what you need. Of course we dont know this going in, so we start as normal :-). I liked this room as a focus for the specific CVE, the root escalation was quite easy which I guess was the point.\n",
    "\n",
    "<hr>"
   ]
  },
  {
   "cell_type": "markdown",
   "id": "13907d53-8d7d-4977-8005-3dab5e9c2720",
   "metadata": {},
   "source": [
    "## Initial Steps\n",
    "\n",
    "\n",
    "### Nmap Scan\n",
    "Lets grab an nmap scan<br>\n",
    "![Tomghost_NmapResults.png](../images/PracticeRooms/Tomghost_NmapResults.png)<br>\n",
    "\n",
    "So this gives us 3 ports\n",
    "\n",
    "- 8080 : Browsing this gives us the default Tomcat page and a version 9.0.30\n",
    "- 8009 : Looks to be an Apache feature\n",
    "- 53 : DNS... this is an odd one to have featured... probably worth investigating at some point\n",
    "\n",
    "Browsing the 8080 page and sending it against gobuster give a few interesting pages (such as /examples giving an echo command). I tried using this for scripting but no joys there. <br>\n",
    "![Tomghost_documentation.png]( ../images/PracticeRooms/Tomghost_documentation.png)<br>\n",
    "It also gives a link to subscribing for vulnerablity emails... ironic...\n",
    "\n",
    "### ExploitDB\n",
    "Theres no obvious exploits I can see here. The DNS looked interesting but I couldnt find anything obvious for it. Lets take a look at exploitDB<br>\n",
    "ExploitDB for Tomcat has https://www.exploit-db.com/exploits/49039. The search results werent quite clear, but checking it out it looks like its relevant for our version. The CVE is CVE-2020-1938. The description tells us theres also a Metasploit module for it, lets check it out.\n",
    "\n",
    "### Metasploit\n",
    "Let's start up Metasploit<br>\n",
    "![Tomghost_startmsf.png](../images/PracticeRooms/Tomghost_startmsf.png)<br>\n",
    "\n",
    "Find the module using the 'search' function. <br>\n",
    "![Tomghost_findmsfmodule.png](../images/PracticeRooms/Tomghost_findmsfmodule.png)<br>\n",
    "\n",
    "Set our options (namely the remote IP). Ports are default but we can compare these in Nmap if you want to.<br>\n",
    "![Tomghost_msfoptions.png](../images/PracticeRooms/Tomghost_msfoptions.png)<br>\n",
    "\n",
    "Then run the exploit<br>\n",
    "![Tomghost_msfexploit.png](../images/PracticeRooms/Tomghost_msfexploit.png)<br>\n",
    "\n",
    "If everything went well, you will get an nice pleasant user/password :-)<br>\n",
    "\n",
    "user: skyfuck<br>\n",
    "pass: 8730281lkjlkjdqlksalks<br>\n",
    "\n",
    "We can use these to log into the machine via SSH :-)\n",
    "\n",
    "<hr>"
   ]
  },
  {
   "cell_type": "markdown",
   "id": "888d02a1-7f27-4122-bfc7-c4996510e22d",
   "metadata": {},
   "source": [
    "## Looking Around\n",
    "\n",
    "*clack clack clack* I'm in.<br>\n",
    "\n",
    "Now what? Lets see what we've got in our home directory<br>\n",
    "![Tomghost_userdirectory.png](../images/PracticeRooms/Tomghost_userdirectory.png)<br>\n",
    "\n",
    "Those look interesting, Spin up a python server an pull them down.<br>\n",
    "![Tomghost_pullfiles.png](../images/PracticeRooms/Tomghost_pullfiles.png)<br>\n",
    "\n",
    "Taking a look around, the merlin directory also has a file. Its our user flag.<br>\n",
    "![Tomghost_usertxt.png](../images/PracticeRooms/Tomghost_usertxt.png)<br>\n",
    "\n",
    "Thats all I found looking around, Lets take a look at those files.\n",
    "\n",
    "<hr>"
   ]
  },
  {
   "cell_type": "markdown",
   "id": "abc41d71-d1a2-4f77-ab65-8261c36098c8",
   "metadata": {},
   "source": [
    "## PGP file\n",
    "\n",
    "I had to do a bit of research on this, I've never used a .asc file before so had to look it up. PGP, or pretty good privacy is an open encryption module that has quite an interesting background. For us today though, an ASC file stores a decryption key for a .pgp file. Anyways.....<br>\n",
    "\n",
    "We can try decypting our file with gpg, but first we need to import our key\n",
    "> gpg  --import tryhackme.asc\n",
    "\n",
    "Aaaand its password protected... thats annoying. At this point I tried looking around the server for the history or if there was a password stored somewhere we can access. I gave up on this quite quickly though. If thats not going to work, lets try a brute force.<br>\n",
    "\n",
    "John can do this for us. First we need to make it \"johnable\"<br>\n",
    "![Tomghost_tojohn.png](../images/PracticeRooms/Tomghost_tojohn.png)<br>\n",
    "\n",
    "Then try it against \"rockyou\"<br>\n",
    "![Tomghost_John.png](../images/PracticeRooms/Tomghost_John.png)<br>\n",
    "\n",
    "Well thats nice huh... Import the key, give it the password and decrypt the file<br>\n",
    "![Tomghost_decrypt.png](../images/PracticeRooms/Tomghost_decrypt.png)<br>\n",
    "\n",
    "merlin:asuyusdoiuqoilkda312j31k2j123j1g23g12k3g12kj3gk12jg3k12j3kj123j<br>\n",
    "\n",
    "And now we can ssh to the machine as the user \"merlin\". This gives us the user.txt file as well but we've already grabed this.\n",
    "\n",
    "<hr>"
   ]
  },
  {
   "cell_type": "markdown",
   "id": "b9eb4e58-6218-4120-8be3-eef6aecd7f95",
   "metadata": {},
   "source": [
    "## Escalate Root\n",
    "\n",
    "Now, how do we get root? Start with the trivial<br>\n",
    "![Tomghost_sudoable.png](../images/PracticeRooms/Tomghost_sudoable.png)\n",
    "\n",
    "Honestly, I wasnt expecting that to work. GTFO bins has an excape for zip<br>\n",
    "![Tomghost_gtfo.png](../images/PracticeRooms/Tomghost_gtfo.png)<br>\n",
    "\n",
    "So do it<br>\n",
    "![Tomghost_getroot.png](../images/PracticeRooms/Tomghost_getroot.png)<br>\n",
    "\n",
    "Hello root :-)<br>\n",
    "\n",
    "<hr>"
   ]
  },
  {
   "cell_type": "code",
   "execution_count": null,
   "id": "b9fbb9d5-e302-4a3c-99f3-fccd3dbb3b73",
   "metadata": {},
   "outputs": [],
   "source": []
  }
 ],
 "metadata": {
  "kernelspec": {
   "display_name": "Python 3 (ipykernel)",
   "language": "python",
   "name": "python3"
  },
  "language_info": {
   "codemirror_mode": {
    "name": "ipython",
    "version": 3
   },
   "file_extension": ".py",
   "mimetype": "text/x-python",
   "name": "python",
   "nbconvert_exporter": "python",
   "pygments_lexer": "ipython3",
   "version": "3.10.5"
  }
 },
 "nbformat": 4,
 "nbformat_minor": 5
}