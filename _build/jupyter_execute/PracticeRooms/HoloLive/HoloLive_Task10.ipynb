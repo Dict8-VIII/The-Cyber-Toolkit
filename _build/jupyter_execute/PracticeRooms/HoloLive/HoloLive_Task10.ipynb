{
 "cells": [
  {
   "cell_type": "markdown",
   "id": "3fd6bb12-5e8b-4688-9a12-1c33703ea0bf",
   "metadata": {},
   "source": [
    "# HoloLive Walkthrough - Task 10\n",
    "\n",
    "So, its time to fuzz some directories. But what does that mean?\n",
    "Fuzzing has a few definitions, depending on who you ask.\n",
    "1. From a known string, modify some characters and try again. This is normally password related in our context. From \"Password123\"; try \"password123\", \"P@ssw0rd123\" etc\n",
    "2. Bruteforce subdomains on a website. From \"google.com\"; try \"admin.google.com\", \"dev.google.com\", \"dev.admin.google.com\" etc\n",
    "\n",
    "For this room, the second option is our goal\n",
    "\n",
    "<hr>\n"
   ]
  },
  {
   "cell_type": "markdown",
   "id": "26a301bd-7e66-4cdb-b7ea-1fd37cb52cf8",
   "metadata": {},
   "source": [
    "## Fuzzing Some Directories\n",
    "\n",
    "Lets spin up a terminal and see what we can find\n",
    "\n",
    "GoBuster Syntax:<br>\n",
    "![GoBuster-DirectoryScan.png](../../Images/Goals/WebExploitation/GoBuster_DirectoryScan.png)<br>\n",
    "\n",
    "Wfuzz Syntax:<br>\n",
    "![WFuzz-Example.png](../../Images/Goals/WebExploitation/WFuzz_Example.png)<br>\n",
    "\n",
    "While gobuster returned inital results faster, the file we are after was found first by GoBuster. Wfuzz did find it eventually.....<br>\n",
    "\n",
    "![Task10_robotsFound.png](../../Images/HoloLive/Task10_robotsFound.png)<br>\n",
    "![Task10_wfuzzrobots.png](../../Images/HoloLive/Task10_wfuzzrobots.png)<br>\n",
    "\n",
    "If we open the robots.txt file, theres a whole load of files listed, they look like directories. Guess we have found our first answer :-)<br>\n",
    "\n",
    "![Task10_robots.txt.png](../../Images/HoloLive/Task10_robots.txt.png)<br>\n",
    "\n",
    "Apparently we now have and admin domain to find..... fortunately we have just the tool for that.\n",
    "\n",
    "<hr>"
   ]
  },
  {
   "cell_type": "markdown",
   "id": "f9a225e7-7d23-4f32-b0a0-d529e0fab613",
   "metadata": {},
   "source": [
    "## I didnt actually do it this way....\n",
    "So, that was (probably) how the author wanted you to answer the questions. I didnt use GoBuster or WFuzz to start with. Having run into problems with both in the past, I actually ran Nikto first. It didnt give a nice list of files found, but it got the robots file pretty quick....\n",
    "\n",
    "![Task10_niktoScan.png](../images/HoloLive/Task10_niktoScan.png)\n",
    "\n",
    "<hr>"
   ]
  }
 ],
 "metadata": {
  "kernelspec": {
   "display_name": "Python 3 (ipykernel)",
   "language": "python",
   "name": "python3"
  },
  "language_info": {
   "codemirror_mode": {
    "name": "ipython",
    "version": 3
   },
   "file_extension": ".py",
   "mimetype": "text/x-python",
   "name": "python",
   "nbconvert_exporter": "python",
   "pygments_lexer": "ipython3",
   "version": "3.11.4"
  }
 },
 "nbformat": 4,
 "nbformat_minor": 5
}