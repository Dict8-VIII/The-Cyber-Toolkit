{
 "cells": [
  {
   "attachments": {},
   "cell_type": "markdown",
   "id": "af320091-29f6-4de2-a8d4-6aa2be11fa4a",
   "metadata": {},
   "source": [
    "# Advent Of Cyber - Side Quest 2\n",
    "\n",
    "## Accessing the Room\n",
    "The 'link' to this room can be found in Task 12 (Day 6). It's in the game!<br>\n",
    "\n",
    "### Glitchy McGlitchFace\n",
    "Once you've completed the room and got all the money (or not), take a look around. You'll find the seller has all items indexed (in Hex)<br>\n",
    "![AoC_sq2_Apurchase.png](../../images/PracticeRooms/AoCSideQuest/AoC_sq2_Apurchase.png)<br>\n",
    "\n",
    "You'll notice A is missing, buy it :-)<br>\n",
    "As soon as you do, you'll notice glitchy McGlitchFace has shown up <br>\n",
    "![AoC_sq2_glitch.png](../../images/PracticeRooms/AoCSideQuest/AoC_sq2_glitch.png)<br>\n",
    "\n",
    "Have a chat, he'll mention you've got the fancy badge, saying it's forbidden etc etc. Go back and make some more money (it will reset you) and then have a chat again. He will say there is a legend where certain conditions are met<br>\n",
    "- A cat named Snowball <br>\n",
    "- Midas the greedy merchant<br>\n",
    "- Ted the name changer<br>\n",
    "- 31337 coins<br>\n",
    "- Token of the yeti<br>\n",
    "- 30 lives secret code <br>\n",
    "\n",
    "### Setting the Variables\n",
    "So, assuming you've completed the room already, you know how to make the money, you've got the token and can change names. There are two extra steps that need to be considered however. While you can change names, it costs coins. You must also end each name with a null character (otherwise their name is just a long string). As our 'entry' point is at the start, we must work from the bottom up. How do we solve this problem? why with maths of course.<br>\n",
    "![AoC_sq2_layout.png](../../images/PracticeRooms/AoCSideQuest/AoC_sq2_layout.png)<br>\n",
    "\n",
    "Change the two other characters, starting with Ted the Name changer, then Midas the Merchant<br>\n",
    "![AoC_sq2_NameChanger.png](../../images/PracticeRooms/AoCSideQuest/AoC_sq2_NameChanger.png)\n",
    "![AoC_sq2_Merchant.png](../../images/PracticeRooms/AoCSideQuest/AoC_sq2_Merchant.png)<br>\n",
    "\n",
    "Now, for that maths we were talking about. <br>\n",
    "We need to end up with 31337, it costs 8 to change to 'Snowball', 81345<br>\n",
    "In hex, thats 7a71<br>\n",
    "But we're not in hex, we want 'zq' (UTF-8)<br>\n",
    "And we also need to remember that the coins are read BACKWARDS.<br>\n",
    "![AoC_sq2_Coins.png](../../images/PracticeRooms/AoCSideQuest/AoC_sq2_Coins.png)<br>\n",
    "\n",
    "Finally, Lets be Snowball. If my maths is right, then we have met all the variable conditions.<br>\n",
    "![AoC_sq2_Name.png](../../images/PracticeRooms/AoCSideQuest/AoC_sq2_Name.png)<br>\n",
    "\n",
    "### Cheat Codes\n",
    "So, whats this about the 30 lives code? You may also be familiar with it as the konami code<br>\n",
    "up,up,down,down,left,right,left,right,B,A,Start<br>\n",
    "Find a bit of space and do the things. You dont need the 'start'. If its all done, you'll see the game starting to glitch out. You'll then be left with the yeti. Have a chat and he will provide you the code for the hidden room. Good thing QR codes are error correcting, I was having trouble finding somewhere to hide<br>\n",
    "![AoC_sq2_code.png](../../images/PracticeRooms/AoCSideQuest/AoC_sq2_code.png)<br>\n",
    "![AoC_sq2_QR.png](../../images/PracticeRooms/AoCSideQuest/AoC_sq2_QR.png)<br>\n",
    "\n",
    "If you dont trust random QR codes: https://tryhackme.com/jr/armageddon2R\n",
    "\n",
    "<hr>"
   ]
  },
  {
   "cell_type": "code",
   "execution_count": null,
   "id": "c9a9c1ea-2b8d-4d34-93ec-5fc2cd46235e",
   "metadata": {},
   "outputs": [],
   "source": []
  }
 ],
 "metadata": {
  "kernelspec": {
   "display_name": "Python 3 (ipykernel)",
   "language": "python",
   "name": "python3"
  },
  "language_info": {
   "codemirror_mode": {
    "name": "ipython",
    "version": 3
   },
   "file_extension": ".py",
   "mimetype": "text/x-python",
   "name": "python",
   "nbconvert_exporter": "python",
   "pygments_lexer": "ipython3",
   "version": "3.11.4"
  }
 },
 "nbformat": 4,
 "nbformat_minor": 5
}