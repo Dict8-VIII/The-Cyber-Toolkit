{
 "cells": [
  {
   "cell_type": "markdown",
   "id": "297dab44-679d-43e8-abc3-91b1f2aa7af5",
   "metadata": {},
   "source": [
    "# Overpass\n",
    "\n",
    "- Look at the software, uses rot47. No obvious info in the source code\n",
    "- NMap Scan gives 22 and 80 ![Overpass_Nmap.png](../images/PracticeRooms/Overpass_Nmap.png)\n",
    "- Gobuster scan gives /admin ![Overpass_Gobuster.png](../images/PracticeRooms/Overpass_Gobuster.png)\n",
    "- Looks to be a js issue, I'll have to come back to this one with some more experience"
   ]
  },
  {
   "cell_type": "code",
   "execution_count": null,
   "id": "6ab5f036-3477-4b75-9970-19e906602ea8",
   "metadata": {},
   "outputs": [],
   "source": []
  }
 ],
 "metadata": {
  "kernelspec": {
   "display_name": "Python 3 (ipykernel)",
   "language": "python",
   "name": "python3"
  },
  "language_info": {
   "codemirror_mode": {
    "name": "ipython",
    "version": 3
   },
   "file_extension": ".py",
   "mimetype": "text/x-python",
   "name": "python",
   "nbconvert_exporter": "python",
   "pygments_lexer": "ipython3",
   "version": "3.10.5"
  }
 },
 "nbformat": 4,
 "nbformat_minor": 5
}