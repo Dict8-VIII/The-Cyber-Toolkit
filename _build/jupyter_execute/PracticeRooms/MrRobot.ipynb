{
 "cells": [
  {
   "cell_type": "markdown",
   "id": "f6320b76-0a30-4c61-8724-22f48b791ef8",
   "metadata": {},
   "source": [
    "# MR Robot CTF room\n",
    "\n",
    "This page is the walkthrough for the Mr Robot CTF Room. It's a moderate level room and very little guidance is given in the task itself. It does include a walkthrough by DarkStar, but I like that youre expected to have some independance when challenging the room. The flags have multiple steps between them, so you arent even quite sure if youre on the right path.\n",
    "\n",
    "For this room, I learned about using Hydra to brute force a web page, instead of Burpsuite so thats quite helpful. I'm a bit unhappy about the password brute forcing though. The dictionary is quite large and the webserver doesnt seem to handle this very well (I'm not even sure if you could completed the dictionary in a 2hr window as the password is near the end). I even wrote my own program to bruteforce the password at a custom speed but the server couldnt keep up with this either. In Darkstar's walkthrough he doesnt even show it running, just says what the resulting password is.\n",
    "\n",
    "If youre attempting the room for the first time and want to do it without the walkthrough, reverse your password dictionary and start from the bottom. It just saves time....\n",
    "\n",
    "\n",
    "<hr>"
   ]
  },
  {
   "cell_type": "markdown",
   "id": "e9fbb541-125f-4eae-bc68-33a51a55b08f",
   "metadata": {},
   "source": [
    "## First Steps - NMAP\n",
    "So, we have a new room to go through. Start up the machine and lets go with an NMAP scan.\n",
    "\n",
    "![MrRobot_Nmap.png](../images/PracticeRooms/MrRobot_Nmap.png)\n",
    "\n",
    "So we have\n",
    "- 22 : SSH, thats going to be for later I'm sure\n",
    "- 80 : HTTP, we've got a website to explore\n",
    "- 443 : HTTPS, probably the same as above\n",
    "\n",
    "<hr>\n",
    "\n",
    "## Website Browsing\n",
    "Exploring the website, there looks to be quite a bit of flavour text, nothing jumping out. Lets kick of GoBuster... <br>\n",
    "While thats running, lets take a look at some standard locations.\n",
    "\n",
    "### Standard Locations - Robots.txt\n",
    "Just adding /robots.txt to the URL and we get this:\n",
    "\n",
    "![MrRobot_Robots.txt.png](../images/PracticeRooms/MrRobot_Robots.png)\n",
    "\n",
    "Great\n",
    "- add the .txt file to the path (instead of robots.txt) and we get the first key\n",
    "- pull the dict with wget\n",
    "![MrRobot_WgetDic.png](../images/PracticeRooms/MrRobot_WgetDic.png)\n",
    "\n",
    "### Gobuster\n",
    "So we have a dictionary, it looks to be for passwords. So now what? Lets take a look at our GoBuster scan.\n",
    "![MrRobot_GoBuster.png](../images/PracticeRooms/MrRobot_GoBuster.png)\n",
    "\n",
    "So, a few interesting things here\n",
    "\n",
    "- /login : Forwards us to WP-Login\n",
    "- /admin : Gives us a page that just keeps reloading. Interesting but not much we can do there right now.\n",
    "- /robots : This is the one we already guessed.\n",
    "\n",
    "<hr>\n"
   ]
  },
  {
   "cell_type": "markdown",
   "id": "7d18718e-adeb-4576-a9b1-9bec373a647f",
   "metadata": {},
   "source": [
    "## Brute Forcing the Login Page\n",
    "\n",
    "Now we have a dictionary of (what I assume) are passwords, and a login page. But that is only 2/3 we need. We could probably brute force the users & passwords with 2 lists and BurpSuite, but I'm on the free one and I've only got a lifespan of about 90 years...<br>\n",
    "![AintNobody.png](../images/Generic/AintNobody.png)<br>\n",
    "\n",
    "So, what else can we do? Lets take a look at the website and try a few things. How about guessing some obvious passwords, like admin/admin?<br>\n",
    "![MrRobot_InvalidUser.png](../images/PracticeRooms/MrRobot_InvalidUser.png)<br>\n",
    "And that didnt work... but wait, theres more! Our error actually gives us tha we have an invalid username... Well thats helpful. Now we can just try bruteforce a login by itself. Again Burp will take forever, but [Hydra](../Tools/Hydra.ipynb) can actually do this for us too.\n",
    "\n",
    "### Bruteforce the Login\n",
    "Following the Hydra method:<br>\n",
    "![Hydra_WebForm.png](../images/Tools/Hydra_WebForm.png)<br>\n",
    "\n",
    "We get the user Elliot. Its got the wrong password but thats fine, we can now focus on that. Trying the username now gives us a different message. <br>\n",
    "![MrRobot_InvalidPassword.png](../images/PracticeRooms/MrRobot_InvalidPassword.png)<br>\n",
    "\n",
    "Lets modify Hydra to now search for the password<br>\n",
    "![MrRobot_HydraPassword.png](../images/PracticeRooms/MrRobot_HydraPassword.png)<br>\n",
    "\n",
    "Unfortuanely, theres about 860K entries, and trying to put these through the web server in 2 hrs just doesnt seem possible. The web server doesnt handle the requests that quickly.<br>\n",
    "I made my own program to brute force the website, it can be found [here](../Tools/Programs/WebBruteForce.ipynb) (I used 3.1). If you want to try it yourself, I suggest hardcoding the checkpoing to 856000 to avoid the massive wait. Eventually you get this: <br>\n",
    "![MrRobot_FoundPassword.png](../images/PracticeRooms/MrRobot_FoundPassword.png)<br>\n",
    "<br>\n",
    "Using the discovered User and Password, we can now log into the website\n",
    "\n",
    "<hr>\n"
   ]
  },
  {
   "cell_type": "markdown",
   "id": "21bde6a6-8b13-457f-9f0b-f6f57744f693",
   "metadata": {},
   "source": [
    "## Exploiting Web Access\n",
    "\n",
    "*Hacker voice* I'm in! *End Hacker voice* <br>\n",
    "Welcome to Wordpress. Take a look around. When you do, you'll find that we can edit some pages using the editor<br>\n",
    "![MrRobot_Editor.png](../images/PracticeRooms/MrRobot_Editor.png)\n",
    "\n",
    "As some of these are PHP, we can inject a reverse shell. I'm a fan of PenTestMonkey's one which can be found [here](https://raw.githubusercontent.com/pentestmonkey/php-reverse-shell/master/php-reverse-shell.php). Modify the IP and pick a port. Now we need to find what we want to override that we can access. After a bit of playing around, the 404 page seems easy. Modify it (read: change the whole thing), start up a listener on your machine and try navigate to a page that doesnt exist. If all goes well you'll get something that looks like this:<br>\n",
    "![MrRobot_Shell.png](../images/PracticeRooms/MrRobot_Shell.png)\n",
    "\n",
    "You'll find a flag file in /home/robot, but guess what! We cant read it... Conveniently there is also a password hash that even says what hash is used. Lets get cracking (pun totally intended).\n",
    "\n",
    "You can use Hashcat or John, but as this is MD5, Lets just use crackstations\n",
    "\n",
    "> \tabcdefghijklmnopqrstuvwxyz\n",
    "\n",
    "Well that was easy... Well sorta. Theres no SSH listening so what can we do with this information? SU doesnt work as we arent in a terminal, so lets just make it one. The [shell stabalise](../Craft/ShellStabalise.ipynb) has a few methods for this, but the python one works just fine. As I havent turned off my echo I've highlighted the steps I made<br>\n",
    "![MrRobot_Key2.png](../images/PracticeRooms/MrRobot_Key2.png)\n",
    "\n",
    "<hr>\n"
   ]
  },
  {
   "cell_type": "markdown",
   "id": "9d5b1a18-1ccd-45c2-a88b-d73f5c6cc3dc",
   "metadata": {},
   "source": [
    "## Escalating Root\n",
    "\n",
    "Time for some privesc. Starting with the basics:\n",
    "\n",
    "> sudo -l\n",
    "\n",
    "Just not allowed, bugger\n",
    "\n",
    "> find / -perm -u=s -type f 2>/dev/null\n",
    "\n",
    "SUID programs, most look normal but one stands out to me. Nmap<br>\n",
    "![MrRobot_SUID.png](../images/PracticeRooms/MrRobot_SUID.png)\n",
    "\n",
    "We could abuse the SUID bit, but nmap has a step straight to a root terminal, so lets go with that (Check GTFO Bins). And with that we get our last flag. A full summary of the shell steps are below. <br>\n",
    "![MrRobot_FinalSteps.png](../images/PracticeRooms/MrRobot_FinalSteps.png)\n",
    "\n",
    "<hr>\n"
   ]
  },
  {
   "cell_type": "code",
   "execution_count": null,
   "id": "322dfcbb-ded8-477e-ab8d-efae109a3899",
   "metadata": {},
   "outputs": [],
   "source": []
  }
 ],
 "metadata": {
  "kernelspec": {
   "display_name": "Python 3 (ipykernel)",
   "language": "python",
   "name": "python3"
  },
  "language_info": {
   "codemirror_mode": {
    "name": "ipython",
    "version": 3
   },
   "file_extension": ".py",
   "mimetype": "text/x-python",
   "name": "python",
   "nbconvert_exporter": "python",
   "pygments_lexer": "ipython3",
   "version": "3.10.5"
  }
 },
 "nbformat": 4,
 "nbformat_minor": 5
}