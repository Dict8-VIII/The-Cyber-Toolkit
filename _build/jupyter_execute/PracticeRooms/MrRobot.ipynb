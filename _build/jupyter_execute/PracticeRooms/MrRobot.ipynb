{
 "cells": [
  {
   "cell_type": "markdown",
   "id": "f6320b76-0a30-4c61-8724-22f48b791ef8",
   "metadata": {},
   "source": [
    "# MR Robot CTF room\n",
    "\n",
    "NMap scan\n",
    "\n",
    "- 80 gives a console, with text.... logged in as root?\n",
    "\n",
    "Nikto (nikto -host < ip>)\n",
    "\n",
    "- Theres a robots.txt..\n",
    "- It has a dictionary and flag 1\n",
    "\n",
    "dictionary is a list of.... passwords?\n",
    "\n",
    "dirbuster\n",
    "- gives a few login pages; /admin /login\n",
    "\n",
    "brute force.... burp or Hydra\n",
    "- we only have one list.... the page gives back if we have the wrong user or password, so break on length.\n",
    "- This gives the user 'Elliot'.\n",
    "- now we can itterate through passwords\n",
    "\n",
    "\n"
   ]
  }
 ],
 "metadata": {
  "kernelspec": {
   "display_name": "Python 3 (ipykernel)",
   "language": "python",
   "name": "python3"
  },
  "language_info": {
   "codemirror_mode": {
    "name": "ipython",
    "version": 3
   },
   "file_extension": ".py",
   "mimetype": "text/x-python",
   "name": "python",
   "nbconvert_exporter": "python",
   "pygments_lexer": "ipython3",
   "version": "3.10.5"
  }
 },
 "nbformat": 4,
 "nbformat_minor": 5
}