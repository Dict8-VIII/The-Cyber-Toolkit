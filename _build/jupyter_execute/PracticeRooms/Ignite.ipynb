{
 "cells": [
  {
   "cell_type": "markdown",
   "id": "8580a4e3-b36c-464f-9c73-b54974fa2dab",
   "metadata": {},
   "source": [
    "# Ignite\n",
    "\n",
    "We have another easy room here, apparently a startup has some problems with their servers... Lets be another problem.\n",
    "\n",
    "## Initial Steps\n",
    "As always, start with an N-Map Scan.<br>\n",
    "![Ignite_Nmap.png](../Images/PracticeRooms/Ignite/Ignite_Nmap.png)<br>\n",
    "\n",
    "Ok, port 80. Brint it up <br>\n",
    "![Ignite_DefaultPage.png](../Images/PracticeRooms/Ignite/Ignite_DefaultPage.png) <br>\n",
    "\n",
    "FUELCMS, We've run into this before actually. We've got a few options from here<br>\n",
    "1. Run GoBuster\n",
    "2. Check ExploitDB (we have a version)\n",
    "3. Check Robots.txt\n",
    "\n",
    "I did all of these, but the first option should be to kick off GoBuster. It just gives the same results as checking Robots.txt though, a directory called /fuel. <br>\n",
    "This brings up a login page. As we have already seen the home page is default, I wonder if the password is too. A quick google gives the login admin/admin.<br>\n",
    "![Ignite_CreatePage.png](../Images/PracticeRooms/Ignite/Ignite_CreatePage.png)<br>\n",
    "\n",
    "> Full Disclosure here, I managed to get a file uploaded and it dropped in in /tmp (as a PHP file). When I went to replicate this again at the end I dont know which step I did that got it uploaded. I didnt realise files got uploaded to /tmp until I found it a while later. I'll add my notes at the end of the page but clearly need to note things better. Fortunately theres multiple issues with this box so I found another way....\n",
    "\n",
    "So looking around the admin portal, I cant work out how to upload a reverse shell. Lets swap to ExploitDB.<br>\n",
    "Searching for \"Fuel 1.4\" gives quite a few exploits. I picked \"Remote Code Execution (3)\" because reasons...<br>\n",
    "![Ignite_ExploitDB.png](../Images/PracticeRooms/Ignite/Ignite_ExploitDB.png)<br>\n",
    "\n",
    "Download it and run it, and we get a 'shell' <br>\n",
    "![Ignite_RunExploit.png](../Images/PracticeRooms/Ignite/Ignite_RunExploit.png)<br>\n",
    "\n",
    "Well... not quite. We can run simple commands but cant change directory or do any of the other fun stuff. But we CAN bring down a reverse shell and drop in in the web server now.<br>\n",
    "![Ignite_WgetReverse.png](../Images/PracticeRooms/Ignite/Ignite_WgetReverse.png)<br>\n",
    "\n",
    "We can now bring up the reverse shell with /fuel/reverse.php.<br>\n",
    "And we're in, the user flag is here:<br>\n",
    "![Ignite_UserFlag.png](../Images/PracticeRooms/Ignite/Ignite_UserFlag.png)<br>\n",
    "\n",
    "<hr>\n"
   ]
  },
  {
   "cell_type": "markdown",
   "id": "b6a6fbee-b007-4f6a-863b-95c3b301d5cb",
   "metadata": {},
   "source": [
    "## Escalate Root\n",
    "\n",
    "I tried a few basic checks here, SUID, capabilities, cron etc but didnt find anything helpful...<br>\n",
    "So, lets bring down some tools. I sent up LinEnum and Linpeas<br>\n",
    "![Ignite_GetEnum.png](../Images/PracticeRooms/Ignite/Ignite_GetEnum.png)<br>\n",
    "\n",
    "Running them both gives a few bits of info, Linpeas seemed to get more though so I've just listed them:<br>\n",
    "![Ignite_LinPeasPassword.png](../Images/PracticeRooms/Ignite/Ignite_LinPeasPassword.png)<br>\n",
    "![Ignite_LinpeasResults.png](../Images/PracticeRooms/Ignite/Ignite_LinpeasResults.png) <br>\n",
    "\n",
    "So we have a password, and a reasonably confident exploit. I started with the exploit.<br>\n",
    "It gives us a bit of info: https://www.qualys.com/2022/01/25/cve-2021-4034/pwnkit.txt. I also downloaded the exploit kit itself.<br>\n",
    "![Ignite_pwnkit.png](../Images/PracticeRooms/Ignite/Ignite_pwnkit.png)<br>\n",
    "\n",
    "In the kit we have a nice readme, that even tells us which exploit to run:<br>\n",
    "![Ignite_PwnkitReadme.png](../Images/PracticeRooms/Ignite/Ignite_PwnkitReadme.png)<br>\n",
    "\n",
    "We can grab the version from earlier in LinPeas:<br>\n",
    "![Ignite_UbuntuVersion.png](../Images/PracticeRooms/Ignite/Ignite_UbuntuVersion.png)<br>\n",
    "\n",
    "Unfortunately, none of these worked for me. Thats a shame, I've never used PWNKIT before and was hoping to see it in action. Back to the drawing board... wasn't there a password somewhere?<br>\n",
    "\n",
    "If we jump back to the home page, we can see there is a few steps. One of them gives us a location for some files.<br>\n",
    "![Ignite_Step2.png](../Images/PracticeRooms/Ignite/Ignite_Step2.png)<br>\n",
    "\n",
    "Cat-ing the file gives us the location of that password at the end<br>\n",
    "![Ignite_DBConfig.png](../Images/PracticeRooms/Ignite/Ignite_DBConfig.png)<br>\n",
    "\n",
    "Swap to root...<br>\n",
    "![Ignite_Root.png](../Images/PracticeRooms/Ignite/Ignite_Root.png)<br>\n",
    "\n",
    "...grab your flag...<br>\n",
    "![Ignite_RootFlag.png](../Images/PracticeRooms/Ignite/Ignite_RootFlag.png)<br>\n",
    "\n",
    "And wait for this whole thing to blow over.<br>\n",
    "![WaitForThisToBlowOver.png](../Images/Generic/WaitForThisToBlowOver.png)\n",
    "<hr>"
   ]
  },
  {
   "cell_type": "markdown",
   "id": "5ef66f52-f67d-41e0-9248-53b0be10fc8b",
   "metadata": {},
   "source": [
    "## What I didnt get Going\n",
    "So, as I mentioend above, I was looking around in the web portal and actually managed to upload a file to /tmp. I dont know how, I was sort of messing around at the time with the assets pages<br>\n",
    "![Ignite_AssestsUpload.png](../Images/PracticeRooms/Ignite/Ignite_AssestsUpload.png)<br>\n",
    "\n",
    "I found it in /tmp, but it was a bit surprising, I actually thought it was part of the room where the file was already uploaded.<br>\n",
    "![Ignite_SomeoneHere.png](../Images/PracticeRooms/Ignite/Ignite_SomeoneHere.png)<br>\n",
    "\n",
    "Anyways, I moved it to the right location and kicked off my reverse shell.<br>\n",
    "![Ignite_moveit.png](../Images/PracticeRooms/Ignite/Ignite_moveit.png)<br>\n",
    "\n",
    "<hr>\n"
   ]
  },
  {
   "cell_type": "code",
   "execution_count": null,
   "id": "c9faacda-37bb-44ed-9f43-23d948cd0fac",
   "metadata": {},
   "outputs": [],
   "source": []
  }
 ],
 "metadata": {
  "kernelspec": {
   "display_name": "Python 3 (ipykernel)",
   "language": "python",
   "name": "python3"
  },
  "language_info": {
   "codemirror_mode": {
    "name": "ipython",
    "version": 3
   },
   "file_extension": ".py",
   "mimetype": "text/x-python",
   "name": "python",
   "nbconvert_exporter": "python",
   "pygments_lexer": "ipython3",
   "version": "3.11.4"
  }
 },
 "nbformat": 4,
 "nbformat_minor": 5
}