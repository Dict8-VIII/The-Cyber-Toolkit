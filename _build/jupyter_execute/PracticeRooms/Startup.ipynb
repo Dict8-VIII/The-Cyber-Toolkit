{
 "cells": [
  {
   "cell_type": "markdown",
   "id": "450fe32a-fa5e-40eb-a656-248af6725a8e",
   "metadata": {},
   "source": [
    "# Startup\n",
    "Another easy room. This time we are playing the role of a cyber auditor who is trying to 'check the security of the system'. Ominous. This has a few standard steps and a bit of a surprise with wireshark; not to mention a meme or two....\n",
    "\n",
    "<hr>"
   ]
  },
  {
   "cell_type": "markdown",
   "id": "42a25d10-560d-4026-93e5-8033664eb1fd",
   "metadata": {},
   "source": [
    "## First Steps\n",
    "\n",
    "We're given an IP, lets start with Nmap.<br>\n",
    "![Startup_Nmap.png](../images/PracticeRooms/Startup_Nmap.png)<br>\n",
    "\n",
    "So, we are given \n",
    "- 80 : Http\n",
    "- 21 : FTP\n",
    "- 22 : SSH\n",
    "\n",
    "<hr>\n",
    "\n",
    "### HTTP\n",
    "I like to start here, as its normally the most accessible. Opening the home page doesnt give anything particually interesting. Lets spin up GoBuster and see what else is hiding.<br>\n",
    "![Startup_GoBuster.png](../images/PracticeRooms/Startup_GoBuster.png)<br>\n",
    "\n",
    "Looks like we get a /files.\n",
    "- Important.jpg is an \"Among Us\" meme\n",
    "- Notice.txt is a warning about the memes.<br>Whoever is leaving these damn Among Us memes in this share, it IS NOT FUNNY. People downloading documents from our website will think we are a joke! Now I dont know who it is, but Maya is looking pretty sus.\n",
    "\n",
    "Sounds like a bit of flavour text, but it includes a name that may be handy later on; Maya. Other than that, nothing really jumps out as interesting. What else have we got....\n",
    "\n",
    "<hr>\n",
    "\n",
    "### FTP\n",
    "So we had an open FTP port previously. Looks like its accessible by anonymous... Lets take a look.<br>\n",
    "![Startup_FTPanonymous.png](../images/PracticeRooms/Startup_FTPanonymous.png)<br>\n",
    "\n",
    "Huh, that looks like our /files directory... Push up a remote shell PHP (I swapped directories just because its easier to send the file).<br>\n",
    "![Startup_SendFTP.png](../images/PracticeRooms/Startup_SendFTP.png)<br>\n",
    "\n",
    "Start up your listener and launch the remote shell.<br>\n",
    "![Startup_GetReverseShell.png](../images/PracticeRooms/Startup_GetReverseShell.png)<br>\n",
    "\n",
    "The answer for the first question is in the recipe.txt file. <br>\n",
    "\n",
    "<hr>"
   ]
  },
  {
   "cell_type": "markdown",
   "id": "c60df936-3c0f-47f2-9463-d13c2a66e4f3",
   "metadata": {},
   "source": [
    "## Escalation - Lateral\n",
    "\n",
    "So we have a remote shell now, lets see what we can find. The Incidents folder in the / directory is different, and looks to include a 'suspicious.pcapng' file. Has someone been here before? Pull it down and lets take a look. Copy the suspicous file to the 'ftp' folder then jump in from there.\n",
    "\n",
    "![Startup_CopySuspicous.png](../images/PracticeRooms/Startup_CopySuspicous.png)<br>\n",
    "![Startup_GetSuspicious.png](../images/PracticeRooms/Startup_GetSuspicious.png)<br>\n",
    "\n",
    "Someone has been here before<br>\n",
    "![Startup_ShellGetRequest.png](../images/PracticeRooms/Startup_ShellGetRequest.png)\n",
    "\n",
    "Right click the next entry and select follow -> TCP Stream<br>\n",
    "![Startup_OtherHistory.png](../images/PracticeRooms/Startup_OtherHistory.png)<br>\n",
    "\n",
    "So, what did they do?\n",
    "- Listed the directory (ls -la)\n",
    "- Saw who they were (whoami)\n",
    "- Swapped to a more stable shell (python)\n",
    "- tried to use a password to see what lennie can run (c4ntg3t3n0ughsp1c3)\n",
    "\n",
    "Well they messed up, lennie doesnt have sudo rights. But WE know we can swap to lennie and use the password.<br>\n",
    "\n",
    "![Startup_BeLennie.png](../images/PracticeRooms/Startup_BeLennie.png)\n",
    "\n",
    "And that gives us our first user flag.\n",
    "\n",
    "<hr>"
   ]
  },
  {
   "cell_type": "markdown",
   "id": "03d2b5c1-9b5b-464e-8151-354b570907f0",
   "metadata": {},
   "source": [
    "## Escalation - Vertical\n",
    "\n",
    "So what does Lennie have that we can use?<br>\n",
    "\n",
    "Documents/\n",
    "- concern.txt: I got banned from your library for moving the \"C programming language\" book into the horror section. Is there a way I can appeal? --Lennie\n",
    "- list.txt: Shoppinglist: Cyberpunk 2077 | Milk | Dog food\n",
    "- note.txt: Reminders: Talk to Inclinant about our lacking security, hire a web developer, delete incident logs.\n",
    "\n",
    "Nothing jumping out, we've already seen the incident log. Another possible user though.<br>\n",
    "\n",
    "scripts/\n",
    "- planner.sh: looks to be useful. Root only writable but anyone can execute\n",
    "  - bash script\n",
    "  - echos the $LIST variable to the startup_list.txt file\n",
    "  - runs the /etc/print.sh file (This one is lennie owned though)\n",
    "- startup_list.txt. Anyone readable but root writable. Empty\n",
    "\n",
    "So we have a script that runs as root, that calls a file we own... time to modify the print.sh file. I know we're after the /root/root.txt file, so i'm just going to copy that somewhere and make it anyone readable. In the real world we would copy and set SUID on a /bin/bash copy or create a new reverse shell.<br>\n",
    "![Startup_EditPrintFile.png](../images/PracticeRooms/Startup_EditPrintFile.png)<br>\n",
    "\n",
    "We then just have to wait for the script to run again. A bit more investigation would show there is a cron job that runs for this but I'm more interested in the results.<br>\n",
    "![Startup_RootTXT.png](../images/PracticeRooms/Startup_RootTXT.png)<br>\n",
    "\n",
    "So, a bit of a fail on the security side there....\n",
    "<hr>"
   ]
  },
  {
   "cell_type": "code",
   "execution_count": null,
   "id": "1921409b-be8b-4cda-9045-4947110310d4",
   "metadata": {},
   "outputs": [],
   "source": []
  }
 ],
 "metadata": {
  "kernelspec": {
   "display_name": "Python 3 (ipykernel)",
   "language": "python",
   "name": "python3"
  },
  "language_info": {
   "codemirror_mode": {
    "name": "ipython",
    "version": 3
   },
   "file_extension": ".py",
   "mimetype": "text/x-python",
   "name": "python",
   "nbconvert_exporter": "python",
   "pygments_lexer": "ipython3",
   "version": "3.11.4"
  }
 },
 "nbformat": 4,
 "nbformat_minor": 5
}