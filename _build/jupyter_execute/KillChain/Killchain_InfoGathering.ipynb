{
 "cells": [
  {
   "cell_type": "markdown",
   "id": "fbff91ea-82b4-49a8-b125-565245d0e292",
   "metadata": {},
   "source": [
    "# Killchain - Info Gathering\n",
    "\n",
    "The first step in the Killchain process is Information Gathering. This centres around investigating a target using publicly available data. As a rule of thumb, if you're accessing the target then your in the next step already.<br>\n",
    "So, what can we do without hitting the target? Well a lot actually.\n",
    "\n"
   ]
  }
 ],
 "metadata": {
  "kernelspec": {
   "display_name": "Python 3 (ipykernel)",
   "language": "python",
   "name": "python3"
  },
  "language_info": {
   "codemirror_mode": {
    "name": "ipython",
    "version": 3
   },
   "file_extension": ".py",
   "mimetype": "text/x-python",
   "name": "python",
   "nbconvert_exporter": "python",
   "pygments_lexer": "ipython3",
   "version": "3.10.4"
  }
 },
 "nbformat": 4,
 "nbformat_minor": 5
}