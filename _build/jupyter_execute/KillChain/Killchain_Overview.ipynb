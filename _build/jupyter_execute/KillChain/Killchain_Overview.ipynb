{
 "cells": [
  {
   "cell_type": "markdown",
   "id": "d8aa0b09-91a2-4594-a09e-0e7a6aa1b7f7",
   "metadata": {},
   "source": [
    "# Killchain Overview\n",
    "\n",
    "Killchain Overview"
   ]
  }
 ],
 "metadata": {
  "kernelspec": {
   "display_name": "Python 3 (ipykernel)",
   "language": "python",
   "name": "python3"
  },
  "language_info": {
   "codemirror_mode": {
    "name": "ipython",
    "version": 3
   },
   "file_extension": ".py",
   "mimetype": "text/x-python",
   "name": "python",
   "nbconvert_exporter": "python",
   "pygments_lexer": "ipython3",
   "version": "3.10.4"
  }
 },
 "nbformat": 4,
 "nbformat_minor": 5
}