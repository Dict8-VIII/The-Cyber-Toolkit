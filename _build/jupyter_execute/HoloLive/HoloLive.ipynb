{
 "cells": [
  {
   "cell_type": "markdown",
   "id": "4f475ee6-d33d-4762-962c-fddec47eb27d",
   "metadata": {},
   "source": [
    "# HoloLive"
   ]
  }
 ],
 "metadata": {
  "kernelspec": {
   "display_name": "Python 3 (ipykernel)",
   "language": "python",
   "name": "python3"
  },
  "language_info": {
   "codemirror_mode": {
    "name": "ipython",
    "version": 3
   },
   "file_extension": ".py",
   "mimetype": "text/x-python",
   "name": "python",
   "nbconvert_exporter": "python",
   "pygments_lexer": "ipython3",
   "version": "3.10.5"
  }
 },
 "nbformat": 4,
 "nbformat_minor": 5
}