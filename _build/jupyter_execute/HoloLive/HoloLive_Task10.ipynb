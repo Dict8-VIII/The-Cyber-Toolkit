{
 "cells": [
  {
   "cell_type": "markdown",
   "id": "3fd6bb12-5e8b-4688-9a12-1c33703ea0bf",
   "metadata": {},
   "source": [
    "# HoloLive Walkthrough - Task 10\n",
    "\n",
    "So, its time to fuzz some directories. But what does that mean?\n",
    "Fuzzing has a few definitions, depending on who you ask.\n",
    "* From a known string, modify some characters and try again. This is normally password related in our context. From \"Password123\"; try \"password123\", \"P@ssw0rd123\" etc\n",
    "* Brutforce subdomains on a website. From \"google.com\"; try \"admin.google.com\", \"dev.google.com\", \"dev.admin.google.com\" etc\n",
    "\n",
    "For this room, the second option is our goal\n",
    "\n",
    "<hr>\n",
    "\n",
    "Lets spin up a terminal and see what we can find\n",
    "\n",
    "GoBuster Syntax:\n",
    "![GoBuster-DirectoryScanpng.png](../images/GoBuster-DirectoryScanpng.png)\n",
    "\n",
    "Wfuzz Syntax:\n",
    "\n",
    "![WFuzz-Example.png](../images/WFuzz-Example.png)\n",
    "\n",
    "\n",
    "While gobuster returned inital results faster, the file we are after was found first by GoBuster. Wfuzz did find it eventually.....\n",
    "\n",
    "![Hololive-Task10_robotsFound.png](../images/Hololive-Task10_robotsFound.png)\n",
    "![Hololive-Task10_wfuzzrobots.png](../images/Hololive-Task10_wfuzzrobots.png)\n",
    "\n",
    "If we open the robots.txt file, theres a whole load of files listed, they look like directories. Guess we have found our first answer :-)\n",
    "\n",
    "![Hololive-Task10_robots.txt.png](../images/Hololive-Task10_robots.txt.png)\n",
    "\n",
    "<hr>\n",
    "\n",
    "Apparently we now have and admin domain to find..... fortunately we have just the tool for that."
   ]
  },
  {
   "cell_type": "markdown",
   "id": "f9a225e7-7d23-4f32-b0a0-d529e0fab613",
   "metadata": {},
   "source": [
    "### I didnt actually do it this way....\n",
    "So, that was (probably) how the author wanted you to answer the questions. I didnt use GoBuster or WFuzz to start with. Having run into problems with both in the past, I actually ran Nikto first. It didnt give a nice list of files found, but it got the robots file pretty quick....\n",
    "\n",
    "![Hololive-Task10_niktoScan.png](../images/Hololive-Task10_niktoScan.png)"
   ]
  },
  {
   "cell_type": "code",
   "execution_count": null,
   "id": "55fd66e5-7a7d-4ffa-b254-5816e90fbe05",
   "metadata": {},
   "outputs": [],
   "source": []
  }
 ],
 "metadata": {
  "kernelspec": {
   "display_name": "Python 3 (ipykernel)",
   "language": "python",
   "name": "python3"
  },
  "language_info": {
   "codemirror_mode": {
    "name": "ipython",
    "version": 3
   },
   "file_extension": ".py",
   "mimetype": "text/x-python",
   "name": "python",
   "nbconvert_exporter": "python",
   "pygments_lexer": "ipython3",
   "version": "3.10.4"
  }
 },
 "nbformat": 4,
 "nbformat_minor": 5
}