{
 "cells": [
  {
   "cell_type": "markdown",
   "id": "27bae02b-f2ff-4b46-981a-8aab6e544343",
   "metadata": {},
   "source": [
    "# XSS\n",
    "XSS, or Cross Site Scripting, is a method for exploiting a website by exploiting user controlable fields.\n",
    "\n",
    "There are 3 kinds of XSS\n",
    "- Which I\n",
    "- Cant Remeber\n",
    "- Right now\n",
    "\n",
    "### Type 1 - The one where you install javascript on a form\n",
    "\n",
    "Example Payload\n",
    "> \\<script>fetch(/settings?new_password=\"That persons new password\");\\</script>"
   ]
  },
  {
   "cell_type": "code",
   "execution_count": null,
   "id": "5b8b0ab3-4046-4b45-8cd7-58d389e1fb20",
   "metadata": {},
   "outputs": [],
   "source": []
  }
 ],
 "metadata": {
  "kernelspec": {
   "display_name": "Python 3 (ipykernel)",
   "language": "python",
   "name": "python3"
  },
  "language_info": {
   "codemirror_mode": {
    "name": "ipython",
    "version": 3
   },
   "file_extension": ".py",
   "mimetype": "text/x-python",
   "name": "python",
   "nbconvert_exporter": "python",
   "pygments_lexer": "ipython3",
   "version": "3.10.2"
  }
 },
 "nbformat": 4,
 "nbformat_minor": 5
}