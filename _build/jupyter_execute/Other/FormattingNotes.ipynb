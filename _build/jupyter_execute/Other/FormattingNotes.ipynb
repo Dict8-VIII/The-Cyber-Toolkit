{
 "cells": [
  {
   "cell_type": "markdown",
   "id": "867438dc-66a9-49df-9414-760a640bfdbc",
   "metadata": {
    "tags": []
   },
   "source": [
    "# Formatting Notes\n",
    "<h3>Headings</h3>"
   ]
  },
  {
   "cell_type": "markdown",
   "id": "510791c4-0a36-4b07-a8d7-b13eaaca3944",
   "metadata": {},
   "source": [
    "\\<h1>Header 1,title\\<h1> <br>\n",
    "\\<h2>Header 2,major headings\\<h2> <br>\n",
    "\\<h3>Header 3,subheadings\\<h3> <br>\n",
    "\\<h4>Header 4\\<h4> <br>\n",
    "\\<h5>Header 5\\<h5> <br>\n",
    "\\<h6>Header 6\\<h6> <br>"
   ]
  },
  {
   "cell_type": "markdown",
   "id": "ff40d6e4-dbaa-4714-8801-2fd80786686f",
   "metadata": {
    "tags": []
   },
   "source": [
    "<h3>Adding Code</h3>"
   ]
  },
  {
   "cell_type": "markdown",
   "id": "4bec263e-f6c8-4d46-af60-48c34d744461",
   "metadata": {
    "tags": []
   },
   "source": [
    "\\```Python <br>\n",
    "str = \"This is block level code\" <br>\n",
    "print(str) <br>\n",
    "```"
   ]
  },
  {
   "cell_type": "markdown",
   "id": "eaf62213-a2e9-436b-b0c2-bc19e7a8a0ee",
   "metadata": {
    "tags": []
   },
   "source": [
    "<h3>General Formatting</h3>"
   ]
  },
  {
   "cell_type": "markdown",
   "id": "5d4b83e6-17ae-4384-9f53-90943137d451",
   "metadata": {},
   "source": [
    "\\<b>This is bold text </b> <br>\n",
    "\\** This is bold text<br>\n",
    "\\__ This is bold text<br>\n",
    "\n",
    "\\<i>This is italic text <br>\n",
    "\\* This is italic text<br>\n",
    "\\_ This is italic text<br>\n",
    "\n",
    "Horizontal Lines:<br>\n",
    "\\'---'<br>\n",
    "\\<hr><br>\n",
    "\n",
    "Ordered List: <br>\n",
    "\\<ol> <br>\n",
    "\\<li>Fish</li> <br>\n",
    "\\<li>Eggs</li> <br>\n",
    "\\<li>Cheese</li> <br>\n",
    "\\</ol> <br>\n",
    "OR [n dot space] '1. ' <br>\n",
    "\n",
    "UnOrdered List: <br>\n",
    "\\<ul> <br>\n",
    "\\<li>Fish</li><br>\n",
    "\\<li>Eggs</li><br>\n",
    "\\<li>Cheese</li><br>\n",
    "\\</ul><br>\n",
    "OR -[space] or *[space]"
   ]
  },
  {
   "cell_type": "code",
   "execution_count": 1,
   "id": "dddb593c-8289-4a86-9560-4fb3019d708a",
   "metadata": {},
   "outputs": [],
   "source": [
    "#Its from here: https://www.datacamp.com/community/tutorials/markdown-in-jupyter-notebook"
   ]
  }
 ],
 "metadata": {
  "kernelspec": {
   "display_name": "Python 3 (ipykernel)",
   "language": "python",
   "name": "python3"
  },
  "language_info": {
   "codemirror_mode": {
    "name": "ipython",
    "version": 3
   },
   "file_extension": ".py",
   "mimetype": "text/x-python",
   "name": "python",
   "nbconvert_exporter": "python",
   "pygments_lexer": "ipython3",
   "version": "3.10.4"
  }
 },
 "nbformat": 4,
 "nbformat_minor": 5
}