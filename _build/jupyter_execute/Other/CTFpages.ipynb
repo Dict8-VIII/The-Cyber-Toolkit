{
 "cells": [
  {
   "cell_type": "markdown",
   "id": "9165bf0c-2d12-45f7-ab65-83b134bf78a0",
   "metadata": {},
   "source": [
    "# CTF Links\n",
    "\n",
    "List of practice sites for CTF challenges\n",
    "I got this list from my study, but have increased/modified/altered for my purposes\n",
    "<br>\n",
    "- [bWAP](http://itsecgames.com)\n",
    "  - A buggy web app, like Juice shop\n",
    "- [Cryptopals](https://cryptopals.com) \n",
    "  - Cryptographic programming challenges\n",
    "  - I like the look of this one, the humour isnt bad either (and I think I can do 9th grader maths...)\n",
    "- [CTF365](https://ctf365.com)\n",
    "  - This one is interesting, probably my next step. You build a server in a virtual internet, where anything is permitted.\n",
    "  - Looks like a GREAT way to work on blue teaming and red.\n",
    "- [CTFlearn](https://ctflearn.com)\n",
    "  - Looks like general ctf practice. You need an account though\n",
    "- [CTFTime](https://ctftime.org)\n",
    "  - A running dashboard of ongoing/planned CTFs\n",
    "- [Game of Hacks](http://gameofhacks.com)\n",
    "  - Focused around application pen testing (actual code, not web apps)\n",
    "- [Google Gruyere](http://google-gruyere.appspot.com)\n",
    "  - Vulnerable web app, stored online\n",
    "  - It specifies what level of attack is needed (black box, white-check code, mix)\n",
    "- Google XSS Game - Cross-site scripting for beginners<br>\n",
    "- Hack.me<br>\n",
    "  - Looks to be removed, provided by eLearnSecurity\n",
    "  - Maybe turned to THM?\n",
    "- Hacking-Lab<br>\n",
    "- IO<br>\n",
    "- Juice shop - Vulnerable web app<br>\n",
    "  - Provided by OWASP, web pen testing\n",
    "- Microcorruption - ARM disassembling<br>\n",
    "- Over The Wire wargames<br>\n",
    "- OWASP WebGoat 1.2<br>\n",
    "- picoCTF<br>\n",
    "- Portswigger’s Web Security Academy<br>\n",
    "- pwn0<br>\n",
    "- pwnable.kr<br>\n",
    "- pwnable.tw<br>\n",
    "- Reversing.kr<br>\n",
    "- RingZer0 Team Online CTF<br>\n",
    "- Root Me<br>\n",
    "- SmashTheStack<br>\n",
    "- Typhoon vulnerable VM<br>\n",
    "- XSS Challenge Wiki<br>\n"
   ]
  },
  {
   "cell_type": "code",
   "execution_count": null,
   "id": "2ceef951-2cd6-4717-8d19-358e69d3a8ae",
   "metadata": {},
   "outputs": [],
   "source": []
  }
 ],
 "metadata": {
  "kernelspec": {
   "display_name": "Python 3 (ipykernel)",
   "language": "python",
   "name": "python3"
  },
  "language_info": {
   "codemirror_mode": {
    "name": "ipython",
    "version": 3
   },
   "file_extension": ".py",
   "mimetype": "text/x-python",
   "name": "python",
   "nbconvert_exporter": "python",
   "pygments_lexer": "ipython3",
   "version": "3.10.5"
  }
 },
 "nbformat": 4,
 "nbformat_minor": 5
}