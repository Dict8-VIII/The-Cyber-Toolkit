{
 "cells": [
  {
   "cell_type": "markdown",
   "id": "20725e37-1266-4175-805a-a12453aeedff",
   "metadata": {},
   "source": [
    "# Things to Do\n",
    "\n",
    "## FINISH GETTING THE NOTES UP FIRST!!!\n",
    "\n",
    "* Linpeas/Linenum/LES expand on\n",
    "* add last modified to sections\n",
    "* Finish \"The Basics\"\n",
    "** Add attacks in a separate sections\n",
    "* HackerCraft: Add the general process (OSINT, Info Gathering, expl, escalation, covering/maintaining)\n",
    "* write python program for SQL injection\n",
    "* JNR Pen tester page is empty\n",
    "* Mention more on HoloLive\n",
    "* Add intro page about WHY cyber security is important\n",
    "* Nmap - Add examples and videos\n",
    "* Add people who helped (Giraffe Academy, The Cyber Mentor)\n",
    "* Add my linked In page\n",
    "* Remove the default Links\n",
    "* Explore \"Hack the Box\", add here\n",
    "* Add my \"TryHackMe\" account\n",
    "* Dark Mode (done, but looks like its broken in the current JupyterBook version, there is a bug logged)\n",
    "* I'm sure the google analytics ID is wrong"
   ]
  }
 ],
 "metadata": {
  "kernelspec": {
   "display_name": "Python 3 (ipykernel)",
   "language": "python",
   "name": "python3"
  },
  "language_info": {
   "codemirror_mode": {
    "name": "ipython",
    "version": 3
   },
   "file_extension": ".py",
   "mimetype": "text/x-python",
   "name": "python",
   "nbconvert_exporter": "python",
   "pygments_lexer": "ipython3",
   "version": "3.10.3"
  }
 },
 "nbformat": 4,
 "nbformat_minor": 5
}