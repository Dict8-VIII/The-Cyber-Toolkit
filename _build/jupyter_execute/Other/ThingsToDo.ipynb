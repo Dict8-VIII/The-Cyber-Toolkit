{
 "cells": [
  {
   "attachments": {},
   "cell_type": "markdown",
   "id": "20725e37-1266-4175-805a-a12453aeedff",
   "metadata": {},
   "source": [
    "# Things to Do\n",
    "\n",
    "~~FINISH GETTING THE NOTES UP FIRST!!!~~\n",
    "* Move Kusto Detective Agency from Purview to PracticeRooms\n",
    "* Clean up the 'Red Team' Chapter, only half linked\n",
    "* Craft/Frameworks is VERY empty...\n",
    "* ~~XSS looks quite empty~~ Working on it now. It looks a bit better\n",
    "* Redo the Cisco Programming page. It was a short term thing and I can do much better now\n",
    "* add last modified to sections\n",
    "* Finish \"The Basics\"\n",
    "* ~~Add attacks in a separate sections~~ done\n",
    "* ~~HackerCraft: Add the general process (OSINT, Info Gathering, expl, escalation, covering/maintaining)~~ Removed as working on Killchain now\n",
    "* write python program for SQL injection\n",
    "* ~~JNR Pen tester page is empty~~ I'm removing it\n",
    "* ~~Mention more on HoloLive~~ Closed account, I'll come back to it when I reactivate\n",
    "* Add intro page about WHY cyber security is important\n",
    "* Nmap - Add examples and videos\n",
    "* ~~Add people who helped (Giraffe Academy, The Cyber Mentor)~~\n",
    "* ~~Add my linked In page~~ Added\n",
    "* Remove the default Links\n",
    "* ~~Explore \"Hack the Box\", add here~~ Not so fun, maybe when I want to pay for it again.\n",
    "* Add my \"TryHackMe\" account\n",
    "* Dark Mode\n",
    "* I'm sure the google analytics ID is wrong\n",
    "* ~~Mitre's ATT&CK looks interesting...~~ It was\n",
    "* ~~Nmap has external 3rd party services? \"Checks using a third-party service, such as Geoplugin and Virustotal\"~~ answered with scripts\n",
    "* LinuxPrivesc task 8 - try a write as SUID\n",
    "* Expand on yara rules\n",
    "  * need to add how to install the expansion packs too\n",
    "* ~~Finish Agent SUDO Page~~ Done\n",
    "* Finish Terminator Page\n",
    "* Finish LazyAdmin Page\n",
    "* ~~Finish TomgHost Page~~ Done\n",
    "* Document ISAC https://tryhackme.com/room/introtoisac\n",
    "* Document MISP https://tryhackme.com/room/misp\n",
    "* OpenVAS looks fun, try it out\n",
    "  * Tried it, add building the appliance\n",
    "* Build process flow for Core windows processes https://tryhackme.com/room/btwindowsinternals\n",
    "* Finish SysInternals Tools\n",
    "* Add domain structure to WindowsAD Page\n",
    "* Things to looking into more\n",
    "  * Vulnix (Active Scanning)\n",
    "  * https://github.com/rafax00/Bruteforcer\n",
    "  * ~~Nessus - vulnerability scanner. Theres rooms for it too (got the appliance set up though)~~ Happy where I am for now\n",
    "    * should look into the reporting side with the extra licences too....\n",
    "  * Shodan.io & Sensys\n",
    "  * Linpeas/Linenum/LES expand on\n",
    "  * Spend some time on SET (Social Engineering Toolkit)\n",
    "  * https://osintframework.com/\n",
    "  * https://securitytrails.com/blog/osint-tools\n",
    "  * wazuh - free SIEM & XDR\n",
    "  * Bloodhound AD\n",
    "  * Ettercap / Bettercap; not high on the list though\n",
    "  * MSFVenom"
   ]
  },
  {
   "cell_type": "code",
   "execution_count": null,
   "id": "d770885b-0dce-4119-92bc-04601f8ef666",
   "metadata": {},
   "outputs": [],
   "source": []
  }
 ],
 "metadata": {
  "kernelspec": {
   "display_name": "Python 3 (ipykernel)",
   "language": "python",
   "name": "python3"
  },
  "language_info": {
   "codemirror_mode": {
    "name": "ipython",
    "version": 3
   },
   "file_extension": ".py",
   "mimetype": "text/x-python",
   "name": "python",
   "nbconvert_exporter": "python",
   "pygments_lexer": "ipython3",
   "version": "3.11.4"
  }
 },
 "nbformat": 4,
 "nbformat_minor": 5
}